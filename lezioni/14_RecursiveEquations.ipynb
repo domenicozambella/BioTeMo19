{
 "cells": [
  {
   "cell_type": "code",
   "execution_count": 2,
   "metadata": {},
   "outputs": [
    {
     "data": {
      "text/html": [
       "\n",
       "    <div class=\"bk-root\">\n",
       "        <a href=\"https://bokeh.pydata.org\" target=\"_blank\" class=\"bk-logo bk-logo-small bk-logo-notebook\"></a>\n",
       "        <span id=\"ce44b198-8e74-47a0-abd9-acc5cf32c3c3\">Loading BokehJS ...</span>\n",
       "    </div>"
      ]
     },
     "metadata": {},
     "output_type": "display_data"
    },
    {
     "data": {
      "application/javascript": [
       "\n",
       "(function(root) {\n",
       "  function now() {\n",
       "    return new Date();\n",
       "  }\n",
       "\n",
       "  var force = true;\n",
       "\n",
       "  if (typeof (root._bokeh_onload_callbacks) === \"undefined\" || force === true) {\n",
       "    root._bokeh_onload_callbacks = [];\n",
       "    root._bokeh_is_loading = undefined;\n",
       "  }\n",
       "\n",
       "  var JS_MIME_TYPE = 'application/javascript';\n",
       "  var HTML_MIME_TYPE = 'text/html';\n",
       "  var EXEC_MIME_TYPE = 'application/vnd.bokehjs_exec.v0+json';\n",
       "  var CLASS_NAME = 'output_bokeh rendered_html';\n",
       "\n",
       "  /**\n",
       "   * Render data to the DOM node\n",
       "   */\n",
       "  function render(props, node) {\n",
       "    var script = document.createElement(\"script\");\n",
       "    node.appendChild(script);\n",
       "  }\n",
       "\n",
       "  /**\n",
       "   * Handle when an output is cleared or removed\n",
       "   */\n",
       "  function handleClearOutput(event, handle) {\n",
       "    var cell = handle.cell;\n",
       "\n",
       "    var id = cell.output_area._bokeh_element_id;\n",
       "    var server_id = cell.output_area._bokeh_server_id;\n",
       "    // Clean up Bokeh references\n",
       "    if (id != null && id in Bokeh.index) {\n",
       "      Bokeh.index[id].model.document.clear();\n",
       "      delete Bokeh.index[id];\n",
       "    }\n",
       "\n",
       "    if (server_id !== undefined) {\n",
       "      // Clean up Bokeh references\n",
       "      var cmd = \"from bokeh.io.state import curstate; print(curstate().uuid_to_server['\" + server_id + \"'].get_sessions()[0].document.roots[0]._id)\";\n",
       "      cell.notebook.kernel.execute(cmd, {\n",
       "        iopub: {\n",
       "          output: function(msg) {\n",
       "            var id = msg.content.text.trim();\n",
       "            if (id in Bokeh.index) {\n",
       "              Bokeh.index[id].model.document.clear();\n",
       "              delete Bokeh.index[id];\n",
       "            }\n",
       "          }\n",
       "        }\n",
       "      });\n",
       "      // Destroy server and session\n",
       "      var cmd = \"import bokeh.io.notebook as ion; ion.destroy_server('\" + server_id + \"')\";\n",
       "      cell.notebook.kernel.execute(cmd);\n",
       "    }\n",
       "  }\n",
       "\n",
       "  /**\n",
       "   * Handle when a new output is added\n",
       "   */\n",
       "  function handleAddOutput(event, handle) {\n",
       "    var output_area = handle.output_area;\n",
       "    var output = handle.output;\n",
       "\n",
       "    // limit handleAddOutput to display_data with EXEC_MIME_TYPE content only\n",
       "    if ((output.output_type != \"display_data\") || (!output.data.hasOwnProperty(EXEC_MIME_TYPE))) {\n",
       "      return\n",
       "    }\n",
       "\n",
       "    var toinsert = output_area.element.find(\".\" + CLASS_NAME.split(' ')[0]);\n",
       "\n",
       "    if (output.metadata[EXEC_MIME_TYPE][\"id\"] !== undefined) {\n",
       "      toinsert[toinsert.length - 1].firstChild.textContent = output.data[JS_MIME_TYPE];\n",
       "      // store reference to embed id on output_area\n",
       "      output_area._bokeh_element_id = output.metadata[EXEC_MIME_TYPE][\"id\"];\n",
       "    }\n",
       "    if (output.metadata[EXEC_MIME_TYPE][\"server_id\"] !== undefined) {\n",
       "      var bk_div = document.createElement(\"div\");\n",
       "      bk_div.innerHTML = output.data[HTML_MIME_TYPE];\n",
       "      var script_attrs = bk_div.children[0].attributes;\n",
       "      for (var i = 0; i < script_attrs.length; i++) {\n",
       "        toinsert[toinsert.length - 1].firstChild.setAttribute(script_attrs[i].name, script_attrs[i].value);\n",
       "      }\n",
       "      // store reference to server id on output_area\n",
       "      output_area._bokeh_server_id = output.metadata[EXEC_MIME_TYPE][\"server_id\"];\n",
       "    }\n",
       "  }\n",
       "\n",
       "  function register_renderer(events, OutputArea) {\n",
       "\n",
       "    function append_mime(data, metadata, element) {\n",
       "      // create a DOM node to render to\n",
       "      var toinsert = this.create_output_subarea(\n",
       "        metadata,\n",
       "        CLASS_NAME,\n",
       "        EXEC_MIME_TYPE\n",
       "      );\n",
       "      this.keyboard_manager.register_events(toinsert);\n",
       "      // Render to node\n",
       "      var props = {data: data, metadata: metadata[EXEC_MIME_TYPE]};\n",
       "      render(props, toinsert[toinsert.length - 1]);\n",
       "      element.append(toinsert);\n",
       "      return toinsert\n",
       "    }\n",
       "\n",
       "    /* Handle when an output is cleared or removed */\n",
       "    events.on('clear_output.CodeCell', handleClearOutput);\n",
       "    events.on('delete.Cell', handleClearOutput);\n",
       "\n",
       "    /* Handle when a new output is added */\n",
       "    events.on('output_added.OutputArea', handleAddOutput);\n",
       "\n",
       "    /**\n",
       "     * Register the mime type and append_mime function with output_area\n",
       "     */\n",
       "    OutputArea.prototype.register_mime_type(EXEC_MIME_TYPE, append_mime, {\n",
       "      /* Is output safe? */\n",
       "      safe: true,\n",
       "      /* Index of renderer in `output_area.display_order` */\n",
       "      index: 0\n",
       "    });\n",
       "  }\n",
       "\n",
       "  // register the mime type if in Jupyter Notebook environment and previously unregistered\n",
       "  if (root.Jupyter !== undefined) {\n",
       "    var events = require('base/js/events');\n",
       "    var OutputArea = require('notebook/js/outputarea').OutputArea;\n",
       "\n",
       "    if (OutputArea.prototype.mime_types().indexOf(EXEC_MIME_TYPE) == -1) {\n",
       "      register_renderer(events, OutputArea);\n",
       "    }\n",
       "  }\n",
       "\n",
       "  \n",
       "  if (typeof (root._bokeh_timeout) === \"undefined\" || force === true) {\n",
       "    root._bokeh_timeout = Date.now() + 5000;\n",
       "    root._bokeh_failed_load = false;\n",
       "  }\n",
       "\n",
       "  var NB_LOAD_WARNING = {'data': {'text/html':\n",
       "     \"<div style='background-color: #fdd'>\\n\"+\n",
       "     \"<p>\\n\"+\n",
       "     \"BokehJS does not appear to have successfully loaded. If loading BokehJS from CDN, this \\n\"+\n",
       "     \"may be due to a slow or bad network connection. Possible fixes:\\n\"+\n",
       "     \"</p>\\n\"+\n",
       "     \"<ul>\\n\"+\n",
       "     \"<li>re-rerun `output_notebook()` to attempt to load from CDN again, or</li>\\n\"+\n",
       "     \"<li>use INLINE resources instead, as so:</li>\\n\"+\n",
       "     \"</ul>\\n\"+\n",
       "     \"<code>\\n\"+\n",
       "     \"from bokeh.resources import INLINE\\n\"+\n",
       "     \"output_notebook(resources=INLINE)\\n\"+\n",
       "     \"</code>\\n\"+\n",
       "     \"</div>\"}};\n",
       "\n",
       "  function display_loaded() {\n",
       "    var el = document.getElementById(\"ce44b198-8e74-47a0-abd9-acc5cf32c3c3\");\n",
       "    if (el != null) {\n",
       "      el.textContent = \"BokehJS is loading...\";\n",
       "    }\n",
       "    if (root.Bokeh !== undefined) {\n",
       "      if (el != null) {\n",
       "        el.textContent = \"BokehJS \" + root.Bokeh.version + \" successfully loaded.\";\n",
       "      }\n",
       "    } else if (Date.now() < root._bokeh_timeout) {\n",
       "      setTimeout(display_loaded, 100)\n",
       "    }\n",
       "  }\n",
       "\n",
       "\n",
       "  function run_callbacks() {\n",
       "    try {\n",
       "      root._bokeh_onload_callbacks.forEach(function(callback) { callback() });\n",
       "    }\n",
       "    finally {\n",
       "      delete root._bokeh_onload_callbacks\n",
       "    }\n",
       "    console.info(\"Bokeh: all callbacks have finished\");\n",
       "  }\n",
       "\n",
       "  function load_libs(js_urls, callback) {\n",
       "    root._bokeh_onload_callbacks.push(callback);\n",
       "    if (root._bokeh_is_loading > 0) {\n",
       "      console.log(\"Bokeh: BokehJS is being loaded, scheduling callback at\", now());\n",
       "      return null;\n",
       "    }\n",
       "    if (js_urls == null || js_urls.length === 0) {\n",
       "      run_callbacks();\n",
       "      return null;\n",
       "    }\n",
       "    console.log(\"Bokeh: BokehJS not loaded, scheduling load and callback at\", now());\n",
       "    root._bokeh_is_loading = js_urls.length;\n",
       "    for (var i = 0; i < js_urls.length; i++) {\n",
       "      var url = js_urls[i];\n",
       "      var s = document.createElement('script');\n",
       "      s.src = url;\n",
       "      s.async = false;\n",
       "      s.onreadystatechange = s.onload = function() {\n",
       "        root._bokeh_is_loading--;\n",
       "        if (root._bokeh_is_loading === 0) {\n",
       "          console.log(\"Bokeh: all BokehJS libraries loaded\");\n",
       "          run_callbacks()\n",
       "        }\n",
       "      };\n",
       "      s.onerror = function() {\n",
       "        console.warn(\"failed to load library \" + url);\n",
       "      };\n",
       "      console.log(\"Bokeh: injecting script tag for BokehJS library: \", url);\n",
       "      document.getElementsByTagName(\"head\")[0].appendChild(s);\n",
       "    }\n",
       "  };var element = document.getElementById(\"ce44b198-8e74-47a0-abd9-acc5cf32c3c3\");\n",
       "  if (element == null) {\n",
       "    console.log(\"Bokeh: ERROR: autoload.js configured with elementid 'ce44b198-8e74-47a0-abd9-acc5cf32c3c3' but no matching script tag was found. \")\n",
       "    return false;\n",
       "  }\n",
       "\n",
       "  var js_urls = [\"https://cdn.pydata.org/bokeh/release/bokeh-0.13.0.min.js\", \"https://cdn.pydata.org/bokeh/release/bokeh-widgets-0.13.0.min.js\", \"https://cdn.pydata.org/bokeh/release/bokeh-tables-0.13.0.min.js\", \"https://cdn.pydata.org/bokeh/release/bokeh-gl-0.13.0.min.js\"];\n",
       "\n",
       "  var inline_js = [\n",
       "    function(Bokeh) {\n",
       "      Bokeh.set_log_level(\"info\");\n",
       "    },\n",
       "    \n",
       "    function(Bokeh) {\n",
       "      \n",
       "    },\n",
       "    function(Bokeh) {\n",
       "      console.log(\"Bokeh: injecting CSS: https://cdn.pydata.org/bokeh/release/bokeh-0.13.0.min.css\");\n",
       "      Bokeh.embed.inject_css(\"https://cdn.pydata.org/bokeh/release/bokeh-0.13.0.min.css\");\n",
       "      console.log(\"Bokeh: injecting CSS: https://cdn.pydata.org/bokeh/release/bokeh-widgets-0.13.0.min.css\");\n",
       "      Bokeh.embed.inject_css(\"https://cdn.pydata.org/bokeh/release/bokeh-widgets-0.13.0.min.css\");\n",
       "      console.log(\"Bokeh: injecting CSS: https://cdn.pydata.org/bokeh/release/bokeh-tables-0.13.0.min.css\");\n",
       "      Bokeh.embed.inject_css(\"https://cdn.pydata.org/bokeh/release/bokeh-tables-0.13.0.min.css\");\n",
       "    }\n",
       "  ];\n",
       "\n",
       "  function run_inline_js() {\n",
       "    \n",
       "    if ((root.Bokeh !== undefined) || (force === true)) {\n",
       "      for (var i = 0; i < inline_js.length; i++) {\n",
       "        inline_js[i].call(root, root.Bokeh);\n",
       "      }if (force === true) {\n",
       "        display_loaded();\n",
       "      }} else if (Date.now() < root._bokeh_timeout) {\n",
       "      setTimeout(run_inline_js, 100);\n",
       "    } else if (!root._bokeh_failed_load) {\n",
       "      console.log(\"Bokeh: BokehJS failed to load within specified timeout.\");\n",
       "      root._bokeh_failed_load = true;\n",
       "    } else if (force !== true) {\n",
       "      var cell = $(document.getElementById(\"ce44b198-8e74-47a0-abd9-acc5cf32c3c3\")).parents('.cell').data().cell;\n",
       "      cell.output_area.append_execute_result(NB_LOAD_WARNING)\n",
       "    }\n",
       "\n",
       "  }\n",
       "\n",
       "  if (root._bokeh_is_loading === 0) {\n",
       "    console.log(\"Bokeh: BokehJS loaded, going straight to plotting\");\n",
       "    run_inline_js();\n",
       "  } else {\n",
       "    load_libs(js_urls, function() {\n",
       "      console.log(\"Bokeh: BokehJS plotting callback run at\", now());\n",
       "      run_inline_js();\n",
       "    });\n",
       "  }\n",
       "}(window));"
      ],
      "application/vnd.bokehjs_load.v0+json": "\n(function(root) {\n  function now() {\n    return new Date();\n  }\n\n  var force = true;\n\n  if (typeof (root._bokeh_onload_callbacks) === \"undefined\" || force === true) {\n    root._bokeh_onload_callbacks = [];\n    root._bokeh_is_loading = undefined;\n  }\n\n  \n\n  \n  if (typeof (root._bokeh_timeout) === \"undefined\" || force === true) {\n    root._bokeh_timeout = Date.now() + 5000;\n    root._bokeh_failed_load = false;\n  }\n\n  var NB_LOAD_WARNING = {'data': {'text/html':\n     \"<div style='background-color: #fdd'>\\n\"+\n     \"<p>\\n\"+\n     \"BokehJS does not appear to have successfully loaded. If loading BokehJS from CDN, this \\n\"+\n     \"may be due to a slow or bad network connection. Possible fixes:\\n\"+\n     \"</p>\\n\"+\n     \"<ul>\\n\"+\n     \"<li>re-rerun `output_notebook()` to attempt to load from CDN again, or</li>\\n\"+\n     \"<li>use INLINE resources instead, as so:</li>\\n\"+\n     \"</ul>\\n\"+\n     \"<code>\\n\"+\n     \"from bokeh.resources import INLINE\\n\"+\n     \"output_notebook(resources=INLINE)\\n\"+\n     \"</code>\\n\"+\n     \"</div>\"}};\n\n  function display_loaded() {\n    var el = document.getElementById(\"ce44b198-8e74-47a0-abd9-acc5cf32c3c3\");\n    if (el != null) {\n      el.textContent = \"BokehJS is loading...\";\n    }\n    if (root.Bokeh !== undefined) {\n      if (el != null) {\n        el.textContent = \"BokehJS \" + root.Bokeh.version + \" successfully loaded.\";\n      }\n    } else if (Date.now() < root._bokeh_timeout) {\n      setTimeout(display_loaded, 100)\n    }\n  }\n\n\n  function run_callbacks() {\n    try {\n      root._bokeh_onload_callbacks.forEach(function(callback) { callback() });\n    }\n    finally {\n      delete root._bokeh_onload_callbacks\n    }\n    console.info(\"Bokeh: all callbacks have finished\");\n  }\n\n  function load_libs(js_urls, callback) {\n    root._bokeh_onload_callbacks.push(callback);\n    if (root._bokeh_is_loading > 0) {\n      console.log(\"Bokeh: BokehJS is being loaded, scheduling callback at\", now());\n      return null;\n    }\n    if (js_urls == null || js_urls.length === 0) {\n      run_callbacks();\n      return null;\n    }\n    console.log(\"Bokeh: BokehJS not loaded, scheduling load and callback at\", now());\n    root._bokeh_is_loading = js_urls.length;\n    for (var i = 0; i < js_urls.length; i++) {\n      var url = js_urls[i];\n      var s = document.createElement('script');\n      s.src = url;\n      s.async = false;\n      s.onreadystatechange = s.onload = function() {\n        root._bokeh_is_loading--;\n        if (root._bokeh_is_loading === 0) {\n          console.log(\"Bokeh: all BokehJS libraries loaded\");\n          run_callbacks()\n        }\n      };\n      s.onerror = function() {\n        console.warn(\"failed to load library \" + url);\n      };\n      console.log(\"Bokeh: injecting script tag for BokehJS library: \", url);\n      document.getElementsByTagName(\"head\")[0].appendChild(s);\n    }\n  };var element = document.getElementById(\"ce44b198-8e74-47a0-abd9-acc5cf32c3c3\");\n  if (element == null) {\n    console.log(\"Bokeh: ERROR: autoload.js configured with elementid 'ce44b198-8e74-47a0-abd9-acc5cf32c3c3' but no matching script tag was found. \")\n    return false;\n  }\n\n  var js_urls = [\"https://cdn.pydata.org/bokeh/release/bokeh-0.13.0.min.js\", \"https://cdn.pydata.org/bokeh/release/bokeh-widgets-0.13.0.min.js\", \"https://cdn.pydata.org/bokeh/release/bokeh-tables-0.13.0.min.js\", \"https://cdn.pydata.org/bokeh/release/bokeh-gl-0.13.0.min.js\"];\n\n  var inline_js = [\n    function(Bokeh) {\n      Bokeh.set_log_level(\"info\");\n    },\n    \n    function(Bokeh) {\n      \n    },\n    function(Bokeh) {\n      console.log(\"Bokeh: injecting CSS: https://cdn.pydata.org/bokeh/release/bokeh-0.13.0.min.css\");\n      Bokeh.embed.inject_css(\"https://cdn.pydata.org/bokeh/release/bokeh-0.13.0.min.css\");\n      console.log(\"Bokeh: injecting CSS: https://cdn.pydata.org/bokeh/release/bokeh-widgets-0.13.0.min.css\");\n      Bokeh.embed.inject_css(\"https://cdn.pydata.org/bokeh/release/bokeh-widgets-0.13.0.min.css\");\n      console.log(\"Bokeh: injecting CSS: https://cdn.pydata.org/bokeh/release/bokeh-tables-0.13.0.min.css\");\n      Bokeh.embed.inject_css(\"https://cdn.pydata.org/bokeh/release/bokeh-tables-0.13.0.min.css\");\n    }\n  ];\n\n  function run_inline_js() {\n    \n    if ((root.Bokeh !== undefined) || (force === true)) {\n      for (var i = 0; i < inline_js.length; i++) {\n        inline_js[i].call(root, root.Bokeh);\n      }if (force === true) {\n        display_loaded();\n      }} else if (Date.now() < root._bokeh_timeout) {\n      setTimeout(run_inline_js, 100);\n    } else if (!root._bokeh_failed_load) {\n      console.log(\"Bokeh: BokehJS failed to load within specified timeout.\");\n      root._bokeh_failed_load = true;\n    } else if (force !== true) {\n      var cell = $(document.getElementById(\"ce44b198-8e74-47a0-abd9-acc5cf32c3c3\")).parents('.cell').data().cell;\n      cell.output_area.append_execute_result(NB_LOAD_WARNING)\n    }\n\n  }\n\n  if (root._bokeh_is_loading === 0) {\n    console.log(\"Bokeh: BokehJS loaded, going straight to plotting\");\n    run_inline_js();\n  } else {\n    load_libs(js_urls, function() {\n      console.log(\"Bokeh: BokehJS plotting callback run at\", now());\n      run_inline_js();\n    });\n  }\n}(window));"
     },
     "metadata": {},
     "output_type": "display_data"
    },
    {
     "data": {
      "text/html": [
       "<style>\n",
       "div.jp-MarkdownOutput {font-family: \"Times New Roman\", Times, serif;   \n",
       "    background-color: #eee; \n",
       "    border-left: 5px solid #00b5b4;\n",
       "    font-size: 14pt;\n",
       "    line-height: 160%;\n",
       "}\n",
       ".text_cell_render {\n",
       "    font-family: \"Times New Roman\", Times, serif;    \n",
       "    background-color: #eee; \n",
       "    border-left: 5px solid #00b5b4;\n",
       "    font-size: 14pt;\n",
       "    line-height: 160%;\n",
       "}\n",
       "\n",
       "h1 {\n",
       "    font-size: larger !important;\n",
       "    margin-top: 0ex !important;\n",
       "}\n",
       "\n",
       "h2 {\n",
       "    font-size: 14pt !important;\n",
       "    margin-top: 0ex !important;\n",
       "    margin-bottom: 0ex !important;\n",
       "    padding-bottom: 0ex !important;\n",
       "}\n",
       "\n",
       "h3 {\n",
       "    font-size: 14pt !important;\n",
       "    margin-top: 0ex !important;\n",
       "    margin-bottom: 0ex !important;\n",
       "    padding-bottom: 0ex !important;\n",
       "}\n",
       "\n",
       "mark {\n",
       "    background-color: #ffdd00;\n",
       "    border-top-right-radius: 5px;\n",
       "    border-top-left-radius: 5px;\n",
       "    border-bottom-right-radius: 5px;\n",
       "    border-bottom-left-radius: 5px;\n",
       "    padding-top: 0.1ex;\n",
       "    padding-bottom: 0.2ex;\n",
       "    padding-left: 0.7ex;\n",
       "    padding-right: 0.7ex;\n",
       "}\n",
       "\n",
       ".ita {\n",
       "    background-color: #bbddee;\n",
       "}\n",
       "\n",
       ".errore {background-color:#d88;\n",
       "        width:310px;\n",
       "        height:17ex;\n",
       "        display:inline-block;\n",
       "        margin:5px;\n",
       "        padding:8px;\n",
       "}\n",
       "\n",
       ".corretto {background-color:#2d8;\n",
       "        width:310px;\n",
       "        height:17ex;\n",
       "        display:inline-block;\n",
       "        margin:5px;\n",
       "        padding:8px;\n",
       "}\n",
       "\n",
       "n-a {background-color: #ffdddd;}\n",
       "\n",
       "ul, ol {\n",
       "     padding-left: 2ex !important;\n",
       "}\n",
       "ul {\n",
       "     margin-top: 0ex !important;\n",
       "     margin-bottom: 0ex !important;\n",
       "     list-style-type: square !important;\n",
       "}\n",
       "\n",
       "div.warn {    \n",
       "    background-color: #fcf2f2;\n",
       "    border-color: #dFb5b4;\n",
       "    border-left: 5px solid #dfb5b4;\n",
       "    margin-top: 1ex;\n",
       "    padding: 1ex;\n",
       "}\n",
       ".right{\n",
       "    float:right\n",
       "}\n",
       "\n",
       "hr { \n",
       "    display: block;\n",
       "    margin-top: 0.5ex;\n",
       "    margin-bottom: 0.5ex;\n",
       "    margin-left: auto;\n",
       "    margin-right: auto;\n",
       "    border-style: inset;\n",
       "    border-width: 1px;\n",
       "}\n",
       "</style>\n"
      ],
      "text/plain": [
       "<IPython.core.display.HTML object>"
      ]
     },
     "execution_count": 2,
     "metadata": {},
     "output_type": "execute_result"
    }
   ],
   "source": [
    "# RUN THIS CELL:this loads functions for numerical arrays\n",
    "from numpy import array, arange, linspace\n",
    "\n",
    "# this loads functions for statistical functions\n",
    "from scipy.stats import binom, norm\n",
    "\n",
    "# this loads functions for graphic output and set some global options\n",
    "from bokeh.io import push_notebook, show, output_notebook, output_file\n",
    "from bokeh.plotting import figure\n",
    "output_notebook()\n",
    "options = dict(plot_height=300, plot_width=600, tools=\"pan,wheel_zoom,reset,save,crosshair\")\n",
    "\n",
    "# this loads functions for interactions with the graphic\n",
    "from ipywidgets import interact, fixed, FloatSlider, IntSlider, Button, Checkbox, HBox, Label\n",
    "\n",
    "# this loads some HTML style files\n",
    "from IPython.core.display import HTML\n",
    "with open( './style/custom.css', 'r' ) as f: html_style = f.read()\n",
    "HTML( html_style )"
   ]
  },
  {
   "cell_type": "markdown",
   "metadata": {},
   "source": [
    "# Crescita malthusiana (in tempo discreto)\n",
    "\n",
    "Supponiamo che una certa popolazione di batteri in condizioni ottimali (bassa densità e abbondante nutrimento) cresca ogni quarto d'ora del $20\\%$. Chiamiamo $d_0$ la densità al tempo $0$ e $d_n$ la densità dopo $n$ quarti d'ora. \n",
    "\n",
    "Esempio numerico. Supponiamo che la concentrazione iniziale sia $4.5$ in una qualche unità di misura. Posto \n",
    "\n",
    "$d_0 = 4.5$\n",
    "\n",
    "$d_1 = (1+0.2) \\cdot d_0 = 1.2\\cdot  4.5 = 5.4$ \n",
    "\n",
    "$d_2 = (1+0.2) \\cdot d_1 = 1.2\\cdot  5.4 = 6.48$\n",
    "\n",
    "$d_3 = (1+0.2) \\cdot d_2 = $ \n",
    "\n",
    "ecc., ecc.\n",
    "\n",
    "$d_n = (1+0.2) \\cdot d_{n-1}\\quad$ per ogni $n>1$\n",
    "\n",
    "o anche \n",
    "\n",
    "$d_{n+1} = (1+0.2) \\cdot d_n\\quad$ per ogni $n>0$"
   ]
  },
  {
   "cell_type": "code",
   "execution_count": 3,
   "metadata": {
    "scrolled": true
   },
   "outputs": [
    {
     "data": {
      "text/html": [
       "\n",
       "\n",
       "\n",
       "\n",
       "\n",
       "\n",
       "  <div class=\"bk-root\" id=\"cfbcf80e-b9ec-40a2-a2a7-80121673602b\"></div>\n"
      ]
     },
     "metadata": {},
     "output_type": "display_data"
    },
    {
     "data": {
      "application/javascript": [
       "(function(root) {\n",
       "  function embed_document(root) {\n",
       "    \n",
       "  var docs_json = {\"a2348663-ae66-4935-8104-fa4990aea961\":{\"roots\":{\"references\":[{\"attributes\":{\"axis_label\":\"Concentrazione\",\"formatter\":{\"id\":\"1e5cf273-5218-47c2-9725-9cc0c0c23a0c\",\"type\":\"BasicTickFormatter\"},\"plot\":{\"id\":\"ffa8ed21-23d8-426b-94b1-0d38832cfbfc\",\"subtype\":\"Figure\",\"type\":\"Plot\"},\"ticker\":{\"id\":\"560ac831-fb6e-4792-bc3c-1e296d9fa7ff\",\"type\":\"BasicTicker\"}},\"id\":\"26dc5851-c00e-4397-a45c-19986a373ec2\",\"type\":\"LinearAxis\"},{\"attributes\":{\"source\":{\"id\":\"57cac508-b6cd-4647-90ee-b817ded2b509\",\"type\":\"ColumnDataSource\"}},\"id\":\"e8f99ea2-7c52-4f0d-aebc-4c3871b93fdf\",\"type\":\"CDSView\"},{\"attributes\":{},\"id\":\"560ac831-fb6e-4792-bc3c-1e296d9fa7ff\",\"type\":\"BasicTicker\"},{\"attributes\":{\"dimension\":1,\"plot\":{\"id\":\"ffa8ed21-23d8-426b-94b1-0d38832cfbfc\",\"subtype\":\"Figure\",\"type\":\"Plot\"},\"ticker\":{\"id\":\"560ac831-fb6e-4792-bc3c-1e296d9fa7ff\",\"type\":\"BasicTicker\"}},\"id\":\"b6a25929-806f-48fb-a94c-a2bf703a6fb1\",\"type\":\"Grid\"},{\"attributes\":{},\"id\":\"a16e3d83-5691-4f4e-b928-cade887e3593\",\"type\":\"PanTool\"},{\"attributes\":{\"fill_alpha\":{\"value\":0.1},\"fill_color\":{\"value\":\"#1f77b4\"},\"line_alpha\":{\"value\":0.1},\"line_color\":{\"value\":\"#1f77b4\"},\"x\":{\"field\":\"x\"},\"y\":{\"field\":\"y\"}},\"id\":\"e4f91b18-6624-47d4-9ab0-b2088fe283da\",\"type\":\"Square\"},{\"attributes\":{},\"id\":\"1e5cf273-5218-47c2-9725-9cc0c0c23a0c\",\"type\":\"BasicTickFormatter\"},{\"attributes\":{},\"id\":\"99569a64-4966-4374-944e-4c62acb5e226\",\"type\":\"BasicTickFormatter\"},{\"attributes\":{\"data_source\":{\"id\":\"57cac508-b6cd-4647-90ee-b817ded2b509\",\"type\":\"ColumnDataSource\"},\"glyph\":{\"id\":\"3a767cad-8383-4d7d-8ba0-647ce3a58e2f\",\"type\":\"Square\"},\"hover_glyph\":null,\"muted_glyph\":null,\"nonselection_glyph\":{\"id\":\"e4f91b18-6624-47d4-9ab0-b2088fe283da\",\"type\":\"Square\"},\"selection_glyph\":null,\"view\":{\"id\":\"e8f99ea2-7c52-4f0d-aebc-4c3871b93fdf\",\"type\":\"CDSView\"}},\"id\":\"73884945-d8b0-4e34-bfff-dd8a3416b62b\",\"type\":\"GlyphRenderer\"},{\"attributes\":{},\"id\":\"c676263c-a255-4d5b-80e1-c60d076c79e3\",\"type\":\"WheelZoomTool\"},{\"attributes\":{},\"id\":\"071f63f6-eab9-4f0b-98e8-870e5840d432\",\"type\":\"ResetTool\"},{\"attributes\":{},\"id\":\"3ef720a6-2f24-4b8d-b488-01afb6566ab9\",\"type\":\"SaveTool\"},{\"attributes\":{},\"id\":\"6572bc84-6e4c-4947-bc15-b891650584e8\",\"type\":\"CrosshairTool\"},{\"attributes\":{\"line_color\":\"#119911\",\"x\":{\"field\":\"x\"},\"y\":{\"field\":\"y\"}},\"id\":\"fad22886-c68a-42ba-9005-f904fc3508ba\",\"type\":\"Line\"},{\"attributes\":{\"line_alpha\":0.1,\"line_color\":\"#1f77b4\",\"x\":{\"field\":\"x\"},\"y\":{\"field\":\"y\"}},\"id\":\"53126325-d994-41f5-ad86-53a81228e99b\",\"type\":\"Line\"},{\"attributes\":{\"data_source\":{\"id\":\"cda72095-1d9f-4041-9de4-ad25a797c1be\",\"type\":\"ColumnDataSource\"},\"glyph\":{\"id\":\"fad22886-c68a-42ba-9005-f904fc3508ba\",\"type\":\"Line\"},\"hover_glyph\":null,\"muted_glyph\":null,\"nonselection_glyph\":{\"id\":\"53126325-d994-41f5-ad86-53a81228e99b\",\"type\":\"Line\"},\"selection_glyph\":null,\"view\":{\"id\":\"0fd01201-0204-41cc-9754-78b09adff414\",\"type\":\"CDSView\"}},\"id\":\"69f6ccdb-d4b5-47b6-b267-f3bae1827de8\",\"type\":\"GlyphRenderer\"},{\"attributes\":{\"source\":{\"id\":\"cda72095-1d9f-4041-9de4-ad25a797c1be\",\"type\":\"ColumnDataSource\"}},\"id\":\"0fd01201-0204-41cc-9754-78b09adff414\",\"type\":\"CDSView\"},{\"attributes\":{\"callback\":null,\"data\":{\"x\":[0,1,2,3,4,5,6,7,8,9,10,11,12,13,14,15,16,17,18,19,20,21,22,23,24,25,26,27,28,29,30,31,32,33,34,35,36,37,38,39,40,41,42,43,44,45,46,47,48,49],\"y\":{\"__ndarray__\":\"AAAAAAAAEkCZmZmZmZkVQOtRuB6F6xlAs8h2vp8aH0DS3uALk6kiQC7YDdsWZSZA0WndBrXfKkCxch4E0x8wQAfwip5jWTNAormmJBE4N0BbeC5f4dw7QAMVT2y6t0BAnn/4gawPREDwZV0CzxJIQB9Ho89e40xAE5H74jhVUUAWrvqpqsxUQIBqxpiZ9VhANOa6HYXzXUAfitYRg/hhQCUMm0idkGVAYNuGvbzgaUA/B9VJrw1vQFgEs5LPoXJAajg948VbdkBM3a8Qh9R6QC3rz9YdGYBAak3GAVdRg0AYkIdoaC6HQE8TCRdK0YtAyT7SDcawkEDy5JUQVAeUQO5FGkfLCJhAULpSVVrXnEDKb/7/Ak6hQFi5l5kDxKRAA3gchTfrqEAEkIhsD+etQM+8HkEJ8bFA+EiLtKSHtUBdJKfY+NW5QG/4LjfEAL9A3GFPVA+awkBudZLLeFLGQIQmFsFdycpAGxfac2sS0ECH6Di+TUnTQAgXEbHDJNdAPbVHobfF20Al0/eT1KngQA==\",\"dtype\":\"float64\",\"shape\":[50]}},\"selected\":{\"id\":\"6c060f22-6496-4992-8f09-50333603dd01\",\"type\":\"Selection\"},\"selection_policy\":{\"id\":\"fcaafab7-5ea6-4894-a799-7bc728781c8f\",\"type\":\"UnionRenderers\"}},\"id\":\"57cac508-b6cd-4647-90ee-b817ded2b509\",\"type\":\"ColumnDataSource\"},{\"attributes\":{},\"id\":\"6c060f22-6496-4992-8f09-50333603dd01\",\"type\":\"Selection\"},{\"attributes\":{\"fill_color\":{\"value\":\"#119911\"},\"line_color\":{\"value\":\"#119911\"},\"x\":{\"field\":\"x\"},\"y\":{\"field\":\"y\"}},\"id\":\"3a767cad-8383-4d7d-8ba0-647ce3a58e2f\",\"type\":\"Square\"},{\"attributes\":{\"below\":[{\"id\":\"31aeef4f-b106-4c9f-b051-795e86392b3f\",\"type\":\"LinearAxis\"}],\"left\":[{\"id\":\"26dc5851-c00e-4397-a45c-19986a373ec2\",\"type\":\"LinearAxis\"}],\"plot_height\":300,\"renderers\":[{\"id\":\"31aeef4f-b106-4c9f-b051-795e86392b3f\",\"type\":\"LinearAxis\"},{\"id\":\"911779bc-6203-4b65-a5e3-e7992a73b111\",\"type\":\"Grid\"},{\"id\":\"26dc5851-c00e-4397-a45c-19986a373ec2\",\"type\":\"LinearAxis\"},{\"id\":\"b6a25929-806f-48fb-a94c-a2bf703a6fb1\",\"type\":\"Grid\"},{\"id\":\"73884945-d8b0-4e34-bfff-dd8a3416b62b\",\"type\":\"GlyphRenderer\"},{\"id\":\"69f6ccdb-d4b5-47b6-b267-f3bae1827de8\",\"type\":\"GlyphRenderer\"}],\"title\":{\"id\":\"2d6015c9-1702-4803-8c8e-c966c8105771\",\"type\":\"Title\"},\"toolbar\":{\"id\":\"cecb0a22-7e29-49d3-b218-219b0871eb79\",\"type\":\"Toolbar\"},\"x_range\":{\"id\":\"6227f1ab-4a55-4161-8e68-a97d75a2dd44\",\"type\":\"Range1d\"},\"x_scale\":{\"id\":\"b3686f2e-1a62-4fa6-b7cf-02ef56625dd5\",\"type\":\"LinearScale\"},\"y_range\":{\"id\":\"202be5e4-efdd-4834-9625-b441700e9c21\",\"type\":\"Range1d\"},\"y_scale\":{\"id\":\"a758090b-cb5c-4bd1-b96a-2542d5715241\",\"type\":\"LinearScale\"}},\"id\":\"ffa8ed21-23d8-426b-94b1-0d38832cfbfc\",\"subtype\":\"Figure\",\"type\":\"Plot\"},{\"attributes\":{},\"id\":\"fcaafab7-5ea6-4894-a799-7bc728781c8f\",\"type\":\"UnionRenderers\"},{\"attributes\":{\"callback\":null,\"data\":{\"x\":[0,1,2,3,4,5,6,7,8,9,10,11,12,13,14,15,16,17,18,19,20,21,22,23,24,25,26,27,28,29,30,31,32,33,34,35,36,37,38,39,40,41,42,43,44,45,46,47,48,49],\"y\":{\"__ndarray__\":\"AAAAAAAAEkCZmZmZmZkVQOtRuB6F6xlAs8h2vp8aH0DS3uALk6kiQC7YDdsWZSZA0WndBrXfKkCxch4E0x8wQAfwip5jWTNAormmJBE4N0BbeC5f4dw7QAMVT2y6t0BAnn/4gawPREDwZV0CzxJIQB9Ho89e40xAE5H74jhVUUAWrvqpqsxUQIBqxpiZ9VhANOa6HYXzXUAfitYRg/hhQCUMm0idkGVAYNuGvbzgaUA/B9VJrw1vQFgEs5LPoXJAajg948VbdkBM3a8Qh9R6QC3rz9YdGYBAak3GAVdRg0AYkIdoaC6HQE8TCRdK0YtAyT7SDcawkEDy5JUQVAeUQO5FGkfLCJhAULpSVVrXnEDKb/7/Ak6hQFi5l5kDxKRAA3gchTfrqEAEkIhsD+etQM+8HkEJ8bFA+EiLtKSHtUBdJKfY+NW5QG/4LjfEAL9A3GFPVA+awkBudZLLeFLGQIQmFsFdycpAGxfac2sS0ECH6Di+TUnTQAgXEbHDJNdAPbVHobfF20Al0/eT1KngQA==\",\"dtype\":\"float64\",\"shape\":[50]}},\"selected\":{\"id\":\"b3c82b09-9bc0-45fa-8c41-ace4b0054221\",\"type\":\"Selection\"},\"selection_policy\":{\"id\":\"d9db424b-9d92-4910-947a-04b5ad2adbd8\",\"type\":\"UnionRenderers\"}},\"id\":\"cda72095-1d9f-4041-9de4-ad25a797c1be\",\"type\":\"ColumnDataSource\"},{\"attributes\":{},\"id\":\"b3c82b09-9bc0-45fa-8c41-ace4b0054221\",\"type\":\"Selection\"},{\"attributes\":{\"plot\":null,\"text\":\"Crescita malthusiana. Tasso di crescita 0.2  Concentrazione iniziale 4.5\"},\"id\":\"2d6015c9-1702-4803-8c8e-c966c8105771\",\"type\":\"Title\"},{\"attributes\":{},\"id\":\"d9db424b-9d92-4910-947a-04b5ad2adbd8\",\"type\":\"UnionRenderers\"},{\"attributes\":{\"callback\":null,\"end\":10,\"start\":-0.5},\"id\":\"6227f1ab-4a55-4161-8e68-a97d75a2dd44\",\"type\":\"Range1d\"},{\"attributes\":{\"active_drag\":\"auto\",\"active_inspect\":\"auto\",\"active_multi\":null,\"active_scroll\":\"auto\",\"active_tap\":\"auto\",\"tools\":[{\"id\":\"a16e3d83-5691-4f4e-b928-cade887e3593\",\"type\":\"PanTool\"},{\"id\":\"c676263c-a255-4d5b-80e1-c60d076c79e3\",\"type\":\"WheelZoomTool\"},{\"id\":\"071f63f6-eab9-4f0b-98e8-870e5840d432\",\"type\":\"ResetTool\"},{\"id\":\"3ef720a6-2f24-4b8d-b488-01afb6566ab9\",\"type\":\"SaveTool\"},{\"id\":\"6572bc84-6e4c-4947-bc15-b891650584e8\",\"type\":\"CrosshairTool\"}]},\"id\":\"cecb0a22-7e29-49d3-b218-219b0871eb79\",\"type\":\"Toolbar\"},{\"attributes\":{},\"id\":\"b3686f2e-1a62-4fa6-b7cf-02ef56625dd5\",\"type\":\"LinearScale\"},{\"attributes\":{\"callback\":null,\"end\":27.86281390079999},\"id\":\"202be5e4-efdd-4834-9625-b441700e9c21\",\"type\":\"Range1d\"},{\"attributes\":{},\"id\":\"a758090b-cb5c-4bd1-b96a-2542d5715241\",\"type\":\"LinearScale\"},{\"attributes\":{\"plot\":{\"id\":\"ffa8ed21-23d8-426b-94b1-0d38832cfbfc\",\"subtype\":\"Figure\",\"type\":\"Plot\"},\"ticker\":{\"id\":\"8140fa50-a5b1-4743-a0bf-cb2797afca7e\",\"type\":\"BasicTicker\"}},\"id\":\"911779bc-6203-4b65-a5e3-e7992a73b111\",\"type\":\"Grid\"},{\"attributes\":{\"axis_label\":\"Tempo, in quarti d'ora\",\"formatter\":{\"id\":\"99569a64-4966-4374-944e-4c62acb5e226\",\"type\":\"BasicTickFormatter\"},\"plot\":{\"id\":\"ffa8ed21-23d8-426b-94b1-0d38832cfbfc\",\"subtype\":\"Figure\",\"type\":\"Plot\"},\"ticker\":{\"id\":\"8140fa50-a5b1-4743-a0bf-cb2797afca7e\",\"type\":\"BasicTicker\"}},\"id\":\"31aeef4f-b106-4c9f-b051-795e86392b3f\",\"type\":\"LinearAxis\"},{\"attributes\":{},\"id\":\"8140fa50-a5b1-4743-a0bf-cb2797afca7e\",\"type\":\"BasicTicker\"}],\"root_ids\":[\"ffa8ed21-23d8-426b-94b1-0d38832cfbfc\"]},\"title\":\"Bokeh Application\",\"version\":\"0.13.0\"}};\n",
       "  var render_items = [{\"docid\":\"a2348663-ae66-4935-8104-fa4990aea961\",\"roots\":{\"ffa8ed21-23d8-426b-94b1-0d38832cfbfc\":\"cfbcf80e-b9ec-40a2-a2a7-80121673602b\"}}];\n",
       "  root.Bokeh.embed.embed_items_notebook(docs_json, render_items);\n",
       "\n",
       "  }\n",
       "  if (root.Bokeh !== undefined) {\n",
       "    embed_document(root);\n",
       "  } else {\n",
       "    var attempts = 0;\n",
       "    var timer = setInterval(function(root) {\n",
       "      if (root.Bokeh !== undefined) {\n",
       "        embed_document(root);\n",
       "        clearInterval(timer);\n",
       "      }\n",
       "      attempts++;\n",
       "      if (attempts > 100) {\n",
       "        console.log(\"Bokeh: ERROR: Unable to run BokehJS code because BokehJS library is missing\")\n",
       "        clearInterval(timer);\n",
       "      }\n",
       "    }, 10, root)\n",
       "  }\n",
       "})(window);"
      ],
      "application/vnd.bokehjs_exec.v0+json": ""
     },
     "metadata": {
      "application/vnd.bokehjs_exec.v0+json": {
       "id": "ffa8ed21-23d8-426b-94b1-0d38832cfbfc"
      }
     },
     "output_type": "display_data"
    }
   ],
   "source": [
    "n_max = 50          # numero massimo di iterazioni che calcolo\n",
    "r = 0.2             # tasso di crescita\n",
    "d0 = 4.5            # concentrazione iniziale\n",
    "x = arange(n_max)   # array di tempi\n",
    "y = d0 * (1+r)**x   # array di concentrazioni\n",
    "\n",
    "plot1 = figure(title=f\"Crescita malthusiana. Tasso di crescita {r} \" +\n",
    "                     f\" Concentrazione iniziale {d0}\", \n",
    "               x_axis_label = \"Tempo, in quarti d'ora\",\n",
    "               y_axis_label = \"Concentrazione\",\n",
    "               x_range=(-0.5,   10  ),       # range x da visualizzare inizialmente\n",
    "               y_range=( 0.0, y[10] ),       # range y da visualizzare inizialmente \n",
    "               **options,\n",
    "              )\n",
    "p1 = plot1.square(x, y, color='#119911')\n",
    "p1 = plot1.line(x, y, color='#119911')\n",
    "show(plot1)"
   ]
  },
  {
   "cell_type": "code",
   "execution_count": 4,
   "metadata": {},
   "outputs": [
    {
     "data": {
      "text/html": [
       "\n",
       "\n",
       "\n",
       "\n",
       "\n",
       "\n",
       "  <div class=\"bk-root\" id=\"6a278a5a-8942-4f33-aa24-ebd21bbd57e8\"></div>\n"
      ]
     },
     "metadata": {},
     "output_type": "display_data"
    },
    {
     "data": {
      "application/javascript": [
       "(function(root) {\n",
       "  function embed_document(root) {\n",
       "    \n",
       "  var docs_json = {\"465815b5-5f81-485f-912d-c5200430999e\":{\"roots\":{\"references\":[{\"attributes\":{\"axis_label\":\"Concentrazione\",\"formatter\":{\"id\":\"1e5cf273-5218-47c2-9725-9cc0c0c23a0c\",\"type\":\"BasicTickFormatter\"},\"plot\":{\"id\":\"ffa8ed21-23d8-426b-94b1-0d38832cfbfc\",\"subtype\":\"Figure\",\"type\":\"Plot\"},\"ticker\":{\"id\":\"560ac831-fb6e-4792-bc3c-1e296d9fa7ff\",\"type\":\"BasicTicker\"}},\"id\":\"26dc5851-c00e-4397-a45c-19986a373ec2\",\"type\":\"LinearAxis\"},{\"attributes\":{\"source\":{\"id\":\"57cac508-b6cd-4647-90ee-b817ded2b509\",\"type\":\"ColumnDataSource\"}},\"id\":\"e8f99ea2-7c52-4f0d-aebc-4c3871b93fdf\",\"type\":\"CDSView\"},{\"attributes\":{},\"id\":\"560ac831-fb6e-4792-bc3c-1e296d9fa7ff\",\"type\":\"BasicTicker\"},{\"attributes\":{\"dimension\":1,\"plot\":{\"id\":\"ffa8ed21-23d8-426b-94b1-0d38832cfbfc\",\"subtype\":\"Figure\",\"type\":\"Plot\"},\"ticker\":{\"id\":\"560ac831-fb6e-4792-bc3c-1e296d9fa7ff\",\"type\":\"BasicTicker\"}},\"id\":\"b6a25929-806f-48fb-a94c-a2bf703a6fb1\",\"type\":\"Grid\"},{\"attributes\":{},\"id\":\"a16e3d83-5691-4f4e-b928-cade887e3593\",\"type\":\"PanTool\"},{\"attributes\":{\"fill_alpha\":{\"value\":0.1},\"fill_color\":{\"value\":\"#1f77b4\"},\"line_alpha\":{\"value\":0.1},\"line_color\":{\"value\":\"#1f77b4\"},\"x\":{\"field\":\"x\"},\"y\":{\"field\":\"y\"}},\"id\":\"e4f91b18-6624-47d4-9ab0-b2088fe283da\",\"type\":\"Square\"},{\"attributes\":{},\"id\":\"1e5cf273-5218-47c2-9725-9cc0c0c23a0c\",\"type\":\"BasicTickFormatter\"},{\"attributes\":{},\"id\":\"99569a64-4966-4374-944e-4c62acb5e226\",\"type\":\"BasicTickFormatter\"},{\"attributes\":{\"data_source\":{\"id\":\"57cac508-b6cd-4647-90ee-b817ded2b509\",\"type\":\"ColumnDataSource\"},\"glyph\":{\"id\":\"3a767cad-8383-4d7d-8ba0-647ce3a58e2f\",\"type\":\"Square\"},\"hover_glyph\":null,\"muted_glyph\":null,\"nonselection_glyph\":{\"id\":\"e4f91b18-6624-47d4-9ab0-b2088fe283da\",\"type\":\"Square\"},\"selection_glyph\":null,\"view\":{\"id\":\"e8f99ea2-7c52-4f0d-aebc-4c3871b93fdf\",\"type\":\"CDSView\"}},\"id\":\"73884945-d8b0-4e34-bfff-dd8a3416b62b\",\"type\":\"GlyphRenderer\"},{\"attributes\":{},\"id\":\"c676263c-a255-4d5b-80e1-c60d076c79e3\",\"type\":\"WheelZoomTool\"},{\"attributes\":{},\"id\":\"071f63f6-eab9-4f0b-98e8-870e5840d432\",\"type\":\"ResetTool\"},{\"attributes\":{},\"id\":\"3ef720a6-2f24-4b8d-b488-01afb6566ab9\",\"type\":\"SaveTool\"},{\"attributes\":{},\"id\":\"6572bc84-6e4c-4947-bc15-b891650584e8\",\"type\":\"CrosshairTool\"},{\"attributes\":{\"line_color\":\"#119911\",\"x\":{\"field\":\"x\"},\"y\":{\"field\":\"y\"}},\"id\":\"fad22886-c68a-42ba-9005-f904fc3508ba\",\"type\":\"Line\"},{\"attributes\":{\"line_alpha\":0.1,\"line_color\":\"#1f77b4\",\"x\":{\"field\":\"x\"},\"y\":{\"field\":\"y\"}},\"id\":\"53126325-d994-41f5-ad86-53a81228e99b\",\"type\":\"Line\"},{\"attributes\":{\"data_source\":{\"id\":\"cda72095-1d9f-4041-9de4-ad25a797c1be\",\"type\":\"ColumnDataSource\"},\"glyph\":{\"id\":\"fad22886-c68a-42ba-9005-f904fc3508ba\",\"type\":\"Line\"},\"hover_glyph\":null,\"muted_glyph\":null,\"nonselection_glyph\":{\"id\":\"53126325-d994-41f5-ad86-53a81228e99b\",\"type\":\"Line\"},\"selection_glyph\":null,\"view\":{\"id\":\"0fd01201-0204-41cc-9754-78b09adff414\",\"type\":\"CDSView\"}},\"id\":\"69f6ccdb-d4b5-47b6-b267-f3bae1827de8\",\"type\":\"GlyphRenderer\"},{\"attributes\":{\"source\":{\"id\":\"cda72095-1d9f-4041-9de4-ad25a797c1be\",\"type\":\"ColumnDataSource\"}},\"id\":\"0fd01201-0204-41cc-9754-78b09adff414\",\"type\":\"CDSView\"},{\"attributes\":{\"callback\":null,\"data\":{\"x\":[0,1,2,3,4,5,6,7,8,9,10,11,12,13,14,15,16,17,18,19,20,21,22,23,24,25,26,27,28,29,30,31,32,33,34,35,36,37,38,39,40,41,42,43,44,45,46,47,48,49],\"y\":{\"__ndarray__\":\"AAAAAAAAEkCZmZmZmZkVQOtRuB6F6xlAs8h2vp8aH0DS3uALk6kiQC7YDdsWZSZA0WndBrXfKkCxch4E0x8wQAfwip5jWTNAormmJBE4N0BbeC5f4dw7QAMVT2y6t0BAnn/4gawPREDwZV0CzxJIQB9Ho89e40xAE5H74jhVUUAWrvqpqsxUQIBqxpiZ9VhANOa6HYXzXUAfitYRg/hhQCUMm0idkGVAYNuGvbzgaUA/B9VJrw1vQFgEs5LPoXJAajg948VbdkBM3a8Qh9R6QC3rz9YdGYBAak3GAVdRg0AYkIdoaC6HQE8TCRdK0YtAyT7SDcawkEDy5JUQVAeUQO5FGkfLCJhAULpSVVrXnEDKb/7/Ak6hQFi5l5kDxKRAA3gchTfrqEAEkIhsD+etQM+8HkEJ8bFA+EiLtKSHtUBdJKfY+NW5QG/4LjfEAL9A3GFPVA+awkBudZLLeFLGQIQmFsFdycpAGxfac2sS0ECH6Di+TUnTQAgXEbHDJNdAPbVHobfF20Al0/eT1KngQA==\",\"dtype\":\"float64\",\"shape\":[50]}},\"selected\":{\"id\":\"6c060f22-6496-4992-8f09-50333603dd01\",\"type\":\"Selection\"},\"selection_policy\":{\"id\":\"fcaafab7-5ea6-4894-a799-7bc728781c8f\",\"type\":\"UnionRenderers\"}},\"id\":\"57cac508-b6cd-4647-90ee-b817ded2b509\",\"type\":\"ColumnDataSource\"},{\"attributes\":{},\"id\":\"6c060f22-6496-4992-8f09-50333603dd01\",\"type\":\"Selection\"},{\"attributes\":{\"fill_color\":{\"value\":\"#119911\"},\"line_color\":{\"value\":\"#119911\"},\"x\":{\"field\":\"x\"},\"y\":{\"field\":\"y\"}},\"id\":\"3a767cad-8383-4d7d-8ba0-647ce3a58e2f\",\"type\":\"Square\"},{\"attributes\":{\"below\":[{\"id\":\"31aeef4f-b106-4c9f-b051-795e86392b3f\",\"type\":\"LinearAxis\"}],\"left\":[{\"id\":\"26dc5851-c00e-4397-a45c-19986a373ec2\",\"type\":\"LinearAxis\"}],\"plot_height\":300,\"renderers\":[{\"id\":\"31aeef4f-b106-4c9f-b051-795e86392b3f\",\"type\":\"LinearAxis\"},{\"id\":\"911779bc-6203-4b65-a5e3-e7992a73b111\",\"type\":\"Grid\"},{\"id\":\"26dc5851-c00e-4397-a45c-19986a373ec2\",\"type\":\"LinearAxis\"},{\"id\":\"b6a25929-806f-48fb-a94c-a2bf703a6fb1\",\"type\":\"Grid\"},{\"id\":\"73884945-d8b0-4e34-bfff-dd8a3416b62b\",\"type\":\"GlyphRenderer\"},{\"id\":\"69f6ccdb-d4b5-47b6-b267-f3bae1827de8\",\"type\":\"GlyphRenderer\"}],\"title\":{\"id\":\"2d6015c9-1702-4803-8c8e-c966c8105771\",\"type\":\"Title\"},\"toolbar\":{\"id\":\"cecb0a22-7e29-49d3-b218-219b0871eb79\",\"type\":\"Toolbar\"},\"x_range\":{\"id\":\"6227f1ab-4a55-4161-8e68-a97d75a2dd44\",\"type\":\"Range1d\"},\"x_scale\":{\"id\":\"b3686f2e-1a62-4fa6-b7cf-02ef56625dd5\",\"type\":\"LinearScale\"},\"y_range\":{\"id\":\"202be5e4-efdd-4834-9625-b441700e9c21\",\"type\":\"Range1d\"},\"y_scale\":{\"id\":\"a758090b-cb5c-4bd1-b96a-2542d5715241\",\"type\":\"LinearScale\"}},\"id\":\"ffa8ed21-23d8-426b-94b1-0d38832cfbfc\",\"subtype\":\"Figure\",\"type\":\"Plot\"},{\"attributes\":{},\"id\":\"fcaafab7-5ea6-4894-a799-7bc728781c8f\",\"type\":\"UnionRenderers\"},{\"attributes\":{\"callback\":null,\"data\":{\"x\":[0,1,2,3,4,5,6,7,8,9,10,11,12,13,14,15,16,17,18,19,20,21,22,23,24,25,26,27,28,29,30,31,32,33,34,35,36,37,38,39,40,41,42,43,44,45,46,47,48,49],\"y\":{\"__ndarray__\":\"AAAAAAAAEkCZmZmZmZkVQOtRuB6F6xlAs8h2vp8aH0DS3uALk6kiQC7YDdsWZSZA0WndBrXfKkCxch4E0x8wQAfwip5jWTNAormmJBE4N0BbeC5f4dw7QAMVT2y6t0BAnn/4gawPREDwZV0CzxJIQB9Ho89e40xAE5H74jhVUUAWrvqpqsxUQIBqxpiZ9VhANOa6HYXzXUAfitYRg/hhQCUMm0idkGVAYNuGvbzgaUA/B9VJrw1vQFgEs5LPoXJAajg948VbdkBM3a8Qh9R6QC3rz9YdGYBAak3GAVdRg0AYkIdoaC6HQE8TCRdK0YtAyT7SDcawkEDy5JUQVAeUQO5FGkfLCJhAULpSVVrXnEDKb/7/Ak6hQFi5l5kDxKRAA3gchTfrqEAEkIhsD+etQM+8HkEJ8bFA+EiLtKSHtUBdJKfY+NW5QG/4LjfEAL9A3GFPVA+awkBudZLLeFLGQIQmFsFdycpAGxfac2sS0ECH6Di+TUnTQAgXEbHDJNdAPbVHobfF20Al0/eT1KngQA==\",\"dtype\":\"float64\",\"shape\":[50]}},\"selected\":{\"id\":\"b3c82b09-9bc0-45fa-8c41-ace4b0054221\",\"type\":\"Selection\"},\"selection_policy\":{\"id\":\"d9db424b-9d92-4910-947a-04b5ad2adbd8\",\"type\":\"UnionRenderers\"}},\"id\":\"cda72095-1d9f-4041-9de4-ad25a797c1be\",\"type\":\"ColumnDataSource\"},{\"attributes\":{},\"id\":\"b3c82b09-9bc0-45fa-8c41-ace4b0054221\",\"type\":\"Selection\"},{\"attributes\":{\"plot\":null,\"text\":\"Crescita malthusiana. Tasso di crescita 0.2  Concentrazione iniziale 4.5\"},\"id\":\"2d6015c9-1702-4803-8c8e-c966c8105771\",\"type\":\"Title\"},{\"attributes\":{},\"id\":\"d9db424b-9d92-4910-947a-04b5ad2adbd8\",\"type\":\"UnionRenderers\"},{\"attributes\":{\"callback\":null,\"end\":10,\"start\":-0.5},\"id\":\"6227f1ab-4a55-4161-8e68-a97d75a2dd44\",\"type\":\"Range1d\"},{\"attributes\":{\"active_drag\":\"auto\",\"active_inspect\":\"auto\",\"active_multi\":null,\"active_scroll\":\"auto\",\"active_tap\":\"auto\",\"tools\":[{\"id\":\"a16e3d83-5691-4f4e-b928-cade887e3593\",\"type\":\"PanTool\"},{\"id\":\"c676263c-a255-4d5b-80e1-c60d076c79e3\",\"type\":\"WheelZoomTool\"},{\"id\":\"071f63f6-eab9-4f0b-98e8-870e5840d432\",\"type\":\"ResetTool\"},{\"id\":\"3ef720a6-2f24-4b8d-b488-01afb6566ab9\",\"type\":\"SaveTool\"},{\"id\":\"6572bc84-6e4c-4947-bc15-b891650584e8\",\"type\":\"CrosshairTool\"}]},\"id\":\"cecb0a22-7e29-49d3-b218-219b0871eb79\",\"type\":\"Toolbar\"},{\"attributes\":{},\"id\":\"b3686f2e-1a62-4fa6-b7cf-02ef56625dd5\",\"type\":\"LinearScale\"},{\"attributes\":{\"callback\":null,\"end\":27.86281390079999},\"id\":\"202be5e4-efdd-4834-9625-b441700e9c21\",\"type\":\"Range1d\"},{\"attributes\":{},\"id\":\"a758090b-cb5c-4bd1-b96a-2542d5715241\",\"type\":\"LinearScale\"},{\"attributes\":{\"plot\":{\"id\":\"ffa8ed21-23d8-426b-94b1-0d38832cfbfc\",\"subtype\":\"Figure\",\"type\":\"Plot\"},\"ticker\":{\"id\":\"8140fa50-a5b1-4743-a0bf-cb2797afca7e\",\"type\":\"BasicTicker\"}},\"id\":\"911779bc-6203-4b65-a5e3-e7992a73b111\",\"type\":\"Grid\"},{\"attributes\":{\"axis_label\":\"Tempo, in quarti d'ora\",\"formatter\":{\"id\":\"99569a64-4966-4374-944e-4c62acb5e226\",\"type\":\"BasicTickFormatter\"},\"plot\":{\"id\":\"ffa8ed21-23d8-426b-94b1-0d38832cfbfc\",\"subtype\":\"Figure\",\"type\":\"Plot\"},\"ticker\":{\"id\":\"8140fa50-a5b1-4743-a0bf-cb2797afca7e\",\"type\":\"BasicTicker\"}},\"id\":\"31aeef4f-b106-4c9f-b051-795e86392b3f\",\"type\":\"LinearAxis\"},{\"attributes\":{},\"id\":\"8140fa50-a5b1-4743-a0bf-cb2797afca7e\",\"type\":\"BasicTicker\"}],\"root_ids\":[\"ffa8ed21-23d8-426b-94b1-0d38832cfbfc\"]},\"title\":\"Bokeh Application\",\"version\":\"0.13.0\"}};\n",
       "  var render_items = [{\"docid\":\"465815b5-5f81-485f-912d-c5200430999e\",\"notebook_comms_target\":\"b4d5f7dd-c3eb-4b01-9832-85260a78472b\",\"roots\":{\"ffa8ed21-23d8-426b-94b1-0d38832cfbfc\":\"6a278a5a-8942-4f33-aa24-ebd21bbd57e8\"}}];\n",
       "  root.Bokeh.embed.embed_items_notebook(docs_json, render_items);\n",
       "\n",
       "  }\n",
       "  if (root.Bokeh !== undefined) {\n",
       "    embed_document(root);\n",
       "  } else {\n",
       "    var attempts = 0;\n",
       "    var timer = setInterval(function(root) {\n",
       "      if (root.Bokeh !== undefined) {\n",
       "        embed_document(root);\n",
       "        clearInterval(timer);\n",
       "      }\n",
       "      attempts++;\n",
       "      if (attempts > 100) {\n",
       "        console.log(\"Bokeh: ERROR: Unable to run BokehJS code because BokehJS library is missing\")\n",
       "        clearInterval(timer);\n",
       "      }\n",
       "    }, 10, root)\n",
       "  }\n",
       "})(window);"
      ],
      "application/vnd.bokehjs_exec.v0+json": ""
     },
     "metadata": {
      "application/vnd.bokehjs_exec.v0+json": {
       "id": "ffa8ed21-23d8-426b-94b1-0d38832cfbfc"
      }
     },
     "output_type": "display_data"
    },
    {
     "data": {
      "application/vnd.jupyter.widget-view+json": {
       "model_id": "f4f55cea4fec473c9a6437228fdfa0bc",
       "version_major": 2,
       "version_minor": 0
      },
      "text/plain": [
       "interactive(children=(FloatSlider(value=0.2, description='tasso di crescita', max=0.33, min=0.1, step=0.02, st…"
      ]
     },
     "metadata": {},
     "output_type": "display_data"
    }
   ],
   "source": [
    "def update1(r=0.2, d0=4.5): \n",
    "    p1.data_source.data['x'] = x\n",
    "    p1.data_source.data['y'] = d0 * (1+r)**x\n",
    "    push_notebook()\n",
    "\n",
    "show(plot1, notebook_handle=True)\n",
    "style = {'description_width': 'initial'}\n",
    "interact(update1,  \n",
    "         r  = FloatSlider(description=\"tasso di crescita\", \n",
    "                          min=.1, max=.33, step=.02, value=.2, style=style), \n",
    "         d0 = FloatSlider(description=\"concentrazione iniziale\", \n",
    "                          min=1, max=9, step=.5, value=4.5, style=style)\n",
    "        );"
   ]
  },
  {
   "cell_type": "markdown",
   "metadata": {},
   "source": [
    "# Crescita malthusiana: soluzione generale\n",
    "\n",
    "$r$ tasso di crescita\n",
    "\n",
    "$a=1+r$ fattore di crescita\n",
    "\n",
    "$d_{n+1}=a\\cdot d_n$ si chiama <mark>equazione ricorsiva</mark> (omogenea del prim'ordine) o anche *equazione di ricorrenza* o *equazione alle differenze*.\n",
    "\n",
    "$d_n=C\\cdot a^n$ è la <mark>soluzione generale</mark>, ovvero una famiglia di soluzioni, una per ogni $C\\in\\mathbb R$.\n",
    "\n",
    "Da un qualsiasi valore di $d_n$ possiamo calcorare $C$ e trovare una <mark>soluzione particolare</mark>. \n",
    "\n",
    "Per esempio, se $d_9=24.5$ allora $24.5=C\\cdot a^9$, quindi $C=24.5\\cdot a^{-9}$.\n",
    "\n",
    "Per esempio, se $d_0=4.5$ allora $4.5=C\\cdot a^0=C$."
   ]
  },
  {
   "cell_type": "markdown",
   "metadata": {},
   "source": [
    "# Crescita malthusiana + pesca/raccolto\n",
    "\n",
    "Una certa popolazione di pesci, in assenza di limiti ambiantali, ha una crescita annuale annuale netta (nacite $-$ morti) del $20\\%$. Ogni hanno viene pescato un fissato numero di individui. \n",
    "\n",
    "\n",
    "Scriviamo l'equazione che descrive l'evoluzione della popolazione.\n",
    "\n",
    "$a\\ =\\ 1+0.2\\ =\\ 1.2\\ $ fattore di crescita\n",
    "\n",
    "$b\\ = $ numero degli individui aggiunti (quindi $b<0$, se stiamo pescando)\n",
    "\n",
    "$d_1\\ =\\ a\\, d_0 + b$\n",
    "\n",
    "$d_2\\ =\\ a\\, d_1 +b\\  =\\ a\\, (a\\, d_0 +b) +b\\ =\\ a^2 d_0+ (1+a)\\,b$\n",
    "\n",
    "$d_3\\ =\\ a\\, d_2 +b\\ =\\ a\\, \\big(a^2 d_0 +(1+a)\\,b\\big) +b\\ =\\ a^3\\, d_0 + (1+a+a^2)\\,b $\n",
    "\n",
    "ecc., ecc., in generale scriveremo\n",
    "\n",
    "$d_{n+1}\\ =\\ a\\, d_n +b $ si chiama equazione ricorsiva <mark>non omogenea</mark>. Diremo che $b$ è il termine <mark>non omogeneo</mark>.\n",
    "\n",
    "$d_n=C\\, a^n+\\dfrac{b}{1-a} $ è la <mark>soluzione generale</mark>, ovvero una famiglia di soluzioni, una per ogni $C\\in\\mathbb R$.\n",
    "\n",
    "Da un qualsiasi valore di $d_n$ possiamo calcorare $C$ e trovare una <mark>soluzione particolare</mark>. \n",
    "\n",
    "Per esempio, se $d_9=245$ allora $245=C\\, a^9 -\\dfrac{b}{1-a}$, quindi $C=\\Big(245+\\dfrac{b}{1-a}\\Big)\\, a^{-9}$.\n",
    "\n",
    "Per esempio, se $d_0=45$ allora $45=C\\, a^0-\\dfrac{b}{1-a}$, quindi $C=45+\\dfrac{b}{1-a}$."
   ]
  },
  {
   "cell_type": "code",
   "execution_count": 5,
   "metadata": {},
   "outputs": [
    {
     "data": {
      "text/html": [
       "\n",
       "\n",
       "\n",
       "\n",
       "\n",
       "\n",
       "  <div class=\"bk-root\" id=\"d6113294-bafe-4c74-af79-5452d56e059f\"></div>\n"
      ]
     },
     "metadata": {},
     "output_type": "display_data"
    },
    {
     "data": {
      "application/javascript": [
       "(function(root) {\n",
       "  function embed_document(root) {\n",
       "    \n",
       "  var docs_json = {\"6c308215-19f8-48da-a4da-402e011c86e7\":{\"roots\":{\"references\":[{\"attributes\":{},\"id\":\"8e0f729e-2a98-4c5e-89df-df7f53f8affb\",\"type\":\"BasicTickFormatter\"},{\"attributes\":{\"line_alpha\":0.1,\"line_color\":\"#1f77b4\",\"x\":{\"field\":\"x\"},\"y\":{\"field\":\"y\"}},\"id\":\"a1cf077a-c26f-44c2-a21c-e48a94b05f68\",\"type\":\"Line\"},{\"attributes\":{\"data_source\":{\"id\":\"af7db952-0ace-464d-9ab4-6ed9f2835931\",\"type\":\"ColumnDataSource\"},\"glyph\":{\"id\":\"270e0c6a-e9d9-4505-9fa6-027846c41ae4\",\"type\":\"Line\"},\"hover_glyph\":null,\"muted_glyph\":null,\"nonselection_glyph\":{\"id\":\"a1cf077a-c26f-44c2-a21c-e48a94b05f68\",\"type\":\"Line\"},\"selection_glyph\":null,\"view\":{\"id\":\"ab8a8302-78e8-4ef9-9bf2-b01a5326f7c9\",\"type\":\"CDSView\"}},\"id\":\"658ee6fd-21eb-4034-9dd0-954645a61190\",\"type\":\"GlyphRenderer\"},{\"attributes\":{\"source\":{\"id\":\"af7db952-0ace-464d-9ab4-6ed9f2835931\",\"type\":\"ColumnDataSource\"}},\"id\":\"ab8a8302-78e8-4ef9-9bf2-b01a5326f7c9\",\"type\":\"CDSView\"},{\"attributes\":{},\"id\":\"5a1e6a8b-b7e8-41c8-b1b3-0d2c7dda547a\",\"type\":\"BasicTickFormatter\"},{\"attributes\":{},\"id\":\"0efb557d-31ce-46e9-bdac-26bc0da2cc0a\",\"type\":\"Selection\"},{\"attributes\":{},\"id\":\"d35f1867-0492-4932-8306-250e9dcea069\",\"type\":\"UnionRenderers\"},{\"attributes\":{},\"id\":\"e61b0f91-a30e-4aa6-8be9-3b7d99178262\",\"type\":\"Selection\"},{\"attributes\":{\"callback\":null,\"data\":{\"x\":[0,1,2,3,4,5,6,7,8,9,10,11,12,13,14,15,16,17,18,19,20,21,22,23,24,25,26,27,28,29,30,31,32,33,34,35,36,37,38,39,40,41,42,43,44,45,46,47,48,49],\"y\":{\"__ndarray__\":\"AAAAAACARkAAAAAAAABLQDMzMzMzM1BAcD0K16NwU0CHFtnO91NXQDpO0ZFc/ltAI2JKJNHLYEBdDybFxydkQAisLYa8L2hACmjQbRUGbUA5C33bDGpxQETaYgep5XRAhZ92opcTeUBsv/TCghd+QHQMxkEbDoJAV3W6G4eqhUCcWXlU1f+JQCEF+P7/Mo9A4c+UMjO4kkCnLEzWo3aWQC7PwZrE9JpAHEl09nUsoECIJCWOjWijQG7FX3dDSqdAhYYMXLfyq0BQ6m1q1MSwQPnlg0xlH7RAxOA3wqwluEAedKmCAvq8QBKsZU7OYsFAfM5GkffcxEAuXrsUKQnJQGrX4Bj+Cs5AcrRTdZgG0kC8C/6/g6HVQK+n/X8E9dlABJZjZgUm30ACWtWjabDiQANsZpFLbeZANhuu4Y3p6kC6dmiHuyXwQEVbfaJ6YPNAUzpjKZNA90DJEnf+Fuf7QBLYrZjavQBB4pzQUAYXBEGpIsctoRsIQcpcVZ307QxBRtHMxJJbEUHux/W4SdQUQQ==\",\"dtype\":\"float64\",\"shape\":[50]}},\"selected\":{\"id\":\"0efb557d-31ce-46e9-bdac-26bc0da2cc0a\",\"type\":\"Selection\"},\"selection_policy\":{\"id\":\"d35f1867-0492-4932-8306-250e9dcea069\",\"type\":\"UnionRenderers\"}},\"id\":\"c3f311bc-2cbf-4c9e-8a16-59ab66e3ff10\",\"type\":\"ColumnDataSource\"},{\"attributes\":{},\"id\":\"e40577e9-9ad6-4fdf-813b-4dcaf293bd63\",\"type\":\"UnionRenderers\"},{\"attributes\":{\"below\":[{\"id\":\"8cfe8bd9-8f69-467f-bf74-c1647efc9533\",\"type\":\"LinearAxis\"}],\"left\":[{\"id\":\"c892342a-0dac-4011-a99c-98b2e4c36f74\",\"type\":\"LinearAxis\"}],\"plot_height\":300,\"renderers\":[{\"id\":\"8cfe8bd9-8f69-467f-bf74-c1647efc9533\",\"type\":\"LinearAxis\"},{\"id\":\"e270c8e3-010f-4da0-8dcf-4e1178483b3a\",\"type\":\"Grid\"},{\"id\":\"c892342a-0dac-4011-a99c-98b2e4c36f74\",\"type\":\"LinearAxis\"},{\"id\":\"675f5b8a-2ce9-478a-adf1-5336d09d39bf\",\"type\":\"Grid\"},{\"id\":\"b3274713-8525-44c9-9359-ff57c3208973\",\"type\":\"GlyphRenderer\"},{\"id\":\"658ee6fd-21eb-4034-9dd0-954645a61190\",\"type\":\"GlyphRenderer\"}],\"title\":{\"id\":\"a5995b72-b2a0-474d-be68-2420abec8fb7\",\"type\":\"Title\"},\"toolbar\":{\"id\":\"1f0c36f2-cc8b-4751-b22e-4dc8c007dc8a\",\"type\":\"Toolbar\"},\"x_range\":{\"id\":\"5fd4c43e-052f-4e1d-9254-c9bd78d38469\",\"type\":\"Range1d\"},\"x_scale\":{\"id\":\"5ebd6f6c-151b-4114-9322-367c5c18822e\",\"type\":\"LinearScale\"},\"y_range\":{\"id\":\"77162dd2-f39a-4937-ab9e-91d01f28f924\",\"type\":\"Range1d\"},\"y_scale\":{\"id\":\"000e34c4-5ca5-43cf-8365-7c54c71571a4\",\"type\":\"LinearScale\"}},\"id\":\"ab6d4795-e45b-4103-be59-373ad361f6f3\",\"subtype\":\"Figure\",\"type\":\"Plot\"},{\"attributes\":{\"fill_alpha\":{\"value\":0.1},\"fill_color\":{\"value\":\"#1f77b4\"},\"line_alpha\":{\"value\":0.1},\"line_color\":{\"value\":\"#1f77b4\"},\"x\":{\"field\":\"x\"},\"y\":{\"field\":\"y\"}},\"id\":\"01eff342-c2a0-4489-bbb0-b803dd56502b\",\"type\":\"Square\"},{\"attributes\":{\"plot\":null,\"text\":\"Tasso di crescita 0.2, popolazione iniziale 45, pesca b\"},\"id\":\"a5995b72-b2a0-474d-be68-2420abec8fb7\",\"type\":\"Title\"},{\"attributes\":{\"callback\":null,\"end\":10,\"start\":-0.5},\"id\":\"5fd4c43e-052f-4e1d-9254-c9bd78d38469\",\"type\":\"Range1d\"},{\"attributes\":{\"active_drag\":\"auto\",\"active_inspect\":\"auto\",\"active_multi\":null,\"active_scroll\":\"auto\",\"active_tap\":\"auto\",\"tools\":[{\"id\":\"eb7c523a-5090-45a8-9b0e-a2d241130b6a\",\"type\":\"PanTool\"},{\"id\":\"d42f05af-aa0c-40d0-b289-98e57283c455\",\"type\":\"WheelZoomTool\"},{\"id\":\"a5c842db-4bfd-46f6-a351-bdc5a9f0d38a\",\"type\":\"ResetTool\"},{\"id\":\"61359d36-3cfe-4595-9be4-a2e5a3ab76e3\",\"type\":\"SaveTool\"},{\"id\":\"9d8ae3a2-729a-48f9-b92c-b744e42c81f9\",\"type\":\"CrosshairTool\"}]},\"id\":\"1f0c36f2-cc8b-4751-b22e-4dc8c007dc8a\",\"type\":\"Toolbar\"},{\"attributes\":{\"callback\":null,\"data\":{\"x\":[0,1,2,3,4,5,6,7,8,9,10,11,12,13,14,15,16,17,18,19,20,21,22,23,24,25,26,27,28,29,30,31,32,33,34,35,36,37,38,39,40,41,42,43,44,45,46,47,48,49],\"y\":{\"__ndarray__\":\"AAAAAACARkAAAAAAAABLQDMzMzMzM1BAcD0K16NwU0CHFtnO91NXQDpO0ZFc/ltAI2JKJNHLYEBdDybFxydkQAisLYa8L2hACmjQbRUGbUA5C33bDGpxQETaYgep5XRAhZ92opcTeUBsv/TCghd+QHQMxkEbDoJAV3W6G4eqhUCcWXlU1f+JQCEF+P7/Mo9A4c+UMjO4kkCnLEzWo3aWQC7PwZrE9JpAHEl09nUsoECIJCWOjWijQG7FX3dDSqdAhYYMXLfyq0BQ6m1q1MSwQPnlg0xlH7RAxOA3wqwluEAedKmCAvq8QBKsZU7OYsFAfM5GkffcxEAuXrsUKQnJQGrX4Bj+Cs5AcrRTdZgG0kC8C/6/g6HVQK+n/X8E9dlABJZjZgUm30ACWtWjabDiQANsZpFLbeZANhuu4Y3p6kC6dmiHuyXwQEVbfaJ6YPNAUzpjKZNA90DJEnf+Fuf7QBLYrZjavQBB4pzQUAYXBEGpIsctoRsIQcpcVZ307QxBRtHMxJJbEUHux/W4SdQUQQ==\",\"dtype\":\"float64\",\"shape\":[50]}},\"selected\":{\"id\":\"e61b0f91-a30e-4aa6-8be9-3b7d99178262\",\"type\":\"Selection\"},\"selection_policy\":{\"id\":\"e40577e9-9ad6-4fdf-813b-4dcaf293bd63\",\"type\":\"UnionRenderers\"}},\"id\":\"af7db952-0ace-464d-9ab4-6ed9f2835931\",\"type\":\"ColumnDataSource\"},{\"attributes\":{},\"id\":\"5ebd6f6c-151b-4114-9322-367c5c18822e\",\"type\":\"LinearScale\"},{\"attributes\":{\"callback\":null,\"end\":278.6281390079999},\"id\":\"77162dd2-f39a-4937-ab9e-91d01f28f924\",\"type\":\"Range1d\"},{\"attributes\":{},\"id\":\"000e34c4-5ca5-43cf-8365-7c54c71571a4\",\"type\":\"LinearScale\"},{\"attributes\":{\"plot\":{\"id\":\"ab6d4795-e45b-4103-be59-373ad361f6f3\",\"subtype\":\"Figure\",\"type\":\"Plot\"},\"ticker\":{\"id\":\"92cbb39b-d76e-4e42-8929-8fb72d684686\",\"type\":\"BasicTicker\"}},\"id\":\"e270c8e3-010f-4da0-8dcf-4e1178483b3a\",\"type\":\"Grid\"},{\"attributes\":{\"axis_label\":\"Tempo, in anni\",\"formatter\":{\"id\":\"8e0f729e-2a98-4c5e-89df-df7f53f8affb\",\"type\":\"BasicTickFormatter\"},\"plot\":{\"id\":\"ab6d4795-e45b-4103-be59-373ad361f6f3\",\"subtype\":\"Figure\",\"type\":\"Plot\"},\"ticker\":{\"id\":\"92cbb39b-d76e-4e42-8929-8fb72d684686\",\"type\":\"BasicTicker\"}},\"id\":\"8cfe8bd9-8f69-467f-bf74-c1647efc9533\",\"type\":\"LinearAxis\"},{\"attributes\":{},\"id\":\"92cbb39b-d76e-4e42-8929-8fb72d684686\",\"type\":\"BasicTicker\"},{\"attributes\":{\"axis_label\":\"Numero di individui\",\"formatter\":{\"id\":\"5a1e6a8b-b7e8-41c8-b1b3-0d2c7dda547a\",\"type\":\"BasicTickFormatter\"},\"plot\":{\"id\":\"ab6d4795-e45b-4103-be59-373ad361f6f3\",\"subtype\":\"Figure\",\"type\":\"Plot\"},\"ticker\":{\"id\":\"605d248c-bbf9-4f2e-9ee3-4d92deb683ad\",\"type\":\"BasicTicker\"}},\"id\":\"c892342a-0dac-4011-a99c-98b2e4c36f74\",\"type\":\"LinearAxis\"},{\"attributes\":{},\"id\":\"605d248c-bbf9-4f2e-9ee3-4d92deb683ad\",\"type\":\"BasicTicker\"},{\"attributes\":{\"dimension\":1,\"plot\":{\"id\":\"ab6d4795-e45b-4103-be59-373ad361f6f3\",\"subtype\":\"Figure\",\"type\":\"Plot\"},\"ticker\":{\"id\":\"605d248c-bbf9-4f2e-9ee3-4d92deb683ad\",\"type\":\"BasicTicker\"}},\"id\":\"675f5b8a-2ce9-478a-adf1-5336d09d39bf\",\"type\":\"Grid\"},{\"attributes\":{\"fill_color\":{\"value\":\"#119911\"},\"line_color\":{\"value\":\"#119911\"},\"x\":{\"field\":\"x\"},\"y\":{\"field\":\"y\"}},\"id\":\"88739225-2b11-441b-a14e-417c5d88cd12\",\"type\":\"Square\"},{\"attributes\":{\"line_color\":\"#119911\",\"x\":{\"field\":\"x\"},\"y\":{\"field\":\"y\"}},\"id\":\"270e0c6a-e9d9-4505-9fa6-027846c41ae4\",\"type\":\"Line\"},{\"attributes\":{\"source\":{\"id\":\"c3f311bc-2cbf-4c9e-8a16-59ab66e3ff10\",\"type\":\"ColumnDataSource\"}},\"id\":\"2d6b42a3-fa49-41f9-ac49-2f90b029dfc2\",\"type\":\"CDSView\"},{\"attributes\":{},\"id\":\"eb7c523a-5090-45a8-9b0e-a2d241130b6a\",\"type\":\"PanTool\"},{\"attributes\":{\"data_source\":{\"id\":\"c3f311bc-2cbf-4c9e-8a16-59ab66e3ff10\",\"type\":\"ColumnDataSource\"},\"glyph\":{\"id\":\"88739225-2b11-441b-a14e-417c5d88cd12\",\"type\":\"Square\"},\"hover_glyph\":null,\"muted_glyph\":null,\"nonselection_glyph\":{\"id\":\"01eff342-c2a0-4489-bbb0-b803dd56502b\",\"type\":\"Square\"},\"selection_glyph\":null,\"view\":{\"id\":\"2d6b42a3-fa49-41f9-ac49-2f90b029dfc2\",\"type\":\"CDSView\"}},\"id\":\"b3274713-8525-44c9-9359-ff57c3208973\",\"type\":\"GlyphRenderer\"},{\"attributes\":{},\"id\":\"d42f05af-aa0c-40d0-b289-98e57283c455\",\"type\":\"WheelZoomTool\"},{\"attributes\":{},\"id\":\"a5c842db-4bfd-46f6-a351-bdc5a9f0d38a\",\"type\":\"ResetTool\"},{\"attributes\":{},\"id\":\"61359d36-3cfe-4595-9be4-a2e5a3ab76e3\",\"type\":\"SaveTool\"},{\"attributes\":{},\"id\":\"9d8ae3a2-729a-48f9-b92c-b744e42c81f9\",\"type\":\"CrosshairTool\"}],\"root_ids\":[\"ab6d4795-e45b-4103-be59-373ad361f6f3\"]},\"title\":\"Bokeh Application\",\"version\":\"0.13.0\"}};\n",
       "  var render_items = [{\"docid\":\"6c308215-19f8-48da-a4da-402e011c86e7\",\"notebook_comms_target\":\"ef14d118-dd71-40fe-ac6a-5dd6108de8a6\",\"roots\":{\"ab6d4795-e45b-4103-be59-373ad361f6f3\":\"d6113294-bafe-4c74-af79-5452d56e059f\"}}];\n",
       "  root.Bokeh.embed.embed_items_notebook(docs_json, render_items);\n",
       "\n",
       "  }\n",
       "  if (root.Bokeh !== undefined) {\n",
       "    embed_document(root);\n",
       "  } else {\n",
       "    var attempts = 0;\n",
       "    var timer = setInterval(function(root) {\n",
       "      if (root.Bokeh !== undefined) {\n",
       "        embed_document(root);\n",
       "        clearInterval(timer);\n",
       "      }\n",
       "      attempts++;\n",
       "      if (attempts > 100) {\n",
       "        console.log(\"Bokeh: ERROR: Unable to run BokehJS code because BokehJS library is missing\")\n",
       "        clearInterval(timer);\n",
       "      }\n",
       "    }, 10, root)\n",
       "  }\n",
       "})(window);"
      ],
      "application/vnd.bokehjs_exec.v0+json": ""
     },
     "metadata": {
      "application/vnd.bokehjs_exec.v0+json": {
       "id": "ab6d4795-e45b-4103-be59-373ad361f6f3"
      }
     },
     "output_type": "display_data"
    },
    {
     "data": {
      "application/vnd.jupyter.widget-view+json": {
       "model_id": "b48b812607a242ca943a465aef450fd2",
       "version_major": 2,
       "version_minor": 0
      },
      "text/plain": [
       "interactive(children=(FloatSlider(value=0.0, description='b', max=10.0, min=-12.0, step=1.0, style=SliderStyle…"
      ]
     },
     "metadata": {},
     "output_type": "display_data"
    }
   ],
   "source": [
    "n_max = 50                      # numero massimo di iterazioni che calcolo\n",
    "r = 0.2                         # tasso di crescita\n",
    "b = 0                           # pesca/raccolto \n",
    "d0 = 45                         # concentrazione iniziale\n",
    "x = arange(n_max)               # array di tempi\n",
    "y = (d0+b/r) * (1+r)**x - b/r   # array di concentrazioni\n",
    "\n",
    "plot2 = figure(title=f\"Tasso di crescita {r}, popolazione iniziale {d0}, pesca b\", \n",
    "               x_axis_label = \"Tempo, in anni\",\n",
    "               y_axis_label = \"Numero di individui\",\n",
    "               x_range=(-0.5,   10  ),       # range da visualizzare inizialmente\n",
    "               y_range=( 0.0, y[10] ),       # range da visualizzare inizialmente \n",
    "               **options,\n",
    "              )\n",
    "p2 = plot2.square(x, y, color='#119911')\n",
    "p2 = plot2.line(x, y, color='#119911')\n",
    "def update2(b=0): \n",
    "    p2.data_source.data['x'] = x\n",
    "    p2.data_source.data['y'] =  (d0+b/r) * (1+r)**x - b/r \n",
    "    push_notebook()\n",
    "\n",
    "show(plot2, notebook_handle=True)\n",
    "style = {'description_width': 'initial'}\n",
    "interact(update2,  \n",
    "         b  = FloatSlider(description=\"b\", min=-12, max=10, step=1, value=0, style=style),\n",
    "         );"
   ]
  },
  {
   "cell_type": "markdown",
   "metadata": {},
   "source": [
    "# Mutuo bancario (1)\n",
    "\n",
    "Prendiamo a prestito dalla banca $200\\,$k€ con un tannuo annuo fisso del $3\\%$. Ogni anno restituiamo alla banca $10\\,$k€. (Per precisione: all'anno $0$ il nostro debito è $200\\,$k€ e all'anno $1$ sarà: $200$k€ $+$interessi $-10\\,$k€, ecc.)\n",
    "\n",
    "A quanto ammonterà il debito dopo 10 anni? (Ovvero, al decimo anno subito dopo aver pagato i $10\\,$k€ pattuiti.)"
   ]
  },
  {
   "cell_type": "markdown",
   "metadata": {},
   "source": [
    "### Soluzione\n",
    "\n",
    "Scriviamo l'equazione che descrive l'evoluzione del debito.\n",
    "\n",
    "$a\\ =\\ 1+0.03\\ =\\ 1.03\\ $ fattore di crescita\n",
    "\n",
    "$b\\ = - 10$ \n",
    "\n",
    "$d_0 = 200$ debito all'anno zero\n",
    "\n",
    "$d_{n+1}\\ =\\ a\\, d_n +b $ equazione ricorsiva per il debito all'anno $n$.\n",
    "\n",
    "Soluzione generale dell'equazione ricorsiva \n",
    "\n",
    "$d_n=C\\, a^n+\\dfrac{b}{1-a} $ una per qualsiasi $C\\in\\mathbb R$.\n",
    "\n",
    "Usando la condizione $d_0=200$ troviamo.\n",
    "\n",
    "$C\\ =\\ 200 - \\dfrac{b}{1-a}\\ =\\ 200 - \\dfrac{10}{0.03} = 9\\,800$\n",
    "\n",
    "    Il calcolo numerico nella cella sottostante"
   ]
  },
  {
   "cell_type": "code",
   "execution_count": 6,
   "metadata": {},
   "outputs": [
    {
     "data": {
      "text/plain": [
       "154.14448275411715"
      ]
     },
     "execution_count": 6,
     "metadata": {},
     "output_type": "execute_result"
    }
   ],
   "source": [
    "a = 1.03\n",
    "b = -10\n",
    "d0 = 200\n",
    "n = 10\n",
    "C = d0 - b/(1-a)\n",
    "C * a**n + b/(1-a)"
   ]
  },
  {
   "cell_type": "markdown",
   "metadata": {},
   "source": [
    "# Mutuo bancario (2)\n",
    "\n",
    "Quanto dovreno pagare all'anno per estinguere il debito alla decima rata?"
   ]
  },
  {
   "cell_type": "markdown",
   "metadata": {},
   "source": [
    "### Soluzione\n",
    "\n",
    "Dobbiamo porre $d_0=200$ e $d_{10}=0$. Ora $b$ è incognito. La costante $C$ dobbiamo calcolarla in funzione di $b$.\n",
    "\n",
    "$C\\ =\\ 200 + \\dfrac{b}{0.03}$\n",
    "\n",
    "l'equazione diventa \n",
    "\n",
    "$d_n=\\bigg(200 + \\dfrac{b}{0.03}\\bigg)\\, 1.03^n-\\dfrac{b}{0.03}$\n",
    "\n",
    "quindi\n",
    "\n",
    "$d_{10}\\ =\\ \\bigg(200 + \\dfrac{b}{0.03}\\bigg)\\, 1.03^{10}-\\dfrac{b}{0.03}$\n",
    "\n",
    "$b\\ =\\ 0.03\\cdot \\dfrac{200\\cdot 1.03^{10}}{1+ 1.03^{10}}$\n"
   ]
  },
  {
   "cell_type": "code",
   "execution_count": 7,
   "metadata": {},
   "outputs": [
    {
     "data": {
      "text/plain": [
       "-23.44610132103192"
      ]
     },
     "execution_count": 7,
     "metadata": {},
     "output_type": "execute_result"
    }
   ],
   "source": [
    "(a-1) * ( d0 * a**10 ) / ( 1 -  a**10 )"
   ]
  },
  {
   "cell_type": "markdown",
   "metadata": {},
   "source": [
    "La risposta è quindi $23\\,446.10$€ all'anno."
   ]
  },
  {
   "cell_type": "markdown",
   "metadata": {},
   "source": [
    "<!--# Mutuo bancario (3)\n",
    "\n",
    "Sempre lo stesso mutuo, da estinguere in 10 anni. Vorremmo però pagare al mese. La cifra da pagare sarà *minore* di un dodicesimo di $23\\,446.10$€.\n",
    "\n",
    "Dovremo calcolarci l'interesse mensile.\n",
    "\n",
    "Sia $c_n$ il debito calcolato al mese numero $m$. Quindi $c_{12n}=d_{n}$.\n",
    "\n",
    "L'equazione ricorsiva è la stessa, chiamiamo  \n",
    "\n",
    "$c_{n+1}\\ =\\ a'\\, c_n +b'$ equazione ricorsiva per il debito al mese $n$.\n",
    "\n",
    "Non conosciamo né $a'$ né $b'$, sappiamo però che $c_{0}=200$ quindi \n",
    "\n",
    "$c_n=C\\, {a'}^n+\\dfrac{b'}{1-a'}$\n",
    "\n",
    "\n",
    "\n",
    "-->"
   ]
  },
  {
   "cell_type": "markdown",
   "metadata": {},
   "source": [
    "# Concentrazione farmaco  (1)\n",
    "\n",
    "La concentrazione di un farmaco nel sangue dopo $12$ ore è il $60\\%$ della concentrazione iniziale. Somministrando $2$ unità ogni 12 ore e partendo da una conventrazione $0$ qual'è la concentrazione massima del farmaco? Quale la concentrazione minima a regime?"
   ]
  },
  {
   "cell_type": "markdown",
   "metadata": {},
   "source": [
    "## Soluzione\n",
    "\n",
    "Fissiamo 12 ore come nostra unità di tempo.\n",
    "\n",
    "$a\\ =\\ 0.6\\ =\\ 1.03\\ $ fattore di (de)crescita\n",
    "\n",
    "$b\\ = 3$ \n",
    "\n",
    "$d_0 = 0$ concentrazione iniziale\n",
    "\n",
    "$d_{n+1}\\ =\\ a\\, d_n +b $ equazione ricorsiva per la concentrazione nel sangue.\n",
    "\n",
    "Soluzione generale dell'equazione ricorsiva \n",
    "\n",
    "$d_n=C\\, a^n+\\dfrac{b}{1-a}$ una per qualsiasi $C\\in\\mathbb R$.\n",
    "\n",
    "Poiché $a<1$ qualsiasi sia $C$ dopo qualche giorno il primo termine è $\\cong0$.\n",
    "\n",
    "Quindi la concentrazione massima a regime sarà $\\dfrac{b}{1-a}$.\n",
    "\n",
    "Quella minima (a regime) sarà quella massima $-b$, equivalentemente, anche quella massima per $a$.\n",
    "\n",
    "Ovvero la concentrazione minima a regime è $\\dfrac{ab}{1-a}$."
   ]
  },
  {
   "cell_type": "code",
   "execution_count": 8,
   "metadata": {},
   "outputs": [
    {
     "data": {
      "text/html": [
       "\n",
       "\n",
       "\n",
       "\n",
       "\n",
       "\n",
       "  <div class=\"bk-root\" id=\"4a0185d0-6bd0-450e-bbcc-54c8c9ff566b\"></div>\n"
      ]
     },
     "metadata": {},
     "output_type": "display_data"
    },
    {
     "data": {
      "application/javascript": [
       "(function(root) {\n",
       "  function embed_document(root) {\n",
       "    \n",
       "  var docs_json = {\"757e4e0c-7c84-4486-8552-aaf565a3f311\":{\"roots\":{\"references\":[{\"attributes\":{\"line_color\":\"#991111\",\"x\":{\"field\":\"x\"},\"y\":{\"field\":\"y\"}},\"id\":\"0400587e-a22f-4fec-b1e5-8f8b7891f49a\",\"type\":\"Line\"},{\"attributes\":{},\"id\":\"694698fa-b1f0-42a7-ae2e-b8da7be25f46\",\"type\":\"PanTool\"},{\"attributes\":{},\"id\":\"8d0c2eba-bed9-4433-9ced-9ddec2d7cace\",\"type\":\"WheelZoomTool\"},{\"attributes\":{},\"id\":\"920d31b9-8e91-4a10-8c08-84d9b4def147\",\"type\":\"ResetTool\"},{\"attributes\":{},\"id\":\"a4d5d949-55fb-4f50-aaed-fa036ffc4590\",\"type\":\"SaveTool\"},{\"attributes\":{},\"id\":\"e62d6a14-4ccb-4246-9d1a-561fd1ed2edc\",\"type\":\"CrosshairTool\"},{\"attributes\":{\"line_alpha\":0.1,\"line_color\":\"#1f77b4\",\"x\":{\"field\":\"x\"},\"y\":{\"field\":\"y\"}},\"id\":\"5d9054d7-5dd4-4b10-9716-85063e1417dd\",\"type\":\"Line\"},{\"attributes\":{\"data_source\":{\"id\":\"63f54197-a7dd-439e-bd76-702be6874689\",\"type\":\"ColumnDataSource\"},\"glyph\":{\"id\":\"0400587e-a22f-4fec-b1e5-8f8b7891f49a\",\"type\":\"Line\"},\"hover_glyph\":null,\"muted_glyph\":null,\"nonselection_glyph\":{\"id\":\"5d9054d7-5dd4-4b10-9716-85063e1417dd\",\"type\":\"Line\"},\"selection_glyph\":null,\"view\":{\"id\":\"5ef667e7-7777-4105-a712-7fc36f18e38c\",\"type\":\"CDSView\"}},\"id\":\"8c087832-72da-4327-9d11-77d0568ecc0a\",\"type\":\"GlyphRenderer\"},{\"attributes\":{\"source\":{\"id\":\"63f54197-a7dd-439e-bd76-702be6874689\",\"type\":\"ColumnDataSource\"}},\"id\":\"5ef667e7-7777-4105-a712-7fc36f18e38c\",\"type\":\"CDSView\"},{\"attributes\":{},\"id\":\"e2b6429c-347c-48af-8f38-964c7ba345bb\",\"type\":\"BasicTickFormatter\"},{\"attributes\":{},\"id\":\"8b589cf8-65f7-4fa6-8217-62de7842d62f\",\"type\":\"BasicTickFormatter\"},{\"attributes\":{},\"id\":\"34510c95-8a2a-45af-9634-0205210cbb29\",\"type\":\"Selection\"},{\"attributes\":{\"source\":{\"id\":\"bb502c54-9191-4de3-b149-7cd3c5c79cd6\",\"type\":\"ColumnDataSource\"}},\"id\":\"e77da560-d3c3-4627-a623-c068297d6699\",\"type\":\"CDSView\"},{\"attributes\":{},\"id\":\"ceff57aa-3fb9-4073-bc31-a9dbf19993de\",\"type\":\"UnionRenderers\"},{\"attributes\":{\"callback\":null,\"data\":{\"x\":[0,0,1,1,2,2,3,3,4,4,5,5,6,6,7,7,8,8,9,9,10,10,11,11,12,12,13,13,14,14,15,15,16,16,17,17,18,18,19,19,20,20,21,21,22,22,23,23,24,24,25,25,26,26,27,27,28,28,29,29,30,30,31,31,32,32,33,33,34,34,35,35,36,36,37,37,38,38,39,39,40,40,41,41,42,42,43,43,44,44,45,45,46,46,47,47,48,48,49,49],\"y\":[-2.0,0.0,0.0,2.0,1.2000000000000002,3.2,1.92,3.92,2.3520000000000003,4.352,2.6112,4.6112,2.7667200000000003,4.76672,2.8600320000000004,4.860032,2.9160192,4.9160192,2.9496115200000004,4.94961152,2.969766912,4.969766912,2.9818601472,4.9818601472,2.9891160883200003,4.98911608832,2.993469652992,4.993469652992,2.9960817917952003,4.9960817917952,2.9976490750771196,4.99764907507712,2.998589445046272,4.998589445046272,2.9991536670277634,4.999153667027763,2.9994922002166575,4.9994922002166575,2.9996953201299945,4.9996953201299945,2.9998171920779972,4.999817192077997,2.999890315246798,4.999890315246798,2.999934189148079,4.999934189148079,2.9999605134888476,4.999960513488848,2.9999763080933084,4.999976308093308,2.999985784855985,4.999985784855985,2.9999914709135913,4.999991470913591,2.9999948825481546,4.999994882548155,2.9999969295288924,4.999996929528892,2.999998157717336,4.999998157717336,2.9999988946304015,4.9999988946304015,2.9999993367782407,4.999999336778241,2.9999996020669446,4.999999602066945,2.9999997612401668,4.999999761240167,2.9999998567441004,4.9999998567441,2.9999999140464597,4.99999991404646,2.9999999484278757,4.999999948427876,2.9999999690567254,4.999999969056725,2.9999999814340352,4.999999981434035,2.999999988860421,4.999999988860421,2.999999993316253,4.999999993316253,2.999999995989752,4.999999995989752,2.999999997593851,4.999999997593851,2.9999999985563104,4.99999999855631,2.9999999991337862,4.999999999133786,2.9999999994802717,4.999999999480272,2.999999999688163,4.999999999688163,2.999999999812898,4.999999999812898,2.9999999998877387,4.999999999887739,2.999999999932643,4.999999999932643]},\"selected\":{\"id\":\"34510c95-8a2a-45af-9634-0205210cbb29\",\"type\":\"Selection\"},\"selection_policy\":{\"id\":\"ceff57aa-3fb9-4073-bc31-a9dbf19993de\",\"type\":\"UnionRenderers\"}},\"id\":\"bb502c54-9191-4de3-b149-7cd3c5c79cd6\",\"type\":\"ColumnDataSource\"},{\"attributes\":{},\"id\":\"36a1329f-63fa-4a5a-ae7b-f96052c50771\",\"type\":\"Selection\"},{\"attributes\":{\"below\":[{\"id\":\"aea5c7d0-d61a-4c2c-8ba5-65b6ada67505\",\"type\":\"LinearAxis\"}],\"left\":[{\"id\":\"252d1a5d-2869-4913-a112-f8a0f6687e2a\",\"type\":\"LinearAxis\"}],\"plot_height\":300,\"renderers\":[{\"id\":\"aea5c7d0-d61a-4c2c-8ba5-65b6ada67505\",\"type\":\"LinearAxis\"},{\"id\":\"8e734c3d-63ad-4841-8f4e-b4479ef18a2d\",\"type\":\"Grid\"},{\"id\":\"252d1a5d-2869-4913-a112-f8a0f6687e2a\",\"type\":\"LinearAxis\"},{\"id\":\"f8a43b83-ed28-4663-a40b-3f0c9868602c\",\"type\":\"Grid\"},{\"id\":\"66b650a1-6dce-478a-8ea1-2a75e09c10b0\",\"type\":\"GlyphRenderer\"},{\"id\":\"8c087832-72da-4327-9d11-77d0568ecc0a\",\"type\":\"GlyphRenderer\"}],\"title\":{\"id\":\"4b72a7fa-cd1f-4901-8763-a512ec3f7891\",\"type\":\"Title\"},\"toolbar\":{\"id\":\"3d6a750a-30da-4ff8-a4bf-e326058a8222\",\"type\":\"Toolbar\"},\"x_range\":{\"id\":\"d92054f2-3a8b-41a0-a010-9390fc56b347\",\"type\":\"Range1d\"},\"x_scale\":{\"id\":\"d9777186-9251-4e62-a3c2-9d9dcf7a7e09\",\"type\":\"LinearScale\"},\"y_range\":{\"id\":\"27eb8788-8d2a-44c7-ab73-336c1ba720e4\",\"type\":\"Range1d\"},\"y_scale\":{\"id\":\"23e70eca-2c7c-4baa-8021-5d9864b23244\",\"type\":\"LinearScale\"}},\"id\":\"e4d49d98-ade4-445f-81c0-105e4140bcfc\",\"subtype\":\"Figure\",\"type\":\"Plot\"},{\"attributes\":{},\"id\":\"382c1ee1-438a-4054-8fd6-aae5c817d763\",\"type\":\"UnionRenderers\"},{\"attributes\":{\"data_source\":{\"id\":\"bb502c54-9191-4de3-b149-7cd3c5c79cd6\",\"type\":\"ColumnDataSource\"},\"glyph\":{\"id\":\"b1569e8e-3001-4652-b166-26909042b3fb\",\"type\":\"Square\"},\"hover_glyph\":null,\"muted_glyph\":null,\"nonselection_glyph\":{\"id\":\"501d4e6c-b626-473b-9870-3bb09643e084\",\"type\":\"Square\"},\"selection_glyph\":null,\"view\":{\"id\":\"e77da560-d3c3-4627-a623-c068297d6699\",\"type\":\"CDSView\"}},\"id\":\"66b650a1-6dce-478a-8ea1-2a75e09c10b0\",\"type\":\"GlyphRenderer\"},{\"attributes\":{\"plot\":null,\"text\":\"Concentrazione massima e minima, fattore di decrescita a, dose b\"},\"id\":\"4b72a7fa-cd1f-4901-8763-a512ec3f7891\",\"type\":\"Title\"},{\"attributes\":{\"callback\":null,\"end\":10},\"id\":\"d92054f2-3a8b-41a0-a010-9390fc56b347\",\"type\":\"Range1d\"},{\"attributes\":{\"active_drag\":\"auto\",\"active_inspect\":\"auto\",\"active_multi\":null,\"active_scroll\":\"auto\",\"active_tap\":\"auto\",\"tools\":[{\"id\":\"694698fa-b1f0-42a7-ae2e-b8da7be25f46\",\"type\":\"PanTool\"},{\"id\":\"8d0c2eba-bed9-4433-9ced-9ddec2d7cace\",\"type\":\"WheelZoomTool\"},{\"id\":\"920d31b9-8e91-4a10-8c08-84d9b4def147\",\"type\":\"ResetTool\"},{\"id\":\"a4d5d949-55fb-4f50-aaed-fa036ffc4590\",\"type\":\"SaveTool\"},{\"id\":\"e62d6a14-4ccb-4246-9d1a-561fd1ed2edc\",\"type\":\"CrosshairTool\"}]},\"id\":\"3d6a750a-30da-4ff8-a4bf-e326058a8222\",\"type\":\"Toolbar\"},{\"attributes\":{\"fill_color\":{\"value\":\"#991111\"},\"line_color\":{\"value\":\"#991111\"},\"x\":{\"field\":\"x\"},\"y\":{\"field\":\"y\"}},\"id\":\"b1569e8e-3001-4652-b166-26909042b3fb\",\"type\":\"Square\"},{\"attributes\":{},\"id\":\"d9777186-9251-4e62-a3c2-9d9dcf7a7e09\",\"type\":\"LinearScale\"},{\"attributes\":{\"callback\":null,\"end\":6.94961152},\"id\":\"27eb8788-8d2a-44c7-ab73-336c1ba720e4\",\"type\":\"Range1d\"},{\"attributes\":{},\"id\":\"23e70eca-2c7c-4baa-8021-5d9864b23244\",\"type\":\"LinearScale\"},{\"attributes\":{\"plot\":{\"id\":\"e4d49d98-ade4-445f-81c0-105e4140bcfc\",\"subtype\":\"Figure\",\"type\":\"Plot\"},\"ticker\":{\"id\":\"d90f6265-fa7c-4ccb-bfab-19f63c0e82be\",\"type\":\"BasicTicker\"}},\"id\":\"8e734c3d-63ad-4841-8f4e-b4479ef18a2d\",\"type\":\"Grid\"},{\"attributes\":{\"axis_label\":\"Tempo, in 12h\",\"formatter\":{\"id\":\"e2b6429c-347c-48af-8f38-964c7ba345bb\",\"type\":\"BasicTickFormatter\"},\"plot\":{\"id\":\"e4d49d98-ade4-445f-81c0-105e4140bcfc\",\"subtype\":\"Figure\",\"type\":\"Plot\"},\"ticker\":{\"id\":\"d90f6265-fa7c-4ccb-bfab-19f63c0e82be\",\"type\":\"BasicTicker\"}},\"id\":\"aea5c7d0-d61a-4c2c-8ba5-65b6ada67505\",\"type\":\"LinearAxis\"},{\"attributes\":{},\"id\":\"d90f6265-fa7c-4ccb-bfab-19f63c0e82be\",\"type\":\"BasicTicker\"},{\"attributes\":{\"axis_label\":\"Concentrazione farmaco\",\"formatter\":{\"id\":\"8b589cf8-65f7-4fa6-8217-62de7842d62f\",\"type\":\"BasicTickFormatter\"},\"plot\":{\"id\":\"e4d49d98-ade4-445f-81c0-105e4140bcfc\",\"subtype\":\"Figure\",\"type\":\"Plot\"},\"ticker\":{\"id\":\"4ae79b49-fde8-4598-8307-768108ad3fa8\",\"type\":\"BasicTicker\"}},\"id\":\"252d1a5d-2869-4913-a112-f8a0f6687e2a\",\"type\":\"LinearAxis\"},{\"attributes\":{},\"id\":\"4ae79b49-fde8-4598-8307-768108ad3fa8\",\"type\":\"BasicTicker\"},{\"attributes\":{\"dimension\":1,\"plot\":{\"id\":\"e4d49d98-ade4-445f-81c0-105e4140bcfc\",\"subtype\":\"Figure\",\"type\":\"Plot\"},\"ticker\":{\"id\":\"4ae79b49-fde8-4598-8307-768108ad3fa8\",\"type\":\"BasicTicker\"}},\"id\":\"f8a43b83-ed28-4663-a40b-3f0c9868602c\",\"type\":\"Grid\"},{\"attributes\":{\"fill_alpha\":{\"value\":0.1},\"fill_color\":{\"value\":\"#1f77b4\"},\"line_alpha\":{\"value\":0.1},\"line_color\":{\"value\":\"#1f77b4\"},\"x\":{\"field\":\"x\"},\"y\":{\"field\":\"y\"}},\"id\":\"501d4e6c-b626-473b-9870-3bb09643e084\",\"type\":\"Square\"},{\"attributes\":{\"callback\":null,\"data\":{\"x\":[0,0,1,1,2,2,3,3,4,4,5,5,6,6,7,7,8,8,9,9,10,10,11,11,12,12,13,13,14,14,15,15,16,16,17,17,18,18,19,19,20,20,21,21,22,22,23,23,24,24,25,25,26,26,27,27,28,28,29,29,30,30,31,31,32,32,33,33,34,34,35,35,36,36,37,37,38,38,39,39,40,40,41,41,42,42,43,43,44,44,45,45,46,46,47,47,48,48,49,49],\"y\":[-2.0,0.0,0.0,2.0,1.2000000000000002,3.2,1.92,3.92,2.3520000000000003,4.352,2.6112,4.6112,2.7667200000000003,4.76672,2.8600320000000004,4.860032,2.9160192,4.9160192,2.9496115200000004,4.94961152,2.969766912,4.969766912,2.9818601472,4.9818601472,2.9891160883200003,4.98911608832,2.993469652992,4.993469652992,2.9960817917952003,4.9960817917952,2.9976490750771196,4.99764907507712,2.998589445046272,4.998589445046272,2.9991536670277634,4.999153667027763,2.9994922002166575,4.9994922002166575,2.9996953201299945,4.9996953201299945,2.9998171920779972,4.999817192077997,2.999890315246798,4.999890315246798,2.999934189148079,4.999934189148079,2.9999605134888476,4.999960513488848,2.9999763080933084,4.999976308093308,2.999985784855985,4.999985784855985,2.9999914709135913,4.999991470913591,2.9999948825481546,4.999994882548155,2.9999969295288924,4.999996929528892,2.999998157717336,4.999998157717336,2.9999988946304015,4.9999988946304015,2.9999993367782407,4.999999336778241,2.9999996020669446,4.999999602066945,2.9999997612401668,4.999999761240167,2.9999998567441004,4.9999998567441,2.9999999140464597,4.99999991404646,2.9999999484278757,4.999999948427876,2.9999999690567254,4.999999969056725,2.9999999814340352,4.999999981434035,2.999999988860421,4.999999988860421,2.999999993316253,4.999999993316253,2.999999995989752,4.999999995989752,2.999999997593851,4.999999997593851,2.9999999985563104,4.99999999855631,2.9999999991337862,4.999999999133786,2.9999999994802717,4.999999999480272,2.999999999688163,4.999999999688163,2.999999999812898,4.999999999812898,2.9999999998877387,4.999999999887739,2.999999999932643,4.999999999932643]},\"selected\":{\"id\":\"36a1329f-63fa-4a5a-ae7b-f96052c50771\",\"type\":\"Selection\"},\"selection_policy\":{\"id\":\"382c1ee1-438a-4054-8fd6-aae5c817d763\",\"type\":\"UnionRenderers\"}},\"id\":\"63f54197-a7dd-439e-bd76-702be6874689\",\"type\":\"ColumnDataSource\"}],\"root_ids\":[\"e4d49d98-ade4-445f-81c0-105e4140bcfc\"]},\"title\":\"Bokeh Application\",\"version\":\"0.13.0\"}};\n",
       "  var render_items = [{\"docid\":\"757e4e0c-7c84-4486-8552-aaf565a3f311\",\"notebook_comms_target\":\"b693657d-c829-402a-9a6e-9e64e452c645\",\"roots\":{\"e4d49d98-ade4-445f-81c0-105e4140bcfc\":\"4a0185d0-6bd0-450e-bbcc-54c8c9ff566b\"}}];\n",
       "  root.Bokeh.embed.embed_items_notebook(docs_json, render_items);\n",
       "\n",
       "  }\n",
       "  if (root.Bokeh !== undefined) {\n",
       "    embed_document(root);\n",
       "  } else {\n",
       "    var attempts = 0;\n",
       "    var timer = setInterval(function(root) {\n",
       "      if (root.Bokeh !== undefined) {\n",
       "        embed_document(root);\n",
       "        clearInterval(timer);\n",
       "      }\n",
       "      attempts++;\n",
       "      if (attempts > 100) {\n",
       "        console.log(\"Bokeh: ERROR: Unable to run BokehJS code because BokehJS library is missing\")\n",
       "        clearInterval(timer);\n",
       "      }\n",
       "    }, 10, root)\n",
       "  }\n",
       "})(window);"
      ],
      "application/vnd.bokehjs_exec.v0+json": ""
     },
     "metadata": {
      "application/vnd.bokehjs_exec.v0+json": {
       "id": "e4d49d98-ade4-445f-81c0-105e4140bcfc"
      }
     },
     "output_type": "display_data"
    },
    {
     "data": {
      "application/vnd.jupyter.widget-view+json": {
       "model_id": "12cf91b067b048418cc0df90c0f084c0",
       "version_major": 2,
       "version_minor": 0
      },
      "text/plain": [
       "interactive(children=(FloatSlider(value=0.6, description='a', max=0.8, min=0.1, style=SliderStyle(description_…"
      ]
     },
     "metadata": {},
     "output_type": "display_data"
    }
   ],
   "source": [
    "n_max = 50                      # numero massimo di iterazioni che calcolo\n",
    "n_plt =10                       # numero massimo di iterazioni visibili\n",
    "a = 0.6                         # fattore di decrescita\n",
    "r = a-1                         # tasso di decrescita\n",
    "b = 2                           # pesca/raccolto \n",
    "d0 = 0                          # concentrazione iniziale\n",
    "x = arange(n_max)               # array di tempi\n",
    "y = (d0+b/r) * (1+r)**x - b/r   # array di concentrazioni\n",
    "\n",
    "plot3 = figure(title=f\"Concentrazione massima e minima, fattore di decrescita a, dose b\", \n",
    "               x_axis_label = \"Tempo, in 12h\",\n",
    "               y_axis_label = \"Concentrazione farmaco\",\n",
    "               x_range=( 0.0,   n_plt  ),       # range da visualizzare inizialmente\n",
    "               y_range=( 0.0, y[n_plt-1]+b ),   # range da visualizzare inizialmente \n",
    "               **options,\n",
    "              )\n",
    "q3 = plot3.square(sum( zip(x, x  ), () ), sum( zip(y-b, y), () ),   color='#991111')\n",
    "q3 = plot3.line(sum( zip(x, x  ), () ), sum( zip(y-b, y), () ),   color='#991111')\n",
    "def update2( a=a, b=b): \n",
    "    r = a -1\n",
    "    y = (d0+b/r) * (1+r)**x - b/r\n",
    "    y1 = [max(0,y[i]-b) for i in range(len(y))]\n",
    "    q3.data_source.data['x'] = sum( zip(x, x  ), () )\n",
    "    q3.data_source.data['y'] = sum( zip(y1, y), () )\n",
    "    push_notebook()\n",
    "\n",
    "show(plot3, notebook_handle=True)\n",
    "style = {'description_width': 'initial'}\n",
    "interact(update2,  \n",
    "         a  = FloatSlider(description=\"a\", min=.1, max=.8, step=.1, value=a, style=style),\n",
    "         b  = FloatSlider(description=\"b\", min= 0, max=4, step=1, value=b, style=style),\n",
    "         );"
   ]
  },
  {
   "cell_type": "code",
   "execution_count": null,
   "metadata": {},
   "outputs": [],
   "source": []
  }
 ],
 "metadata": {
  "kernelspec": {
   "display_name": "Python 3",
   "language": "python",
   "name": "python3"
  },
  "language_info": {
   "codemirror_mode": {
    "name": "ipython",
    "version": 3
   },
   "file_extension": ".py",
   "mimetype": "text/x-python",
   "name": "python",
   "nbconvert_exporter": "python",
   "pygments_lexer": "ipython3",
   "version": "3.6.6"
  }
 },
 "nbformat": 4,
 "nbformat_minor": 2
}
