{
 "cells": [
  {
   "cell_type": "code",
   "execution_count": 1,
   "metadata": {},
   "outputs": [
    {
     "data": {
      "text/html": [
       "\n",
       "    <div class=\"bk-root\">\n",
       "        <a href=\"https://bokeh.pydata.org\" target=\"_blank\" class=\"bk-logo bk-logo-small bk-logo-notebook\"></a>\n",
       "        <span id=\"59581a9b-8181-4518-a879-05892bc81ea0\">Loading BokehJS ...</span>\n",
       "    </div>"
      ]
     },
     "metadata": {},
     "output_type": "display_data"
    },
    {
     "data": {
      "application/javascript": [
       "\n",
       "(function(root) {\n",
       "  function now() {\n",
       "    return new Date();\n",
       "  }\n",
       "\n",
       "  var force = true;\n",
       "\n",
       "  if (typeof (root._bokeh_onload_callbacks) === \"undefined\" || force === true) {\n",
       "    root._bokeh_onload_callbacks = [];\n",
       "    root._bokeh_is_loading = undefined;\n",
       "  }\n",
       "\n",
       "  var JS_MIME_TYPE = 'application/javascript';\n",
       "  var HTML_MIME_TYPE = 'text/html';\n",
       "  var EXEC_MIME_TYPE = 'application/vnd.bokehjs_exec.v0+json';\n",
       "  var CLASS_NAME = 'output_bokeh rendered_html';\n",
       "\n",
       "  /**\n",
       "   * Render data to the DOM node\n",
       "   */\n",
       "  function render(props, node) {\n",
       "    var script = document.createElement(\"script\");\n",
       "    node.appendChild(script);\n",
       "  }\n",
       "\n",
       "  /**\n",
       "   * Handle when an output is cleared or removed\n",
       "   */\n",
       "  function handleClearOutput(event, handle) {\n",
       "    var cell = handle.cell;\n",
       "\n",
       "    var id = cell.output_area._bokeh_element_id;\n",
       "    var server_id = cell.output_area._bokeh_server_id;\n",
       "    // Clean up Bokeh references\n",
       "    if (id != null && id in Bokeh.index) {\n",
       "      Bokeh.index[id].model.document.clear();\n",
       "      delete Bokeh.index[id];\n",
       "    }\n",
       "\n",
       "    if (server_id !== undefined) {\n",
       "      // Clean up Bokeh references\n",
       "      var cmd = \"from bokeh.io.state import curstate; print(curstate().uuid_to_server['\" + server_id + \"'].get_sessions()[0].document.roots[0]._id)\";\n",
       "      cell.notebook.kernel.execute(cmd, {\n",
       "        iopub: {\n",
       "          output: function(msg) {\n",
       "            var id = msg.content.text.trim();\n",
       "            if (id in Bokeh.index) {\n",
       "              Bokeh.index[id].model.document.clear();\n",
       "              delete Bokeh.index[id];\n",
       "            }\n",
       "          }\n",
       "        }\n",
       "      });\n",
       "      // Destroy server and session\n",
       "      var cmd = \"import bokeh.io.notebook as ion; ion.destroy_server('\" + server_id + \"')\";\n",
       "      cell.notebook.kernel.execute(cmd);\n",
       "    }\n",
       "  }\n",
       "\n",
       "  /**\n",
       "   * Handle when a new output is added\n",
       "   */\n",
       "  function handleAddOutput(event, handle) {\n",
       "    var output_area = handle.output_area;\n",
       "    var output = handle.output;\n",
       "\n",
       "    // limit handleAddOutput to display_data with EXEC_MIME_TYPE content only\n",
       "    if ((output.output_type != \"display_data\") || (!output.data.hasOwnProperty(EXEC_MIME_TYPE))) {\n",
       "      return\n",
       "    }\n",
       "\n",
       "    var toinsert = output_area.element.find(\".\" + CLASS_NAME.split(' ')[0]);\n",
       "\n",
       "    if (output.metadata[EXEC_MIME_TYPE][\"id\"] !== undefined) {\n",
       "      toinsert[toinsert.length - 1].firstChild.textContent = output.data[JS_MIME_TYPE];\n",
       "      // store reference to embed id on output_area\n",
       "      output_area._bokeh_element_id = output.metadata[EXEC_MIME_TYPE][\"id\"];\n",
       "    }\n",
       "    if (output.metadata[EXEC_MIME_TYPE][\"server_id\"] !== undefined) {\n",
       "      var bk_div = document.createElement(\"div\");\n",
       "      bk_div.innerHTML = output.data[HTML_MIME_TYPE];\n",
       "      var script_attrs = bk_div.children[0].attributes;\n",
       "      for (var i = 0; i < script_attrs.length; i++) {\n",
       "        toinsert[toinsert.length - 1].firstChild.setAttribute(script_attrs[i].name, script_attrs[i].value);\n",
       "      }\n",
       "      // store reference to server id on output_area\n",
       "      output_area._bokeh_server_id = output.metadata[EXEC_MIME_TYPE][\"server_id\"];\n",
       "    }\n",
       "  }\n",
       "\n",
       "  function register_renderer(events, OutputArea) {\n",
       "\n",
       "    function append_mime(data, metadata, element) {\n",
       "      // create a DOM node to render to\n",
       "      var toinsert = this.create_output_subarea(\n",
       "        metadata,\n",
       "        CLASS_NAME,\n",
       "        EXEC_MIME_TYPE\n",
       "      );\n",
       "      this.keyboard_manager.register_events(toinsert);\n",
       "      // Render to node\n",
       "      var props = {data: data, metadata: metadata[EXEC_MIME_TYPE]};\n",
       "      render(props, toinsert[toinsert.length - 1]);\n",
       "      element.append(toinsert);\n",
       "      return toinsert\n",
       "    }\n",
       "\n",
       "    /* Handle when an output is cleared or removed */\n",
       "    events.on('clear_output.CodeCell', handleClearOutput);\n",
       "    events.on('delete.Cell', handleClearOutput);\n",
       "\n",
       "    /* Handle when a new output is added */\n",
       "    events.on('output_added.OutputArea', handleAddOutput);\n",
       "\n",
       "    /**\n",
       "     * Register the mime type and append_mime function with output_area\n",
       "     */\n",
       "    OutputArea.prototype.register_mime_type(EXEC_MIME_TYPE, append_mime, {\n",
       "      /* Is output safe? */\n",
       "      safe: true,\n",
       "      /* Index of renderer in `output_area.display_order` */\n",
       "      index: 0\n",
       "    });\n",
       "  }\n",
       "\n",
       "  // register the mime type if in Jupyter Notebook environment and previously unregistered\n",
       "  if (root.Jupyter !== undefined) {\n",
       "    var events = require('base/js/events');\n",
       "    var OutputArea = require('notebook/js/outputarea').OutputArea;\n",
       "\n",
       "    if (OutputArea.prototype.mime_types().indexOf(EXEC_MIME_TYPE) == -1) {\n",
       "      register_renderer(events, OutputArea);\n",
       "    }\n",
       "  }\n",
       "\n",
       "  \n",
       "  if (typeof (root._bokeh_timeout) === \"undefined\" || force === true) {\n",
       "    root._bokeh_timeout = Date.now() + 5000;\n",
       "    root._bokeh_failed_load = false;\n",
       "  }\n",
       "\n",
       "  var NB_LOAD_WARNING = {'data': {'text/html':\n",
       "     \"<div style='background-color: #fdd'>\\n\"+\n",
       "     \"<p>\\n\"+\n",
       "     \"BokehJS does not appear to have successfully loaded. If loading BokehJS from CDN, this \\n\"+\n",
       "     \"may be due to a slow or bad network connection. Possible fixes:\\n\"+\n",
       "     \"</p>\\n\"+\n",
       "     \"<ul>\\n\"+\n",
       "     \"<li>re-rerun `output_notebook()` to attempt to load from CDN again, or</li>\\n\"+\n",
       "     \"<li>use INLINE resources instead, as so:</li>\\n\"+\n",
       "     \"</ul>\\n\"+\n",
       "     \"<code>\\n\"+\n",
       "     \"from bokeh.resources import INLINE\\n\"+\n",
       "     \"output_notebook(resources=INLINE)\\n\"+\n",
       "     \"</code>\\n\"+\n",
       "     \"</div>\"}};\n",
       "\n",
       "  function display_loaded() {\n",
       "    var el = document.getElementById(\"59581a9b-8181-4518-a879-05892bc81ea0\");\n",
       "    if (el != null) {\n",
       "      el.textContent = \"BokehJS is loading...\";\n",
       "    }\n",
       "    if (root.Bokeh !== undefined) {\n",
       "      if (el != null) {\n",
       "        el.textContent = \"BokehJS \" + root.Bokeh.version + \" successfully loaded.\";\n",
       "      }\n",
       "    } else if (Date.now() < root._bokeh_timeout) {\n",
       "      setTimeout(display_loaded, 100)\n",
       "    }\n",
       "  }\n",
       "\n",
       "\n",
       "  function run_callbacks() {\n",
       "    try {\n",
       "      root._bokeh_onload_callbacks.forEach(function(callback) { callback() });\n",
       "    }\n",
       "    finally {\n",
       "      delete root._bokeh_onload_callbacks\n",
       "    }\n",
       "    console.info(\"Bokeh: all callbacks have finished\");\n",
       "  }\n",
       "\n",
       "  function load_libs(js_urls, callback) {\n",
       "    root._bokeh_onload_callbacks.push(callback);\n",
       "    if (root._bokeh_is_loading > 0) {\n",
       "      console.log(\"Bokeh: BokehJS is being loaded, scheduling callback at\", now());\n",
       "      return null;\n",
       "    }\n",
       "    if (js_urls == null || js_urls.length === 0) {\n",
       "      run_callbacks();\n",
       "      return null;\n",
       "    }\n",
       "    console.log(\"Bokeh: BokehJS not loaded, scheduling load and callback at\", now());\n",
       "    root._bokeh_is_loading = js_urls.length;\n",
       "    for (var i = 0; i < js_urls.length; i++) {\n",
       "      var url = js_urls[i];\n",
       "      var s = document.createElement('script');\n",
       "      s.src = url;\n",
       "      s.async = false;\n",
       "      s.onreadystatechange = s.onload = function() {\n",
       "        root._bokeh_is_loading--;\n",
       "        if (root._bokeh_is_loading === 0) {\n",
       "          console.log(\"Bokeh: all BokehJS libraries loaded\");\n",
       "          run_callbacks()\n",
       "        }\n",
       "      };\n",
       "      s.onerror = function() {\n",
       "        console.warn(\"failed to load library \" + url);\n",
       "      };\n",
       "      console.log(\"Bokeh: injecting script tag for BokehJS library: \", url);\n",
       "      document.getElementsByTagName(\"head\")[0].appendChild(s);\n",
       "    }\n",
       "  };var element = document.getElementById(\"59581a9b-8181-4518-a879-05892bc81ea0\");\n",
       "  if (element == null) {\n",
       "    console.log(\"Bokeh: ERROR: autoload.js configured with elementid '59581a9b-8181-4518-a879-05892bc81ea0' but no matching script tag was found. \")\n",
       "    return false;\n",
       "  }\n",
       "\n",
       "  var js_urls = [\"https://cdn.pydata.org/bokeh/release/bokeh-0.13.0.min.js\", \"https://cdn.pydata.org/bokeh/release/bokeh-widgets-0.13.0.min.js\", \"https://cdn.pydata.org/bokeh/release/bokeh-tables-0.13.0.min.js\", \"https://cdn.pydata.org/bokeh/release/bokeh-gl-0.13.0.min.js\"];\n",
       "\n",
       "  var inline_js = [\n",
       "    function(Bokeh) {\n",
       "      Bokeh.set_log_level(\"info\");\n",
       "    },\n",
       "    \n",
       "    function(Bokeh) {\n",
       "      \n",
       "    },\n",
       "    function(Bokeh) {\n",
       "      console.log(\"Bokeh: injecting CSS: https://cdn.pydata.org/bokeh/release/bokeh-0.13.0.min.css\");\n",
       "      Bokeh.embed.inject_css(\"https://cdn.pydata.org/bokeh/release/bokeh-0.13.0.min.css\");\n",
       "      console.log(\"Bokeh: injecting CSS: https://cdn.pydata.org/bokeh/release/bokeh-widgets-0.13.0.min.css\");\n",
       "      Bokeh.embed.inject_css(\"https://cdn.pydata.org/bokeh/release/bokeh-widgets-0.13.0.min.css\");\n",
       "      console.log(\"Bokeh: injecting CSS: https://cdn.pydata.org/bokeh/release/bokeh-tables-0.13.0.min.css\");\n",
       "      Bokeh.embed.inject_css(\"https://cdn.pydata.org/bokeh/release/bokeh-tables-0.13.0.min.css\");\n",
       "    }\n",
       "  ];\n",
       "\n",
       "  function run_inline_js() {\n",
       "    \n",
       "    if ((root.Bokeh !== undefined) || (force === true)) {\n",
       "      for (var i = 0; i < inline_js.length; i++) {\n",
       "        inline_js[i].call(root, root.Bokeh);\n",
       "      }if (force === true) {\n",
       "        display_loaded();\n",
       "      }} else if (Date.now() < root._bokeh_timeout) {\n",
       "      setTimeout(run_inline_js, 100);\n",
       "    } else if (!root._bokeh_failed_load) {\n",
       "      console.log(\"Bokeh: BokehJS failed to load within specified timeout.\");\n",
       "      root._bokeh_failed_load = true;\n",
       "    } else if (force !== true) {\n",
       "      var cell = $(document.getElementById(\"59581a9b-8181-4518-a879-05892bc81ea0\")).parents('.cell').data().cell;\n",
       "      cell.output_area.append_execute_result(NB_LOAD_WARNING)\n",
       "    }\n",
       "\n",
       "  }\n",
       "\n",
       "  if (root._bokeh_is_loading === 0) {\n",
       "    console.log(\"Bokeh: BokehJS loaded, going straight to plotting\");\n",
       "    run_inline_js();\n",
       "  } else {\n",
       "    load_libs(js_urls, function() {\n",
       "      console.log(\"Bokeh: BokehJS plotting callback run at\", now());\n",
       "      run_inline_js();\n",
       "    });\n",
       "  }\n",
       "}(window));"
      ],
      "application/vnd.bokehjs_load.v0+json": "\n(function(root) {\n  function now() {\n    return new Date();\n  }\n\n  var force = true;\n\n  if (typeof (root._bokeh_onload_callbacks) === \"undefined\" || force === true) {\n    root._bokeh_onload_callbacks = [];\n    root._bokeh_is_loading = undefined;\n  }\n\n  \n\n  \n  if (typeof (root._bokeh_timeout) === \"undefined\" || force === true) {\n    root._bokeh_timeout = Date.now() + 5000;\n    root._bokeh_failed_load = false;\n  }\n\n  var NB_LOAD_WARNING = {'data': {'text/html':\n     \"<div style='background-color: #fdd'>\\n\"+\n     \"<p>\\n\"+\n     \"BokehJS does not appear to have successfully loaded. If loading BokehJS from CDN, this \\n\"+\n     \"may be due to a slow or bad network connection. Possible fixes:\\n\"+\n     \"</p>\\n\"+\n     \"<ul>\\n\"+\n     \"<li>re-rerun `output_notebook()` to attempt to load from CDN again, or</li>\\n\"+\n     \"<li>use INLINE resources instead, as so:</li>\\n\"+\n     \"</ul>\\n\"+\n     \"<code>\\n\"+\n     \"from bokeh.resources import INLINE\\n\"+\n     \"output_notebook(resources=INLINE)\\n\"+\n     \"</code>\\n\"+\n     \"</div>\"}};\n\n  function display_loaded() {\n    var el = document.getElementById(\"59581a9b-8181-4518-a879-05892bc81ea0\");\n    if (el != null) {\n      el.textContent = \"BokehJS is loading...\";\n    }\n    if (root.Bokeh !== undefined) {\n      if (el != null) {\n        el.textContent = \"BokehJS \" + root.Bokeh.version + \" successfully loaded.\";\n      }\n    } else if (Date.now() < root._bokeh_timeout) {\n      setTimeout(display_loaded, 100)\n    }\n  }\n\n\n  function run_callbacks() {\n    try {\n      root._bokeh_onload_callbacks.forEach(function(callback) { callback() });\n    }\n    finally {\n      delete root._bokeh_onload_callbacks\n    }\n    console.info(\"Bokeh: all callbacks have finished\");\n  }\n\n  function load_libs(js_urls, callback) {\n    root._bokeh_onload_callbacks.push(callback);\n    if (root._bokeh_is_loading > 0) {\n      console.log(\"Bokeh: BokehJS is being loaded, scheduling callback at\", now());\n      return null;\n    }\n    if (js_urls == null || js_urls.length === 0) {\n      run_callbacks();\n      return null;\n    }\n    console.log(\"Bokeh: BokehJS not loaded, scheduling load and callback at\", now());\n    root._bokeh_is_loading = js_urls.length;\n    for (var i = 0; i < js_urls.length; i++) {\n      var url = js_urls[i];\n      var s = document.createElement('script');\n      s.src = url;\n      s.async = false;\n      s.onreadystatechange = s.onload = function() {\n        root._bokeh_is_loading--;\n        if (root._bokeh_is_loading === 0) {\n          console.log(\"Bokeh: all BokehJS libraries loaded\");\n          run_callbacks()\n        }\n      };\n      s.onerror = function() {\n        console.warn(\"failed to load library \" + url);\n      };\n      console.log(\"Bokeh: injecting script tag for BokehJS library: \", url);\n      document.getElementsByTagName(\"head\")[0].appendChild(s);\n    }\n  };var element = document.getElementById(\"59581a9b-8181-4518-a879-05892bc81ea0\");\n  if (element == null) {\n    console.log(\"Bokeh: ERROR: autoload.js configured with elementid '59581a9b-8181-4518-a879-05892bc81ea0' but no matching script tag was found. \")\n    return false;\n  }\n\n  var js_urls = [\"https://cdn.pydata.org/bokeh/release/bokeh-0.13.0.min.js\", \"https://cdn.pydata.org/bokeh/release/bokeh-widgets-0.13.0.min.js\", \"https://cdn.pydata.org/bokeh/release/bokeh-tables-0.13.0.min.js\", \"https://cdn.pydata.org/bokeh/release/bokeh-gl-0.13.0.min.js\"];\n\n  var inline_js = [\n    function(Bokeh) {\n      Bokeh.set_log_level(\"info\");\n    },\n    \n    function(Bokeh) {\n      \n    },\n    function(Bokeh) {\n      console.log(\"Bokeh: injecting CSS: https://cdn.pydata.org/bokeh/release/bokeh-0.13.0.min.css\");\n      Bokeh.embed.inject_css(\"https://cdn.pydata.org/bokeh/release/bokeh-0.13.0.min.css\");\n      console.log(\"Bokeh: injecting CSS: https://cdn.pydata.org/bokeh/release/bokeh-widgets-0.13.0.min.css\");\n      Bokeh.embed.inject_css(\"https://cdn.pydata.org/bokeh/release/bokeh-widgets-0.13.0.min.css\");\n      console.log(\"Bokeh: injecting CSS: https://cdn.pydata.org/bokeh/release/bokeh-tables-0.13.0.min.css\");\n      Bokeh.embed.inject_css(\"https://cdn.pydata.org/bokeh/release/bokeh-tables-0.13.0.min.css\");\n    }\n  ];\n\n  function run_inline_js() {\n    \n    if ((root.Bokeh !== undefined) || (force === true)) {\n      for (var i = 0; i < inline_js.length; i++) {\n        inline_js[i].call(root, root.Bokeh);\n      }if (force === true) {\n        display_loaded();\n      }} else if (Date.now() < root._bokeh_timeout) {\n      setTimeout(run_inline_js, 100);\n    } else if (!root._bokeh_failed_load) {\n      console.log(\"Bokeh: BokehJS failed to load within specified timeout.\");\n      root._bokeh_failed_load = true;\n    } else if (force !== true) {\n      var cell = $(document.getElementById(\"59581a9b-8181-4518-a879-05892bc81ea0\")).parents('.cell').data().cell;\n      cell.output_area.append_execute_result(NB_LOAD_WARNING)\n    }\n\n  }\n\n  if (root._bokeh_is_loading === 0) {\n    console.log(\"Bokeh: BokehJS loaded, going straight to plotting\");\n    run_inline_js();\n  } else {\n    load_libs(js_urls, function() {\n      console.log(\"Bokeh: BokehJS plotting callback run at\", now());\n      run_inline_js();\n    });\n  }\n}(window));"
     },
     "metadata": {},
     "output_type": "display_data"
    },
    {
     "data": {
      "text/html": [
       "<style>\n",
       ".text_cell_render {\n",
       "    font-family: \"Times New Roman\", Times, serif;    \n",
       "    background-color: #eee; \n",
       "    border-left: 5px solid #00b5b4;\n",
       "    font-size: 14pt;\n",
       "    line-height: 160%;\n",
       "}\n",
       "\n",
       "h1 {\n",
       "    font-size: larger !important;\n",
       "    margin-top: 0ex !important;\n",
       "}\n",
       "\n",
       "h2 {\n",
       "    font-size: 14pt !important;\n",
       "    margin-top: 0ex !important;\n",
       "    margin-bottom: 0ex !important;\n",
       "    padding-bottom: 0ex !important;\n",
       "}\n",
       "\n",
       "h3 {\n",
       "    font-size: 14pt !important;\n",
       "    margin-top: 0ex !important;\n",
       "    margin-bottom: 0ex !important;\n",
       "    padding-bottom: 0ex !important;\n",
       "}\n",
       "\n",
       "mark {\n",
       "    background-color: #ffdd00;\n",
       "    border-top-right-radius: 5px;\n",
       "    border-top-left-radius: 5px;\n",
       "    border-bottom-right-radius: 5px;\n",
       "    border-bottom-left-radius: 5px;\n",
       "    padding-top: 0.1ex;\n",
       "    padding-bottom: 0.2ex;\n",
       "    padding-left: 0.7ex;\n",
       "    padding-right: 0.7ex;\n",
       "}\n",
       "\n",
       ".ita {\n",
       "    background-color: #bbddee;\n",
       "}\n",
       "\n",
       ".errore {background-color:#d88;\n",
       "        width:310px;\n",
       "        height:17ex;\n",
       "        display:inline-block;\n",
       "        margin:5px;\n",
       "        padding:8px;\n",
       "}\n",
       "\n",
       ".corretto {background-color:#2d8;\n",
       "        width:310px;\n",
       "        height:17ex;\n",
       "        display:inline-block;\n",
       "        margin:5px;\n",
       "        padding:8px;\n",
       "}\n",
       "\n",
       "n-a {background-color: #ffdddd;}\n",
       "\n",
       "ul, ol {\n",
       "     padding-left: 2ex !important;\n",
       "}\n",
       "ul {\n",
       "     margin-top: 0ex !important;\n",
       "     margin-bottom: 0ex !important;\n",
       "     list-style-type: square !important;\n",
       "}\n",
       "\n",
       "div.warn {    \n",
       "    background-color: #fcf2f2;\n",
       "    border-color: #dFb5b4;\n",
       "    border-left: 5px solid #dfb5b4;\n",
       "    margin-top: 1ex;\n",
       "    padding: 1ex;\n",
       "}\n",
       ".right{\n",
       "    float:right\n",
       "}\n",
       "\n",
       "hr { \n",
       "    display: block;\n",
       "    margin-top: 0.5ex;\n",
       "    margin-bottom: 0.5ex;\n",
       "    margin-left: auto;\n",
       "    margin-right: auto;\n",
       "    border-style: inset;\n",
       "    border-width: 1px;\n",
       "}\n",
       "</style>\n"
      ],
      "text/plain": [
       "<IPython.core.display.HTML object>"
      ]
     },
     "execution_count": 1,
     "metadata": {},
     "output_type": "execute_result"
    }
   ],
   "source": [
    "# RUN THIS CELL:this loads functions for numerical arrays\n",
    "from numpy import array, arange, linspace\n",
    "\n",
    "# this loads functions for statistical functions\n",
    "from scipy.stats import binom, norm\n",
    "\n",
    "# this loads functions for graphic output and set some global options\n",
    "from bokeh.io import push_notebook, show, output_notebook, output_file\n",
    "from bokeh.plotting import figure\n",
    "output_notebook()\n",
    "options = dict(plot_height=300, plot_width=600, tools=\"pan,wheel_zoom,reset,save,crosshair\")\n",
    "\n",
    "# this loads functions for interactions with the graphic\n",
    "from ipywidgets import interact, fixed, FloatSlider, IntSlider, Button, Checkbox, HBox, Label\n",
    "\n",
    "# this loads some HTML style files\n",
    "from IPython.core.display import HTML\n",
    "with open( './style/custom.css', 'r' ) as f: html_style = f.read()\n",
    "HTML( html_style )"
   ]
  },
  {
   "cell_type": "markdown",
   "metadata": {},
   "source": [
    "# Crescita malthusiana (in tempo discreto)\n",
    "\n",
    "Supponiamo che una certa popolazione di batteri in condizioni ottimali (bassa densità e abbondante nutrimento) cresca ogni quarto d'ora del $20\\%$. Chiamiamo $d_0$ la densità al tempo $0$ e $d_n$ la densità dopo $n$ quarti d'ora. \n",
    "\n",
    "Esempio numerico. Supponiamo che la concentrazione iniziale sia $4.5$ in una qualche unità di misura. Posto \n",
    "\n",
    "$d_0 = 4.5$\n",
    "\n",
    "$d_1 = (1+0.2) \\cdot d_0 = 1.2\\cdot  4.5 = 5.4$ \n",
    "\n",
    "$d_2 = (1+0.2) \\cdot d_1 = 1.2\\cdot  5.4 = 6.48$\n",
    "\n",
    "$d_3 = (1+0.2) \\cdot d_2 = $ \n",
    "\n",
    "ecc., ecc.\n",
    "\n",
    "$d_n = (1+0.2) \\cdot d_{n-1}\\quad$ per ogni $n>1$\n",
    "\n",
    "o anche \n",
    "\n",
    "$d_{n+1} = (1+0.2) \\cdot d_n\\quad$ per ogni $n>0$"
   ]
  },
  {
   "cell_type": "code",
   "execution_count": 2,
   "metadata": {
    "scrolled": true
   },
   "outputs": [
    {
     "data": {
      "text/html": [
       "\n",
       "\n",
       "\n",
       "\n",
       "\n",
       "\n",
       "  <div class=\"bk-root\" id=\"78f3cb4a-2fff-4db3-9ee3-186dddf7f93b\"></div>\n"
      ]
     },
     "metadata": {},
     "output_type": "display_data"
    },
    {
     "data": {
      "application/javascript": [
       "(function(root) {\n",
       "  function embed_document(root) {\n",
       "    \n",
       "  var docs_json = {\"105fe27b-7af0-410c-be18-c49cb7e6babc\":{\"roots\":{\"references\":[{\"attributes\":{},\"id\":\"cdbd2de5-f2b0-4b92-8a0b-7906d7cdb6a7\",\"type\":\"PanTool\"},{\"attributes\":{\"source\":{\"id\":\"8d4eb3be-8414-4b99-9ea9-9765dbd2c14f\",\"type\":\"ColumnDataSource\"}},\"id\":\"9325a887-04bd-4878-bc33-bfebf13d9e2b\",\"type\":\"CDSView\"},{\"attributes\":{},\"id\":\"dd8c45bb-48bd-45a8-8366-2fa5e023df17\",\"type\":\"WheelZoomTool\"},{\"attributes\":{},\"id\":\"dedb9ffb-3981-45be-911f-03c98c4b29e7\",\"type\":\"BasicTickFormatter\"},{\"attributes\":{},\"id\":\"1fa2e723-74ee-4d0c-82d1-a0d13c122063\",\"type\":\"ResetTool\"},{\"attributes\":{},\"id\":\"a43c8b3f-c199-4794-b32b-bd8db31d531b\",\"type\":\"SaveTool\"},{\"attributes\":{\"fill_alpha\":{\"value\":0.1},\"fill_color\":{\"value\":\"#1f77b4\"},\"line_alpha\":{\"value\":0.1},\"line_color\":{\"value\":\"#1f77b4\"},\"x\":{\"field\":\"x\"},\"y\":{\"field\":\"y\"}},\"id\":\"2c608c6e-b639-423f-8afe-7066d8f187b8\",\"type\":\"Square\"},{\"attributes\":{},\"id\":\"646dc2c0-1598-4004-a485-6f074d122fac\",\"type\":\"CrosshairTool\"},{\"attributes\":{\"data_source\":{\"id\":\"8d4eb3be-8414-4b99-9ea9-9765dbd2c14f\",\"type\":\"ColumnDataSource\"},\"glyph\":{\"id\":\"f5f73c4f-c15f-438f-a949-1f04004da901\",\"type\":\"Square\"},\"hover_glyph\":null,\"muted_glyph\":null,\"nonselection_glyph\":{\"id\":\"2c608c6e-b639-423f-8afe-7066d8f187b8\",\"type\":\"Square\"},\"selection_glyph\":null,\"view\":{\"id\":\"9325a887-04bd-4878-bc33-bfebf13d9e2b\",\"type\":\"CDSView\"}},\"id\":\"2eed86ef-9a19-4833-854d-006a59aac9dd\",\"type\":\"GlyphRenderer\"},{\"attributes\":{},\"id\":\"f94632fb-6c2f-4b48-806c-06eb6dd8874c\",\"type\":\"BasicTickFormatter\"},{\"attributes\":{\"line_alpha\":0.1,\"line_color\":\"#1f77b4\",\"x\":{\"field\":\"x\"},\"y\":{\"field\":\"y\"}},\"id\":\"a5daffac-7c91-4f30-a3df-6b21360413b5\",\"type\":\"Line\"},{\"attributes\":{\"fill_color\":{\"value\":\"#119911\"},\"line_color\":{\"value\":\"#119911\"},\"x\":{\"field\":\"x\"},\"y\":{\"field\":\"y\"}},\"id\":\"f5f73c4f-c15f-438f-a949-1f04004da901\",\"type\":\"Square\"},{\"attributes\":{\"data_source\":{\"id\":\"24cb306e-1b10-4374-a514-23db6c4841c9\",\"type\":\"ColumnDataSource\"},\"glyph\":{\"id\":\"4e67a61f-89b5-4f8c-b0fe-28250dcb3044\",\"type\":\"Line\"},\"hover_glyph\":null,\"muted_glyph\":null,\"nonselection_glyph\":{\"id\":\"a5daffac-7c91-4f30-a3df-6b21360413b5\",\"type\":\"Line\"},\"selection_glyph\":null,\"view\":{\"id\":\"366a9aa3-bf7e-459a-93cb-4e841533341d\",\"type\":\"CDSView\"}},\"id\":\"65a61837-1448-4a97-81b8-5ab695142c31\",\"type\":\"GlyphRenderer\"},{\"attributes\":{\"source\":{\"id\":\"24cb306e-1b10-4374-a514-23db6c4841c9\",\"type\":\"ColumnDataSource\"}},\"id\":\"366a9aa3-bf7e-459a-93cb-4e841533341d\",\"type\":\"CDSView\"},{\"attributes\":{},\"id\":\"0afd0edc-4967-4620-ab81-a17f9627a26a\",\"type\":\"Selection\"},{\"attributes\":{},\"id\":\"ee8148b1-6916-4a8b-a396-1d5442446e9e\",\"type\":\"UnionRenderers\"},{\"attributes\":{\"callback\":null,\"data\":{\"x\":[0,1,2,3,4,5,6,7,8,9,10,11,12,13,14,15,16,17,18,19,20,21,22,23,24,25,26,27,28,29,30,31,32,33,34,35,36,37,38,39,40,41,42,43,44,45,46,47,48,49],\"y\":{\"__ndarray__\":\"AAAAAAAAEkCZmZmZmZkVQOtRuB6F6xlAs8h2vp8aH0DS3uALk6kiQC7YDdsWZSZA0WndBrXfKkCxch4E0x8wQAfwip5jWTNAormmJBE4N0BbeC5f4dw7QAMVT2y6t0BAnn/4gawPREDwZV0CzxJIQB9Ho89e40xAE5H74jhVUUAWrvqpqsxUQIBqxpiZ9VhANOa6HYXzXUAfitYRg/hhQCUMm0idkGVAYNuGvbzgaUA/B9VJrw1vQFgEs5LPoXJAajg948VbdkBM3a8Qh9R6QC3rz9YdGYBAak3GAVdRg0AYkIdoaC6HQE8TCRdK0YtAyT7SDcawkEDy5JUQVAeUQO5FGkfLCJhAULpSVVrXnEDKb/7/Ak6hQFi5l5kDxKRAA3gchTfrqEAEkIhsD+etQM+8HkEJ8bFA+EiLtKSHtUBdJKfY+NW5QG/4LjfEAL9A3GFPVA+awkBudZLLeFLGQIQmFsFdycpAGxfac2sS0ECH6Di+TUnTQAgXEbHDJNdAPbVHobfF20Al0/eT1KngQA==\",\"dtype\":\"float64\",\"shape\":[50]}},\"selected\":{\"id\":\"0afd0edc-4967-4620-ab81-a17f9627a26a\",\"type\":\"Selection\"},\"selection_policy\":{\"id\":\"ee8148b1-6916-4a8b-a396-1d5442446e9e\",\"type\":\"UnionRenderers\"}},\"id\":\"8d4eb3be-8414-4b99-9ea9-9765dbd2c14f\",\"type\":\"ColumnDataSource\"},{\"attributes\":{},\"id\":\"f3f5a556-17d1-4bb5-9910-3aba5027329e\",\"type\":\"Selection\"},{\"attributes\":{},\"id\":\"34a174f6-1e5e-4f95-a93e-e4cf83f44680\",\"type\":\"UnionRenderers\"},{\"attributes\":{\"below\":[{\"id\":\"615c76c0-3bd7-4b41-80a4-be463b6540ef\",\"type\":\"LinearAxis\"}],\"left\":[{\"id\":\"34a791ab-3fd9-4d4b-ade7-26739ffa67d0\",\"type\":\"LinearAxis\"}],\"plot_height\":300,\"renderers\":[{\"id\":\"615c76c0-3bd7-4b41-80a4-be463b6540ef\",\"type\":\"LinearAxis\"},{\"id\":\"1c4dfde6-c93f-48d2-82cd-c4e5030cef95\",\"type\":\"Grid\"},{\"id\":\"34a791ab-3fd9-4d4b-ade7-26739ffa67d0\",\"type\":\"LinearAxis\"},{\"id\":\"1b037934-a5a0-4b25-a07b-c461f136e2d9\",\"type\":\"Grid\"},{\"id\":\"2eed86ef-9a19-4833-854d-006a59aac9dd\",\"type\":\"GlyphRenderer\"},{\"id\":\"65a61837-1448-4a97-81b8-5ab695142c31\",\"type\":\"GlyphRenderer\"}],\"title\":{\"id\":\"176e0870-9e69-4ad0-9253-7894c0734e5e\",\"type\":\"Title\"},\"toolbar\":{\"id\":\"7b59279c-2003-4a61-a556-02378dd27b1d\",\"type\":\"Toolbar\"},\"x_range\":{\"id\":\"18502cc8-b2a8-4152-8444-ee3caf70d484\",\"type\":\"Range1d\"},\"x_scale\":{\"id\":\"c97f43de-1485-4181-9c15-de7853b1d6c9\",\"type\":\"LinearScale\"},\"y_range\":{\"id\":\"cf11cb7d-a4a6-45d1-8721-fcb4fab95006\",\"type\":\"Range1d\"},\"y_scale\":{\"id\":\"c3aa4d2d-13e1-4490-9424-61c6c806fe5d\",\"type\":\"LinearScale\"}},\"id\":\"e14f7484-4f17-42dc-bac1-b47752506377\",\"subtype\":\"Figure\",\"type\":\"Plot\"},{\"attributes\":{\"plot\":null,\"text\":\"Crescita malthusiana. Tasso di crescita 0.2  Concentrazione iniziale 4.5\"},\"id\":\"176e0870-9e69-4ad0-9253-7894c0734e5e\",\"type\":\"Title\"},{\"attributes\":{\"callback\":null,\"end\":10,\"start\":-0.5},\"id\":\"18502cc8-b2a8-4152-8444-ee3caf70d484\",\"type\":\"Range1d\"},{\"attributes\":{\"active_drag\":\"auto\",\"active_inspect\":\"auto\",\"active_multi\":null,\"active_scroll\":\"auto\",\"active_tap\":\"auto\",\"tools\":[{\"id\":\"cdbd2de5-f2b0-4b92-8a0b-7906d7cdb6a7\",\"type\":\"PanTool\"},{\"id\":\"dd8c45bb-48bd-45a8-8366-2fa5e023df17\",\"type\":\"WheelZoomTool\"},{\"id\":\"1fa2e723-74ee-4d0c-82d1-a0d13c122063\",\"type\":\"ResetTool\"},{\"id\":\"a43c8b3f-c199-4794-b32b-bd8db31d531b\",\"type\":\"SaveTool\"},{\"id\":\"646dc2c0-1598-4004-a485-6f074d122fac\",\"type\":\"CrosshairTool\"}]},\"id\":\"7b59279c-2003-4a61-a556-02378dd27b1d\",\"type\":\"Toolbar\"},{\"attributes\":{},\"id\":\"c97f43de-1485-4181-9c15-de7853b1d6c9\",\"type\":\"LinearScale\"},{\"attributes\":{\"callback\":null,\"end\":27.86281390079999},\"id\":\"cf11cb7d-a4a6-45d1-8721-fcb4fab95006\",\"type\":\"Range1d\"},{\"attributes\":{},\"id\":\"c3aa4d2d-13e1-4490-9424-61c6c806fe5d\",\"type\":\"LinearScale\"},{\"attributes\":{\"axis_label\":\"Tempo, in quarti d'ora\",\"formatter\":{\"id\":\"f94632fb-6c2f-4b48-806c-06eb6dd8874c\",\"type\":\"BasicTickFormatter\"},\"plot\":{\"id\":\"e14f7484-4f17-42dc-bac1-b47752506377\",\"subtype\":\"Figure\",\"type\":\"Plot\"},\"ticker\":{\"id\":\"f744f630-5e6c-4c2e-b50b-18a502e64873\",\"type\":\"BasicTicker\"}},\"id\":\"615c76c0-3bd7-4b41-80a4-be463b6540ef\",\"type\":\"LinearAxis\"},{\"attributes\":{},\"id\":\"f744f630-5e6c-4c2e-b50b-18a502e64873\",\"type\":\"BasicTicker\"},{\"attributes\":{\"plot\":{\"id\":\"e14f7484-4f17-42dc-bac1-b47752506377\",\"subtype\":\"Figure\",\"type\":\"Plot\"},\"ticker\":{\"id\":\"f744f630-5e6c-4c2e-b50b-18a502e64873\",\"type\":\"BasicTicker\"}},\"id\":\"1c4dfde6-c93f-48d2-82cd-c4e5030cef95\",\"type\":\"Grid\"},{\"attributes\":{\"axis_label\":\"Concentrazione\",\"formatter\":{\"id\":\"dedb9ffb-3981-45be-911f-03c98c4b29e7\",\"type\":\"BasicTickFormatter\"},\"plot\":{\"id\":\"e14f7484-4f17-42dc-bac1-b47752506377\",\"subtype\":\"Figure\",\"type\":\"Plot\"},\"ticker\":{\"id\":\"0b91b7cd-ee8e-4ae5-96c0-af2998986c23\",\"type\":\"BasicTicker\"}},\"id\":\"34a791ab-3fd9-4d4b-ade7-26739ffa67d0\",\"type\":\"LinearAxis\"},{\"attributes\":{},\"id\":\"0b91b7cd-ee8e-4ae5-96c0-af2998986c23\",\"type\":\"BasicTicker\"},{\"attributes\":{\"dimension\":1,\"plot\":{\"id\":\"e14f7484-4f17-42dc-bac1-b47752506377\",\"subtype\":\"Figure\",\"type\":\"Plot\"},\"ticker\":{\"id\":\"0b91b7cd-ee8e-4ae5-96c0-af2998986c23\",\"type\":\"BasicTicker\"}},\"id\":\"1b037934-a5a0-4b25-a07b-c461f136e2d9\",\"type\":\"Grid\"},{\"attributes\":{\"line_color\":\"#1f77b4\",\"x\":{\"field\":\"x\"},\"y\":{\"field\":\"y\"}},\"id\":\"4e67a61f-89b5-4f8c-b0fe-28250dcb3044\",\"type\":\"Line\"},{\"attributes\":{\"callback\":null,\"data\":{\"x\":[0,1,2,3,4,5,6,7,8,9,10,11,12,13,14,15,16,17,18,19,20,21,22,23,24,25,26,27,28,29,30,31,32,33,34,35,36,37,38,39,40,41,42,43,44,45,46,47,48,49],\"y\":{\"__ndarray__\":\"AAAAAAAAEkCZmZmZmZkVQOtRuB6F6xlAs8h2vp8aH0DS3uALk6kiQC7YDdsWZSZA0WndBrXfKkCxch4E0x8wQAfwip5jWTNAormmJBE4N0BbeC5f4dw7QAMVT2y6t0BAnn/4gawPREDwZV0CzxJIQB9Ho89e40xAE5H74jhVUUAWrvqpqsxUQIBqxpiZ9VhANOa6HYXzXUAfitYRg/hhQCUMm0idkGVAYNuGvbzgaUA/B9VJrw1vQFgEs5LPoXJAajg948VbdkBM3a8Qh9R6QC3rz9YdGYBAak3GAVdRg0AYkIdoaC6HQE8TCRdK0YtAyT7SDcawkEDy5JUQVAeUQO5FGkfLCJhAULpSVVrXnEDKb/7/Ak6hQFi5l5kDxKRAA3gchTfrqEAEkIhsD+etQM+8HkEJ8bFA+EiLtKSHtUBdJKfY+NW5QG/4LjfEAL9A3GFPVA+awkBudZLLeFLGQIQmFsFdycpAGxfac2sS0ECH6Di+TUnTQAgXEbHDJNdAPbVHobfF20Al0/eT1KngQA==\",\"dtype\":\"float64\",\"shape\":[50]}},\"selected\":{\"id\":\"f3f5a556-17d1-4bb5-9910-3aba5027329e\",\"type\":\"Selection\"},\"selection_policy\":{\"id\":\"34a174f6-1e5e-4f95-a93e-e4cf83f44680\",\"type\":\"UnionRenderers\"}},\"id\":\"24cb306e-1b10-4374-a514-23db6c4841c9\",\"type\":\"ColumnDataSource\"}],\"root_ids\":[\"e14f7484-4f17-42dc-bac1-b47752506377\"]},\"title\":\"Bokeh Application\",\"version\":\"0.13.0\"}};\n",
       "  var render_items = [{\"docid\":\"105fe27b-7af0-410c-be18-c49cb7e6babc\",\"roots\":{\"e14f7484-4f17-42dc-bac1-b47752506377\":\"78f3cb4a-2fff-4db3-9ee3-186dddf7f93b\"}}];\n",
       "  root.Bokeh.embed.embed_items_notebook(docs_json, render_items);\n",
       "\n",
       "  }\n",
       "  if (root.Bokeh !== undefined) {\n",
       "    embed_document(root);\n",
       "  } else {\n",
       "    var attempts = 0;\n",
       "    var timer = setInterval(function(root) {\n",
       "      if (root.Bokeh !== undefined) {\n",
       "        embed_document(root);\n",
       "        clearInterval(timer);\n",
       "      }\n",
       "      attempts++;\n",
       "      if (attempts > 100) {\n",
       "        console.log(\"Bokeh: ERROR: Unable to run BokehJS code because BokehJS library is missing\")\n",
       "        clearInterval(timer);\n",
       "      }\n",
       "    }, 10, root)\n",
       "  }\n",
       "})(window);"
      ],
      "application/vnd.bokehjs_exec.v0+json": ""
     },
     "metadata": {
      "application/vnd.bokehjs_exec.v0+json": {
       "id": "e14f7484-4f17-42dc-bac1-b47752506377"
      }
     },
     "output_type": "display_data"
    }
   ],
   "source": [
    "n_max = 50          # numero massimo di iterazioni che calcolo\n",
    "r = 0.2             # tasso di crescita\n",
    "d0 = 4.5            # concentrazione iniziale\n",
    "x = arange(n_max)   # array di tempi\n",
    "y = d0 * (1+r)**x   # array di concentrazioni\n",
    "\n",
    "plot1 = figure(title=f\"Crescita malthusiana. Tasso di crescita {r} \" +\n",
    "                     f\" Concentrazione iniziale {d0}\", \n",
    "               x_axis_label = \"Tempo, in quarti d'ora\",\n",
    "               y_axis_label = \"Concentrazione\",\n",
    "               x_range=(-0.5,   10  ),       # range x da visualizzare inizialmente\n",
    "               y_range=( 0.0, y[10] ),       # range y da visualizzare inizialmente \n",
    "               **options,\n",
    "              )\n",
    "p1 = plot1.square(x, y, color='#119911')\n",
    "p1 = plot1.line(x, y, color='#119911')\n",
    "show(plot1)"
   ]
  },
  {
   "cell_type": "code",
   "execution_count": 3,
   "metadata": {},
   "outputs": [
    {
     "data": {
      "text/html": [
       "\n",
       "\n",
       "\n",
       "\n",
       "\n",
       "\n",
       "  <div class=\"bk-root\" id=\"fdf63d1e-13d7-4e28-9c45-5a65cce6eaad\"></div>\n"
      ]
     },
     "metadata": {},
     "output_type": "display_data"
    },
    {
     "data": {
      "application/javascript": [
       "(function(root) {\n",
       "  function embed_document(root) {\n",
       "    \n",
       "  var docs_json = {\"60ffbd72-b4cb-47c1-993d-d1f09f277e6c\":{\"roots\":{\"references\":[{\"attributes\":{},\"id\":\"cdbd2de5-f2b0-4b92-8a0b-7906d7cdb6a7\",\"type\":\"PanTool\"},{\"attributes\":{\"source\":{\"id\":\"8d4eb3be-8414-4b99-9ea9-9765dbd2c14f\",\"type\":\"ColumnDataSource\"}},\"id\":\"9325a887-04bd-4878-bc33-bfebf13d9e2b\",\"type\":\"CDSView\"},{\"attributes\":{},\"id\":\"dd8c45bb-48bd-45a8-8366-2fa5e023df17\",\"type\":\"WheelZoomTool\"},{\"attributes\":{},\"id\":\"dedb9ffb-3981-45be-911f-03c98c4b29e7\",\"type\":\"BasicTickFormatter\"},{\"attributes\":{},\"id\":\"1fa2e723-74ee-4d0c-82d1-a0d13c122063\",\"type\":\"ResetTool\"},{\"attributes\":{},\"id\":\"a43c8b3f-c199-4794-b32b-bd8db31d531b\",\"type\":\"SaveTool\"},{\"attributes\":{\"fill_alpha\":{\"value\":0.1},\"fill_color\":{\"value\":\"#1f77b4\"},\"line_alpha\":{\"value\":0.1},\"line_color\":{\"value\":\"#1f77b4\"},\"x\":{\"field\":\"x\"},\"y\":{\"field\":\"y\"}},\"id\":\"2c608c6e-b639-423f-8afe-7066d8f187b8\",\"type\":\"Square\"},{\"attributes\":{},\"id\":\"646dc2c0-1598-4004-a485-6f074d122fac\",\"type\":\"CrosshairTool\"},{\"attributes\":{\"data_source\":{\"id\":\"8d4eb3be-8414-4b99-9ea9-9765dbd2c14f\",\"type\":\"ColumnDataSource\"},\"glyph\":{\"id\":\"f5f73c4f-c15f-438f-a949-1f04004da901\",\"type\":\"Square\"},\"hover_glyph\":null,\"muted_glyph\":null,\"nonselection_glyph\":{\"id\":\"2c608c6e-b639-423f-8afe-7066d8f187b8\",\"type\":\"Square\"},\"selection_glyph\":null,\"view\":{\"id\":\"9325a887-04bd-4878-bc33-bfebf13d9e2b\",\"type\":\"CDSView\"}},\"id\":\"2eed86ef-9a19-4833-854d-006a59aac9dd\",\"type\":\"GlyphRenderer\"},{\"attributes\":{},\"id\":\"f94632fb-6c2f-4b48-806c-06eb6dd8874c\",\"type\":\"BasicTickFormatter\"},{\"attributes\":{\"line_alpha\":0.1,\"line_color\":\"#1f77b4\",\"x\":{\"field\":\"x\"},\"y\":{\"field\":\"y\"}},\"id\":\"a5daffac-7c91-4f30-a3df-6b21360413b5\",\"type\":\"Line\"},{\"attributes\":{\"fill_color\":{\"value\":\"#119911\"},\"line_color\":{\"value\":\"#119911\"},\"x\":{\"field\":\"x\"},\"y\":{\"field\":\"y\"}},\"id\":\"f5f73c4f-c15f-438f-a949-1f04004da901\",\"type\":\"Square\"},{\"attributes\":{\"data_source\":{\"id\":\"24cb306e-1b10-4374-a514-23db6c4841c9\",\"type\":\"ColumnDataSource\"},\"glyph\":{\"id\":\"4e67a61f-89b5-4f8c-b0fe-28250dcb3044\",\"type\":\"Line\"},\"hover_glyph\":null,\"muted_glyph\":null,\"nonselection_glyph\":{\"id\":\"a5daffac-7c91-4f30-a3df-6b21360413b5\",\"type\":\"Line\"},\"selection_glyph\":null,\"view\":{\"id\":\"366a9aa3-bf7e-459a-93cb-4e841533341d\",\"type\":\"CDSView\"}},\"id\":\"65a61837-1448-4a97-81b8-5ab695142c31\",\"type\":\"GlyphRenderer\"},{\"attributes\":{\"source\":{\"id\":\"24cb306e-1b10-4374-a514-23db6c4841c9\",\"type\":\"ColumnDataSource\"}},\"id\":\"366a9aa3-bf7e-459a-93cb-4e841533341d\",\"type\":\"CDSView\"},{\"attributes\":{},\"id\":\"0afd0edc-4967-4620-ab81-a17f9627a26a\",\"type\":\"Selection\"},{\"attributes\":{},\"id\":\"ee8148b1-6916-4a8b-a396-1d5442446e9e\",\"type\":\"UnionRenderers\"},{\"attributes\":{\"callback\":null,\"data\":{\"x\":[0,1,2,3,4,5,6,7,8,9,10,11,12,13,14,15,16,17,18,19,20,21,22,23,24,25,26,27,28,29,30,31,32,33,34,35,36,37,38,39,40,41,42,43,44,45,46,47,48,49],\"y\":{\"__ndarray__\":\"AAAAAAAAEkCZmZmZmZkVQOtRuB6F6xlAs8h2vp8aH0DS3uALk6kiQC7YDdsWZSZA0WndBrXfKkCxch4E0x8wQAfwip5jWTNAormmJBE4N0BbeC5f4dw7QAMVT2y6t0BAnn/4gawPREDwZV0CzxJIQB9Ho89e40xAE5H74jhVUUAWrvqpqsxUQIBqxpiZ9VhANOa6HYXzXUAfitYRg/hhQCUMm0idkGVAYNuGvbzgaUA/B9VJrw1vQFgEs5LPoXJAajg948VbdkBM3a8Qh9R6QC3rz9YdGYBAak3GAVdRg0AYkIdoaC6HQE8TCRdK0YtAyT7SDcawkEDy5JUQVAeUQO5FGkfLCJhAULpSVVrXnEDKb/7/Ak6hQFi5l5kDxKRAA3gchTfrqEAEkIhsD+etQM+8HkEJ8bFA+EiLtKSHtUBdJKfY+NW5QG/4LjfEAL9A3GFPVA+awkBudZLLeFLGQIQmFsFdycpAGxfac2sS0ECH6Di+TUnTQAgXEbHDJNdAPbVHobfF20Al0/eT1KngQA==\",\"dtype\":\"float64\",\"shape\":[50]}},\"selected\":{\"id\":\"0afd0edc-4967-4620-ab81-a17f9627a26a\",\"type\":\"Selection\"},\"selection_policy\":{\"id\":\"ee8148b1-6916-4a8b-a396-1d5442446e9e\",\"type\":\"UnionRenderers\"}},\"id\":\"8d4eb3be-8414-4b99-9ea9-9765dbd2c14f\",\"type\":\"ColumnDataSource\"},{\"attributes\":{},\"id\":\"f3f5a556-17d1-4bb5-9910-3aba5027329e\",\"type\":\"Selection\"},{\"attributes\":{},\"id\":\"34a174f6-1e5e-4f95-a93e-e4cf83f44680\",\"type\":\"UnionRenderers\"},{\"attributes\":{\"below\":[{\"id\":\"615c76c0-3bd7-4b41-80a4-be463b6540ef\",\"type\":\"LinearAxis\"}],\"left\":[{\"id\":\"34a791ab-3fd9-4d4b-ade7-26739ffa67d0\",\"type\":\"LinearAxis\"}],\"plot_height\":300,\"renderers\":[{\"id\":\"615c76c0-3bd7-4b41-80a4-be463b6540ef\",\"type\":\"LinearAxis\"},{\"id\":\"1c4dfde6-c93f-48d2-82cd-c4e5030cef95\",\"type\":\"Grid\"},{\"id\":\"34a791ab-3fd9-4d4b-ade7-26739ffa67d0\",\"type\":\"LinearAxis\"},{\"id\":\"1b037934-a5a0-4b25-a07b-c461f136e2d9\",\"type\":\"Grid\"},{\"id\":\"2eed86ef-9a19-4833-854d-006a59aac9dd\",\"type\":\"GlyphRenderer\"},{\"id\":\"65a61837-1448-4a97-81b8-5ab695142c31\",\"type\":\"GlyphRenderer\"}],\"title\":{\"id\":\"176e0870-9e69-4ad0-9253-7894c0734e5e\",\"type\":\"Title\"},\"toolbar\":{\"id\":\"7b59279c-2003-4a61-a556-02378dd27b1d\",\"type\":\"Toolbar\"},\"x_range\":{\"id\":\"18502cc8-b2a8-4152-8444-ee3caf70d484\",\"type\":\"Range1d\"},\"x_scale\":{\"id\":\"c97f43de-1485-4181-9c15-de7853b1d6c9\",\"type\":\"LinearScale\"},\"y_range\":{\"id\":\"cf11cb7d-a4a6-45d1-8721-fcb4fab95006\",\"type\":\"Range1d\"},\"y_scale\":{\"id\":\"c3aa4d2d-13e1-4490-9424-61c6c806fe5d\",\"type\":\"LinearScale\"}},\"id\":\"e14f7484-4f17-42dc-bac1-b47752506377\",\"subtype\":\"Figure\",\"type\":\"Plot\"},{\"attributes\":{\"plot\":null,\"text\":\"Crescita malthusiana. Tasso di crescita 0.2  Concentrazione iniziale 4.5\"},\"id\":\"176e0870-9e69-4ad0-9253-7894c0734e5e\",\"type\":\"Title\"},{\"attributes\":{\"callback\":null,\"end\":10,\"start\":-0.5},\"id\":\"18502cc8-b2a8-4152-8444-ee3caf70d484\",\"type\":\"Range1d\"},{\"attributes\":{\"active_drag\":\"auto\",\"active_inspect\":\"auto\",\"active_multi\":null,\"active_scroll\":\"auto\",\"active_tap\":\"auto\",\"tools\":[{\"id\":\"cdbd2de5-f2b0-4b92-8a0b-7906d7cdb6a7\",\"type\":\"PanTool\"},{\"id\":\"dd8c45bb-48bd-45a8-8366-2fa5e023df17\",\"type\":\"WheelZoomTool\"},{\"id\":\"1fa2e723-74ee-4d0c-82d1-a0d13c122063\",\"type\":\"ResetTool\"},{\"id\":\"a43c8b3f-c199-4794-b32b-bd8db31d531b\",\"type\":\"SaveTool\"},{\"id\":\"646dc2c0-1598-4004-a485-6f074d122fac\",\"type\":\"CrosshairTool\"}]},\"id\":\"7b59279c-2003-4a61-a556-02378dd27b1d\",\"type\":\"Toolbar\"},{\"attributes\":{},\"id\":\"c97f43de-1485-4181-9c15-de7853b1d6c9\",\"type\":\"LinearScale\"},{\"attributes\":{\"callback\":null,\"end\":27.86281390079999},\"id\":\"cf11cb7d-a4a6-45d1-8721-fcb4fab95006\",\"type\":\"Range1d\"},{\"attributes\":{},\"id\":\"c3aa4d2d-13e1-4490-9424-61c6c806fe5d\",\"type\":\"LinearScale\"},{\"attributes\":{\"axis_label\":\"Tempo, in quarti d'ora\",\"formatter\":{\"id\":\"f94632fb-6c2f-4b48-806c-06eb6dd8874c\",\"type\":\"BasicTickFormatter\"},\"plot\":{\"id\":\"e14f7484-4f17-42dc-bac1-b47752506377\",\"subtype\":\"Figure\",\"type\":\"Plot\"},\"ticker\":{\"id\":\"f744f630-5e6c-4c2e-b50b-18a502e64873\",\"type\":\"BasicTicker\"}},\"id\":\"615c76c0-3bd7-4b41-80a4-be463b6540ef\",\"type\":\"LinearAxis\"},{\"attributes\":{},\"id\":\"f744f630-5e6c-4c2e-b50b-18a502e64873\",\"type\":\"BasicTicker\"},{\"attributes\":{\"plot\":{\"id\":\"e14f7484-4f17-42dc-bac1-b47752506377\",\"subtype\":\"Figure\",\"type\":\"Plot\"},\"ticker\":{\"id\":\"f744f630-5e6c-4c2e-b50b-18a502e64873\",\"type\":\"BasicTicker\"}},\"id\":\"1c4dfde6-c93f-48d2-82cd-c4e5030cef95\",\"type\":\"Grid\"},{\"attributes\":{\"axis_label\":\"Concentrazione\",\"formatter\":{\"id\":\"dedb9ffb-3981-45be-911f-03c98c4b29e7\",\"type\":\"BasicTickFormatter\"},\"plot\":{\"id\":\"e14f7484-4f17-42dc-bac1-b47752506377\",\"subtype\":\"Figure\",\"type\":\"Plot\"},\"ticker\":{\"id\":\"0b91b7cd-ee8e-4ae5-96c0-af2998986c23\",\"type\":\"BasicTicker\"}},\"id\":\"34a791ab-3fd9-4d4b-ade7-26739ffa67d0\",\"type\":\"LinearAxis\"},{\"attributes\":{},\"id\":\"0b91b7cd-ee8e-4ae5-96c0-af2998986c23\",\"type\":\"BasicTicker\"},{\"attributes\":{\"dimension\":1,\"plot\":{\"id\":\"e14f7484-4f17-42dc-bac1-b47752506377\",\"subtype\":\"Figure\",\"type\":\"Plot\"},\"ticker\":{\"id\":\"0b91b7cd-ee8e-4ae5-96c0-af2998986c23\",\"type\":\"BasicTicker\"}},\"id\":\"1b037934-a5a0-4b25-a07b-c461f136e2d9\",\"type\":\"Grid\"},{\"attributes\":{\"line_color\":\"#1f77b4\",\"x\":{\"field\":\"x\"},\"y\":{\"field\":\"y\"}},\"id\":\"4e67a61f-89b5-4f8c-b0fe-28250dcb3044\",\"type\":\"Line\"},{\"attributes\":{\"callback\":null,\"data\":{\"x\":[0,1,2,3,4,5,6,7,8,9,10,11,12,13,14,15,16,17,18,19,20,21,22,23,24,25,26,27,28,29,30,31,32,33,34,35,36,37,38,39,40,41,42,43,44,45,46,47,48,49],\"y\":{\"__ndarray__\":\"AAAAAAAAEkCZmZmZmZkVQOtRuB6F6xlAs8h2vp8aH0DS3uALk6kiQC7YDdsWZSZA0WndBrXfKkCxch4E0x8wQAfwip5jWTNAormmJBE4N0BbeC5f4dw7QAMVT2y6t0BAnn/4gawPREDwZV0CzxJIQB9Ho89e40xAE5H74jhVUUAWrvqpqsxUQIBqxpiZ9VhANOa6HYXzXUAfitYRg/hhQCUMm0idkGVAYNuGvbzgaUA/B9VJrw1vQFgEs5LPoXJAajg948VbdkBM3a8Qh9R6QC3rz9YdGYBAak3GAVdRg0AYkIdoaC6HQE8TCRdK0YtAyT7SDcawkEDy5JUQVAeUQO5FGkfLCJhAULpSVVrXnEDKb/7/Ak6hQFi5l5kDxKRAA3gchTfrqEAEkIhsD+etQM+8HkEJ8bFA+EiLtKSHtUBdJKfY+NW5QG/4LjfEAL9A3GFPVA+awkBudZLLeFLGQIQmFsFdycpAGxfac2sS0ECH6Di+TUnTQAgXEbHDJNdAPbVHobfF20Al0/eT1KngQA==\",\"dtype\":\"float64\",\"shape\":[50]}},\"selected\":{\"id\":\"f3f5a556-17d1-4bb5-9910-3aba5027329e\",\"type\":\"Selection\"},\"selection_policy\":{\"id\":\"34a174f6-1e5e-4f95-a93e-e4cf83f44680\",\"type\":\"UnionRenderers\"}},\"id\":\"24cb306e-1b10-4374-a514-23db6c4841c9\",\"type\":\"ColumnDataSource\"}],\"root_ids\":[\"e14f7484-4f17-42dc-bac1-b47752506377\"]},\"title\":\"Bokeh Application\",\"version\":\"0.13.0\"}};\n",
       "  var render_items = [{\"docid\":\"60ffbd72-b4cb-47c1-993d-d1f09f277e6c\",\"notebook_comms_target\":\"d56ea1cb-898d-4c57-a4a7-96c674631bcb\",\"roots\":{\"e14f7484-4f17-42dc-bac1-b47752506377\":\"fdf63d1e-13d7-4e28-9c45-5a65cce6eaad\"}}];\n",
       "  root.Bokeh.embed.embed_items_notebook(docs_json, render_items);\n",
       "\n",
       "  }\n",
       "  if (root.Bokeh !== undefined) {\n",
       "    embed_document(root);\n",
       "  } else {\n",
       "    var attempts = 0;\n",
       "    var timer = setInterval(function(root) {\n",
       "      if (root.Bokeh !== undefined) {\n",
       "        embed_document(root);\n",
       "        clearInterval(timer);\n",
       "      }\n",
       "      attempts++;\n",
       "      if (attempts > 100) {\n",
       "        console.log(\"Bokeh: ERROR: Unable to run BokehJS code because BokehJS library is missing\")\n",
       "        clearInterval(timer);\n",
       "      }\n",
       "    }, 10, root)\n",
       "  }\n",
       "})(window);"
      ],
      "application/vnd.bokehjs_exec.v0+json": ""
     },
     "metadata": {
      "application/vnd.bokehjs_exec.v0+json": {
       "id": "e14f7484-4f17-42dc-bac1-b47752506377"
      }
     },
     "output_type": "display_data"
    },
    {
     "data": {
      "application/vnd.jupyter.widget-view+json": {
       "model_id": "f7f5e758b6ef4512bada650477c7fede",
       "version_major": 2,
       "version_minor": 0
      },
      "text/plain": [
       "interactive(children=(FloatSlider(value=0.2, description='tasso di crescita', max=0.33, min=0.1, step=0.02, st…"
      ]
     },
     "metadata": {},
     "output_type": "display_data"
    }
   ],
   "source": [
    "def update1(r=0.2, d0=4.5): \n",
    "    p1.data_source.data['x'] = x\n",
    "    p1.data_source.data['y'] = d0 * (1+r)**x\n",
    "    push_notebook()\n",
    "\n",
    "show(plot1, notebook_handle=True)\n",
    "style = {'description_width': 'initial'}\n",
    "interact(update1,  \n",
    "         r  = FloatSlider(description=\"tasso di crescita\", \n",
    "                          min=.1, max=.33, step=.02, value=.2, style=style), \n",
    "         d0 = FloatSlider(description=\"concentrazione iniziale\", \n",
    "                          min=1, max=9, step=.5, value=4.5, style=style)\n",
    "        );"
   ]
  },
  {
   "cell_type": "markdown",
   "metadata": {},
   "source": [
    "# Crescita malthusiana: soluzione generale\n",
    "\n",
    "$r$ tasso di crescita\n",
    "\n",
    "$a=1+r$ fattore di crescita\n",
    "\n",
    "$d_{n+1}=a\\cdot d_n$ si chiama <mark>equazione ricorsiva</mark> (omogenea del prim'ordine) o anche *equazione di ricorrenza* o *equazione alle differenze*.\n",
    "\n",
    "$d_n=C\\cdot a^n$ è la <mark>soluzione generale</mark>, ovvero una famiglia di soluzioni, una per ogni $C\\in\\mathbb R$.\n",
    "\n",
    "Da un qualsiasi valore di $d_n$ possiamo calcorare $C$ e trovare una <mark>soluzione particolare</mark>. \n",
    "\n",
    "Per esempio, se $d_9=24.5$ allora $24.5=C\\cdot a^9$, quindi $C=24.5\\cdot a^{-9}$.\n",
    "\n",
    "Per esempio, se $d_0=4.5$ allora $4.5=C\\cdot a^0=C$."
   ]
  },
  {
   "cell_type": "markdown",
   "metadata": {},
   "source": [
    "# Crescita malthusiana + pesca/raccolto\n",
    "\n",
    "Una certa popolazione di pesci, in assenza di limiti ambiantali, ha una crescita annuale annuale netta (nacite $-$ morti) del $20\\%$. Ogni hanno viene pescato un fissato numero di individui. \n",
    "\n",
    "\n",
    "Scriviamo l'equazione che descrive l'evoluzione della popolazione.\n",
    "\n",
    "$a\\ =\\ 1+0.2\\ =\\ 1.2\\ $ fattore di crescita\n",
    "\n",
    "$b\\ = $ numero degli individui aggiunti (quindi $b<0$, se stiamo pescando)\n",
    "\n",
    "$d_1\\ =\\ a\\, d_0 + b$\n",
    "\n",
    "$d_2\\ =\\ a\\, d_1 +b\\  =\\ a\\, (a\\, d_0 +b) +b\\ =\\ a^2 d_0+ (1+a)\\,b$\n",
    "\n",
    "$d_3\\ =\\ a\\, d_2 +b\\ =\\ a\\, \\big(a^2 d_0 +(1+a)\\,b\\big) +b\\ =\\ a^3\\, d_0 + (1+a+a^2)\\,b $\n",
    "\n",
    "ecc., ecc., in generale scriveremo\n",
    "\n",
    "$d_{n+1}\\ =\\ a\\, d_n +b $ si chiama equazione ricorsiva <mark>non omogenea</mark>. Diremo che $b$ è il termine <mark>non omogeneo</mark>.\n",
    "\n",
    "$d_n=C\\, a^n+\\dfrac{b}{1-a} $ è la <mark>soluzione generale</mark>, ovvero una famiglia di soluzioni, una per ogni $C\\in\\mathbb R$.\n",
    "\n",
    "Da un qualsiasi valore di $d_n$ possiamo calcorare $C$ e trovare una <mark>soluzione particolare</mark>. \n",
    "\n",
    "Per esempio, se $d_9=245$ allora $245=C\\, a^9 -\\dfrac{b}{1-a}$, quindi $C=\\Big(245+\\dfrac{b}{1-a}\\Big)\\, a^{-9}$.\n",
    "\n",
    "Per esempio, se $d_0=45$ allora $45=C\\, a^0-\\dfrac{b}{1-a}$, quindi $C=45+\\dfrac{b}{1-a}$."
   ]
  },
  {
   "cell_type": "code",
   "execution_count": 4,
   "metadata": {},
   "outputs": [
    {
     "data": {
      "text/html": [
       "\n",
       "\n",
       "\n",
       "\n",
       "\n",
       "\n",
       "  <div class=\"bk-root\" id=\"4121af51-c2d2-4481-a9a4-de8417bdadae\"></div>\n"
      ]
     },
     "metadata": {},
     "output_type": "display_data"
    },
    {
     "data": {
      "application/javascript": [
       "(function(root) {\n",
       "  function embed_document(root) {\n",
       "    \n",
       "  var docs_json = {\"8cf310f5-9000-4b9f-93bf-d8f97a4cb00f\":{\"roots\":{\"references\":[{\"attributes\":{\"fill_alpha\":{\"value\":0.1},\"fill_color\":{\"value\":\"#1f77b4\"},\"line_alpha\":{\"value\":0.1},\"line_color\":{\"value\":\"#1f77b4\"},\"x\":{\"field\":\"x\"},\"y\":{\"field\":\"y\"}},\"id\":\"3568c751-0dae-4ddb-b015-b7c6715d08d3\",\"type\":\"Square\"},{\"attributes\":{\"plot\":null,\"text\":\"Tasso di crescita 0.2, popolazione iniziale 45, pesca b\"},\"id\":\"04f16bde-ab11-4fd8-bc8c-a3b101eb41e3\",\"type\":\"Title\"},{\"attributes\":{\"callback\":null,\"end\":10,\"start\":-0.5},\"id\":\"e6ce7f13-89ec-45ac-bc04-4de1c3490fce\",\"type\":\"Range1d\"},{\"attributes\":{\"active_drag\":\"auto\",\"active_inspect\":\"auto\",\"active_multi\":null,\"active_scroll\":\"auto\",\"active_tap\":\"auto\",\"tools\":[{\"id\":\"77e8ddf3-7763-4857-be0a-9960d712769d\",\"type\":\"PanTool\"},{\"id\":\"1c6803c9-5ccb-4e29-97fb-16cde1c776c5\",\"type\":\"WheelZoomTool\"},{\"id\":\"25336ea5-86c7-4b14-9a61-466b76a9d8af\",\"type\":\"ResetTool\"},{\"id\":\"467b8d1f-92f5-430b-bc39-fe52deb30f59\",\"type\":\"SaveTool\"},{\"id\":\"e3ddd293-3bd0-4382-919c-8ab441fc3d7b\",\"type\":\"CrosshairTool\"}]},\"id\":\"c9d82e0a-6889-43b4-aec2-dd6183754ca9\",\"type\":\"Toolbar\"},{\"attributes\":{\"callback\":null,\"data\":{\"x\":[0,1,2,3,4,5,6,7,8,9,10,11,12,13,14,15,16,17,18,19,20,21,22,23,24,25,26,27,28,29,30,31,32,33,34,35,36,37,38,39,40,41,42,43,44,45,46,47,48,49],\"y\":{\"__ndarray__\":\"AAAAAACARkAAAAAAAABLQDMzMzMzM1BAcD0K16NwU0CHFtnO91NXQDpO0ZFc/ltAI2JKJNHLYEBdDybFxydkQAisLYa8L2hACmjQbRUGbUA5C33bDGpxQETaYgep5XRAhZ92opcTeUBsv/TCghd+QHQMxkEbDoJAV3W6G4eqhUCcWXlU1f+JQCEF+P7/Mo9A4c+UMjO4kkCnLEzWo3aWQC7PwZrE9JpAHEl09nUsoECIJCWOjWijQG7FX3dDSqdAhYYMXLfyq0BQ6m1q1MSwQPnlg0xlH7RAxOA3wqwluEAedKmCAvq8QBKsZU7OYsFAfM5GkffcxEAuXrsUKQnJQGrX4Bj+Cs5AcrRTdZgG0kC8C/6/g6HVQK+n/X8E9dlABJZjZgUm30ACWtWjabDiQANsZpFLbeZANhuu4Y3p6kC6dmiHuyXwQEVbfaJ6YPNAUzpjKZNA90DJEnf+Fuf7QBLYrZjavQBB4pzQUAYXBEGpIsctoRsIQcpcVZ307QxBRtHMxJJbEUHux/W4SdQUQQ==\",\"dtype\":\"float64\",\"shape\":[50]}},\"selected\":{\"id\":\"754fb37a-7018-4cb5-aabd-1d28557fd7f9\",\"type\":\"Selection\"},\"selection_policy\":{\"id\":\"c06b828e-2527-4291-bf94-30b51013f525\",\"type\":\"UnionRenderers\"}},\"id\":\"a87cd0c8-51ac-4bf6-87cd-e7c596b8be06\",\"type\":\"ColumnDataSource\"},{\"attributes\":{},\"id\":\"8c6c2611-dfc8-4a88-b3fc-f59083a2ca65\",\"type\":\"LinearScale\"},{\"attributes\":{\"callback\":null,\"end\":278.6281390079999},\"id\":\"360b021a-f2df-4e13-8ad6-2c28ded80a9f\",\"type\":\"Range1d\"},{\"attributes\":{},\"id\":\"9ea55949-3b50-45a4-b51d-e9f27c745f91\",\"type\":\"LinearScale\"},{\"attributes\":{\"plot\":{\"id\":\"1cf18937-db8b-412f-a830-d39eb640629f\",\"subtype\":\"Figure\",\"type\":\"Plot\"},\"ticker\":{\"id\":\"59085277-44a3-40fd-881d-343431381727\",\"type\":\"BasicTicker\"}},\"id\":\"892bc351-2876-4acf-a193-cf621f6ef5e4\",\"type\":\"Grid\"},{\"attributes\":{\"callback\":null,\"data\":{\"x\":[0,1,2,3,4,5,6,7,8,9,10,11,12,13,14,15,16,17,18,19,20,21,22,23,24,25,26,27,28,29,30,31,32,33,34,35,36,37,38,39,40,41,42,43,44,45,46,47,48,49],\"y\":{\"__ndarray__\":\"AAAAAACARkAAAAAAAABLQDMzMzMzM1BAcD0K16NwU0CHFtnO91NXQDpO0ZFc/ltAI2JKJNHLYEBdDybFxydkQAisLYa8L2hACmjQbRUGbUA5C33bDGpxQETaYgep5XRAhZ92opcTeUBsv/TCghd+QHQMxkEbDoJAV3W6G4eqhUCcWXlU1f+JQCEF+P7/Mo9A4c+UMjO4kkCnLEzWo3aWQC7PwZrE9JpAHEl09nUsoECIJCWOjWijQG7FX3dDSqdAhYYMXLfyq0BQ6m1q1MSwQPnlg0xlH7RAxOA3wqwluEAedKmCAvq8QBKsZU7OYsFAfM5GkffcxEAuXrsUKQnJQGrX4Bj+Cs5AcrRTdZgG0kC8C/6/g6HVQK+n/X8E9dlABJZjZgUm30ACWtWjabDiQANsZpFLbeZANhuu4Y3p6kC6dmiHuyXwQEVbfaJ6YPNAUzpjKZNA90DJEnf+Fuf7QBLYrZjavQBB4pzQUAYXBEGpIsctoRsIQcpcVZ307QxBRtHMxJJbEUHux/W4SdQUQQ==\",\"dtype\":\"float64\",\"shape\":[50]}},\"selected\":{\"id\":\"dd2ae587-4869-46f4-893d-e9bffe148bc5\",\"type\":\"Selection\"},\"selection_policy\":{\"id\":\"e549466b-43e1-4cc4-b4b8-251a7f91850a\",\"type\":\"UnionRenderers\"}},\"id\":\"b2e97801-5957-4ad0-bf77-eaa702050078\",\"type\":\"ColumnDataSource\"},{\"attributes\":{\"axis_label\":\"Tempo, in anni\",\"formatter\":{\"id\":\"1e3439d9-224b-4863-a934-d61beaed9149\",\"type\":\"BasicTickFormatter\"},\"plot\":{\"id\":\"1cf18937-db8b-412f-a830-d39eb640629f\",\"subtype\":\"Figure\",\"type\":\"Plot\"},\"ticker\":{\"id\":\"59085277-44a3-40fd-881d-343431381727\",\"type\":\"BasicTicker\"}},\"id\":\"8dc86bb2-79e5-43b6-95bd-44541cda5391\",\"type\":\"LinearAxis\"},{\"attributes\":{},\"id\":\"59085277-44a3-40fd-881d-343431381727\",\"type\":\"BasicTicker\"},{\"attributes\":{\"axis_label\":\"Numero di individui\",\"formatter\":{\"id\":\"ec11603b-d5da-4ea0-bde9-11ab76b1e03e\",\"type\":\"BasicTickFormatter\"},\"plot\":{\"id\":\"1cf18937-db8b-412f-a830-d39eb640629f\",\"subtype\":\"Figure\",\"type\":\"Plot\"},\"ticker\":{\"id\":\"5422117a-750c-4e54-b8fb-d1c78cf59a49\",\"type\":\"BasicTicker\"}},\"id\":\"e3c6b264-abc7-429e-b607-ea3b0a96f4f0\",\"type\":\"LinearAxis\"},{\"attributes\":{},\"id\":\"5422117a-750c-4e54-b8fb-d1c78cf59a49\",\"type\":\"BasicTicker\"},{\"attributes\":{\"dimension\":1,\"plot\":{\"id\":\"1cf18937-db8b-412f-a830-d39eb640629f\",\"subtype\":\"Figure\",\"type\":\"Plot\"},\"ticker\":{\"id\":\"5422117a-750c-4e54-b8fb-d1c78cf59a49\",\"type\":\"BasicTicker\"}},\"id\":\"d7e7804f-0898-44ab-8ee2-024ab33e2397\",\"type\":\"Grid\"},{\"attributes\":{},\"id\":\"ec11603b-d5da-4ea0-bde9-11ab76b1e03e\",\"type\":\"BasicTickFormatter\"},{\"attributes\":{},\"id\":\"77e8ddf3-7763-4857-be0a-9960d712769d\",\"type\":\"PanTool\"},{\"attributes\":{\"source\":{\"id\":\"b2e97801-5957-4ad0-bf77-eaa702050078\",\"type\":\"ColumnDataSource\"}},\"id\":\"5b01ae90-27f2-466e-9b09-14beb3ed1675\",\"type\":\"CDSView\"},{\"attributes\":{},\"id\":\"1c6803c9-5ccb-4e29-97fb-16cde1c776c5\",\"type\":\"WheelZoomTool\"},{\"attributes\":{},\"id\":\"25336ea5-86c7-4b14-9a61-466b76a9d8af\",\"type\":\"ResetTool\"},{\"attributes\":{},\"id\":\"467b8d1f-92f5-430b-bc39-fe52deb30f59\",\"type\":\"SaveTool\"},{\"attributes\":{},\"id\":\"e3ddd293-3bd0-4382-919c-8ab441fc3d7b\",\"type\":\"CrosshairTool\"},{\"attributes\":{\"data_source\":{\"id\":\"b2e97801-5957-4ad0-bf77-eaa702050078\",\"type\":\"ColumnDataSource\"},\"glyph\":{\"id\":\"66085a57-a72b-40b3-8423-20935fe21ee8\",\"type\":\"Square\"},\"hover_glyph\":null,\"muted_glyph\":null,\"nonselection_glyph\":{\"id\":\"3568c751-0dae-4ddb-b015-b7c6715d08d3\",\"type\":\"Square\"},\"selection_glyph\":null,\"view\":{\"id\":\"5b01ae90-27f2-466e-9b09-14beb3ed1675\",\"type\":\"CDSView\"}},\"id\":\"329651f7-8980-45bf-8ede-665428798e9e\",\"type\":\"GlyphRenderer\"},{\"attributes\":{\"line_color\":\"#1f77b4\",\"x\":{\"field\":\"x\"},\"y\":{\"field\":\"y\"}},\"id\":\"77be9270-2a60-4e55-a7b2-925f905c6ec1\",\"type\":\"Line\"},{\"attributes\":{\"line_alpha\":0.1,\"line_color\":\"#1f77b4\",\"x\":{\"field\":\"x\"},\"y\":{\"field\":\"y\"}},\"id\":\"b5ab2965-adfe-4ed9-b6a5-eb28021c9acf\",\"type\":\"Line\"},{\"attributes\":{\"data_source\":{\"id\":\"a87cd0c8-51ac-4bf6-87cd-e7c596b8be06\",\"type\":\"ColumnDataSource\"},\"glyph\":{\"id\":\"77be9270-2a60-4e55-a7b2-925f905c6ec1\",\"type\":\"Line\"},\"hover_glyph\":null,\"muted_glyph\":null,\"nonselection_glyph\":{\"id\":\"b5ab2965-adfe-4ed9-b6a5-eb28021c9acf\",\"type\":\"Line\"},\"selection_glyph\":null,\"view\":{\"id\":\"6bc57545-ea98-4849-8e66-62bbbf851786\",\"type\":\"CDSView\"}},\"id\":\"6ce3abf5-5057-4544-833b-d092df2ca9fb\",\"type\":\"GlyphRenderer\"},{\"attributes\":{\"source\":{\"id\":\"a87cd0c8-51ac-4bf6-87cd-e7c596b8be06\",\"type\":\"ColumnDataSource\"}},\"id\":\"6bc57545-ea98-4849-8e66-62bbbf851786\",\"type\":\"CDSView\"},{\"attributes\":{},\"id\":\"1e3439d9-224b-4863-a934-d61beaed9149\",\"type\":\"BasicTickFormatter\"},{\"attributes\":{},\"id\":\"dd2ae587-4869-46f4-893d-e9bffe148bc5\",\"type\":\"Selection\"},{\"attributes\":{},\"id\":\"e549466b-43e1-4cc4-b4b8-251a7f91850a\",\"type\":\"UnionRenderers\"},{\"attributes\":{},\"id\":\"754fb37a-7018-4cb5-aabd-1d28557fd7f9\",\"type\":\"Selection\"},{\"attributes\":{\"fill_color\":{\"value\":\"#119911\"},\"line_color\":{\"value\":\"#119911\"},\"x\":{\"field\":\"x\"},\"y\":{\"field\":\"y\"}},\"id\":\"66085a57-a72b-40b3-8423-20935fe21ee8\",\"type\":\"Square\"},{\"attributes\":{},\"id\":\"c06b828e-2527-4291-bf94-30b51013f525\",\"type\":\"UnionRenderers\"},{\"attributes\":{\"below\":[{\"id\":\"8dc86bb2-79e5-43b6-95bd-44541cda5391\",\"type\":\"LinearAxis\"}],\"left\":[{\"id\":\"e3c6b264-abc7-429e-b607-ea3b0a96f4f0\",\"type\":\"LinearAxis\"}],\"plot_height\":300,\"renderers\":[{\"id\":\"8dc86bb2-79e5-43b6-95bd-44541cda5391\",\"type\":\"LinearAxis\"},{\"id\":\"892bc351-2876-4acf-a193-cf621f6ef5e4\",\"type\":\"Grid\"},{\"id\":\"e3c6b264-abc7-429e-b607-ea3b0a96f4f0\",\"type\":\"LinearAxis\"},{\"id\":\"d7e7804f-0898-44ab-8ee2-024ab33e2397\",\"type\":\"Grid\"},{\"id\":\"329651f7-8980-45bf-8ede-665428798e9e\",\"type\":\"GlyphRenderer\"},{\"id\":\"6ce3abf5-5057-4544-833b-d092df2ca9fb\",\"type\":\"GlyphRenderer\"}],\"title\":{\"id\":\"04f16bde-ab11-4fd8-bc8c-a3b101eb41e3\",\"type\":\"Title\"},\"toolbar\":{\"id\":\"c9d82e0a-6889-43b4-aec2-dd6183754ca9\",\"type\":\"Toolbar\"},\"x_range\":{\"id\":\"e6ce7f13-89ec-45ac-bc04-4de1c3490fce\",\"type\":\"Range1d\"},\"x_scale\":{\"id\":\"8c6c2611-dfc8-4a88-b3fc-f59083a2ca65\",\"type\":\"LinearScale\"},\"y_range\":{\"id\":\"360b021a-f2df-4e13-8ad6-2c28ded80a9f\",\"type\":\"Range1d\"},\"y_scale\":{\"id\":\"9ea55949-3b50-45a4-b51d-e9f27c745f91\",\"type\":\"LinearScale\"}},\"id\":\"1cf18937-db8b-412f-a830-d39eb640629f\",\"subtype\":\"Figure\",\"type\":\"Plot\"}],\"root_ids\":[\"1cf18937-db8b-412f-a830-d39eb640629f\"]},\"title\":\"Bokeh Application\",\"version\":\"0.13.0\"}};\n",
       "  var render_items = [{\"docid\":\"8cf310f5-9000-4b9f-93bf-d8f97a4cb00f\",\"notebook_comms_target\":\"e766b62c-630a-4cf3-a971-d3fad1712eeb\",\"roots\":{\"1cf18937-db8b-412f-a830-d39eb640629f\":\"4121af51-c2d2-4481-a9a4-de8417bdadae\"}}];\n",
       "  root.Bokeh.embed.embed_items_notebook(docs_json, render_items);\n",
       "\n",
       "  }\n",
       "  if (root.Bokeh !== undefined) {\n",
       "    embed_document(root);\n",
       "  } else {\n",
       "    var attempts = 0;\n",
       "    var timer = setInterval(function(root) {\n",
       "      if (root.Bokeh !== undefined) {\n",
       "        embed_document(root);\n",
       "        clearInterval(timer);\n",
       "      }\n",
       "      attempts++;\n",
       "      if (attempts > 100) {\n",
       "        console.log(\"Bokeh: ERROR: Unable to run BokehJS code because BokehJS library is missing\")\n",
       "        clearInterval(timer);\n",
       "      }\n",
       "    }, 10, root)\n",
       "  }\n",
       "})(window);"
      ],
      "application/vnd.bokehjs_exec.v0+json": ""
     },
     "metadata": {
      "application/vnd.bokehjs_exec.v0+json": {
       "id": "1cf18937-db8b-412f-a830-d39eb640629f"
      }
     },
     "output_type": "display_data"
    },
    {
     "data": {
      "application/vnd.jupyter.widget-view+json": {
       "model_id": "0063b7be1ac846aa95e373c0653d77b0",
       "version_major": 2,
       "version_minor": 0
      },
      "text/plain": [
       "interactive(children=(FloatSlider(value=0.0, description='b', max=10.0, min=-12.0, step=1.0, style=SliderStyle…"
      ]
     },
     "metadata": {},
     "output_type": "display_data"
    }
   ],
   "source": [
    "n_max = 50                      # numero massimo di iterazioni che calcolo\n",
    "r = 0.2                         # tasso di crescita\n",
    "b = 0                           # pesca/raccolto \n",
    "d0 = 45                         # concentrazione iniziale\n",
    "x = arange(n_max)               # array di tempi\n",
    "y = (d0+b/r) * (1+r)**x - b/r   # array di concentrazioni\n",
    "\n",
    "plot2 = figure(title=f\"Tasso di crescita {r}, popolazione iniziale {d0}, pesca b\", \n",
    "               x_axis_label = \"Tempo, in anni\",\n",
    "               y_axis_label = \"Numero di individui\",\n",
    "               x_range=(-0.5,   10  ),       # range da visualizzare inizialmente\n",
    "               y_range=( 0.0, y[10] ),       # range da visualizzare inizialmente \n",
    "               **options,\n",
    "              )\n",
    "p2 = plot2.square(x, y, color='#119911')\n",
    "p2 = plot2.line(x, y, color='#119911')\n",
    "def update2(b=0): \n",
    "    p2.data_source.data['x'] = x\n",
    "    p2.data_source.data['y'] =  (d0+b/r) * (1+r)**x - b/r \n",
    "    push_notebook()\n",
    "\n",
    "show(plot2, notebook_handle=True)\n",
    "style = {'description_width': 'initial'}\n",
    "interact(update2,  \n",
    "         b  = FloatSlider(description=\"b\", min=-12, max=10, step=1, value=0, style=style),\n",
    "         );"
   ]
  },
  {
   "cell_type": "markdown",
   "metadata": {},
   "source": [
    "# Mutuo bancario (1)\n",
    "\n",
    "Prendiamo a prestito dalla banca $200\\,$k€ con un tannuo annuo fisso del $3\\%$. Ogni anno restituiamo alla banca $10\\,$k€. (Per precisione: all'anno $0$ il nostro debito è $200\\,$k€ e all'anno $1$ sarà: $200$k€ $+$interessi $-10\\,$k€, ecc.)\n",
    "\n",
    "A quanto ammonterà il debito dopo 10 anni? (Ovvero, al decimo anno subito dopo aver pagato i $10\\,$k€ pattuiti.)"
   ]
  },
  {
   "cell_type": "markdown",
   "metadata": {},
   "source": [
    "### Soluzione\n",
    "\n",
    "Scriviamo l'equazione che descrive l'evoluzione del debito.\n",
    "\n",
    "$a\\ =\\ 1+0.03\\ =\\ 1.03\\ $ fattore di crescita\n",
    "\n",
    "$b\\ = - 10$ \n",
    "\n",
    "$d_0 = 200$ debito all'anno zero\n",
    "\n",
    "$d_{n+1}\\ =\\ a\\, d_n +b $ equazione ricorsiva per il debito all'anno $n$.\n",
    "\n",
    "Soluzione generale dell'equazione ricorsiva \n",
    "\n",
    "$d_n=C\\, a^n+\\dfrac{b}{1-a} $ una per qualsiasi $C\\in\\mathbb R$.\n",
    "\n",
    "Usando la condizione $d_0=200$ troviamo.\n",
    "\n",
    "$C\\ =\\ 200 - \\dfrac{b}{1-a}\\ =\\ 200 - \\dfrac{10}{0.03} = 9\\,800$\n",
    "\n",
    "    Il calcolo numerico nella cella sottostante"
   ]
  },
  {
   "cell_type": "code",
   "execution_count": 5,
   "metadata": {},
   "outputs": [
    {
     "data": {
      "text/plain": [
       "154.14448275411715"
      ]
     },
     "execution_count": 5,
     "metadata": {},
     "output_type": "execute_result"
    }
   ],
   "source": [
    "a = 1.03\n",
    "b = -10\n",
    "d0 = 200\n",
    "n = 10\n",
    "C = d0 - b/(1-a)\n",
    "C * a**n + b/(1-a)"
   ]
  },
  {
   "cell_type": "markdown",
   "metadata": {},
   "source": [
    "# Mutuo bancario (2)\n",
    "\n",
    "Quanto dovreno pagare all'anno per estinguere il debito alla decima rata?"
   ]
  },
  {
   "cell_type": "markdown",
   "metadata": {},
   "source": [
    "### Soluzione\n",
    "\n",
    "Dobbiamo porre $d_0=200$ e $d_{10}=0$. Ora $b$ è incognito. La costante $C$ dobbiamo calcolarla in funzione di $b$.\n",
    "\n",
    "$C\\ =\\ 200 + \\dfrac{b}{0.03}$\n",
    "\n",
    "l'equazione diventa \n",
    "\n",
    "$d_n=\\bigg(200 + \\dfrac{b}{0.03}\\bigg)\\, 1.03^n-\\dfrac{b}{0.03}$\n",
    "\n",
    "quindi\n",
    "\n",
    "$d_{10}\\ =\\ \\bigg(200 + \\dfrac{b}{0.03}\\bigg)\\, 1.03^{10}-\\dfrac{b}{0.03}$\n",
    "\n",
    "$b\\ =\\ 0.03\\cdot \\dfrac{200\\cdot 1.03^{10}}{1+ 1.03^{10}}$\n"
   ]
  },
  {
   "cell_type": "code",
   "execution_count": 26,
   "metadata": {},
   "outputs": [
    {
     "data": {
      "text/plain": [
       "-23.44610132103192"
      ]
     },
     "execution_count": 26,
     "metadata": {},
     "output_type": "execute_result"
    }
   ],
   "source": [
    "(a-1) * ( d0 * a**10 ) / ( 1 -  a**10 )"
   ]
  },
  {
   "cell_type": "markdown",
   "metadata": {},
   "source": [
    "La risposta è quindi $23\\,446.10$€ all'anno."
   ]
  },
  {
   "cell_type": "markdown",
   "metadata": {},
   "source": [
    "# Mutuo bancario (3)\n",
    "\n",
    "Sempre lo stesso mutuo, da estinguere in 10 anni. Vorremmo però pagare al mese. La cifra da pagare sarà *minore* di un dodicesimo di $23\\,446.10$€.\n",
    "\n",
    "Dovremo calcolarci l'interesse mensile.\n",
    "\n",
    "Sia $c_n$ il debito calcolato al mese. Quindi $c_{12n}=d_{n}$.\n",
    "\n",
    "\n",
    "\n",
    "\n",
    "\n"
   ]
  },
  {
   "cell_type": "markdown",
   "metadata": {},
   "source": [
    "# Concentrazione farmaco  (1)\n",
    "\n",
    "La concentrazione di un farmaco nel sangue dopo $12$ ore è il $60\\%$ della concentrazione iniziale. Somministrando $2$ unità ogni 12 ore e partendo da una conventrazione $0$ qual'è la concentrazione massima del farmaco? Quale la concentrazione minima a regime?"
   ]
  },
  {
   "cell_type": "markdown",
   "metadata": {},
   "source": [
    "## Soluzione\n",
    "\n",
    "Fissiamo 12 ore come nostra unità di tempo.\n",
    "\n",
    "$a\\ =\\ 0.6\\ =\\ 1.03\\ $ fattore di (de)crescita\n",
    "\n",
    "$b\\ = 3$ \n",
    "\n",
    "$d_0 = 0$ concentrazione iniziale\n",
    "\n",
    "$d_{n+1}\\ =\\ a\\, d_n +b $ equazione ricorsiva per la concentrazione nel sangue.\n",
    "\n",
    "Soluzione generale dell'equazione ricorsiva \n",
    "\n",
    "$d_n=C\\, a^n+\\dfrac{b}{1-a}$ una per qualsiasi $C\\in\\mathbb R$.\n",
    "\n",
    "Poiché $a<1$ qualsiasi sia $C$ dopo qualche giorno il primo termine è $\\cong0$.\n",
    "\n",
    "Quindi la concentrazione massima a regime sarà $\\dfrac{b}{1-a}$.\n",
    "\n",
    "Quella minima (a regime) sarà quella massima $-b$, equivalentemente, anche quella massima per $a$.\n",
    "\n",
    "Ovvero la concentrazione minima a regime è $\\dfrac{ab}{1-a}$."
   ]
  },
  {
   "cell_type": "code",
   "execution_count": 60,
   "metadata": {},
   "outputs": [
    {
     "data": {
      "text/html": [
       "\n",
       "\n",
       "\n",
       "\n",
       "\n",
       "\n",
       "  <div class=\"bk-root\" id=\"f32faef7-3ff3-4257-bc1c-9a003640508b\"></div>\n"
      ]
     },
     "metadata": {},
     "output_type": "display_data"
    },
    {
     "data": {
      "application/javascript": [
       "(function(root) {\n",
       "  function embed_document(root) {\n",
       "    \n",
       "  var docs_json = {\"d2565ae8-5396-4502-b598-1036bbf92e1d\":{\"roots\":{\"references\":[{\"attributes\":{\"fill_color\":{\"value\":\"#991111\"},\"line_color\":{\"value\":\"#991111\"},\"x\":{\"field\":\"x\"},\"y\":{\"field\":\"y\"}},\"id\":\"4b7ad405-f6df-4557-bd4d-da60b84e1cf1\",\"type\":\"Square\"},{\"attributes\":{},\"id\":\"7fcc38fe-f255-4c05-9d71-912cf136a887\",\"type\":\"PanTool\"},{\"attributes\":{\"callback\":null,\"data\":{\"x\":[0,1,2,3,4,5,6,7,8,9,10,11,12,13,14,15,16,17,18,19,20,21,22,23,24,25,26,27,28,29,30,31,32,33,34,35,36,37,38,39,40,41,42,43,44,45,46,47,48,49],\"y\":{\"__ndarray__\":\"AAAAAAAAAMAAAAAAAAAAADQzMzMzM/M/uB6F61G4/j84iUFg5dACQIiFWtO84wRAUoNpGD4iBkCYGwx1WOEGQI4Q1N8BVAdAVnCy7M2YB0BmQ54nFcIHQArCK37Z2gdAOkEasrXpB0BWWqk3oPIHQDQ2/7r59wdAHroycC/7B0AS1oR2HP0HQHKAHEdE/gdAEE1ExPX+B0BwYY9CYP8HQN6g7yeg/wdAuJNcfsb/B0CiWAR/3f8HQMjONUzr/wdA3kgglPP/B0DsXhOM+P8HQI7SPof7/wdAiLElUf3/B0CEauNj/v8HQFCmuwj//wdAMMqja///B0C23/um//8HQNQfl8r//wdATEb03///B0DIw8Xs//8HQKqodvT//wdAzP4T+f//B0AUzNj7//8HQAwUgv3//wdAOj+B/v//B0AkWRr///8HQHw1dv///wdASlOt////B0AsZc7///8HQLQ84v///wdAbCTu////B0AOSfX///8HQDyS+f///wdAiiT8////B0CGr/3///8HQA==\",\"dtype\":\"float64\",\"shape\":[50]}},\"selected\":{\"id\":\"4b3939b3-22e7-4f7c-96a5-219ea4f9b159\",\"type\":\"Selection\"},\"selection_policy\":{\"id\":\"2947168b-759e-46ab-bbb8-12e2bf74e846\",\"type\":\"UnionRenderers\"}},\"id\":\"deb1d443-101b-4696-9296-3df1e26bc42c\",\"type\":\"ColumnDataSource\"},{\"attributes\":{\"source\":{\"id\":\"fb9b9192-4b47-444f-9001-ba9e15dfc116\",\"type\":\"ColumnDataSource\"}},\"id\":\"3eab17cc-7718-4899-88a5-7f8b2b14282c\",\"type\":\"CDSView\"},{\"attributes\":{},\"id\":\"9270956a-428e-4844-814f-43a231418fe2\",\"type\":\"LinearScale\"},{\"attributes\":{},\"id\":\"46bd3998-17c0-4e8b-9eae-4f7fa569d884\",\"type\":\"WheelZoomTool\"},{\"attributes\":{\"callback\":null,\"end\":10},\"id\":\"51c967da-12a5-4ca2-a615-fb8659a04a05\",\"type\":\"Range1d\"},{\"attributes\":{},\"id\":\"c858d75a-bbea-44c0-9c94-76f84844e135\",\"type\":\"ResetTool\"},{\"attributes\":{\"active_drag\":\"auto\",\"active_inspect\":\"auto\",\"active_multi\":null,\"active_scroll\":\"auto\",\"active_tap\":\"auto\",\"tools\":[{\"id\":\"7fcc38fe-f255-4c05-9d71-912cf136a887\",\"type\":\"PanTool\"},{\"id\":\"46bd3998-17c0-4e8b-9eae-4f7fa569d884\",\"type\":\"WheelZoomTool\"},{\"id\":\"c858d75a-bbea-44c0-9c94-76f84844e135\",\"type\":\"ResetTool\"},{\"id\":\"21934caa-541b-4a4f-9a2f-99016bda5d85\",\"type\":\"SaveTool\"},{\"id\":\"e933a3f4-8e3d-4fa8-96e3-00d85df2bb39\",\"type\":\"CrosshairTool\"}]},\"id\":\"63fc4a14-21f9-4b59-bd6a-87c671d927c2\",\"type\":\"Toolbar\"},{\"attributes\":{},\"id\":\"21934caa-541b-4a4f-9a2f-99016bda5d85\",\"type\":\"SaveTool\"},{\"attributes\":{},\"id\":\"e933a3f4-8e3d-4fa8-96e3-00d85df2bb39\",\"type\":\"CrosshairTool\"},{\"attributes\":{\"data_source\":{\"id\":\"fb9b9192-4b47-444f-9001-ba9e15dfc116\",\"type\":\"ColumnDataSource\"},\"glyph\":{\"id\":\"75cbfa28-77fd-491b-98f4-3cd81ec8fb01\",\"type\":\"Square\"},\"hover_glyph\":null,\"muted_glyph\":null,\"nonselection_glyph\":{\"id\":\"987eb624-3fbf-404a-a4dc-f80e4aad19de\",\"type\":\"Square\"},\"selection_glyph\":null,\"view\":{\"id\":\"3eab17cc-7718-4899-88a5-7f8b2b14282c\",\"type\":\"CDSView\"}},\"id\":\"315d23e6-0fbf-46e3-9d02-59d41bb49f07\",\"type\":\"GlyphRenderer\"},{\"attributes\":{\"fill_alpha\":{\"value\":0.1},\"fill_color\":{\"value\":\"#1f77b4\"},\"line_alpha\":{\"value\":0.1},\"line_color\":{\"value\":\"#1f77b4\"},\"x\":{\"field\":\"x\"},\"y\":{\"field\":\"y\"}},\"id\":\"401a618f-e83b-4436-92a0-8e2a2e7487c4\",\"type\":\"Square\"},{\"attributes\":{\"plot\":null,\"text\":\"Concentrazione massima e minima, fattore di decrescita a, dose b\"},\"id\":\"54f0415f-ad4a-4716-a399-a1ffbf2ba49f\",\"type\":\"Title\"},{\"attributes\":{\"data_source\":{\"id\":\"deb1d443-101b-4696-9296-3df1e26bc42c\",\"type\":\"ColumnDataSource\"},\"glyph\":{\"id\":\"4b7ad405-f6df-4557-bd4d-da60b84e1cf1\",\"type\":\"Square\"},\"hover_glyph\":null,\"muted_glyph\":null,\"nonselection_glyph\":{\"id\":\"401a618f-e83b-4436-92a0-8e2a2e7487c4\",\"type\":\"Square\"},\"selection_glyph\":null,\"view\":{\"id\":\"e13f8202-4e69-4e3d-8408-00a8d7297ef7\",\"type\":\"CDSView\"}},\"id\":\"32346bdc-8ebc-4430-b99b-1d2fb9a01498\",\"type\":\"GlyphRenderer\"},{\"attributes\":{\"source\":{\"id\":\"deb1d443-101b-4696-9296-3df1e26bc42c\",\"type\":\"ColumnDataSource\"}},\"id\":\"e13f8202-4e69-4e3d-8408-00a8d7297ef7\",\"type\":\"CDSView\"},{\"attributes\":{\"line_color\":\"#991111\",\"x\":{\"field\":\"x\"},\"y\":{\"field\":\"y\"}},\"id\":\"17ffa188-07bc-4a84-a9e8-eb8e420b8459\",\"type\":\"Line\"},{\"attributes\":{\"line_color\":\"#119911\",\"x\":{\"field\":\"x\"},\"y\":{\"field\":\"y\"}},\"id\":\"2fa8ea6e-55a1-4ffe-9d4a-02167e6bf4a1\",\"type\":\"Line\"},{\"attributes\":{\"callback\":null,\"data\":{\"x\":[0,1,2,3,4,5,6,7,8,9,10,11,12,13,14,15,16,17,18,19,20,21,22,23,24,25,26,27,28,29,30,31,32,33,34,35,36,37,38,39,40,41,42,43,44,45,46,47,48,49],\"y\":{\"__ndarray__\":\"AAAAAAAAAAAAAAAAAAAAQJqZmZmZmQlAXI/C9ShcD0CcxCCwcmgRQMRCrWnecRJAqcE0DB8RE0DMDYY6rHATQEcI6u8AqhNAKzhZ9mbME0CzIc+TCuETQAXhFb9s7RNAnSAN2dr0E0ArrdQbUPkTQBqbf938+xNAD10ZuJf9E0AJa0I7jv4TQDlAjiMi/xNAiCYi4nr/E0C4sEchsP8TQG/Q9xPQ/xNA3EkuP+P/E0BRLIK/7v8TQGTnGqb1/xNAbyQQyvn/E0B2rwlG/P8TQEdpn8P9/xNAxNiSqP7/E0BCtfEx//8TQCjTXYT//xNAGOXRtf//E0Db733T//8TQOqPS+X//xNAJiP67///E0Dk4WL2//8TQFVUO/r//xNAZv+J/P//E0AKZuz9//8TQAYKwf7//xNAnZ9A////E0CSLI3///8TQL4au////xNApanW////E0CWMuf///8TQFoe8f///xNANhL3////E0CHpPr///8TQB7J/P///xNARRL+////E0DD1/7///8TQA==\",\"dtype\":\"float64\",\"shape\":[50]}},\"selected\":{\"id\":\"4f6293bb-b37b-4bcf-ac65-2608056048f9\",\"type\":\"Selection\"},\"selection_policy\":{\"id\":\"83915f38-b128-48b9-86c8-82b0766c184f\",\"type\":\"UnionRenderers\"}},\"id\":\"de4ba829-a4c3-4962-8733-6fc9cd11d554\",\"type\":\"ColumnDataSource\"},{\"attributes\":{\"line_alpha\":0.1,\"line_color\":\"#1f77b4\",\"x\":{\"field\":\"x\"},\"y\":{\"field\":\"y\"}},\"id\":\"792a10a3-cff4-4ed3-b224-4d2bb0e31caa\",\"type\":\"Line\"},{\"attributes\":{\"data_source\":{\"id\":\"de4ba829-a4c3-4962-8733-6fc9cd11d554\",\"type\":\"ColumnDataSource\"},\"glyph\":{\"id\":\"2fa8ea6e-55a1-4ffe-9d4a-02167e6bf4a1\",\"type\":\"Line\"},\"hover_glyph\":null,\"muted_glyph\":null,\"nonselection_glyph\":{\"id\":\"792a10a3-cff4-4ed3-b224-4d2bb0e31caa\",\"type\":\"Line\"},\"selection_glyph\":null,\"view\":{\"id\":\"1b16bf9f-7c3d-4fee-8186-a3b74b90913a\",\"type\":\"CDSView\"}},\"id\":\"c0efd622-2452-42d0-b33d-a25837e709a7\",\"type\":\"GlyphRenderer\"},{\"attributes\":{\"callback\":null,\"data\":{\"x\":[0,1,2,3,4,5,6,7,8,9,10,11,12,13,14,15,16,17,18,19,20,21,22,23,24,25,26,27,28,29,30,31,32,33,34,35,36,37,38,39,40,41,42,43,44,45,46,47,48,49],\"y\":{\"__ndarray__\":\"AAAAAAAAAAAAAAAAAAAAQJqZmZmZmQlAXI/C9ShcD0CcxCCwcmgRQMRCrWnecRJAqcE0DB8RE0DMDYY6rHATQEcI6u8AqhNAKzhZ9mbME0CzIc+TCuETQAXhFb9s7RNAnSAN2dr0E0ArrdQbUPkTQBqbf938+xNAD10ZuJf9E0AJa0I7jv4TQDlAjiMi/xNAiCYi4nr/E0C4sEchsP8TQG/Q9xPQ/xNA3EkuP+P/E0BRLIK/7v8TQGTnGqb1/xNAbyQQyvn/E0B2rwlG/P8TQEdpn8P9/xNAxNiSqP7/E0BCtfEx//8TQCjTXYT//xNAGOXRtf//E0Db733T//8TQOqPS+X//xNAJiP67///E0Dk4WL2//8TQFVUO/r//xNAZv+J/P//E0AKZuz9//8TQAYKwf7//xNAnZ9A////E0CSLI3///8TQL4au////xNApanW////E0CWMuf///8TQFoe8f///xNANhL3////E0CHpPr///8TQB7J/P///xNARRL+////E0DD1/7///8TQA==\",\"dtype\":\"float64\",\"shape\":[50]}},\"selected\":{\"id\":\"edc29eae-d474-42c6-a531-b3fe8e42f2fc\",\"type\":\"Selection\"},\"selection_policy\":{\"id\":\"4fed561e-1f0c-42a4-9ab1-94178ff34913\",\"type\":\"UnionRenderers\"}},\"id\":\"fb9b9192-4b47-444f-9001-ba9e15dfc116\",\"type\":\"ColumnDataSource\"},{\"attributes\":{\"source\":{\"id\":\"de4ba829-a4c3-4962-8733-6fc9cd11d554\",\"type\":\"ColumnDataSource\"}},\"id\":\"1b16bf9f-7c3d-4fee-8186-a3b74b90913a\",\"type\":\"CDSView\"},{\"attributes\":{},\"id\":\"83915f38-b128-48b9-86c8-82b0766c184f\",\"type\":\"UnionRenderers\"},{\"attributes\":{\"line_alpha\":0.1,\"line_color\":\"#1f77b4\",\"x\":{\"field\":\"x\"},\"y\":{\"field\":\"y\"}},\"id\":\"880589ae-431a-466e-835c-eb5a8f07e34d\",\"type\":\"Line\"},{\"attributes\":{\"data_source\":{\"id\":\"19900046-c1f0-4a1d-b978-87ccf6db5476\",\"type\":\"ColumnDataSource\"},\"glyph\":{\"id\":\"17ffa188-07bc-4a84-a9e8-eb8e420b8459\",\"type\":\"Line\"},\"hover_glyph\":null,\"muted_glyph\":null,\"nonselection_glyph\":{\"id\":\"880589ae-431a-466e-835c-eb5a8f07e34d\",\"type\":\"Line\"},\"selection_glyph\":null,\"view\":{\"id\":\"ade61712-b855-41af-a90d-db76bd6c26d0\",\"type\":\"CDSView\"}},\"id\":\"9f98cb1c-c832-4d16-a730-66294970f4ea\",\"type\":\"GlyphRenderer\"},{\"attributes\":{\"source\":{\"id\":\"19900046-c1f0-4a1d-b978-87ccf6db5476\",\"type\":\"ColumnDataSource\"}},\"id\":\"ade61712-b855-41af-a90d-db76bd6c26d0\",\"type\":\"CDSView\"},{\"attributes\":{\"fill_alpha\":{\"value\":0.1},\"fill_color\":{\"value\":\"#1f77b4\"},\"line_alpha\":{\"value\":0.1},\"line_color\":{\"value\":\"#1f77b4\"},\"x\":{\"field\":\"x\"},\"y\":{\"field\":\"y\"}},\"id\":\"987eb624-3fbf-404a-a4dc-f80e4aad19de\",\"type\":\"Square\"},{\"attributes\":{},\"id\":\"9e64177f-5743-4004-b0a0-64204c5d1e51\",\"type\":\"BasicTickFormatter\"},{\"attributes\":{\"below\":[{\"id\":\"72460321-8569-4f2a-a27e-e6733f9b26bf\",\"type\":\"LinearAxis\"}],\"left\":[{\"id\":\"2af1cd4e-8dec-436f-ab4a-3910c707a810\",\"type\":\"LinearAxis\"}],\"plot_height\":300,\"renderers\":[{\"id\":\"72460321-8569-4f2a-a27e-e6733f9b26bf\",\"type\":\"LinearAxis\"},{\"id\":\"e69d8a95-8ace-4829-bef2-5abe4e600139\",\"type\":\"Grid\"},{\"id\":\"2af1cd4e-8dec-436f-ab4a-3910c707a810\",\"type\":\"LinearAxis\"},{\"id\":\"cba4456b-ce1b-44d6-a460-cfbbb03dda2f\",\"type\":\"Grid\"},{\"id\":\"315d23e6-0fbf-46e3-9d02-59d41bb49f07\",\"type\":\"GlyphRenderer\"},{\"id\":\"32346bdc-8ebc-4430-b99b-1d2fb9a01498\",\"type\":\"GlyphRenderer\"},{\"id\":\"c0efd622-2452-42d0-b33d-a25837e709a7\",\"type\":\"GlyphRenderer\"},{\"id\":\"9f98cb1c-c832-4d16-a730-66294970f4ea\",\"type\":\"GlyphRenderer\"}],\"title\":{\"id\":\"54f0415f-ad4a-4716-a399-a1ffbf2ba49f\",\"type\":\"Title\"},\"toolbar\":{\"id\":\"63fc4a14-21f9-4b59-bd6a-87c671d927c2\",\"type\":\"Toolbar\"},\"x_range\":{\"id\":\"51c967da-12a5-4ca2-a615-fb8659a04a05\",\"type\":\"Range1d\"},\"x_scale\":{\"id\":\"5c99e128-5784-4a44-ac68-136f13ff3759\",\"type\":\"LinearScale\"},\"y_range\":{\"id\":\"33f3e82f-ea03-41da-89a7-8905b6ec3441\",\"type\":\"Range1d\"},\"y_scale\":{\"id\":\"9270956a-428e-4844-814f-43a231418fe2\",\"type\":\"LinearScale\"}},\"id\":\"09a68abd-fc8e-47dd-8e27-e2efe28e5144\",\"subtype\":\"Figure\",\"type\":\"Plot\"},{\"attributes\":{},\"id\":\"cbbe8098-6834-4d70-bf76-bbb03511f7a2\",\"type\":\"BasicTickFormatter\"},{\"attributes\":{},\"id\":\"5c99e128-5784-4a44-ac68-136f13ff3759\",\"type\":\"LinearScale\"},{\"attributes\":{\"axis_label\":\"Tempo, in 12h\",\"formatter\":{\"id\":\"cbbe8098-6834-4d70-bf76-bbb03511f7a2\",\"type\":\"BasicTickFormatter\"},\"plot\":{\"id\":\"09a68abd-fc8e-47dd-8e27-e2efe28e5144\",\"subtype\":\"Figure\",\"type\":\"Plot\"},\"ticker\":{\"id\":\"ecb81c0c-5945-4188-963b-d70ff5352dfb\",\"type\":\"BasicTicker\"}},\"id\":\"72460321-8569-4f2a-a27e-e6733f9b26bf\",\"type\":\"LinearAxis\"},{\"attributes\":{},\"id\":\"edc29eae-d474-42c6-a531-b3fe8e42f2fc\",\"type\":\"Selection\"},{\"attributes\":{\"callback\":null,\"end\":6.94961152},\"id\":\"33f3e82f-ea03-41da-89a7-8905b6ec3441\",\"type\":\"Range1d\"},{\"attributes\":{\"plot\":{\"id\":\"09a68abd-fc8e-47dd-8e27-e2efe28e5144\",\"subtype\":\"Figure\",\"type\":\"Plot\"},\"ticker\":{\"id\":\"ecb81c0c-5945-4188-963b-d70ff5352dfb\",\"type\":\"BasicTicker\"}},\"id\":\"e69d8a95-8ace-4829-bef2-5abe4e600139\",\"type\":\"Grid\"},{\"attributes\":{},\"id\":\"4fed561e-1f0c-42a4-9ab1-94178ff34913\",\"type\":\"UnionRenderers\"},{\"attributes\":{},\"id\":\"ecb81c0c-5945-4188-963b-d70ff5352dfb\",\"type\":\"BasicTicker\"},{\"attributes\":{},\"id\":\"4b3939b3-22e7-4f7c-96a5-219ea4f9b159\",\"type\":\"Selection\"},{\"attributes\":{},\"id\":\"2947168b-759e-46ab-bbb8-12e2bf74e846\",\"type\":\"UnionRenderers\"},{\"attributes\":{\"axis_label\":\"Concentrazione farmaco\",\"formatter\":{\"id\":\"9e64177f-5743-4004-b0a0-64204c5d1e51\",\"type\":\"BasicTickFormatter\"},\"plot\":{\"id\":\"09a68abd-fc8e-47dd-8e27-e2efe28e5144\",\"subtype\":\"Figure\",\"type\":\"Plot\"},\"ticker\":{\"id\":\"ff1cec97-2df2-4c7b-8641-c0ee9a968673\",\"type\":\"BasicTicker\"}},\"id\":\"2af1cd4e-8dec-436f-ab4a-3910c707a810\",\"type\":\"LinearAxis\"},{\"attributes\":{},\"id\":\"4f6293bb-b37b-4bcf-ac65-2608056048f9\",\"type\":\"Selection\"},{\"attributes\":{},\"id\":\"ff1cec97-2df2-4c7b-8641-c0ee9a968673\",\"type\":\"BasicTicker\"},{\"attributes\":{},\"id\":\"060f998c-640d-403e-9a74-3778cc0cd1fd\",\"type\":\"Selection\"},{\"attributes\":{\"dimension\":1,\"plot\":{\"id\":\"09a68abd-fc8e-47dd-8e27-e2efe28e5144\",\"subtype\":\"Figure\",\"type\":\"Plot\"},\"ticker\":{\"id\":\"ff1cec97-2df2-4c7b-8641-c0ee9a968673\",\"type\":\"BasicTicker\"}},\"id\":\"cba4456b-ce1b-44d6-a460-cfbbb03dda2f\",\"type\":\"Grid\"},{\"attributes\":{\"fill_color\":{\"value\":\"#119911\"},\"line_color\":{\"value\":\"#119911\"},\"x\":{\"field\":\"x\"},\"y\":{\"field\":\"y\"}},\"id\":\"75cbfa28-77fd-491b-98f4-3cd81ec8fb01\",\"type\":\"Square\"},{\"attributes\":{},\"id\":\"3751476d-78ec-4618-80c4-42c17b919026\",\"type\":\"UnionRenderers\"},{\"attributes\":{\"callback\":null,\"data\":{\"x\":[0,1,2,3,4,5,6,7,8,9,10,11,12,13,14,15,16,17,18,19,20,21,22,23,24,25,26,27,28,29,30,31,32,33,34,35,36,37,38,39,40,41,42,43,44,45,46,47,48,49],\"y\":{\"__ndarray__\":\"AAAAAAAAAMAAAAAAAAAAADQzMzMzM/M/uB6F61G4/j84iUFg5dACQIiFWtO84wRAUoNpGD4iBkCYGwx1WOEGQI4Q1N8BVAdAVnCy7M2YB0BmQ54nFcIHQArCK37Z2gdAOkEasrXpB0BWWqk3oPIHQDQ2/7r59wdAHroycC/7B0AS1oR2HP0HQHKAHEdE/gdAEE1ExPX+B0BwYY9CYP8HQN6g7yeg/wdAuJNcfsb/B0CiWAR/3f8HQMjONUzr/wdA3kgglPP/B0DsXhOM+P8HQI7SPof7/wdAiLElUf3/B0CEauNj/v8HQFCmuwj//wdAMMqja///B0C23/um//8HQNQfl8r//wdATEb03///B0DIw8Xs//8HQKqodvT//wdAzP4T+f//B0AUzNj7//8HQAwUgv3//wdAOj+B/v//B0AkWRr///8HQHw1dv///wdASlOt////B0AsZc7///8HQLQ84v///wdAbCTu////B0AOSfX///8HQDyS+f///wdAiiT8////B0CGr/3///8HQA==\",\"dtype\":\"float64\",\"shape\":[50]}},\"selected\":{\"id\":\"060f998c-640d-403e-9a74-3778cc0cd1fd\",\"type\":\"Selection\"},\"selection_policy\":{\"id\":\"3751476d-78ec-4618-80c4-42c17b919026\",\"type\":\"UnionRenderers\"}},\"id\":\"19900046-c1f0-4a1d-b978-87ccf6db5476\",\"type\":\"ColumnDataSource\"}],\"root_ids\":[\"09a68abd-fc8e-47dd-8e27-e2efe28e5144\"]},\"title\":\"Bokeh Application\",\"version\":\"0.13.0\"}};\n",
       "  var render_items = [{\"docid\":\"d2565ae8-5396-4502-b598-1036bbf92e1d\",\"notebook_comms_target\":\"b56bd372-8416-4121-98ed-9b2f43b9aa27\",\"roots\":{\"09a68abd-fc8e-47dd-8e27-e2efe28e5144\":\"f32faef7-3ff3-4257-bc1c-9a003640508b\"}}];\n",
       "  root.Bokeh.embed.embed_items_notebook(docs_json, render_items);\n",
       "\n",
       "  }\n",
       "  if (root.Bokeh !== undefined) {\n",
       "    embed_document(root);\n",
       "  } else {\n",
       "    var attempts = 0;\n",
       "    var timer = setInterval(function(root) {\n",
       "      if (root.Bokeh !== undefined) {\n",
       "        embed_document(root);\n",
       "        clearInterval(timer);\n",
       "      }\n",
       "      attempts++;\n",
       "      if (attempts > 100) {\n",
       "        console.log(\"Bokeh: ERROR: Unable to run BokehJS code because BokehJS library is missing\")\n",
       "        clearInterval(timer);\n",
       "      }\n",
       "    }, 10, root)\n",
       "  }\n",
       "})(window);"
      ],
      "application/vnd.bokehjs_exec.v0+json": ""
     },
     "metadata": {
      "application/vnd.bokehjs_exec.v0+json": {
       "id": "09a68abd-fc8e-47dd-8e27-e2efe28e5144"
      }
     },
     "output_type": "display_data"
    },
    {
     "data": {
      "application/vnd.jupyter.widget-view+json": {
       "model_id": "7f679b63bc924596be84893bdb21147d",
       "version_major": 2,
       "version_minor": 0
      },
      "text/plain": [
       "interactive(children=(FloatSlider(value=0.6, description='a', max=0.8, min=0.1, style=SliderStyle(description_…"
      ]
     },
     "metadata": {},
     "output_type": "display_data"
    }
   ],
   "source": [
    "n_max = 50                      # numero massimo di iterazioni che calcolo\n",
    "n_plt =10                       # numero massimo di iterazioni visibili\n",
    "a = 0.6                         # fattore di decrescita\n",
    "r = a-1                         # tasso di decrescita\n",
    "b = 2                           # pesca/raccolto \n",
    "d0 = 0                          # concentrazione iniziale\n",
    "x = arange(n_max)               # array di tempi\n",
    "y = (d0+b/r) * (1+r)**x - b/r   # array di concentrazioni\n",
    "\n",
    "plot3 = figure(title=f\"Concentrazione massima e minima, fattore di decrescita a, dose b\", \n",
    "               x_axis_label = \"Tempo, in 12h\",\n",
    "               y_axis_label = \"Concentrazione farmaco\",\n",
    "               x_range=( 0.0,   n_plt  ),       # range da visualizzare inizialmente\n",
    "               y_range=( 0.0, y[n_plt-1]+b ),   # range da visualizzare inizialmente \n",
    "               **options,\n",
    "              )\n",
    "\n",
    "p3 = plot3.square(x, y,   color='#119911')\n",
    "q3 = plot3.square(x, y-b, color='#991111')\n",
    "p3 = plot3.line(x, y,     color='#119911')\n",
    "q3 = plot3.line(x, y-b,   color='#991111')\n",
    "def update2( a=a, b=b): \n",
    "    r = a -1\n",
    "    p3.data_source.data['x'] = x\n",
    "    p3.data_source.data['y'] =  (d0+b/r) * (1+r)**x - b/r \n",
    "    q3.data_source.data['x'] = x\n",
    "    q3.data_source.data['y'] = (d0+b/r) * (1+r)**x - b/r - b\n",
    "    push_notebook()\n",
    "\n",
    "show(plot3, notebook_handle=True)\n",
    "style = {'description_width': 'initial'}\n",
    "interact(update2,  \n",
    "         a  = FloatSlider(description=\"a\", min=.1, max=.8, step=.1, value=a, style=style),\n",
    "         b  = FloatSlider(description=\"b\", min= 0, max=4, step=1, value=b, style=style),\n",
    "         );"
   ]
  }
 ],
 "metadata": {
  "kernelspec": {
   "display_name": "Python 3",
   "language": "python",
   "name": "python3"
  },
  "language_info": {
   "codemirror_mode": {
    "name": "ipython",
    "version": 3
   },
   "file_extension": ".py",
   "mimetype": "text/x-python",
   "name": "python",
   "nbconvert_exporter": "python",
   "pygments_lexer": "ipython3",
   "version": "3.6.6"
  }
 },
 "nbformat": 4,
 "nbformat_minor": 2
}
