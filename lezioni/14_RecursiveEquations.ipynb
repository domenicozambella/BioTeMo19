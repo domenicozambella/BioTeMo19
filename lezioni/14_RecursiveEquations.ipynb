{
 "cells": [
  {
   "cell_type": "code",
   "execution_count": 12,
   "metadata": {},
   "outputs": [
    {
     "data": {
      "text/html": [
       "\n",
       "    <div class=\"bk-root\">\n",
       "        <a href=\"https://bokeh.pydata.org\" target=\"_blank\" class=\"bk-logo bk-logo-small bk-logo-notebook\"></a>\n",
       "        <span id=\"df3662e8-0480-48ac-85ba-60ed62d31c05\">Loading BokehJS ...</span>\n",
       "    </div>"
      ]
     },
     "metadata": {},
     "output_type": "display_data"
    },
    {
     "data": {
      "application/javascript": [
       "\n",
       "(function(root) {\n",
       "  function now() {\n",
       "    return new Date();\n",
       "  }\n",
       "\n",
       "  var force = true;\n",
       "\n",
       "  if (typeof (root._bokeh_onload_callbacks) === \"undefined\" || force === true) {\n",
       "    root._bokeh_onload_callbacks = [];\n",
       "    root._bokeh_is_loading = undefined;\n",
       "  }\n",
       "\n",
       "  var JS_MIME_TYPE = 'application/javascript';\n",
       "  var HTML_MIME_TYPE = 'text/html';\n",
       "  var EXEC_MIME_TYPE = 'application/vnd.bokehjs_exec.v0+json';\n",
       "  var CLASS_NAME = 'output_bokeh rendered_html';\n",
       "\n",
       "  /**\n",
       "   * Render data to the DOM node\n",
       "   */\n",
       "  function render(props, node) {\n",
       "    var script = document.createElement(\"script\");\n",
       "    node.appendChild(script);\n",
       "  }\n",
       "\n",
       "  /**\n",
       "   * Handle when an output is cleared or removed\n",
       "   */\n",
       "  function handleClearOutput(event, handle) {\n",
       "    var cell = handle.cell;\n",
       "\n",
       "    var id = cell.output_area._bokeh_element_id;\n",
       "    var server_id = cell.output_area._bokeh_server_id;\n",
       "    // Clean up Bokeh references\n",
       "    if (id != null && id in Bokeh.index) {\n",
       "      Bokeh.index[id].model.document.clear();\n",
       "      delete Bokeh.index[id];\n",
       "    }\n",
       "\n",
       "    if (server_id !== undefined) {\n",
       "      // Clean up Bokeh references\n",
       "      var cmd = \"from bokeh.io.state import curstate; print(curstate().uuid_to_server['\" + server_id + \"'].get_sessions()[0].document.roots[0]._id)\";\n",
       "      cell.notebook.kernel.execute(cmd, {\n",
       "        iopub: {\n",
       "          output: function(msg) {\n",
       "            var id = msg.content.text.trim();\n",
       "            if (id in Bokeh.index) {\n",
       "              Bokeh.index[id].model.document.clear();\n",
       "              delete Bokeh.index[id];\n",
       "            }\n",
       "          }\n",
       "        }\n",
       "      });\n",
       "      // Destroy server and session\n",
       "      var cmd = \"import bokeh.io.notebook as ion; ion.destroy_server('\" + server_id + \"')\";\n",
       "      cell.notebook.kernel.execute(cmd);\n",
       "    }\n",
       "  }\n",
       "\n",
       "  /**\n",
       "   * Handle when a new output is added\n",
       "   */\n",
       "  function handleAddOutput(event, handle) {\n",
       "    var output_area = handle.output_area;\n",
       "    var output = handle.output;\n",
       "\n",
       "    // limit handleAddOutput to display_data with EXEC_MIME_TYPE content only\n",
       "    if ((output.output_type != \"display_data\") || (!output.data.hasOwnProperty(EXEC_MIME_TYPE))) {\n",
       "      return\n",
       "    }\n",
       "\n",
       "    var toinsert = output_area.element.find(\".\" + CLASS_NAME.split(' ')[0]);\n",
       "\n",
       "    if (output.metadata[EXEC_MIME_TYPE][\"id\"] !== undefined) {\n",
       "      toinsert[toinsert.length - 1].firstChild.textContent = output.data[JS_MIME_TYPE];\n",
       "      // store reference to embed id on output_area\n",
       "      output_area._bokeh_element_id = output.metadata[EXEC_MIME_TYPE][\"id\"];\n",
       "    }\n",
       "    if (output.metadata[EXEC_MIME_TYPE][\"server_id\"] !== undefined) {\n",
       "      var bk_div = document.createElement(\"div\");\n",
       "      bk_div.innerHTML = output.data[HTML_MIME_TYPE];\n",
       "      var script_attrs = bk_div.children[0].attributes;\n",
       "      for (var i = 0; i < script_attrs.length; i++) {\n",
       "        toinsert[toinsert.length - 1].firstChild.setAttribute(script_attrs[i].name, script_attrs[i].value);\n",
       "      }\n",
       "      // store reference to server id on output_area\n",
       "      output_area._bokeh_server_id = output.metadata[EXEC_MIME_TYPE][\"server_id\"];\n",
       "    }\n",
       "  }\n",
       "\n",
       "  function register_renderer(events, OutputArea) {\n",
       "\n",
       "    function append_mime(data, metadata, element) {\n",
       "      // create a DOM node to render to\n",
       "      var toinsert = this.create_output_subarea(\n",
       "        metadata,\n",
       "        CLASS_NAME,\n",
       "        EXEC_MIME_TYPE\n",
       "      );\n",
       "      this.keyboard_manager.register_events(toinsert);\n",
       "      // Render to node\n",
       "      var props = {data: data, metadata: metadata[EXEC_MIME_TYPE]};\n",
       "      render(props, toinsert[toinsert.length - 1]);\n",
       "      element.append(toinsert);\n",
       "      return toinsert\n",
       "    }\n",
       "\n",
       "    /* Handle when an output is cleared or removed */\n",
       "    events.on('clear_output.CodeCell', handleClearOutput);\n",
       "    events.on('delete.Cell', handleClearOutput);\n",
       "\n",
       "    /* Handle when a new output is added */\n",
       "    events.on('output_added.OutputArea', handleAddOutput);\n",
       "\n",
       "    /**\n",
       "     * Register the mime type and append_mime function with output_area\n",
       "     */\n",
       "    OutputArea.prototype.register_mime_type(EXEC_MIME_TYPE, append_mime, {\n",
       "      /* Is output safe? */\n",
       "      safe: true,\n",
       "      /* Index of renderer in `output_area.display_order` */\n",
       "      index: 0\n",
       "    });\n",
       "  }\n",
       "\n",
       "  // register the mime type if in Jupyter Notebook environment and previously unregistered\n",
       "  if (root.Jupyter !== undefined) {\n",
       "    var events = require('base/js/events');\n",
       "    var OutputArea = require('notebook/js/outputarea').OutputArea;\n",
       "\n",
       "    if (OutputArea.prototype.mime_types().indexOf(EXEC_MIME_TYPE) == -1) {\n",
       "      register_renderer(events, OutputArea);\n",
       "    }\n",
       "  }\n",
       "\n",
       "  \n",
       "  if (typeof (root._bokeh_timeout) === \"undefined\" || force === true) {\n",
       "    root._bokeh_timeout = Date.now() + 5000;\n",
       "    root._bokeh_failed_load = false;\n",
       "  }\n",
       "\n",
       "  var NB_LOAD_WARNING = {'data': {'text/html':\n",
       "     \"<div style='background-color: #fdd'>\\n\"+\n",
       "     \"<p>\\n\"+\n",
       "     \"BokehJS does not appear to have successfully loaded. If loading BokehJS from CDN, this \\n\"+\n",
       "     \"may be due to a slow or bad network connection. Possible fixes:\\n\"+\n",
       "     \"</p>\\n\"+\n",
       "     \"<ul>\\n\"+\n",
       "     \"<li>re-rerun `output_notebook()` to attempt to load from CDN again, or</li>\\n\"+\n",
       "     \"<li>use INLINE resources instead, as so:</li>\\n\"+\n",
       "     \"</ul>\\n\"+\n",
       "     \"<code>\\n\"+\n",
       "     \"from bokeh.resources import INLINE\\n\"+\n",
       "     \"output_notebook(resources=INLINE)\\n\"+\n",
       "     \"</code>\\n\"+\n",
       "     \"</div>\"}};\n",
       "\n",
       "  function display_loaded() {\n",
       "    var el = document.getElementById(\"df3662e8-0480-48ac-85ba-60ed62d31c05\");\n",
       "    if (el != null) {\n",
       "      el.textContent = \"BokehJS is loading...\";\n",
       "    }\n",
       "    if (root.Bokeh !== undefined) {\n",
       "      if (el != null) {\n",
       "        el.textContent = \"BokehJS \" + root.Bokeh.version + \" successfully loaded.\";\n",
       "      }\n",
       "    } else if (Date.now() < root._bokeh_timeout) {\n",
       "      setTimeout(display_loaded, 100)\n",
       "    }\n",
       "  }\n",
       "\n",
       "\n",
       "  function run_callbacks() {\n",
       "    try {\n",
       "      root._bokeh_onload_callbacks.forEach(function(callback) { callback() });\n",
       "    }\n",
       "    finally {\n",
       "      delete root._bokeh_onload_callbacks\n",
       "    }\n",
       "    console.info(\"Bokeh: all callbacks have finished\");\n",
       "  }\n",
       "\n",
       "  function load_libs(js_urls, callback) {\n",
       "    root._bokeh_onload_callbacks.push(callback);\n",
       "    if (root._bokeh_is_loading > 0) {\n",
       "      console.log(\"Bokeh: BokehJS is being loaded, scheduling callback at\", now());\n",
       "      return null;\n",
       "    }\n",
       "    if (js_urls == null || js_urls.length === 0) {\n",
       "      run_callbacks();\n",
       "      return null;\n",
       "    }\n",
       "    console.log(\"Bokeh: BokehJS not loaded, scheduling load and callback at\", now());\n",
       "    root._bokeh_is_loading = js_urls.length;\n",
       "    for (var i = 0; i < js_urls.length; i++) {\n",
       "      var url = js_urls[i];\n",
       "      var s = document.createElement('script');\n",
       "      s.src = url;\n",
       "      s.async = false;\n",
       "      s.onreadystatechange = s.onload = function() {\n",
       "        root._bokeh_is_loading--;\n",
       "        if (root._bokeh_is_loading === 0) {\n",
       "          console.log(\"Bokeh: all BokehJS libraries loaded\");\n",
       "          run_callbacks()\n",
       "        }\n",
       "      };\n",
       "      s.onerror = function() {\n",
       "        console.warn(\"failed to load library \" + url);\n",
       "      };\n",
       "      console.log(\"Bokeh: injecting script tag for BokehJS library: \", url);\n",
       "      document.getElementsByTagName(\"head\")[0].appendChild(s);\n",
       "    }\n",
       "  };var element = document.getElementById(\"df3662e8-0480-48ac-85ba-60ed62d31c05\");\n",
       "  if (element == null) {\n",
       "    console.log(\"Bokeh: ERROR: autoload.js configured with elementid 'df3662e8-0480-48ac-85ba-60ed62d31c05' but no matching script tag was found. \")\n",
       "    return false;\n",
       "  }\n",
       "\n",
       "  var js_urls = [\"https://cdn.pydata.org/bokeh/release/bokeh-0.13.0.min.js\", \"https://cdn.pydata.org/bokeh/release/bokeh-widgets-0.13.0.min.js\", \"https://cdn.pydata.org/bokeh/release/bokeh-tables-0.13.0.min.js\", \"https://cdn.pydata.org/bokeh/release/bokeh-gl-0.13.0.min.js\"];\n",
       "\n",
       "  var inline_js = [\n",
       "    function(Bokeh) {\n",
       "      Bokeh.set_log_level(\"info\");\n",
       "    },\n",
       "    \n",
       "    function(Bokeh) {\n",
       "      \n",
       "    },\n",
       "    function(Bokeh) {\n",
       "      console.log(\"Bokeh: injecting CSS: https://cdn.pydata.org/bokeh/release/bokeh-0.13.0.min.css\");\n",
       "      Bokeh.embed.inject_css(\"https://cdn.pydata.org/bokeh/release/bokeh-0.13.0.min.css\");\n",
       "      console.log(\"Bokeh: injecting CSS: https://cdn.pydata.org/bokeh/release/bokeh-widgets-0.13.0.min.css\");\n",
       "      Bokeh.embed.inject_css(\"https://cdn.pydata.org/bokeh/release/bokeh-widgets-0.13.0.min.css\");\n",
       "      console.log(\"Bokeh: injecting CSS: https://cdn.pydata.org/bokeh/release/bokeh-tables-0.13.0.min.css\");\n",
       "      Bokeh.embed.inject_css(\"https://cdn.pydata.org/bokeh/release/bokeh-tables-0.13.0.min.css\");\n",
       "    }\n",
       "  ];\n",
       "\n",
       "  function run_inline_js() {\n",
       "    \n",
       "    if ((root.Bokeh !== undefined) || (force === true)) {\n",
       "      for (var i = 0; i < inline_js.length; i++) {\n",
       "        inline_js[i].call(root, root.Bokeh);\n",
       "      }if (force === true) {\n",
       "        display_loaded();\n",
       "      }} else if (Date.now() < root._bokeh_timeout) {\n",
       "      setTimeout(run_inline_js, 100);\n",
       "    } else if (!root._bokeh_failed_load) {\n",
       "      console.log(\"Bokeh: BokehJS failed to load within specified timeout.\");\n",
       "      root._bokeh_failed_load = true;\n",
       "    } else if (force !== true) {\n",
       "      var cell = $(document.getElementById(\"df3662e8-0480-48ac-85ba-60ed62d31c05\")).parents('.cell').data().cell;\n",
       "      cell.output_area.append_execute_result(NB_LOAD_WARNING)\n",
       "    }\n",
       "\n",
       "  }\n",
       "\n",
       "  if (root._bokeh_is_loading === 0) {\n",
       "    console.log(\"Bokeh: BokehJS loaded, going straight to plotting\");\n",
       "    run_inline_js();\n",
       "  } else {\n",
       "    load_libs(js_urls, function() {\n",
       "      console.log(\"Bokeh: BokehJS plotting callback run at\", now());\n",
       "      run_inline_js();\n",
       "    });\n",
       "  }\n",
       "}(window));"
      ],
      "application/vnd.bokehjs_load.v0+json": "\n(function(root) {\n  function now() {\n    return new Date();\n  }\n\n  var force = true;\n\n  if (typeof (root._bokeh_onload_callbacks) === \"undefined\" || force === true) {\n    root._bokeh_onload_callbacks = [];\n    root._bokeh_is_loading = undefined;\n  }\n\n  \n\n  \n  if (typeof (root._bokeh_timeout) === \"undefined\" || force === true) {\n    root._bokeh_timeout = Date.now() + 5000;\n    root._bokeh_failed_load = false;\n  }\n\n  var NB_LOAD_WARNING = {'data': {'text/html':\n     \"<div style='background-color: #fdd'>\\n\"+\n     \"<p>\\n\"+\n     \"BokehJS does not appear to have successfully loaded. If loading BokehJS from CDN, this \\n\"+\n     \"may be due to a slow or bad network connection. Possible fixes:\\n\"+\n     \"</p>\\n\"+\n     \"<ul>\\n\"+\n     \"<li>re-rerun `output_notebook()` to attempt to load from CDN again, or</li>\\n\"+\n     \"<li>use INLINE resources instead, as so:</li>\\n\"+\n     \"</ul>\\n\"+\n     \"<code>\\n\"+\n     \"from bokeh.resources import INLINE\\n\"+\n     \"output_notebook(resources=INLINE)\\n\"+\n     \"</code>\\n\"+\n     \"</div>\"}};\n\n  function display_loaded() {\n    var el = document.getElementById(\"df3662e8-0480-48ac-85ba-60ed62d31c05\");\n    if (el != null) {\n      el.textContent = \"BokehJS is loading...\";\n    }\n    if (root.Bokeh !== undefined) {\n      if (el != null) {\n        el.textContent = \"BokehJS \" + root.Bokeh.version + \" successfully loaded.\";\n      }\n    } else if (Date.now() < root._bokeh_timeout) {\n      setTimeout(display_loaded, 100)\n    }\n  }\n\n\n  function run_callbacks() {\n    try {\n      root._bokeh_onload_callbacks.forEach(function(callback) { callback() });\n    }\n    finally {\n      delete root._bokeh_onload_callbacks\n    }\n    console.info(\"Bokeh: all callbacks have finished\");\n  }\n\n  function load_libs(js_urls, callback) {\n    root._bokeh_onload_callbacks.push(callback);\n    if (root._bokeh_is_loading > 0) {\n      console.log(\"Bokeh: BokehJS is being loaded, scheduling callback at\", now());\n      return null;\n    }\n    if (js_urls == null || js_urls.length === 0) {\n      run_callbacks();\n      return null;\n    }\n    console.log(\"Bokeh: BokehJS not loaded, scheduling load and callback at\", now());\n    root._bokeh_is_loading = js_urls.length;\n    for (var i = 0; i < js_urls.length; i++) {\n      var url = js_urls[i];\n      var s = document.createElement('script');\n      s.src = url;\n      s.async = false;\n      s.onreadystatechange = s.onload = function() {\n        root._bokeh_is_loading--;\n        if (root._bokeh_is_loading === 0) {\n          console.log(\"Bokeh: all BokehJS libraries loaded\");\n          run_callbacks()\n        }\n      };\n      s.onerror = function() {\n        console.warn(\"failed to load library \" + url);\n      };\n      console.log(\"Bokeh: injecting script tag for BokehJS library: \", url);\n      document.getElementsByTagName(\"head\")[0].appendChild(s);\n    }\n  };var element = document.getElementById(\"df3662e8-0480-48ac-85ba-60ed62d31c05\");\n  if (element == null) {\n    console.log(\"Bokeh: ERROR: autoload.js configured with elementid 'df3662e8-0480-48ac-85ba-60ed62d31c05' but no matching script tag was found. \")\n    return false;\n  }\n\n  var js_urls = [\"https://cdn.pydata.org/bokeh/release/bokeh-0.13.0.min.js\", \"https://cdn.pydata.org/bokeh/release/bokeh-widgets-0.13.0.min.js\", \"https://cdn.pydata.org/bokeh/release/bokeh-tables-0.13.0.min.js\", \"https://cdn.pydata.org/bokeh/release/bokeh-gl-0.13.0.min.js\"];\n\n  var inline_js = [\n    function(Bokeh) {\n      Bokeh.set_log_level(\"info\");\n    },\n    \n    function(Bokeh) {\n      \n    },\n    function(Bokeh) {\n      console.log(\"Bokeh: injecting CSS: https://cdn.pydata.org/bokeh/release/bokeh-0.13.0.min.css\");\n      Bokeh.embed.inject_css(\"https://cdn.pydata.org/bokeh/release/bokeh-0.13.0.min.css\");\n      console.log(\"Bokeh: injecting CSS: https://cdn.pydata.org/bokeh/release/bokeh-widgets-0.13.0.min.css\");\n      Bokeh.embed.inject_css(\"https://cdn.pydata.org/bokeh/release/bokeh-widgets-0.13.0.min.css\");\n      console.log(\"Bokeh: injecting CSS: https://cdn.pydata.org/bokeh/release/bokeh-tables-0.13.0.min.css\");\n      Bokeh.embed.inject_css(\"https://cdn.pydata.org/bokeh/release/bokeh-tables-0.13.0.min.css\");\n    }\n  ];\n\n  function run_inline_js() {\n    \n    if ((root.Bokeh !== undefined) || (force === true)) {\n      for (var i = 0; i < inline_js.length; i++) {\n        inline_js[i].call(root, root.Bokeh);\n      }if (force === true) {\n        display_loaded();\n      }} else if (Date.now() < root._bokeh_timeout) {\n      setTimeout(run_inline_js, 100);\n    } else if (!root._bokeh_failed_load) {\n      console.log(\"Bokeh: BokehJS failed to load within specified timeout.\");\n      root._bokeh_failed_load = true;\n    } else if (force !== true) {\n      var cell = $(document.getElementById(\"df3662e8-0480-48ac-85ba-60ed62d31c05\")).parents('.cell').data().cell;\n      cell.output_area.append_execute_result(NB_LOAD_WARNING)\n    }\n\n  }\n\n  if (root._bokeh_is_loading === 0) {\n    console.log(\"Bokeh: BokehJS loaded, going straight to plotting\");\n    run_inline_js();\n  } else {\n    load_libs(js_urls, function() {\n      console.log(\"Bokeh: BokehJS plotting callback run at\", now());\n      run_inline_js();\n    });\n  }\n}(window));"
     },
     "metadata": {},
     "output_type": "display_data"
    },
    {
     "data": {
      "text/html": [
       "<style>\n",
       "div.jp-MarkdownOutput {font-family: \"Times New Roman\", Times, serif;   \n",
       "    background-color: #eee; \n",
       "    border-left: 5px solid #00b5b4;\n",
       "    font-size: 14pt;\n",
       "    line-height: 160%;\n",
       "}\n",
       ".text_cell_render {\n",
       "    font-family: \"Times New Roman\", Times, serif;    \n",
       "    background-color: #eee; \n",
       "    border-left: 5px solid #00b5b4;\n",
       "    font-size: 14pt;\n",
       "    line-height: 160%;\n",
       "}\n",
       "\n",
       "h1 {\n",
       "    font-size: larger !important;\n",
       "    margin-top: 0ex !important;\n",
       "}\n",
       "\n",
       "h2 {\n",
       "    font-size: 14pt !important;\n",
       "    margin-top: 0ex !important;\n",
       "    margin-bottom: 0ex !important;\n",
       "    padding-bottom: 0ex !important;\n",
       "}\n",
       "\n",
       "h3 {\n",
       "    font-size: 14pt !important;\n",
       "    margin-top: 0ex !important;\n",
       "    margin-bottom: 0ex !important;\n",
       "    padding-bottom: 0ex !important;\n",
       "}\n",
       "\n",
       "mark {\n",
       "    background-color: #ffdd00;\n",
       "    border-top-right-radius: 5px;\n",
       "    border-top-left-radius: 5px;\n",
       "    border-bottom-right-radius: 5px;\n",
       "    border-bottom-left-radius: 5px;\n",
       "    padding-top: 0.1ex;\n",
       "    padding-bottom: 0.2ex;\n",
       "    padding-left: 0.7ex;\n",
       "    padding-right: 0.7ex;\n",
       "}\n",
       "\n",
       ".ita {\n",
       "    background-color: #bbddee;\n",
       "}\n",
       "\n",
       ".errore {background-color:#d88;\n",
       "        width:310px;\n",
       "        height:17ex;\n",
       "        display:inline-block;\n",
       "        margin:5px;\n",
       "        padding:8px;\n",
       "}\n",
       "\n",
       ".corretto {background-color:#2d8;\n",
       "        width:310px;\n",
       "        height:17ex;\n",
       "        display:inline-block;\n",
       "        margin:5px;\n",
       "        padding:8px;\n",
       "}\n",
       "\n",
       "n-a {background-color: #ffdddd;}\n",
       "\n",
       "ul, ol {\n",
       "     padding-left: 2ex !important;\n",
       "}\n",
       "ul {\n",
       "     margin-top: 0ex !important;\n",
       "     margin-bottom: 0ex !important;\n",
       "     list-style-type: square !important;\n",
       "}\n",
       "\n",
       "div.warn {    \n",
       "    background-color: #fcf2f2;\n",
       "    border-color: #dFb5b4;\n",
       "    border-left: 5px solid #dfb5b4;\n",
       "    margin-top: 1ex;\n",
       "    padding: 1ex;\n",
       "}\n",
       ".right{\n",
       "    float:right\n",
       "}\n",
       "\n",
       "hr { \n",
       "    display: block;\n",
       "    margin-top: 0.5ex;\n",
       "    margin-bottom: 0.5ex;\n",
       "    margin-left: auto;\n",
       "    margin-right: auto;\n",
       "    border-style: inset;\n",
       "    border-width: 1px;\n",
       "}\n",
       "</style>\n"
      ],
      "text/plain": [
       "<IPython.core.display.HTML object>"
      ]
     },
     "execution_count": 12,
     "metadata": {},
     "output_type": "execute_result"
    }
   ],
   "source": [
    "# RUN THIS CELL:this loads functions for numerical arrays\n",
    "from numpy import array, arange, linspace\n",
    "\n",
    "# this loads functions for statistical functions\n",
    "from scipy.stats import binom, norm\n",
    "\n",
    "# this loads functions for graphic output and set some global options\n",
    "from bokeh.io import push_notebook, show, output_notebook, output_file\n",
    "from bokeh.plotting import figure\n",
    "output_notebook()\n",
    "options = dict(plot_height=300, plot_width=600, tools=\"pan,wheel_zoom,reset,save,crosshair\")\n",
    "\n",
    "# this loads functions for interactions with the graphic\n",
    "from ipywidgets import interact, fixed, FloatSlider, IntSlider, Button, Checkbox, HBox, Label\n",
    "\n",
    "# this loads some HTML style files\n",
    "from IPython.core.display import HTML\n",
    "with open( './style/custom.css', 'r' ) as f: html_style = f.read()\n",
    "HTML( html_style )"
   ]
  },
  {
   "cell_type": "markdown",
   "metadata": {},
   "source": [
    "# Crescita malthusiana (in tempo discreto)\n",
    "\n",
    "Supponiamo che una certa popolazione di batteri in condizioni ottimali (bassa densità e abbondante nutrimento) cresca ogni quarto d'ora del $20\\%$. Chiamiamo $d_0$ la densità al tempo $0$ e $d_n$ la densità dopo $n$ quarti d'ora. \n",
    "\n",
    "Esempio numerico. Supponiamo che la concentrazione iniziale sia $4.5$ in una qualche unità di misura. Posto \n",
    "\n",
    "$d_0 = 4.5$\n",
    "\n",
    "$d_1 = (1+0.2) \\cdot d_0 = 1.2\\cdot  4.5 = 5.4$ \n",
    "\n",
    "$d_2 = (1+0.2) \\cdot d_1 = 1.2\\cdot  5.4 = 6.48$\n",
    "\n",
    "$d_3 = (1+0.2) \\cdot d_2 = $ \n",
    "\n",
    "ecc., ecc.\n",
    "\n",
    "$d_n = (1+0.2) \\cdot d_{n-1}\\quad$ per ogni $n>1$\n",
    "\n",
    "o anche \n",
    "\n",
    "$d_{n+1} = (1+0.2) \\cdot d_n\\quad$ per ogni $n>0$"
   ]
  },
  {
   "cell_type": "code",
   "execution_count": 13,
   "metadata": {
    "scrolled": true
   },
   "outputs": [
    {
     "data": {
      "text/html": [
       "\n",
       "\n",
       "\n",
       "\n",
       "\n",
       "\n",
       "  <div class=\"bk-root\" id=\"1da1e632-3866-443d-ac2b-a5bafe5bee26\"></div>\n"
      ]
     },
     "metadata": {},
     "output_type": "display_data"
    },
    {
     "data": {
      "application/javascript": [
       "(function(root) {\n",
       "  function embed_document(root) {\n",
       "    \n",
       "  var docs_json = {\"7842e928-b682-4e99-b03d-2050894bfae9\":{\"roots\":{\"references\":[{\"attributes\":{},\"id\":\"7b66ff99-6411-4318-97d7-cb6f5d56b325\",\"type\":\"BasicTickFormatter\"},{\"attributes\":{},\"id\":\"d5b2089e-c896-4393-9381-31e9fd5d1d15\",\"type\":\"UnionRenderers\"},{\"attributes\":{\"callback\":null,\"data\":{\"x\":[0,1,2,3,4,5,6,7,8,9,10,11,12,13,14,15,16,17,18,19,20,21,22,23,24,25,26,27,28,29,30,31,32,33,34,35,36,37,38,39,40,41,42,43,44,45,46,47,48,49],\"y\":{\"__ndarray__\":\"AAAAAAAAEkCZmZmZmZkVQOtRuB6F6xlAs8h2vp8aH0DS3uALk6kiQC7YDdsWZSZA0WndBrXfKkCxch4E0x8wQAfwip5jWTNAormmJBE4N0BbeC5f4dw7QAMVT2y6t0BAnn/4gawPREDwZV0CzxJIQB9Ho89e40xAE5H74jhVUUAWrvqpqsxUQIBqxpiZ9VhANOa6HYXzXUAfitYRg/hhQCUMm0idkGVAYNuGvbzgaUA/B9VJrw1vQFgEs5LPoXJAajg948VbdkBM3a8Qh9R6QC3rz9YdGYBAak3GAVdRg0AYkIdoaC6HQE8TCRdK0YtAyT7SDcawkEDy5JUQVAeUQO5FGkfLCJhAULpSVVrXnEDKb/7/Ak6hQFi5l5kDxKRAA3gchTfrqEAEkIhsD+etQM+8HkEJ8bFA+EiLtKSHtUBdJKfY+NW5QG/4LjfEAL9A3GFPVA+awkBudZLLeFLGQIQmFsFdycpAGxfac2sS0ECH6Di+TUnTQAgXEbHDJNdAPbVHobfF20Al0/eT1KngQA==\",\"dtype\":\"float64\",\"shape\":[50]}},\"selected\":{\"id\":\"d427276d-79f3-4e7c-be97-3621c8de624d\",\"type\":\"Selection\"},\"selection_policy\":{\"id\":\"d5b2089e-c896-4393-9381-31e9fd5d1d15\",\"type\":\"UnionRenderers\"}},\"id\":\"fcb25422-2bf2-46b8-b8a3-8e4545de5a81\",\"type\":\"ColumnDataSource\"},{\"attributes\":{\"fill_alpha\":{\"value\":0.1},\"fill_color\":{\"value\":\"#1f77b4\"},\"line_alpha\":{\"value\":0.1},\"line_color\":{\"value\":\"#1f77b4\"},\"x\":{\"field\":\"x\"},\"y\":{\"field\":\"y\"}},\"id\":\"f90b4851-96aa-47c7-8e6f-5334a689900b\",\"type\":\"Square\"},{\"attributes\":{\"plot\":null,\"text\":\"Crescita malthusiana. Tasso di crescita 0.2  Concentrazione iniziale 4.5\"},\"id\":\"cacdeebf-1ea8-4d18-b103-72dcf958c7b8\",\"type\":\"Title\"},{\"attributes\":{\"axis_label\":\"Tempo, in quarti d'ora\",\"formatter\":{\"id\":\"7b66ff99-6411-4318-97d7-cb6f5d56b325\",\"type\":\"BasicTickFormatter\"},\"plot\":{\"id\":\"f7e78bd0-5d28-4712-8eae-6d1d7a54584c\",\"subtype\":\"Figure\",\"type\":\"Plot\"},\"ticker\":{\"id\":\"59423be0-5afa-4488-ad6a-883de49abc8e\",\"type\":\"BasicTicker\"}},\"id\":\"d0de3bc2-099e-46e4-be9a-8d749a8f1eea\",\"type\":\"LinearAxis\"},{\"attributes\":{},\"id\":\"f2b0991d-e828-41b1-88ce-195c9ae072e1\",\"type\":\"WheelZoomTool\"},{\"attributes\":{\"source\":{\"id\":\"fcb25422-2bf2-46b8-b8a3-8e4545de5a81\",\"type\":\"ColumnDataSource\"}},\"id\":\"c8745273-37c4-44cb-b9da-7257cdccccef\",\"type\":\"CDSView\"},{\"attributes\":{},\"id\":\"59423be0-5afa-4488-ad6a-883de49abc8e\",\"type\":\"BasicTicker\"},{\"attributes\":{},\"id\":\"30edf673-3cca-435b-b496-7183119d0ae2\",\"type\":\"BasicTickFormatter\"},{\"attributes\":{},\"id\":\"a43124ab-a658-4b18-9fc5-8e8a797557a4\",\"type\":\"BasicTicker\"},{\"attributes\":{\"fill_color\":{\"value\":\"#119911\"},\"line_color\":{\"value\":\"#119911\"},\"x\":{\"field\":\"x\"},\"y\":{\"field\":\"y\"}},\"id\":\"0a7bd97d-680c-4cb1-8a08-88d32f13eec4\",\"type\":\"Square\"},{\"attributes\":{\"dimension\":1,\"plot\":{\"id\":\"f7e78bd0-5d28-4712-8eae-6d1d7a54584c\",\"subtype\":\"Figure\",\"type\":\"Plot\"},\"ticker\":{\"id\":\"a43124ab-a658-4b18-9fc5-8e8a797557a4\",\"type\":\"BasicTicker\"}},\"id\":\"520694d4-1c20-4bf4-8f00-fd7a01303cc0\",\"type\":\"Grid\"},{\"attributes\":{},\"id\":\"92cc0e65-3567-4b4f-81c2-45c7f968cabf\",\"type\":\"CrosshairTool\"},{\"attributes\":{\"axis_label\":\"Concentrazione\",\"formatter\":{\"id\":\"30edf673-3cca-435b-b496-7183119d0ae2\",\"type\":\"BasicTickFormatter\"},\"plot\":{\"id\":\"f7e78bd0-5d28-4712-8eae-6d1d7a54584c\",\"subtype\":\"Figure\",\"type\":\"Plot\"},\"ticker\":{\"id\":\"a43124ab-a658-4b18-9fc5-8e8a797557a4\",\"type\":\"BasicTicker\"}},\"id\":\"d9bdf3c1-7e94-4e9e-b15e-540ff6f143d4\",\"type\":\"LinearAxis\"},{\"attributes\":{\"callback\":null,\"end\":10,\"start\":-0.5},\"id\":\"22c5331b-06cd-458a-80b8-820ee1888e52\",\"type\":\"Range1d\"},{\"attributes\":{\"plot\":{\"id\":\"f7e78bd0-5d28-4712-8eae-6d1d7a54584c\",\"subtype\":\"Figure\",\"type\":\"Plot\"},\"ticker\":{\"id\":\"59423be0-5afa-4488-ad6a-883de49abc8e\",\"type\":\"BasicTicker\"}},\"id\":\"ec19fac6-3b6b-41a4-9dd2-3a0101937917\",\"type\":\"Grid\"},{\"attributes\":{\"active_drag\":\"auto\",\"active_inspect\":\"auto\",\"active_multi\":null,\"active_scroll\":\"auto\",\"active_tap\":\"auto\",\"tools\":[{\"id\":\"8c3b80f7-0885-43ae-923b-d3e8b3a934c0\",\"type\":\"PanTool\"},{\"id\":\"f2b0991d-e828-41b1-88ce-195c9ae072e1\",\"type\":\"WheelZoomTool\"},{\"id\":\"6c832dac-ce5c-4273-b6cb-92a2051e4192\",\"type\":\"ResetTool\"},{\"id\":\"b56a1d61-17a5-4b72-891a-3903ab18a42c\",\"type\":\"SaveTool\"},{\"id\":\"92cc0e65-3567-4b4f-81c2-45c7f968cabf\",\"type\":\"CrosshairTool\"}]},\"id\":\"edff68c1-8a76-4949-a4e9-d6c04cca3d56\",\"type\":\"Toolbar\"},{\"attributes\":{},\"id\":\"b8503d67-1ba6-40f6-94ce-0918e9c3c633\",\"type\":\"LinearScale\"},{\"attributes\":{\"callback\":null,\"data\":{\"x\":[0,1,2,3,4,5,6,7,8,9,10,11,12,13,14,15,16,17,18,19,20,21,22,23,24,25,26,27,28,29,30,31,32,33,34,35,36,37,38,39,40,41,42,43,44,45,46,47,48,49],\"y\":{\"__ndarray__\":\"AAAAAAAAEkCZmZmZmZkVQOtRuB6F6xlAs8h2vp8aH0DS3uALk6kiQC7YDdsWZSZA0WndBrXfKkCxch4E0x8wQAfwip5jWTNAormmJBE4N0BbeC5f4dw7QAMVT2y6t0BAnn/4gawPREDwZV0CzxJIQB9Ho89e40xAE5H74jhVUUAWrvqpqsxUQIBqxpiZ9VhANOa6HYXzXUAfitYRg/hhQCUMm0idkGVAYNuGvbzgaUA/B9VJrw1vQFgEs5LPoXJAajg948VbdkBM3a8Qh9R6QC3rz9YdGYBAak3GAVdRg0AYkIdoaC6HQE8TCRdK0YtAyT7SDcawkEDy5JUQVAeUQO5FGkfLCJhAULpSVVrXnEDKb/7/Ak6hQFi5l5kDxKRAA3gchTfrqEAEkIhsD+etQM+8HkEJ8bFA+EiLtKSHtUBdJKfY+NW5QG/4LjfEAL9A3GFPVA+awkBudZLLeFLGQIQmFsFdycpAGxfac2sS0ECH6Di+TUnTQAgXEbHDJNdAPbVHobfF20Al0/eT1KngQA==\",\"dtype\":\"float64\",\"shape\":[50]}},\"selected\":{\"id\":\"21993d89-8303-4420-8336-a50e85121500\",\"type\":\"Selection\"},\"selection_policy\":{\"id\":\"d672ad42-fcce-4227-8325-8ad1199808a5\",\"type\":\"UnionRenderers\"}},\"id\":\"666657c1-8e8d-4838-9e3b-fa5f5faf309b\",\"type\":\"ColumnDataSource\"},{\"attributes\":{\"callback\":null,\"end\":27.86281390079999},\"id\":\"93d9f56f-cb94-44c2-8d7b-b3d5363c5c4c\",\"type\":\"Range1d\"},{\"attributes\":{},\"id\":\"e6220f0e-bb65-43a4-95b5-808523d9a03a\",\"type\":\"LinearScale\"},{\"attributes\":{},\"id\":\"b56a1d61-17a5-4b72-891a-3903ab18a42c\",\"type\":\"SaveTool\"},{\"attributes\":{},\"id\":\"d427276d-79f3-4e7c-be97-3621c8de624d\",\"type\":\"Selection\"},{\"attributes\":{},\"id\":\"d672ad42-fcce-4227-8325-8ad1199808a5\",\"type\":\"UnionRenderers\"},{\"attributes\":{},\"id\":\"21993d89-8303-4420-8336-a50e85121500\",\"type\":\"Selection\"},{\"attributes\":{\"data_source\":{\"id\":\"666657c1-8e8d-4838-9e3b-fa5f5faf309b\",\"type\":\"ColumnDataSource\"},\"glyph\":{\"id\":\"d01c2f90-7d60-4272-a169-f194f48a8143\",\"type\":\"Line\"},\"hover_glyph\":null,\"muted_glyph\":null,\"nonselection_glyph\":{\"id\":\"657b06de-d1e9-4cc1-bf4c-4ed9309bb367\",\"type\":\"Line\"},\"selection_glyph\":null,\"view\":{\"id\":\"36ebf30a-3c5d-4744-a75a-ff625de9248a\",\"type\":\"CDSView\"}},\"id\":\"55a325c7-aa46-4053-a8cf-eadb3ae10dad\",\"type\":\"GlyphRenderer\"},{\"attributes\":{\"source\":{\"id\":\"666657c1-8e8d-4838-9e3b-fa5f5faf309b\",\"type\":\"ColumnDataSource\"}},\"id\":\"36ebf30a-3c5d-4744-a75a-ff625de9248a\",\"type\":\"CDSView\"},{\"attributes\":{\"line_color\":\"#119911\",\"x\":{\"field\":\"x\"},\"y\":{\"field\":\"y\"}},\"id\":\"d01c2f90-7d60-4272-a169-f194f48a8143\",\"type\":\"Line\"},{\"attributes\":{},\"id\":\"6c832dac-ce5c-4273-b6cb-92a2051e4192\",\"type\":\"ResetTool\"},{\"attributes\":{\"data_source\":{\"id\":\"fcb25422-2bf2-46b8-b8a3-8e4545de5a81\",\"type\":\"ColumnDataSource\"},\"glyph\":{\"id\":\"0a7bd97d-680c-4cb1-8a08-88d32f13eec4\",\"type\":\"Square\"},\"hover_glyph\":null,\"muted_glyph\":null,\"nonselection_glyph\":{\"id\":\"f90b4851-96aa-47c7-8e6f-5334a689900b\",\"type\":\"Square\"},\"selection_glyph\":null,\"view\":{\"id\":\"c8745273-37c4-44cb-b9da-7257cdccccef\",\"type\":\"CDSView\"}},\"id\":\"e4461de9-9bf9-47e5-a5ef-e3b2056e8797\",\"type\":\"GlyphRenderer\"},{\"attributes\":{\"line_alpha\":0.1,\"line_color\":\"#1f77b4\",\"x\":{\"field\":\"x\"},\"y\":{\"field\":\"y\"}},\"id\":\"657b06de-d1e9-4cc1-bf4c-4ed9309bb367\",\"type\":\"Line\"},{\"attributes\":{},\"id\":\"8c3b80f7-0885-43ae-923b-d3e8b3a934c0\",\"type\":\"PanTool\"},{\"attributes\":{\"below\":[{\"id\":\"d0de3bc2-099e-46e4-be9a-8d749a8f1eea\",\"type\":\"LinearAxis\"}],\"left\":[{\"id\":\"d9bdf3c1-7e94-4e9e-b15e-540ff6f143d4\",\"type\":\"LinearAxis\"}],\"plot_height\":300,\"renderers\":[{\"id\":\"d0de3bc2-099e-46e4-be9a-8d749a8f1eea\",\"type\":\"LinearAxis\"},{\"id\":\"ec19fac6-3b6b-41a4-9dd2-3a0101937917\",\"type\":\"Grid\"},{\"id\":\"d9bdf3c1-7e94-4e9e-b15e-540ff6f143d4\",\"type\":\"LinearAxis\"},{\"id\":\"520694d4-1c20-4bf4-8f00-fd7a01303cc0\",\"type\":\"Grid\"},{\"id\":\"e4461de9-9bf9-47e5-a5ef-e3b2056e8797\",\"type\":\"GlyphRenderer\"},{\"id\":\"55a325c7-aa46-4053-a8cf-eadb3ae10dad\",\"type\":\"GlyphRenderer\"}],\"title\":{\"id\":\"cacdeebf-1ea8-4d18-b103-72dcf958c7b8\",\"type\":\"Title\"},\"toolbar\":{\"id\":\"edff68c1-8a76-4949-a4e9-d6c04cca3d56\",\"type\":\"Toolbar\"},\"x_range\":{\"id\":\"22c5331b-06cd-458a-80b8-820ee1888e52\",\"type\":\"Range1d\"},\"x_scale\":{\"id\":\"e6220f0e-bb65-43a4-95b5-808523d9a03a\",\"type\":\"LinearScale\"},\"y_range\":{\"id\":\"93d9f56f-cb94-44c2-8d7b-b3d5363c5c4c\",\"type\":\"Range1d\"},\"y_scale\":{\"id\":\"b8503d67-1ba6-40f6-94ce-0918e9c3c633\",\"type\":\"LinearScale\"}},\"id\":\"f7e78bd0-5d28-4712-8eae-6d1d7a54584c\",\"subtype\":\"Figure\",\"type\":\"Plot\"}],\"root_ids\":[\"f7e78bd0-5d28-4712-8eae-6d1d7a54584c\"]},\"title\":\"Bokeh Application\",\"version\":\"0.13.0\"}};\n",
       "  var render_items = [{\"docid\":\"7842e928-b682-4e99-b03d-2050894bfae9\",\"roots\":{\"f7e78bd0-5d28-4712-8eae-6d1d7a54584c\":\"1da1e632-3866-443d-ac2b-a5bafe5bee26\"}}];\n",
       "  root.Bokeh.embed.embed_items_notebook(docs_json, render_items);\n",
       "\n",
       "  }\n",
       "  if (root.Bokeh !== undefined) {\n",
       "    embed_document(root);\n",
       "  } else {\n",
       "    var attempts = 0;\n",
       "    var timer = setInterval(function(root) {\n",
       "      if (root.Bokeh !== undefined) {\n",
       "        embed_document(root);\n",
       "        clearInterval(timer);\n",
       "      }\n",
       "      attempts++;\n",
       "      if (attempts > 100) {\n",
       "        console.log(\"Bokeh: ERROR: Unable to run BokehJS code because BokehJS library is missing\")\n",
       "        clearInterval(timer);\n",
       "      }\n",
       "    }, 10, root)\n",
       "  }\n",
       "})(window);"
      ],
      "application/vnd.bokehjs_exec.v0+json": ""
     },
     "metadata": {
      "application/vnd.bokehjs_exec.v0+json": {
       "id": "f7e78bd0-5d28-4712-8eae-6d1d7a54584c"
      }
     },
     "output_type": "display_data"
    }
   ],
   "source": [
    "n_max = 50          # numero massimo di iterazioni che calcolo\n",
    "r = 0.2             # tasso di crescita\n",
    "d0 = 4.5            # concentrazione iniziale\n",
    "x = arange(n_max)   # array di tempi\n",
    "y = d0 * (1+r)**x   # array di concentrazioni\n",
    "\n",
    "plot1 = figure(title=f\"Crescita malthusiana. Tasso di crescita {r} \" +\n",
    "                     f\" Concentrazione iniziale {d0}\", \n",
    "               x_axis_label = \"Tempo, in quarti d'ora\",\n",
    "               y_axis_label = \"Concentrazione\",\n",
    "               x_range=(-0.5,   10  ),       # range x da visualizzare inizialmente\n",
    "               y_range=( 0.0, y[10] ),       # range y da visualizzare inizialmente \n",
    "               **options,\n",
    "              )\n",
    "p1 = plot1.square(x, y, color='#119911')\n",
    "p1 = plot1.line(x, y, color='#119911')\n",
    "show(plot1)"
   ]
  },
  {
   "cell_type": "code",
   "execution_count": 14,
   "metadata": {},
   "outputs": [
    {
     "data": {
      "text/html": [
       "\n",
       "\n",
       "\n",
       "\n",
       "\n",
       "\n",
       "  <div class=\"bk-root\" id=\"704f3adf-2883-4ee6-bb41-d8d11e9defb5\"></div>\n"
      ]
     },
     "metadata": {},
     "output_type": "display_data"
    },
    {
     "data": {
      "application/javascript": [
       "(function(root) {\n",
       "  function embed_document(root) {\n",
       "    \n",
       "  var docs_json = {\"2cfd2d70-69d2-4d15-baa8-b9e6facb3932\":{\"roots\":{\"references\":[{\"attributes\":{},\"id\":\"7b66ff99-6411-4318-97d7-cb6f5d56b325\",\"type\":\"BasicTickFormatter\"},{\"attributes\":{},\"id\":\"d5b2089e-c896-4393-9381-31e9fd5d1d15\",\"type\":\"UnionRenderers\"},{\"attributes\":{\"callback\":null,\"data\":{\"x\":[0,1,2,3,4,5,6,7,8,9,10,11,12,13,14,15,16,17,18,19,20,21,22,23,24,25,26,27,28,29,30,31,32,33,34,35,36,37,38,39,40,41,42,43,44,45,46,47,48,49],\"y\":{\"__ndarray__\":\"AAAAAAAAEkCZmZmZmZkVQOtRuB6F6xlAs8h2vp8aH0DS3uALk6kiQC7YDdsWZSZA0WndBrXfKkCxch4E0x8wQAfwip5jWTNAormmJBE4N0BbeC5f4dw7QAMVT2y6t0BAnn/4gawPREDwZV0CzxJIQB9Ho89e40xAE5H74jhVUUAWrvqpqsxUQIBqxpiZ9VhANOa6HYXzXUAfitYRg/hhQCUMm0idkGVAYNuGvbzgaUA/B9VJrw1vQFgEs5LPoXJAajg948VbdkBM3a8Qh9R6QC3rz9YdGYBAak3GAVdRg0AYkIdoaC6HQE8TCRdK0YtAyT7SDcawkEDy5JUQVAeUQO5FGkfLCJhAULpSVVrXnEDKb/7/Ak6hQFi5l5kDxKRAA3gchTfrqEAEkIhsD+etQM+8HkEJ8bFA+EiLtKSHtUBdJKfY+NW5QG/4LjfEAL9A3GFPVA+awkBudZLLeFLGQIQmFsFdycpAGxfac2sS0ECH6Di+TUnTQAgXEbHDJNdAPbVHobfF20Al0/eT1KngQA==\",\"dtype\":\"float64\",\"shape\":[50]}},\"selected\":{\"id\":\"d427276d-79f3-4e7c-be97-3621c8de624d\",\"type\":\"Selection\"},\"selection_policy\":{\"id\":\"d5b2089e-c896-4393-9381-31e9fd5d1d15\",\"type\":\"UnionRenderers\"}},\"id\":\"fcb25422-2bf2-46b8-b8a3-8e4545de5a81\",\"type\":\"ColumnDataSource\"},{\"attributes\":{\"fill_alpha\":{\"value\":0.1},\"fill_color\":{\"value\":\"#1f77b4\"},\"line_alpha\":{\"value\":0.1},\"line_color\":{\"value\":\"#1f77b4\"},\"x\":{\"field\":\"x\"},\"y\":{\"field\":\"y\"}},\"id\":\"f90b4851-96aa-47c7-8e6f-5334a689900b\",\"type\":\"Square\"},{\"attributes\":{\"plot\":null,\"text\":\"Crescita malthusiana. Tasso di crescita 0.2  Concentrazione iniziale 4.5\"},\"id\":\"cacdeebf-1ea8-4d18-b103-72dcf958c7b8\",\"type\":\"Title\"},{\"attributes\":{\"axis_label\":\"Tempo, in quarti d'ora\",\"formatter\":{\"id\":\"7b66ff99-6411-4318-97d7-cb6f5d56b325\",\"type\":\"BasicTickFormatter\"},\"plot\":{\"id\":\"f7e78bd0-5d28-4712-8eae-6d1d7a54584c\",\"subtype\":\"Figure\",\"type\":\"Plot\"},\"ticker\":{\"id\":\"59423be0-5afa-4488-ad6a-883de49abc8e\",\"type\":\"BasicTicker\"}},\"id\":\"d0de3bc2-099e-46e4-be9a-8d749a8f1eea\",\"type\":\"LinearAxis\"},{\"attributes\":{},\"id\":\"f2b0991d-e828-41b1-88ce-195c9ae072e1\",\"type\":\"WheelZoomTool\"},{\"attributes\":{\"source\":{\"id\":\"fcb25422-2bf2-46b8-b8a3-8e4545de5a81\",\"type\":\"ColumnDataSource\"}},\"id\":\"c8745273-37c4-44cb-b9da-7257cdccccef\",\"type\":\"CDSView\"},{\"attributes\":{},\"id\":\"59423be0-5afa-4488-ad6a-883de49abc8e\",\"type\":\"BasicTicker\"},{\"attributes\":{},\"id\":\"30edf673-3cca-435b-b496-7183119d0ae2\",\"type\":\"BasicTickFormatter\"},{\"attributes\":{},\"id\":\"a43124ab-a658-4b18-9fc5-8e8a797557a4\",\"type\":\"BasicTicker\"},{\"attributes\":{\"fill_color\":{\"value\":\"#119911\"},\"line_color\":{\"value\":\"#119911\"},\"x\":{\"field\":\"x\"},\"y\":{\"field\":\"y\"}},\"id\":\"0a7bd97d-680c-4cb1-8a08-88d32f13eec4\",\"type\":\"Square\"},{\"attributes\":{\"dimension\":1,\"plot\":{\"id\":\"f7e78bd0-5d28-4712-8eae-6d1d7a54584c\",\"subtype\":\"Figure\",\"type\":\"Plot\"},\"ticker\":{\"id\":\"a43124ab-a658-4b18-9fc5-8e8a797557a4\",\"type\":\"BasicTicker\"}},\"id\":\"520694d4-1c20-4bf4-8f00-fd7a01303cc0\",\"type\":\"Grid\"},{\"attributes\":{},\"id\":\"92cc0e65-3567-4b4f-81c2-45c7f968cabf\",\"type\":\"CrosshairTool\"},{\"attributes\":{\"axis_label\":\"Concentrazione\",\"formatter\":{\"id\":\"30edf673-3cca-435b-b496-7183119d0ae2\",\"type\":\"BasicTickFormatter\"},\"plot\":{\"id\":\"f7e78bd0-5d28-4712-8eae-6d1d7a54584c\",\"subtype\":\"Figure\",\"type\":\"Plot\"},\"ticker\":{\"id\":\"a43124ab-a658-4b18-9fc5-8e8a797557a4\",\"type\":\"BasicTicker\"}},\"id\":\"d9bdf3c1-7e94-4e9e-b15e-540ff6f143d4\",\"type\":\"LinearAxis\"},{\"attributes\":{\"callback\":null,\"end\":10,\"start\":-0.5},\"id\":\"22c5331b-06cd-458a-80b8-820ee1888e52\",\"type\":\"Range1d\"},{\"attributes\":{\"plot\":{\"id\":\"f7e78bd0-5d28-4712-8eae-6d1d7a54584c\",\"subtype\":\"Figure\",\"type\":\"Plot\"},\"ticker\":{\"id\":\"59423be0-5afa-4488-ad6a-883de49abc8e\",\"type\":\"BasicTicker\"}},\"id\":\"ec19fac6-3b6b-41a4-9dd2-3a0101937917\",\"type\":\"Grid\"},{\"attributes\":{\"active_drag\":\"auto\",\"active_inspect\":\"auto\",\"active_multi\":null,\"active_scroll\":\"auto\",\"active_tap\":\"auto\",\"tools\":[{\"id\":\"8c3b80f7-0885-43ae-923b-d3e8b3a934c0\",\"type\":\"PanTool\"},{\"id\":\"f2b0991d-e828-41b1-88ce-195c9ae072e1\",\"type\":\"WheelZoomTool\"},{\"id\":\"6c832dac-ce5c-4273-b6cb-92a2051e4192\",\"type\":\"ResetTool\"},{\"id\":\"b56a1d61-17a5-4b72-891a-3903ab18a42c\",\"type\":\"SaveTool\"},{\"id\":\"92cc0e65-3567-4b4f-81c2-45c7f968cabf\",\"type\":\"CrosshairTool\"}]},\"id\":\"edff68c1-8a76-4949-a4e9-d6c04cca3d56\",\"type\":\"Toolbar\"},{\"attributes\":{},\"id\":\"b8503d67-1ba6-40f6-94ce-0918e9c3c633\",\"type\":\"LinearScale\"},{\"attributes\":{\"callback\":null,\"data\":{\"x\":[0,1,2,3,4,5,6,7,8,9,10,11,12,13,14,15,16,17,18,19,20,21,22,23,24,25,26,27,28,29,30,31,32,33,34,35,36,37,38,39,40,41,42,43,44,45,46,47,48,49],\"y\":{\"__ndarray__\":\"AAAAAAAAEkCZmZmZmZkVQOtRuB6F6xlAs8h2vp8aH0DS3uALk6kiQC7YDdsWZSZA0WndBrXfKkCxch4E0x8wQAfwip5jWTNAormmJBE4N0BbeC5f4dw7QAMVT2y6t0BAnn/4gawPREDwZV0CzxJIQB9Ho89e40xAE5H74jhVUUAWrvqpqsxUQIBqxpiZ9VhANOa6HYXzXUAfitYRg/hhQCUMm0idkGVAYNuGvbzgaUA/B9VJrw1vQFgEs5LPoXJAajg948VbdkBM3a8Qh9R6QC3rz9YdGYBAak3GAVdRg0AYkIdoaC6HQE8TCRdK0YtAyT7SDcawkEDy5JUQVAeUQO5FGkfLCJhAULpSVVrXnEDKb/7/Ak6hQFi5l5kDxKRAA3gchTfrqEAEkIhsD+etQM+8HkEJ8bFA+EiLtKSHtUBdJKfY+NW5QG/4LjfEAL9A3GFPVA+awkBudZLLeFLGQIQmFsFdycpAGxfac2sS0ECH6Di+TUnTQAgXEbHDJNdAPbVHobfF20Al0/eT1KngQA==\",\"dtype\":\"float64\",\"shape\":[50]}},\"selected\":{\"id\":\"21993d89-8303-4420-8336-a50e85121500\",\"type\":\"Selection\"},\"selection_policy\":{\"id\":\"d672ad42-fcce-4227-8325-8ad1199808a5\",\"type\":\"UnionRenderers\"}},\"id\":\"666657c1-8e8d-4838-9e3b-fa5f5faf309b\",\"type\":\"ColumnDataSource\"},{\"attributes\":{\"callback\":null,\"end\":27.86281390079999},\"id\":\"93d9f56f-cb94-44c2-8d7b-b3d5363c5c4c\",\"type\":\"Range1d\"},{\"attributes\":{},\"id\":\"e6220f0e-bb65-43a4-95b5-808523d9a03a\",\"type\":\"LinearScale\"},{\"attributes\":{},\"id\":\"b56a1d61-17a5-4b72-891a-3903ab18a42c\",\"type\":\"SaveTool\"},{\"attributes\":{},\"id\":\"d427276d-79f3-4e7c-be97-3621c8de624d\",\"type\":\"Selection\"},{\"attributes\":{},\"id\":\"d672ad42-fcce-4227-8325-8ad1199808a5\",\"type\":\"UnionRenderers\"},{\"attributes\":{},\"id\":\"21993d89-8303-4420-8336-a50e85121500\",\"type\":\"Selection\"},{\"attributes\":{\"data_source\":{\"id\":\"666657c1-8e8d-4838-9e3b-fa5f5faf309b\",\"type\":\"ColumnDataSource\"},\"glyph\":{\"id\":\"d01c2f90-7d60-4272-a169-f194f48a8143\",\"type\":\"Line\"},\"hover_glyph\":null,\"muted_glyph\":null,\"nonselection_glyph\":{\"id\":\"657b06de-d1e9-4cc1-bf4c-4ed9309bb367\",\"type\":\"Line\"},\"selection_glyph\":null,\"view\":{\"id\":\"36ebf30a-3c5d-4744-a75a-ff625de9248a\",\"type\":\"CDSView\"}},\"id\":\"55a325c7-aa46-4053-a8cf-eadb3ae10dad\",\"type\":\"GlyphRenderer\"},{\"attributes\":{\"source\":{\"id\":\"666657c1-8e8d-4838-9e3b-fa5f5faf309b\",\"type\":\"ColumnDataSource\"}},\"id\":\"36ebf30a-3c5d-4744-a75a-ff625de9248a\",\"type\":\"CDSView\"},{\"attributes\":{\"line_color\":\"#119911\",\"x\":{\"field\":\"x\"},\"y\":{\"field\":\"y\"}},\"id\":\"d01c2f90-7d60-4272-a169-f194f48a8143\",\"type\":\"Line\"},{\"attributes\":{},\"id\":\"6c832dac-ce5c-4273-b6cb-92a2051e4192\",\"type\":\"ResetTool\"},{\"attributes\":{\"data_source\":{\"id\":\"fcb25422-2bf2-46b8-b8a3-8e4545de5a81\",\"type\":\"ColumnDataSource\"},\"glyph\":{\"id\":\"0a7bd97d-680c-4cb1-8a08-88d32f13eec4\",\"type\":\"Square\"},\"hover_glyph\":null,\"muted_glyph\":null,\"nonselection_glyph\":{\"id\":\"f90b4851-96aa-47c7-8e6f-5334a689900b\",\"type\":\"Square\"},\"selection_glyph\":null,\"view\":{\"id\":\"c8745273-37c4-44cb-b9da-7257cdccccef\",\"type\":\"CDSView\"}},\"id\":\"e4461de9-9bf9-47e5-a5ef-e3b2056e8797\",\"type\":\"GlyphRenderer\"},{\"attributes\":{\"line_alpha\":0.1,\"line_color\":\"#1f77b4\",\"x\":{\"field\":\"x\"},\"y\":{\"field\":\"y\"}},\"id\":\"657b06de-d1e9-4cc1-bf4c-4ed9309bb367\",\"type\":\"Line\"},{\"attributes\":{},\"id\":\"8c3b80f7-0885-43ae-923b-d3e8b3a934c0\",\"type\":\"PanTool\"},{\"attributes\":{\"below\":[{\"id\":\"d0de3bc2-099e-46e4-be9a-8d749a8f1eea\",\"type\":\"LinearAxis\"}],\"left\":[{\"id\":\"d9bdf3c1-7e94-4e9e-b15e-540ff6f143d4\",\"type\":\"LinearAxis\"}],\"plot_height\":300,\"renderers\":[{\"id\":\"d0de3bc2-099e-46e4-be9a-8d749a8f1eea\",\"type\":\"LinearAxis\"},{\"id\":\"ec19fac6-3b6b-41a4-9dd2-3a0101937917\",\"type\":\"Grid\"},{\"id\":\"d9bdf3c1-7e94-4e9e-b15e-540ff6f143d4\",\"type\":\"LinearAxis\"},{\"id\":\"520694d4-1c20-4bf4-8f00-fd7a01303cc0\",\"type\":\"Grid\"},{\"id\":\"e4461de9-9bf9-47e5-a5ef-e3b2056e8797\",\"type\":\"GlyphRenderer\"},{\"id\":\"55a325c7-aa46-4053-a8cf-eadb3ae10dad\",\"type\":\"GlyphRenderer\"}],\"title\":{\"id\":\"cacdeebf-1ea8-4d18-b103-72dcf958c7b8\",\"type\":\"Title\"},\"toolbar\":{\"id\":\"edff68c1-8a76-4949-a4e9-d6c04cca3d56\",\"type\":\"Toolbar\"},\"x_range\":{\"id\":\"22c5331b-06cd-458a-80b8-820ee1888e52\",\"type\":\"Range1d\"},\"x_scale\":{\"id\":\"e6220f0e-bb65-43a4-95b5-808523d9a03a\",\"type\":\"LinearScale\"},\"y_range\":{\"id\":\"93d9f56f-cb94-44c2-8d7b-b3d5363c5c4c\",\"type\":\"Range1d\"},\"y_scale\":{\"id\":\"b8503d67-1ba6-40f6-94ce-0918e9c3c633\",\"type\":\"LinearScale\"}},\"id\":\"f7e78bd0-5d28-4712-8eae-6d1d7a54584c\",\"subtype\":\"Figure\",\"type\":\"Plot\"}],\"root_ids\":[\"f7e78bd0-5d28-4712-8eae-6d1d7a54584c\"]},\"title\":\"Bokeh Application\",\"version\":\"0.13.0\"}};\n",
       "  var render_items = [{\"docid\":\"2cfd2d70-69d2-4d15-baa8-b9e6facb3932\",\"notebook_comms_target\":\"73783847-36be-4466-9063-946cf19317c2\",\"roots\":{\"f7e78bd0-5d28-4712-8eae-6d1d7a54584c\":\"704f3adf-2883-4ee6-bb41-d8d11e9defb5\"}}];\n",
       "  root.Bokeh.embed.embed_items_notebook(docs_json, render_items);\n",
       "\n",
       "  }\n",
       "  if (root.Bokeh !== undefined) {\n",
       "    embed_document(root);\n",
       "  } else {\n",
       "    var attempts = 0;\n",
       "    var timer = setInterval(function(root) {\n",
       "      if (root.Bokeh !== undefined) {\n",
       "        embed_document(root);\n",
       "        clearInterval(timer);\n",
       "      }\n",
       "      attempts++;\n",
       "      if (attempts > 100) {\n",
       "        console.log(\"Bokeh: ERROR: Unable to run BokehJS code because BokehJS library is missing\")\n",
       "        clearInterval(timer);\n",
       "      }\n",
       "    }, 10, root)\n",
       "  }\n",
       "})(window);"
      ],
      "application/vnd.bokehjs_exec.v0+json": ""
     },
     "metadata": {
      "application/vnd.bokehjs_exec.v0+json": {
       "id": "f7e78bd0-5d28-4712-8eae-6d1d7a54584c"
      }
     },
     "output_type": "display_data"
    },
    {
     "data": {
      "application/vnd.jupyter.widget-view+json": {
       "model_id": "24f8246e89024b03bd7d06043a90cd77",
       "version_major": 2,
       "version_minor": 0
      },
      "text/plain": [
       "interactive(children=(FloatSlider(value=0.2, description='tasso di crescita', max=0.33, min=0.1, step=0.02, st…"
      ]
     },
     "metadata": {},
     "output_type": "display_data"
    }
   ],
   "source": [
    "def update1(r=0.2, d0=4.5): \n",
    "    p1.data_source.data['x'] = x\n",
    "    p1.data_source.data['y'] = d0 * (1+r)**x\n",
    "    push_notebook()\n",
    "\n",
    "show(plot1, notebook_handle=True)\n",
    "style = {'description_width': 'initial'}\n",
    "interact(update1,  \n",
    "         r  = FloatSlider(description=\"tasso di crescita\", \n",
    "                          min=.1, max=.33, step=.02, value=.2, style=style), \n",
    "         d0 = FloatSlider(description=\"concentrazione iniziale\", \n",
    "                          min=1, max=9, step=.5, value=4.5, style=style)\n",
    "        );"
   ]
  },
  {
   "cell_type": "markdown",
   "metadata": {},
   "source": [
    "# Crescita malthusiana: soluzione generale\n",
    "\n",
    "$r$ tasso di crescita\n",
    "\n",
    "$a=1+r$ fattore di crescita\n",
    "\n",
    "$d_{n+1}=a\\cdot d_n$ si chiama <mark>equazione ricorsiva</mark> (omogenea del prim'ordine) o anche *equazione di ricorrenza* o *equazione alle differenze*.\n",
    "\n",
    "$d_n=C\\cdot a^n$ è la <mark>soluzione generale</mark>, ovvero una famiglia di soluzioni, una per ogni $C\\in\\mathbb R$.\n",
    "\n",
    "Da un qualsiasi valore di $d_n$ possiamo calcorare $C$ e trovare una <mark>soluzione particolare</mark>. \n",
    "\n",
    "Per esempio, se $d_9=24.5$ allora $24.5=C\\cdot a^9$, quindi $C=24.5\\cdot a^{-9}$.\n",
    "\n",
    "Per esempio, se $d_0=4.5$ allora $4.5=C\\cdot a^0=C$."
   ]
  },
  {
   "cell_type": "markdown",
   "metadata": {},
   "source": [
    "# Crescita malthusiana + pesca/raccolto\n",
    "\n",
    "Una certa popolazione di pesci, in assenza di limiti ambiantali, ha una crescita annuale annuale netta (nacite $-$ morti) del $20\\%$. Ogni hanno viene pescato un fissato numero di individui. \n",
    "\n",
    "\n",
    "Scriviamo l'equazione che descrive l'evoluzione della popolazione.\n",
    "\n",
    "$a\\ =\\ 1+0.2\\ =\\ 1.2\\ $ fattore di crescita\n",
    "\n",
    "$b\\ = $ numero degli individui aggiunti (quindi $b<0$, se stiamo pescando)\n",
    "\n",
    "$d_1\\ =\\ a\\, d_0 + b$\n",
    "\n",
    "$d_2\\ =\\ a\\, d_1 +b\\  =\\ a\\, (a\\, d_0 +b) +b\\ =\\ a^2 d_0+ (1+a)\\,b$\n",
    "\n",
    "$d_3\\ =\\ a\\, d_2 +b\\ =\\ a\\, \\big(a^2 d_0 +(1+a)\\,b\\big) +b\\ =\\ a^3\\, d_0 + (1+a+a^2)\\,b $\n",
    "\n",
    "ecc., ecc., in generale scriveremo\n",
    "\n",
    "$d_{n+1}\\ =\\ a\\, d_n +b $ si chiama equazione ricorsiva <mark>non omogenea</mark>. Diremo che $b$ è il termine <mark>non omogeneo</mark>.\n",
    "\n",
    "$d_n=C\\, a^n+\\dfrac{b}{1-a} $ è la <mark>soluzione generale</mark>, ovvero una famiglia di soluzioni, una per ogni $C\\in\\mathbb R$.\n",
    "\n",
    "Da un qualsiasi valore di $d_n$ possiamo calcorare $C$ e trovare una <mark>soluzione particolare</mark>. \n",
    "\n",
    "Per esempio, se $d_9=245$ allora $245=C\\, a^9 -\\dfrac{b}{1-a}$, quindi $C=\\Big(245+\\dfrac{b}{1-a}\\Big)\\, a^{-9}$.\n",
    "\n",
    "Per esempio, se $d_0=45$ allora $45=C\\, a^0-\\dfrac{b}{1-a}$, quindi $C=45+\\dfrac{b}{1-a}$."
   ]
  },
  {
   "cell_type": "code",
   "execution_count": 15,
   "metadata": {},
   "outputs": [
    {
     "data": {
      "text/html": [
       "\n",
       "\n",
       "\n",
       "\n",
       "\n",
       "\n",
       "  <div class=\"bk-root\" id=\"7997b69d-3a95-45c1-bd8f-6a7e61920e61\"></div>\n"
      ]
     },
     "metadata": {},
     "output_type": "display_data"
    },
    {
     "data": {
      "application/javascript": [
       "(function(root) {\n",
       "  function embed_document(root) {\n",
       "    \n",
       "  var docs_json = {\"0393ce00-9f82-419e-a3d7-ec31077ffcfd\":{\"roots\":{\"references\":[{\"attributes\":{\"data_source\":{\"id\":\"16678be6-5880-412f-8dc9-3f07470ab4d2\",\"type\":\"ColumnDataSource\"},\"glyph\":{\"id\":\"907c083b-463f-4858-b243-bc04058af11f\",\"type\":\"Line\"},\"hover_glyph\":null,\"muted_glyph\":null,\"nonselection_glyph\":{\"id\":\"14d5eb30-4351-4bd9-9637-14e68754c376\",\"type\":\"Line\"},\"selection_glyph\":null,\"view\":{\"id\":\"df07e5d9-aec3-4085-8de0-2a9a80f446e9\",\"type\":\"CDSView\"}},\"id\":\"3956e473-9b58-458e-aa61-0d468983a86f\",\"type\":\"GlyphRenderer\"},{\"attributes\":{},\"id\":\"7b24c192-226f-4012-9210-cf0c2bbdc059\",\"type\":\"BasicTickFormatter\"},{\"attributes\":{\"axis_label\":\"Tempo, in anni\",\"formatter\":{\"id\":\"eb460a27-91e9-471f-9220-ed28448d0c49\",\"type\":\"BasicTickFormatter\"},\"plot\":{\"id\":\"a7fdbb05-8f14-4c95-873e-b25cd6c92e83\",\"subtype\":\"Figure\",\"type\":\"Plot\"},\"ticker\":{\"id\":\"acc0d505-1fd5-46fe-a4c3-c8125eff34c3\",\"type\":\"BasicTicker\"}},\"id\":\"ea1465c0-4cb9-46f6-a1f7-93c2e67fe480\",\"type\":\"LinearAxis\"},{\"attributes\":{},\"id\":\"0c3d5ce6-150b-4696-88aa-683ab86269f5\",\"type\":\"SaveTool\"},{\"attributes\":{\"fill_color\":{\"value\":\"#119911\"},\"line_color\":{\"value\":\"#119911\"},\"x\":{\"field\":\"x\"},\"y\":{\"field\":\"y\"}},\"id\":\"2bf8f884-d4b0-469c-b313-465bf7cbd79d\",\"type\":\"Square\"},{\"attributes\":{\"below\":[{\"id\":\"ea1465c0-4cb9-46f6-a1f7-93c2e67fe480\",\"type\":\"LinearAxis\"}],\"left\":[{\"id\":\"4b78b541-9062-48b8-ab59-5124ec458e28\",\"type\":\"LinearAxis\"}],\"plot_height\":300,\"renderers\":[{\"id\":\"ea1465c0-4cb9-46f6-a1f7-93c2e67fe480\",\"type\":\"LinearAxis\"},{\"id\":\"2e3fc969-b7b5-41ed-8717-9aa39de5e3d3\",\"type\":\"Grid\"},{\"id\":\"4b78b541-9062-48b8-ab59-5124ec458e28\",\"type\":\"LinearAxis\"},{\"id\":\"aedf1b6e-58f4-4ab9-bd2f-25fb99808b19\",\"type\":\"Grid\"},{\"id\":\"351f4630-ee20-47a9-813e-d4020543dae4\",\"type\":\"GlyphRenderer\"},{\"id\":\"3956e473-9b58-458e-aa61-0d468983a86f\",\"type\":\"GlyphRenderer\"}],\"title\":{\"id\":\"1481ec6c-efe6-4628-baff-b9d80304ffb0\",\"type\":\"Title\"},\"toolbar\":{\"id\":\"965fbb49-3a12-44fe-9062-953f12864bb8\",\"type\":\"Toolbar\"},\"x_range\":{\"id\":\"ff187510-68bc-4082-a860-b478a403dbaa\",\"type\":\"Range1d\"},\"x_scale\":{\"id\":\"8d78665b-7c6d-495c-a1c2-1a57e8d8458e\",\"type\":\"LinearScale\"},\"y_range\":{\"id\":\"9b47d78f-697f-4908-ab65-5956c122c009\",\"type\":\"Range1d\"},\"y_scale\":{\"id\":\"31c57e54-7d58-4eea-bf91-479327da5690\",\"type\":\"LinearScale\"}},\"id\":\"a7fdbb05-8f14-4c95-873e-b25cd6c92e83\",\"subtype\":\"Figure\",\"type\":\"Plot\"},{\"attributes\":{},\"id\":\"66bcbfab-7934-44be-a54f-b81e0a1a3e42\",\"type\":\"ResetTool\"},{\"attributes\":{},\"id\":\"e7c15341-e2dc-479e-9cd1-dab3612922b8\",\"type\":\"UnionRenderers\"},{\"attributes\":{\"plot\":null,\"text\":\"Tasso di crescita 0.2, popolazione iniziale 45, pesca b\"},\"id\":\"1481ec6c-efe6-4628-baff-b9d80304ffb0\",\"type\":\"Title\"},{\"attributes\":{\"data_source\":{\"id\":\"0daa4bf7-e5a7-4ce3-b386-b195b50a3a04\",\"type\":\"ColumnDataSource\"},\"glyph\":{\"id\":\"2bf8f884-d4b0-469c-b313-465bf7cbd79d\",\"type\":\"Square\"},\"hover_glyph\":null,\"muted_glyph\":null,\"nonselection_glyph\":{\"id\":\"4ed1b155-62a5-4694-9693-1cc2bc5431c0\",\"type\":\"Square\"},\"selection_glyph\":null,\"view\":{\"id\":\"d04fc236-3fd4-4023-a86f-45bfc6bfc7f3\",\"type\":\"CDSView\"}},\"id\":\"351f4630-ee20-47a9-813e-d4020543dae4\",\"type\":\"GlyphRenderer\"},{\"attributes\":{\"fill_alpha\":{\"value\":0.1},\"fill_color\":{\"value\":\"#1f77b4\"},\"line_alpha\":{\"value\":0.1},\"line_color\":{\"value\":\"#1f77b4\"},\"x\":{\"field\":\"x\"},\"y\":{\"field\":\"y\"}},\"id\":\"4ed1b155-62a5-4694-9693-1cc2bc5431c0\",\"type\":\"Square\"},{\"attributes\":{},\"id\":\"bdeda603-955c-4176-8723-06c1a877bdc4\",\"type\":\"WheelZoomTool\"},{\"attributes\":{\"dimension\":1,\"plot\":{\"id\":\"a7fdbb05-8f14-4c95-873e-b25cd6c92e83\",\"subtype\":\"Figure\",\"type\":\"Plot\"},\"ticker\":{\"id\":\"aa4da4ce-b001-4dd4-b49c-4287fe1c4297\",\"type\":\"BasicTicker\"}},\"id\":\"aedf1b6e-58f4-4ab9-bd2f-25fb99808b19\",\"type\":\"Grid\"},{\"attributes\":{},\"id\":\"eb460a27-91e9-471f-9220-ed28448d0c49\",\"type\":\"BasicTickFormatter\"},{\"attributes\":{\"source\":{\"id\":\"0daa4bf7-e5a7-4ce3-b386-b195b50a3a04\",\"type\":\"ColumnDataSource\"}},\"id\":\"d04fc236-3fd4-4023-a86f-45bfc6bfc7f3\",\"type\":\"CDSView\"},{\"attributes\":{\"callback\":null,\"end\":278.6281390079999},\"id\":\"9b47d78f-697f-4908-ab65-5956c122c009\",\"type\":\"Range1d\"},{\"attributes\":{},\"id\":\"aa4da4ce-b001-4dd4-b49c-4287fe1c4297\",\"type\":\"BasicTicker\"},{\"attributes\":{\"callback\":null,\"data\":{\"x\":[0,1,2,3,4,5,6,7,8,9,10,11,12,13,14,15,16,17,18,19,20,21,22,23,24,25,26,27,28,29,30,31,32,33,34,35,36,37,38,39,40,41,42,43,44,45,46,47,48,49],\"y\":{\"__ndarray__\":\"AAAAAACARkAAAAAAAABLQDMzMzMzM1BAcD0K16NwU0CHFtnO91NXQDpO0ZFc/ltAI2JKJNHLYEBdDybFxydkQAisLYa8L2hACmjQbRUGbUA5C33bDGpxQETaYgep5XRAhZ92opcTeUBsv/TCghd+QHQMxkEbDoJAV3W6G4eqhUCcWXlU1f+JQCEF+P7/Mo9A4c+UMjO4kkCnLEzWo3aWQC7PwZrE9JpAHEl09nUsoECIJCWOjWijQG7FX3dDSqdAhYYMXLfyq0BQ6m1q1MSwQPnlg0xlH7RAxOA3wqwluEAedKmCAvq8QBKsZU7OYsFAfM5GkffcxEAuXrsUKQnJQGrX4Bj+Cs5AcrRTdZgG0kC8C/6/g6HVQK+n/X8E9dlABJZjZgUm30ACWtWjabDiQANsZpFLbeZANhuu4Y3p6kC6dmiHuyXwQEVbfaJ6YPNAUzpjKZNA90DJEnf+Fuf7QBLYrZjavQBB4pzQUAYXBEGpIsctoRsIQcpcVZ307QxBRtHMxJJbEUHux/W4SdQUQQ==\",\"dtype\":\"float64\",\"shape\":[50]}},\"selected\":{\"id\":\"f70ba355-5b29-4d35-8acc-0a842e1ad5d5\",\"type\":\"Selection\"},\"selection_policy\":{\"id\":\"08daaccb-401a-42ce-8d1a-a11c8bdcde82\",\"type\":\"UnionRenderers\"}},\"id\":\"0daa4bf7-e5a7-4ce3-b386-b195b50a3a04\",\"type\":\"ColumnDataSource\"},{\"attributes\":{},\"id\":\"f70ba355-5b29-4d35-8acc-0a842e1ad5d5\",\"type\":\"Selection\"},{\"attributes\":{},\"id\":\"69a154b9-8908-404c-9538-e1222d72bc0c\",\"type\":\"CrosshairTool\"},{\"attributes\":{},\"id\":\"8e91e7b8-a055-49e2-8b1e-23cdd849ad2a\",\"type\":\"PanTool\"},{\"attributes\":{},\"id\":\"acc0d505-1fd5-46fe-a4c3-c8125eff34c3\",\"type\":\"BasicTicker\"},{\"attributes\":{\"callback\":null,\"end\":10,\"start\":-0.5},\"id\":\"ff187510-68bc-4082-a860-b478a403dbaa\",\"type\":\"Range1d\"},{\"attributes\":{\"source\":{\"id\":\"16678be6-5880-412f-8dc9-3f07470ab4d2\",\"type\":\"ColumnDataSource\"}},\"id\":\"df07e5d9-aec3-4085-8de0-2a9a80f446e9\",\"type\":\"CDSView\"},{\"attributes\":{\"axis_label\":\"Numero di individui\",\"formatter\":{\"id\":\"7b24c192-226f-4012-9210-cf0c2bbdc059\",\"type\":\"BasicTickFormatter\"},\"plot\":{\"id\":\"a7fdbb05-8f14-4c95-873e-b25cd6c92e83\",\"subtype\":\"Figure\",\"type\":\"Plot\"},\"ticker\":{\"id\":\"aa4da4ce-b001-4dd4-b49c-4287fe1c4297\",\"type\":\"BasicTicker\"}},\"id\":\"4b78b541-9062-48b8-ab59-5124ec458e28\",\"type\":\"LinearAxis\"},{\"attributes\":{},\"id\":\"31c57e54-7d58-4eea-bf91-479327da5690\",\"type\":\"LinearScale\"},{\"attributes\":{\"active_drag\":\"auto\",\"active_inspect\":\"auto\",\"active_multi\":null,\"active_scroll\":\"auto\",\"active_tap\":\"auto\",\"tools\":[{\"id\":\"8e91e7b8-a055-49e2-8b1e-23cdd849ad2a\",\"type\":\"PanTool\"},{\"id\":\"bdeda603-955c-4176-8723-06c1a877bdc4\",\"type\":\"WheelZoomTool\"},{\"id\":\"66bcbfab-7934-44be-a54f-b81e0a1a3e42\",\"type\":\"ResetTool\"},{\"id\":\"0c3d5ce6-150b-4696-88aa-683ab86269f5\",\"type\":\"SaveTool\"},{\"id\":\"69a154b9-8908-404c-9538-e1222d72bc0c\",\"type\":\"CrosshairTool\"}]},\"id\":\"965fbb49-3a12-44fe-9062-953f12864bb8\",\"type\":\"Toolbar\"},{\"attributes\":{\"callback\":null,\"data\":{\"x\":[0,1,2,3,4,5,6,7,8,9,10,11,12,13,14,15,16,17,18,19,20,21,22,23,24,25,26,27,28,29,30,31,32,33,34,35,36,37,38,39,40,41,42,43,44,45,46,47,48,49],\"y\":{\"__ndarray__\":\"AAAAAACARkAAAAAAAABLQDMzMzMzM1BAcD0K16NwU0CHFtnO91NXQDpO0ZFc/ltAI2JKJNHLYEBdDybFxydkQAisLYa8L2hACmjQbRUGbUA5C33bDGpxQETaYgep5XRAhZ92opcTeUBsv/TCghd+QHQMxkEbDoJAV3W6G4eqhUCcWXlU1f+JQCEF+P7/Mo9A4c+UMjO4kkCnLEzWo3aWQC7PwZrE9JpAHEl09nUsoECIJCWOjWijQG7FX3dDSqdAhYYMXLfyq0BQ6m1q1MSwQPnlg0xlH7RAxOA3wqwluEAedKmCAvq8QBKsZU7OYsFAfM5GkffcxEAuXrsUKQnJQGrX4Bj+Cs5AcrRTdZgG0kC8C/6/g6HVQK+n/X8E9dlABJZjZgUm30ACWtWjabDiQANsZpFLbeZANhuu4Y3p6kC6dmiHuyXwQEVbfaJ6YPNAUzpjKZNA90DJEnf+Fuf7QBLYrZjavQBB4pzQUAYXBEGpIsctoRsIQcpcVZ307QxBRtHMxJJbEUHux/W4SdQUQQ==\",\"dtype\":\"float64\",\"shape\":[50]}},\"selected\":{\"id\":\"3c2325f8-0ad1-49c0-bc89-50eaf6986a2f\",\"type\":\"Selection\"},\"selection_policy\":{\"id\":\"e7c15341-e2dc-479e-9cd1-dab3612922b8\",\"type\":\"UnionRenderers\"}},\"id\":\"16678be6-5880-412f-8dc9-3f07470ab4d2\",\"type\":\"ColumnDataSource\"},{\"attributes\":{},\"id\":\"8d78665b-7c6d-495c-a1c2-1a57e8d8458e\",\"type\":\"LinearScale\"},{\"attributes\":{\"line_color\":\"#119911\",\"x\":{\"field\":\"x\"},\"y\":{\"field\":\"y\"}},\"id\":\"907c083b-463f-4858-b243-bc04058af11f\",\"type\":\"Line\"},{\"attributes\":{},\"id\":\"08daaccb-401a-42ce-8d1a-a11c8bdcde82\",\"type\":\"UnionRenderers\"},{\"attributes\":{\"plot\":{\"id\":\"a7fdbb05-8f14-4c95-873e-b25cd6c92e83\",\"subtype\":\"Figure\",\"type\":\"Plot\"},\"ticker\":{\"id\":\"acc0d505-1fd5-46fe-a4c3-c8125eff34c3\",\"type\":\"BasicTicker\"}},\"id\":\"2e3fc969-b7b5-41ed-8717-9aa39de5e3d3\",\"type\":\"Grid\"},{\"attributes\":{},\"id\":\"3c2325f8-0ad1-49c0-bc89-50eaf6986a2f\",\"type\":\"Selection\"},{\"attributes\":{\"line_alpha\":0.1,\"line_color\":\"#1f77b4\",\"x\":{\"field\":\"x\"},\"y\":{\"field\":\"y\"}},\"id\":\"14d5eb30-4351-4bd9-9637-14e68754c376\",\"type\":\"Line\"}],\"root_ids\":[\"a7fdbb05-8f14-4c95-873e-b25cd6c92e83\"]},\"title\":\"Bokeh Application\",\"version\":\"0.13.0\"}};\n",
       "  var render_items = [{\"docid\":\"0393ce00-9f82-419e-a3d7-ec31077ffcfd\",\"notebook_comms_target\":\"7c9ec332-da3c-46f6-9587-8663a62bc3b9\",\"roots\":{\"a7fdbb05-8f14-4c95-873e-b25cd6c92e83\":\"7997b69d-3a95-45c1-bd8f-6a7e61920e61\"}}];\n",
       "  root.Bokeh.embed.embed_items_notebook(docs_json, render_items);\n",
       "\n",
       "  }\n",
       "  if (root.Bokeh !== undefined) {\n",
       "    embed_document(root);\n",
       "  } else {\n",
       "    var attempts = 0;\n",
       "    var timer = setInterval(function(root) {\n",
       "      if (root.Bokeh !== undefined) {\n",
       "        embed_document(root);\n",
       "        clearInterval(timer);\n",
       "      }\n",
       "      attempts++;\n",
       "      if (attempts > 100) {\n",
       "        console.log(\"Bokeh: ERROR: Unable to run BokehJS code because BokehJS library is missing\")\n",
       "        clearInterval(timer);\n",
       "      }\n",
       "    }, 10, root)\n",
       "  }\n",
       "})(window);"
      ],
      "application/vnd.bokehjs_exec.v0+json": ""
     },
     "metadata": {
      "application/vnd.bokehjs_exec.v0+json": {
       "id": "a7fdbb05-8f14-4c95-873e-b25cd6c92e83"
      }
     },
     "output_type": "display_data"
    },
    {
     "data": {
      "application/vnd.jupyter.widget-view+json": {
       "model_id": "a82855a169fa44a6b99cecc64627a3dd",
       "version_major": 2,
       "version_minor": 0
      },
      "text/plain": [
       "interactive(children=(FloatSlider(value=0.0, description='b', max=10.0, min=-12.0, step=1.0, style=SliderStyle…"
      ]
     },
     "metadata": {},
     "output_type": "display_data"
    }
   ],
   "source": [
    "n_max = 50                      # numero massimo di iterazioni che calcolo\n",
    "r = 0.2                         # tasso di crescita\n",
    "b = 0                           # pesca/raccolto \n",
    "d0 = 45                         # concentrazione iniziale\n",
    "x = arange(n_max)               # array di tempi\n",
    "y = (d0+b/r) * (1+r)**x - b/r   # array di concentrazioni\n",
    "\n",
    "plot2 = figure(title=f\"Tasso di crescita {r}, popolazione iniziale {d0}, pesca b\", \n",
    "               x_axis_label = \"Tempo, in anni\",\n",
    "               y_axis_label = \"Numero di individui\",\n",
    "               x_range=(-0.5,   10  ),       # range da visualizzare inizialmente\n",
    "               y_range=( 0.0, y[10] ),       # range da visualizzare inizialmente \n",
    "               **options,\n",
    "              )\n",
    "p2 = plot2.square(x, y, color='#119911')\n",
    "p2 = plot2.line(x, y, color='#119911')\n",
    "def update2(b=0): \n",
    "    p2.data_source.data['x'] = x\n",
    "    p2.data_source.data['y'] =  (d0+b/r) * (1+r)**x - b/r \n",
    "    push_notebook()\n",
    "\n",
    "show(plot2, notebook_handle=True)\n",
    "style = {'description_width': 'initial'}\n",
    "interact(update2,  \n",
    "         b  = FloatSlider(description=\"b\", min=-12, max=10, step=1, value=0, style=style),\n",
    "         );"
   ]
  },
  {
   "cell_type": "markdown",
   "metadata": {},
   "source": [
    "# Mutuo bancario (1)\n",
    "\n",
    "Prendiamo a prestito dalla banca $200\\,$k€ con un tannuo annuo fisso del $3\\%$. Ogni anno restituiamo alla banca $10\\,$k€. (Per precisione: all'anno $0$ il nostro debito è $200\\,$k€ e all'anno $1$ sarà: $200$k€ $+$interessi $-10\\,$k€, ecc.)\n",
    "\n",
    "A quanto ammonterà il debito dopo 10 anni? (Ovvero, al decimo anno subito dopo aver pagato i $10\\,$k€ pattuiti.)"
   ]
  },
  {
   "cell_type": "markdown",
   "metadata": {},
   "source": [
    "### Soluzione\n",
    "\n",
    "Scriviamo l'equazione che descrive l'evoluzione del debito.\n",
    "\n",
    "$a\\ =\\ 1+0.03\\ =\\ 1.03\\ $ fattore di crescita\n",
    "\n",
    "$b\\ = - 10$ \n",
    "\n",
    "$d_0 = 200$ debito all'anno zero\n",
    "\n",
    "$d_{n+1}\\ =\\ a\\, d_n +b $ equazione ricorsiva per il debito all'anno $n$.\n",
    "\n",
    "Soluzione generale dell'equazione ricorsiva \n",
    "\n",
    "$d_n=C\\, a^n+\\dfrac{b}{1-a} $ una per qualsiasi $C\\in\\mathbb R$.\n",
    "\n",
    "Usando la condizione $d_0=200$ troviamo.\n",
    "\n",
    "$C\\ =\\ 200 - \\dfrac{b}{1-a}\\ =\\ 200 - \\dfrac{10}{0.03} = 9\\,800$\n",
    "\n",
    "    Il calcolo numerico nella cella sottostante"
   ]
  },
  {
   "cell_type": "code",
   "execution_count": 16,
   "metadata": {},
   "outputs": [
    {
     "data": {
      "text/plain": [
       "154.14448275411715"
      ]
     },
     "execution_count": 16,
     "metadata": {},
     "output_type": "execute_result"
    }
   ],
   "source": [
    "a = 1.03\n",
    "b = -10\n",
    "d0 = 200\n",
    "n = 10\n",
    "C = d0 - b/(1-a)\n",
    "C * a**n + b/(1-a)"
   ]
  },
  {
   "cell_type": "markdown",
   "metadata": {},
   "source": [
    "# Mutuo bancario (2)\n",
    "\n",
    "Quanto dovreno pagare all'anno per estinguere il debito alla decima rata?"
   ]
  },
  {
   "cell_type": "markdown",
   "metadata": {},
   "source": [
    "### Soluzione\n",
    "\n",
    "Dobbiamo porre $d_0=200$ e $d_{10}=0$. Ora $b$ è incognito. La costante $C$ dobbiamo calcolarla in funzione di $b$.\n",
    "\n",
    "$C\\ =\\ 200 + \\dfrac{b}{0.03}$\n",
    "\n",
    "l'equazione diventa \n",
    "\n",
    "$d_n=\\bigg(200 + \\dfrac{b}{0.03}\\bigg)\\, 1.03^n-\\dfrac{b}{0.03}$\n",
    "\n",
    "quindi\n",
    "\n",
    "$d_{10}\\ =\\ \\bigg(200 + \\dfrac{b}{0.03}\\bigg)\\, 1.03^{10}-\\dfrac{b}{0.03}$\n",
    "\n",
    "$b\\ =\\ 0.03\\cdot \\dfrac{200\\cdot 1.03^{10}}{1+ 1.03^{10}}$\n"
   ]
  },
  {
   "cell_type": "code",
   "execution_count": 17,
   "metadata": {},
   "outputs": [
    {
     "data": {
      "text/plain": [
       "-23.44610132103192"
      ]
     },
     "execution_count": 17,
     "metadata": {},
     "output_type": "execute_result"
    }
   ],
   "source": [
    "(a-1) * ( d0 * a**10 ) / ( 1 -  a**10 )"
   ]
  },
  {
   "cell_type": "markdown",
   "metadata": {},
   "source": [
    "La risposta è quindi $23\\,446.10$€ all'anno."
   ]
  },
  {
   "cell_type": "markdown",
   "metadata": {},
   "source": [
    "<!--# Mutuo bancario (3)\n",
    "\n",
    "Sempre lo stesso mutuo, da estinguere in 10 anni. Vorremmo però pagare al mese. La cifra da pagare sarà *minore* di un dodicesimo di $23\\,446.10$€.\n",
    "\n",
    "Dovremo calcolarci l'interesse mensile.\n",
    "\n",
    "Sia $c_n$ il debito calcolato al mese numero $m$. Quindi $c_{12n}=d_{n}$.\n",
    "\n",
    "L'equazione ricorsiva è la stessa, chiamiamo  \n",
    "\n",
    "$c_{n+1}\\ =\\ a'\\, c_n +b'$ equazione ricorsiva per il debito al mese $n$.\n",
    "\n",
    "Non conosciamo né $a'$ né $b'$, sappiamo però che $c_{0}=200$ quindi \n",
    "\n",
    "$c_n=C\\, {a'}^n+\\dfrac{b'}{1-a'}$\n",
    "\n",
    "\n",
    "\n",
    "-->"
   ]
  },
  {
   "cell_type": "markdown",
   "metadata": {},
   "source": [
    "# Concentrazione farmaco  (1)\n",
    "\n",
    "La concentrazione di un farmaco nel sangue dopo $12$ ore è il $60\\%$ della concentrazione iniziale. Somministrando $2$ unità ogni 12 ore e partendo da una conventrazione $0$ qual'è la concentrazione massima del farmaco? Quale la concentrazione minima a regime?"
   ]
  },
  {
   "cell_type": "markdown",
   "metadata": {},
   "source": [
    "## Soluzione\n",
    "\n",
    "Fissiamo 12 ore come nostra unità di tempo.\n",
    "\n",
    "$a\\ =\\ 0.6\\ =\\ 1.03\\ $ fattore di (de)crescita\n",
    "\n",
    "$b\\ = 3$ \n",
    "\n",
    "$d_0 = 0$ concentrazione iniziale\n",
    "\n",
    "$d_{n+1}\\ =\\ a\\, d_n +b $ equazione ricorsiva per la concentrazione nel sangue.\n",
    "\n",
    "Soluzione generale dell'equazione ricorsiva \n",
    "\n",
    "$d_n=C\\, a^n+\\dfrac{b}{1-a}$ una per qualsiasi $C\\in\\mathbb R$.\n",
    "\n",
    "Poiché $a<1$ qualsiasi sia $C$ dopo qualche giorno il primo termine è $\\cong0$.\n",
    "\n",
    "Quindi la concentrazione massima a regime sarà $\\dfrac{b}{1-a}$.\n",
    "\n",
    "Quella minima (a regime) sarà quella massima $-b$, equivalentemente, anche quella massima per $a$.\n",
    "\n",
    "Ovvero la concentrazione minima a regime è $\\dfrac{ab}{1-a}$."
   ]
  },
  {
   "cell_type": "code",
   "execution_count": 25,
   "metadata": {},
   "outputs": [
    {
     "data": {
      "text/html": [
       "\n",
       "\n",
       "\n",
       "\n",
       "\n",
       "\n",
       "  <div class=\"bk-root\" id=\"4e43b7b2-ac12-4d21-bbd3-e95e98354a43\"></div>\n"
      ]
     },
     "metadata": {},
     "output_type": "display_data"
    },
    {
     "data": {
      "application/javascript": [
       "(function(root) {\n",
       "  function embed_document(root) {\n",
       "    \n",
       "  var docs_json = {\"1f5852ca-39fd-4634-bb80-df39466cd3a4\":{\"roots\":{\"references\":[{\"attributes\":{},\"id\":\"b54528d4-c9e2-4e0e-82d2-59fdc6780de1\",\"type\":\"UnionRenderers\"},{\"attributes\":{},\"id\":\"74314bc3-4e01-4223-8598-a2cd345cc87f\",\"type\":\"Selection\"},{\"attributes\":{\"callback\":null,\"data\":{\"x\":[0,0,1,1,2,2,3,3,4,4,5,5,6,6,7,7,8,8,9,9,10,10,11,11,12,12,13,13,14,14,15,15,16,16,17,17,18,18,19,19,20,20,21,21,22,22,23,23,24,24,25,25,26,26,27,27,28,28,29,29,30,30,31,31,32,32,33,33,34,34,35,35,36,36,37,37,38,38,39,39,40,40,41,41,42,42,43,43,44,44,45,45,46,46,47,47,48,48,49,49],\"y\":[-2.0,0.0,0.0,2.0,1.2000000000000002,3.2,1.92,3.92,2.3520000000000003,4.352,2.6112,4.6112,2.7667200000000003,4.76672,2.8600320000000004,4.860032,2.9160192,4.9160192,2.9496115200000004,4.94961152,2.969766912,4.969766912,2.9818601472,4.9818601472,2.9891160883200003,4.98911608832,2.993469652992,4.993469652992,2.9960817917952003,4.9960817917952,2.9976490750771196,4.99764907507712,2.998589445046272,4.998589445046272,2.9991536670277634,4.999153667027763,2.9994922002166575,4.9994922002166575,2.9996953201299945,4.9996953201299945,2.9998171920779972,4.999817192077997,2.999890315246798,4.999890315246798,2.999934189148079,4.999934189148079,2.9999605134888476,4.999960513488848,2.9999763080933084,4.999976308093308,2.999985784855985,4.999985784855985,2.9999914709135913,4.999991470913591,2.9999948825481546,4.999994882548155,2.9999969295288924,4.999996929528892,2.999998157717336,4.999998157717336,2.9999988946304015,4.9999988946304015,2.9999993367782407,4.999999336778241,2.9999996020669446,4.999999602066945,2.9999997612401668,4.999999761240167,2.9999998567441004,4.9999998567441,2.9999999140464597,4.99999991404646,2.9999999484278757,4.999999948427876,2.9999999690567254,4.999999969056725,2.9999999814340352,4.999999981434035,2.999999988860421,4.999999988860421,2.999999993316253,4.999999993316253,2.999999995989752,4.999999995989752,2.999999997593851,4.999999997593851,2.9999999985563104,4.99999999855631,2.9999999991337862,4.999999999133786,2.9999999994802717,4.999999999480272,2.999999999688163,4.999999999688163,2.999999999812898,4.999999999812898,2.9999999998877387,4.999999999887739,2.999999999932643,4.999999999932643]},\"selected\":{\"id\":\"bddd101e-f8c8-410a-853e-feeebaea948d\",\"type\":\"Selection\"},\"selection_policy\":{\"id\":\"b54528d4-c9e2-4e0e-82d2-59fdc6780de1\",\"type\":\"UnionRenderers\"}},\"id\":\"c963e0df-1e4c-4fde-b4c4-cc388e1cf244\",\"type\":\"ColumnDataSource\"},{\"attributes\":{},\"id\":\"548a5364-0162-4196-bf74-4ef3490b3b6f\",\"type\":\"UnionRenderers\"},{\"attributes\":{\"below\":[{\"id\":\"6ec0d992-10c7-4f6f-9130-13d97556f690\",\"type\":\"LinearAxis\"}],\"left\":[{\"id\":\"28b4deb7-c512-4b46-9471-5fece7d5ff39\",\"type\":\"LinearAxis\"}],\"plot_height\":300,\"renderers\":[{\"id\":\"6ec0d992-10c7-4f6f-9130-13d97556f690\",\"type\":\"LinearAxis\"},{\"id\":\"12dcfab9-25d1-4bee-b493-084f0c232a6c\",\"type\":\"Grid\"},{\"id\":\"28b4deb7-c512-4b46-9471-5fece7d5ff39\",\"type\":\"LinearAxis\"},{\"id\":\"b66b99b1-6d6b-4437-a236-36e85370d46a\",\"type\":\"Grid\"},{\"id\":\"8b30c136-b0c5-44d2-9735-a3d749bb6862\",\"type\":\"GlyphRenderer\"},{\"id\":\"268f80e4-c69f-4b35-b9c9-e1f9338b4936\",\"type\":\"GlyphRenderer\"}],\"title\":{\"id\":\"13ae37d8-a6d6-4cd4-b7b5-e56b88f68b0a\",\"type\":\"Title\"},\"toolbar\":{\"id\":\"a9d3037d-c601-41cb-a4c2-392e31a6536f\",\"type\":\"Toolbar\"},\"x_range\":{\"id\":\"b0a00691-7ad1-45f8-a412-faa2097b8a40\",\"type\":\"Range1d\"},\"x_scale\":{\"id\":\"7eb0b5d1-a39c-4935-9393-e441a1bfafe8\",\"type\":\"LinearScale\"},\"y_range\":{\"id\":\"3f1316c4-228f-403b-9f01-042a4d9860ff\",\"type\":\"Range1d\"},\"y_scale\":{\"id\":\"f61d5246-537e-4a47-83e3-3d1d1062f9bc\",\"type\":\"LinearScale\"}},\"id\":\"59b17f5d-5e85-460d-a169-00480225d50c\",\"subtype\":\"Figure\",\"type\":\"Plot\"},{\"attributes\":{\"data_source\":{\"id\":\"c963e0df-1e4c-4fde-b4c4-cc388e1cf244\",\"type\":\"ColumnDataSource\"},\"glyph\":{\"id\":\"39089694-315e-46ba-baa4-c607905a06bb\",\"type\":\"Square\"},\"hover_glyph\":null,\"muted_glyph\":null,\"nonselection_glyph\":{\"id\":\"371275c8-4fa1-4b33-80b4-8246a29d025a\",\"type\":\"Square\"},\"selection_glyph\":null,\"view\":{\"id\":\"1a5d49bd-12af-4043-a0cc-5e5d4c4f50b8\",\"type\":\"CDSView\"}},\"id\":\"8b30c136-b0c5-44d2-9735-a3d749bb6862\",\"type\":\"GlyphRenderer\"},{\"attributes\":{\"plot\":null,\"text\":\"Concentrazione massima e minima, fattore di decrescita a, dose b\"},\"id\":\"13ae37d8-a6d6-4cd4-b7b5-e56b88f68b0a\",\"type\":\"Title\"},{\"attributes\":{\"callback\":null,\"end\":10},\"id\":\"b0a00691-7ad1-45f8-a412-faa2097b8a40\",\"type\":\"Range1d\"},{\"attributes\":{\"active_drag\":\"auto\",\"active_inspect\":\"auto\",\"active_multi\":null,\"active_scroll\":\"auto\",\"active_tap\":\"auto\",\"tools\":[{\"id\":\"d59e4fdb-23b3-45ff-bcd2-cc5f729e559b\",\"type\":\"PanTool\"},{\"id\":\"2f1b89ba-b090-4fca-ae33-90188f493eb5\",\"type\":\"WheelZoomTool\"},{\"id\":\"676ae4a2-fb72-4a04-8b42-f2b0a89f5972\",\"type\":\"ResetTool\"},{\"id\":\"e6dde252-cd9a-44c3-bb54-b620bf08796e\",\"type\":\"SaveTool\"},{\"id\":\"80435d9d-5c66-4866-86e0-0221bb6464b7\",\"type\":\"CrosshairTool\"}]},\"id\":\"a9d3037d-c601-41cb-a4c2-392e31a6536f\",\"type\":\"Toolbar\"},{\"attributes\":{\"fill_color\":{\"value\":\"#991111\"},\"line_color\":{\"value\":\"#991111\"},\"x\":{\"field\":\"x\"},\"y\":{\"field\":\"y\"}},\"id\":\"39089694-315e-46ba-baa4-c607905a06bb\",\"type\":\"Square\"},{\"attributes\":{},\"id\":\"7eb0b5d1-a39c-4935-9393-e441a1bfafe8\",\"type\":\"LinearScale\"},{\"attributes\":{\"callback\":null,\"end\":6.94961152},\"id\":\"3f1316c4-228f-403b-9f01-042a4d9860ff\",\"type\":\"Range1d\"},{\"attributes\":{},\"id\":\"f61d5246-537e-4a47-83e3-3d1d1062f9bc\",\"type\":\"LinearScale\"},{\"attributes\":{\"plot\":{\"id\":\"59b17f5d-5e85-460d-a169-00480225d50c\",\"subtype\":\"Figure\",\"type\":\"Plot\"},\"ticker\":{\"id\":\"b4151601-e6a8-4e45-aa81-00d69f8deb31\",\"type\":\"BasicTicker\"}},\"id\":\"12dcfab9-25d1-4bee-b493-084f0c232a6c\",\"type\":\"Grid\"},{\"attributes\":{\"axis_label\":\"Tempo, in 12h\",\"formatter\":{\"id\":\"66fd54b6-cacd-4583-8f3e-688be3953d86\",\"type\":\"BasicTickFormatter\"},\"plot\":{\"id\":\"59b17f5d-5e85-460d-a169-00480225d50c\",\"subtype\":\"Figure\",\"type\":\"Plot\"},\"ticker\":{\"id\":\"b4151601-e6a8-4e45-aa81-00d69f8deb31\",\"type\":\"BasicTicker\"}},\"id\":\"6ec0d992-10c7-4f6f-9130-13d97556f690\",\"type\":\"LinearAxis\"},{\"attributes\":{},\"id\":\"b4151601-e6a8-4e45-aa81-00d69f8deb31\",\"type\":\"BasicTicker\"},{\"attributes\":{\"axis_label\":\"Concentrazione farmaco\",\"formatter\":{\"id\":\"cc29a1a0-afdf-454a-a8cc-fc9ecd667ba6\",\"type\":\"BasicTickFormatter\"},\"plot\":{\"id\":\"59b17f5d-5e85-460d-a169-00480225d50c\",\"subtype\":\"Figure\",\"type\":\"Plot\"},\"ticker\":{\"id\":\"0ae10184-43c0-431a-9f30-f27a71a50974\",\"type\":\"BasicTicker\"}},\"id\":\"28b4deb7-c512-4b46-9471-5fece7d5ff39\",\"type\":\"LinearAxis\"},{\"attributes\":{},\"id\":\"0ae10184-43c0-431a-9f30-f27a71a50974\",\"type\":\"BasicTicker\"},{\"attributes\":{\"dimension\":1,\"plot\":{\"id\":\"59b17f5d-5e85-460d-a169-00480225d50c\",\"subtype\":\"Figure\",\"type\":\"Plot\"},\"ticker\":{\"id\":\"0ae10184-43c0-431a-9f30-f27a71a50974\",\"type\":\"BasicTicker\"}},\"id\":\"b66b99b1-6d6b-4437-a236-36e85370d46a\",\"type\":\"Grid\"},{\"attributes\":{\"fill_alpha\":{\"value\":0.1},\"fill_color\":{\"value\":\"#1f77b4\"},\"line_alpha\":{\"value\":0.1},\"line_color\":{\"value\":\"#1f77b4\"},\"x\":{\"field\":\"x\"},\"y\":{\"field\":\"y\"}},\"id\":\"371275c8-4fa1-4b33-80b4-8246a29d025a\",\"type\":\"Square\"},{\"attributes\":{\"callback\":null,\"data\":{\"x\":[0,0,1,1,2,2,3,3,4,4,5,5,6,6,7,7,8,8,9,9,10,10,11,11,12,12,13,13,14,14,15,15,16,16,17,17,18,18,19,19,20,20,21,21,22,22,23,23,24,24,25,25,26,26,27,27,28,28,29,29,30,30,31,31,32,32,33,33,34,34,35,35,36,36,37,37,38,38,39,39,40,40,41,41,42,42,43,43,44,44,45,45,46,46,47,47,48,48,49,49],\"y\":[-2.0,0.0,0.0,2.0,1.2000000000000002,3.2,1.92,3.92,2.3520000000000003,4.352,2.6112,4.6112,2.7667200000000003,4.76672,2.8600320000000004,4.860032,2.9160192,4.9160192,2.9496115200000004,4.94961152,2.969766912,4.969766912,2.9818601472,4.9818601472,2.9891160883200003,4.98911608832,2.993469652992,4.993469652992,2.9960817917952003,4.9960817917952,2.9976490750771196,4.99764907507712,2.998589445046272,4.998589445046272,2.9991536670277634,4.999153667027763,2.9994922002166575,4.9994922002166575,2.9996953201299945,4.9996953201299945,2.9998171920779972,4.999817192077997,2.999890315246798,4.999890315246798,2.999934189148079,4.999934189148079,2.9999605134888476,4.999960513488848,2.9999763080933084,4.999976308093308,2.999985784855985,4.999985784855985,2.9999914709135913,4.999991470913591,2.9999948825481546,4.999994882548155,2.9999969295288924,4.999996929528892,2.999998157717336,4.999998157717336,2.9999988946304015,4.9999988946304015,2.9999993367782407,4.999999336778241,2.9999996020669446,4.999999602066945,2.9999997612401668,4.999999761240167,2.9999998567441004,4.9999998567441,2.9999999140464597,4.99999991404646,2.9999999484278757,4.999999948427876,2.9999999690567254,4.999999969056725,2.9999999814340352,4.999999981434035,2.999999988860421,4.999999988860421,2.999999993316253,4.999999993316253,2.999999995989752,4.999999995989752,2.999999997593851,4.999999997593851,2.9999999985563104,4.99999999855631,2.9999999991337862,4.999999999133786,2.9999999994802717,4.999999999480272,2.999999999688163,4.999999999688163,2.999999999812898,4.999999999812898,2.9999999998877387,4.999999999887739,2.999999999932643,4.999999999932643]},\"selected\":{\"id\":\"74314bc3-4e01-4223-8598-a2cd345cc87f\",\"type\":\"Selection\"},\"selection_policy\":{\"id\":\"548a5364-0162-4196-bf74-4ef3490b3b6f\",\"type\":\"UnionRenderers\"}},\"id\":\"e76fa4f4-c4b7-4eb5-b22c-1e0b7bc61d91\",\"type\":\"ColumnDataSource\"},{\"attributes\":{\"line_color\":\"#991111\",\"x\":{\"field\":\"x\"},\"y\":{\"field\":\"y\"}},\"id\":\"cb86300e-dff2-40cb-b0b7-b1610f4dfdc2\",\"type\":\"Line\"},{\"attributes\":{},\"id\":\"d59e4fdb-23b3-45ff-bcd2-cc5f729e559b\",\"type\":\"PanTool\"},{\"attributes\":{},\"id\":\"2f1b89ba-b090-4fca-ae33-90188f493eb5\",\"type\":\"WheelZoomTool\"},{\"attributes\":{},\"id\":\"676ae4a2-fb72-4a04-8b42-f2b0a89f5972\",\"type\":\"ResetTool\"},{\"attributes\":{},\"id\":\"e6dde252-cd9a-44c3-bb54-b620bf08796e\",\"type\":\"SaveTool\"},{\"attributes\":{},\"id\":\"80435d9d-5c66-4866-86e0-0221bb6464b7\",\"type\":\"CrosshairTool\"},{\"attributes\":{\"source\":{\"id\":\"c963e0df-1e4c-4fde-b4c4-cc388e1cf244\",\"type\":\"ColumnDataSource\"}},\"id\":\"1a5d49bd-12af-4043-a0cc-5e5d4c4f50b8\",\"type\":\"CDSView\"},{\"attributes\":{\"line_alpha\":0.1,\"line_color\":\"#1f77b4\",\"x\":{\"field\":\"x\"},\"y\":{\"field\":\"y\"}},\"id\":\"0a60ac1f-74d9-4c49-b395-47116b049d82\",\"type\":\"Line\"},{\"attributes\":{\"data_source\":{\"id\":\"e76fa4f4-c4b7-4eb5-b22c-1e0b7bc61d91\",\"type\":\"ColumnDataSource\"},\"glyph\":{\"id\":\"cb86300e-dff2-40cb-b0b7-b1610f4dfdc2\",\"type\":\"Line\"},\"hover_glyph\":null,\"muted_glyph\":null,\"nonselection_glyph\":{\"id\":\"0a60ac1f-74d9-4c49-b395-47116b049d82\",\"type\":\"Line\"},\"selection_glyph\":null,\"view\":{\"id\":\"0801cf8f-8927-4716-9211-cbc27b21f03f\",\"type\":\"CDSView\"}},\"id\":\"268f80e4-c69f-4b35-b9c9-e1f9338b4936\",\"type\":\"GlyphRenderer\"},{\"attributes\":{\"source\":{\"id\":\"e76fa4f4-c4b7-4eb5-b22c-1e0b7bc61d91\",\"type\":\"ColumnDataSource\"}},\"id\":\"0801cf8f-8927-4716-9211-cbc27b21f03f\",\"type\":\"CDSView\"},{\"attributes\":{},\"id\":\"66fd54b6-cacd-4583-8f3e-688be3953d86\",\"type\":\"BasicTickFormatter\"},{\"attributes\":{},\"id\":\"cc29a1a0-afdf-454a-a8cc-fc9ecd667ba6\",\"type\":\"BasicTickFormatter\"},{\"attributes\":{},\"id\":\"bddd101e-f8c8-410a-853e-feeebaea948d\",\"type\":\"Selection\"}],\"root_ids\":[\"59b17f5d-5e85-460d-a169-00480225d50c\"]},\"title\":\"Bokeh Application\",\"version\":\"0.13.0\"}};\n",
       "  var render_items = [{\"docid\":\"1f5852ca-39fd-4634-bb80-df39466cd3a4\",\"notebook_comms_target\":\"07f74850-aa15-4fb6-b5b8-1f12e46ce9b9\",\"roots\":{\"59b17f5d-5e85-460d-a169-00480225d50c\":\"4e43b7b2-ac12-4d21-bbd3-e95e98354a43\"}}];\n",
       "  root.Bokeh.embed.embed_items_notebook(docs_json, render_items);\n",
       "\n",
       "  }\n",
       "  if (root.Bokeh !== undefined) {\n",
       "    embed_document(root);\n",
       "  } else {\n",
       "    var attempts = 0;\n",
       "    var timer = setInterval(function(root) {\n",
       "      if (root.Bokeh !== undefined) {\n",
       "        embed_document(root);\n",
       "        clearInterval(timer);\n",
       "      }\n",
       "      attempts++;\n",
       "      if (attempts > 100) {\n",
       "        console.log(\"Bokeh: ERROR: Unable to run BokehJS code because BokehJS library is missing\")\n",
       "        clearInterval(timer);\n",
       "      }\n",
       "    }, 10, root)\n",
       "  }\n",
       "})(window);"
      ],
      "application/vnd.bokehjs_exec.v0+json": ""
     },
     "metadata": {
      "application/vnd.bokehjs_exec.v0+json": {
       "id": "59b17f5d-5e85-460d-a169-00480225d50c"
      }
     },
     "output_type": "display_data"
    },
    {
     "data": {
      "application/vnd.jupyter.widget-view+json": {
       "model_id": "b40cf62563e94c10a0a026a721933d0e",
       "version_major": 2,
       "version_minor": 0
      },
      "text/plain": [
       "interactive(children=(FloatSlider(value=0.6, description='a', max=0.8, min=0.1, style=SliderStyle(description_…"
      ]
     },
     "metadata": {},
     "output_type": "display_data"
    }
   ],
   "source": [
    "n_max = 50                      # numero massimo di iterazioni che calcolo\n",
    "n_plt =10                       # numero massimo di iterazioni visibili\n",
    "a = 0.6                         # fattore di decrescita\n",
    "r = a-1                         # tasso di decrescita\n",
    "b = 2                           # pesca/raccolto \n",
    "d0 = 0                          # concentrazione iniziale\n",
    "x = arange(n_max)               # array di tempi\n",
    "y = (d0+b/r) * (1+r)**x - b/r   # array di concentrazioni\n",
    "\n",
    "plot3 = figure(title=f\"Concentrazione massima e minima, fattore di decrescita a, dose b\", \n",
    "               x_axis_label = \"Tempo, in 12h\",\n",
    "               y_axis_label = \"Concentrazione farmaco\",\n",
    "               x_range=( 0.0,   n_plt  ),       # range da visualizzare inizialmente\n",
    "               y_range=( 0.0, y[n_plt-1]+b ),   # range da visualizzare inizialmente \n",
    "               **options,\n",
    "              )\n",
    "\n",
    "#p3 = plot3.square(x, y,   color='#119911')\n",
    "#p3 = plot3.line(x, y,     color='#119911')\n",
    "q3 = plot3.square(sum( zip(x, x  ), () ), sum( zip(y-b, y), () ),   color='#991111')\n",
    "q3 = plot3.line(sum( zip(x, x  ), () ), sum( zip(y-b, y), () ),   color='#991111')\n",
    "#q3 = plot3.line(x+x, y+y,  color='#991111')\n",
    "#q3 = plot3.line(, ,  color='#991111')\n",
    "def update2( a=a, b=b): \n",
    "    r = a -1\n",
    "    y = (d0+b/r) * (1+r)**x - b/r\n",
    "    p3.data_source.data['x'] = x\n",
    "    p3.data_source.data['y'] = y \n",
    "    y1 = [max(0,y[i]-b) for i in range(len(y))]\n",
    "    q3.data_source.data['x'] = sum( zip(x, x  ), () )\n",
    "    q3.data_source.data['y'] = sum( zip(y1, y), () )\n",
    "    push_notebook()\n",
    "\n",
    "show(plot3, notebook_handle=True)\n",
    "style = {'description_width': 'initial'}\n",
    "interact(update2,  \n",
    "         a  = FloatSlider(description=\"a\", min=.1, max=.8, step=.1, value=a, style=style),\n",
    "         b  = FloatSlider(description=\"b\", min= 0, max=4, step=1, value=b, style=style),\n",
    "         );"
   ]
  },
  {
   "cell_type": "code",
   "execution_count": null,
   "metadata": {},
   "outputs": [],
   "source": []
  }
 ],
 "metadata": {
  "kernelspec": {
   "display_name": "Python 3",
   "language": "python",
   "name": "python3"
  },
  "language_info": {
   "codemirror_mode": {
    "name": "ipython",
    "version": 3
   },
   "file_extension": ".py",
   "mimetype": "text/x-python",
   "name": "python",
   "nbconvert_exporter": "python",
   "pygments_lexer": "ipython3",
   "version": "3.6.6"
  }
 },
 "nbformat": 4,
 "nbformat_minor": 2
}
