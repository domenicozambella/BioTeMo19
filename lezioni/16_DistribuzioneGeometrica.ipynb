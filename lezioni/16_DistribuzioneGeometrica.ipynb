{
 "cells": [
  {
   "cell_type": "code",
   "execution_count": 1,
   "metadata": {},
   "outputs": [
    {
     "data": {
      "text/html": [
       "<style>\n",
       "div.jp-MarkdownOutput {font-family: \"Times New Roman\", Times, serif;   \n",
       "    background-color: #eee; \n",
       "    border-left: 5px solid #00b5b4;\n",
       "    font-size: 14pt;\n",
       "    line-height: 160%;\n",
       "}\n",
       ".text_cell_render {\n",
       "    font-family: \"Times New Roman\", Times, serif;    \n",
       "    background-color: #eee; \n",
       "    border-left: 5px solid #00b5b4;\n",
       "    font-size: 14pt;\n",
       "    line-height: 160%;\n",
       "}\n",
       "\n",
       "h1 {\n",
       "    font-size: larger !important;\n",
       "    margin-top: 0ex !important;\n",
       "}\n",
       "\n",
       "h2 {\n",
       "    font-size: 14pt !important;\n",
       "    margin-top: 0ex !important;\n",
       "    margin-bottom: 0ex !important;\n",
       "    padding-bottom: 0ex !important;\n",
       "}\n",
       "\n",
       "h3 {\n",
       "    font-size: 14pt !important;\n",
       "    margin-top: 0ex !important;\n",
       "    margin-bottom: 0ex !important;\n",
       "    padding-bottom: 0ex !important;\n",
       "}\n",
       "\n",
       "mark {\n",
       "    background-color: #ffdd00;\n",
       "    border-top-right-radius: 5px;\n",
       "    border-top-left-radius: 5px;\n",
       "    border-bottom-right-radius: 5px;\n",
       "    border-bottom-left-radius: 5px;\n",
       "    padding-top: 0.1ex;\n",
       "    padding-bottom: 0.2ex;\n",
       "    padding-left: 0.7ex;\n",
       "    padding-right: 0.7ex;\n",
       "}\n",
       "\n",
       ".ita {\n",
       "    background-color: #bbddee;\n",
       "}\n",
       "\n",
       ".errore {background-color:#d88;\n",
       "        width:310px;\n",
       "        height:17ex;\n",
       "        display:inline-block;\n",
       "        margin:5px;\n",
       "        padding:8px;\n",
       "}\n",
       "\n",
       ".corretto {background-color:#2d8;\n",
       "        width:310px;\n",
       "        height:17ex;\n",
       "        display:inline-block;\n",
       "        margin:5px;\n",
       "        padding:8px;\n",
       "}\n",
       "\n",
       "n-a {background-color: #ffdddd;}\n",
       "\n",
       "ul, ol {\n",
       "     padding-left: 2ex !important;\n",
       "}\n",
       "ul {\n",
       "     margin-top: 0ex !important;\n",
       "     margin-bottom: 0ex !important;\n",
       "     list-style-type: square !important;\n",
       "}\n",
       "\n",
       "div.warn {    \n",
       "    background-color: #fcf2f2;\n",
       "    border-color: #dFb5b4;\n",
       "    border-left: 5px solid #dfb5b4;\n",
       "    margin-top: 1ex;\n",
       "    padding: 1ex;\n",
       "}\n",
       ".right{\n",
       "    float:right\n",
       "}\n",
       "\n",
       "hr { \n",
       "    display: block;\n",
       "    margin-top: 0.5ex;\n",
       "    margin-bottom: 0.5ex;\n",
       "    margin-left: auto;\n",
       "    margin-right: auto;\n",
       "    border-style: inset;\n",
       "    border-width: 1px;\n",
       "}\n",
       "</style>\n"
      ],
      "text/plain": [
       "<IPython.core.display.HTML object>"
      ]
     },
     "execution_count": 1,
     "metadata": {},
     "output_type": "execute_result"
    }
   ],
   "source": [
    "# RUN THIS CELL: it loads some style files\n",
    "from IPython.core.display import HTML\n",
    "with open( './style/custom.css', 'r' ) as f: html_style = f.read()\n",
    "HTML( html_style )"
   ]
  },
  {
   "cell_type": "markdown",
   "metadata": {},
   "source": [
    "# Le v.a. geometriche\n",
    "\n",
    "Immaginiamo una sequenza infinita di v.a.i. di Bernoulli, $X_i\\sim B(1,p)$ per $i=0,1,\\dots$  \n",
    "Sia $Y$ la variabile aleatoria che da il più piccolo $i$ tale che $X_i=1$. Più concretamente $Y$ corrisponde a contare quanti insuccessi abbiamo prima del primo successo se lanciamo una moneta con probabilità di successo $p$.  \n",
    "\n",
    "Diremo che $Y$ è una variabile geometrica con parametro $p$, in simboli $Y\\sim NB(1,p)$."
   ]
  },
  {
   "cell_type": "markdown",
   "metadata": {},
   "source": [
    "## La distribuzione geometrica\n",
    "\n",
    "Sia $Y\\sim NB(1,p)$. Data l'interpretazione esposta qui sopra è immediato calcolare la pmf\n",
    "\n",
    "$P(Y=i)\\ \\ =\\ \\ (1-p)^ip$\n",
    "\n"
   ]
  },
  {
   "cell_type": "code",
   "execution_count": 2,
   "metadata": {},
   "outputs": [
    {
     "data": {
      "text/html": [
       "\n",
       "    <div class=\"bk-root\">\n",
       "        <a href=\"https://bokeh.pydata.org\" target=\"_blank\" class=\"bk-logo bk-logo-small bk-logo-notebook\"></a>\n",
       "        <span id=\"2a9d7741-f986-4712-b741-a8b9224404fc\">Loading BokehJS ...</span>\n",
       "    </div>"
      ]
     },
     "metadata": {},
     "output_type": "display_data"
    },
    {
     "data": {
      "application/javascript": [
       "\n",
       "(function(root) {\n",
       "  function now() {\n",
       "    return new Date();\n",
       "  }\n",
       "\n",
       "  var force = true;\n",
       "\n",
       "  if (typeof (root._bokeh_onload_callbacks) === \"undefined\" || force === true) {\n",
       "    root._bokeh_onload_callbacks = [];\n",
       "    root._bokeh_is_loading = undefined;\n",
       "  }\n",
       "\n",
       "  var JS_MIME_TYPE = 'application/javascript';\n",
       "  var HTML_MIME_TYPE = 'text/html';\n",
       "  var EXEC_MIME_TYPE = 'application/vnd.bokehjs_exec.v0+json';\n",
       "  var CLASS_NAME = 'output_bokeh rendered_html';\n",
       "\n",
       "  /**\n",
       "   * Render data to the DOM node\n",
       "   */\n",
       "  function render(props, node) {\n",
       "    var script = document.createElement(\"script\");\n",
       "    node.appendChild(script);\n",
       "  }\n",
       "\n",
       "  /**\n",
       "   * Handle when an output is cleared or removed\n",
       "   */\n",
       "  function handleClearOutput(event, handle) {\n",
       "    var cell = handle.cell;\n",
       "\n",
       "    var id = cell.output_area._bokeh_element_id;\n",
       "    var server_id = cell.output_area._bokeh_server_id;\n",
       "    // Clean up Bokeh references\n",
       "    if (id != null && id in Bokeh.index) {\n",
       "      Bokeh.index[id].model.document.clear();\n",
       "      delete Bokeh.index[id];\n",
       "    }\n",
       "\n",
       "    if (server_id !== undefined) {\n",
       "      // Clean up Bokeh references\n",
       "      var cmd = \"from bokeh.io.state import curstate; print(curstate().uuid_to_server['\" + server_id + \"'].get_sessions()[0].document.roots[0]._id)\";\n",
       "      cell.notebook.kernel.execute(cmd, {\n",
       "        iopub: {\n",
       "          output: function(msg) {\n",
       "            var id = msg.content.text.trim();\n",
       "            if (id in Bokeh.index) {\n",
       "              Bokeh.index[id].model.document.clear();\n",
       "              delete Bokeh.index[id];\n",
       "            }\n",
       "          }\n",
       "        }\n",
       "      });\n",
       "      // Destroy server and session\n",
       "      var cmd = \"import bokeh.io.notebook as ion; ion.destroy_server('\" + server_id + \"')\";\n",
       "      cell.notebook.kernel.execute(cmd);\n",
       "    }\n",
       "  }\n",
       "\n",
       "  /**\n",
       "   * Handle when a new output is added\n",
       "   */\n",
       "  function handleAddOutput(event, handle) {\n",
       "    var output_area = handle.output_area;\n",
       "    var output = handle.output;\n",
       "\n",
       "    // limit handleAddOutput to display_data with EXEC_MIME_TYPE content only\n",
       "    if ((output.output_type != \"display_data\") || (!output.data.hasOwnProperty(EXEC_MIME_TYPE))) {\n",
       "      return\n",
       "    }\n",
       "\n",
       "    var toinsert = output_area.element.find(\".\" + CLASS_NAME.split(' ')[0]);\n",
       "\n",
       "    if (output.metadata[EXEC_MIME_TYPE][\"id\"] !== undefined) {\n",
       "      toinsert[toinsert.length - 1].firstChild.textContent = output.data[JS_MIME_TYPE];\n",
       "      // store reference to embed id on output_area\n",
       "      output_area._bokeh_element_id = output.metadata[EXEC_MIME_TYPE][\"id\"];\n",
       "    }\n",
       "    if (output.metadata[EXEC_MIME_TYPE][\"server_id\"] !== undefined) {\n",
       "      var bk_div = document.createElement(\"div\");\n",
       "      bk_div.innerHTML = output.data[HTML_MIME_TYPE];\n",
       "      var script_attrs = bk_div.children[0].attributes;\n",
       "      for (var i = 0; i < script_attrs.length; i++) {\n",
       "        toinsert[toinsert.length - 1].firstChild.setAttribute(script_attrs[i].name, script_attrs[i].value);\n",
       "      }\n",
       "      // store reference to server id on output_area\n",
       "      output_area._bokeh_server_id = output.metadata[EXEC_MIME_TYPE][\"server_id\"];\n",
       "    }\n",
       "  }\n",
       "\n",
       "  function register_renderer(events, OutputArea) {\n",
       "\n",
       "    function append_mime(data, metadata, element) {\n",
       "      // create a DOM node to render to\n",
       "      var toinsert = this.create_output_subarea(\n",
       "        metadata,\n",
       "        CLASS_NAME,\n",
       "        EXEC_MIME_TYPE\n",
       "      );\n",
       "      this.keyboard_manager.register_events(toinsert);\n",
       "      // Render to node\n",
       "      var props = {data: data, metadata: metadata[EXEC_MIME_TYPE]};\n",
       "      render(props, toinsert[toinsert.length - 1]);\n",
       "      element.append(toinsert);\n",
       "      return toinsert\n",
       "    }\n",
       "\n",
       "    /* Handle when an output is cleared or removed */\n",
       "    events.on('clear_output.CodeCell', handleClearOutput);\n",
       "    events.on('delete.Cell', handleClearOutput);\n",
       "\n",
       "    /* Handle when a new output is added */\n",
       "    events.on('output_added.OutputArea', handleAddOutput);\n",
       "\n",
       "    /**\n",
       "     * Register the mime type and append_mime function with output_area\n",
       "     */\n",
       "    OutputArea.prototype.register_mime_type(EXEC_MIME_TYPE, append_mime, {\n",
       "      /* Is output safe? */\n",
       "      safe: true,\n",
       "      /* Index of renderer in `output_area.display_order` */\n",
       "      index: 0\n",
       "    });\n",
       "  }\n",
       "\n",
       "  // register the mime type if in Jupyter Notebook environment and previously unregistered\n",
       "  if (root.Jupyter !== undefined) {\n",
       "    var events = require('base/js/events');\n",
       "    var OutputArea = require('notebook/js/outputarea').OutputArea;\n",
       "\n",
       "    if (OutputArea.prototype.mime_types().indexOf(EXEC_MIME_TYPE) == -1) {\n",
       "      register_renderer(events, OutputArea);\n",
       "    }\n",
       "  }\n",
       "\n",
       "  \n",
       "  if (typeof (root._bokeh_timeout) === \"undefined\" || force === true) {\n",
       "    root._bokeh_timeout = Date.now() + 5000;\n",
       "    root._bokeh_failed_load = false;\n",
       "  }\n",
       "\n",
       "  var NB_LOAD_WARNING = {'data': {'text/html':\n",
       "     \"<div style='background-color: #fdd'>\\n\"+\n",
       "     \"<p>\\n\"+\n",
       "     \"BokehJS does not appear to have successfully loaded. If loading BokehJS from CDN, this \\n\"+\n",
       "     \"may be due to a slow or bad network connection. Possible fixes:\\n\"+\n",
       "     \"</p>\\n\"+\n",
       "     \"<ul>\\n\"+\n",
       "     \"<li>re-rerun `output_notebook()` to attempt to load from CDN again, or</li>\\n\"+\n",
       "     \"<li>use INLINE resources instead, as so:</li>\\n\"+\n",
       "     \"</ul>\\n\"+\n",
       "     \"<code>\\n\"+\n",
       "     \"from bokeh.resources import INLINE\\n\"+\n",
       "     \"output_notebook(resources=INLINE)\\n\"+\n",
       "     \"</code>\\n\"+\n",
       "     \"</div>\"}};\n",
       "\n",
       "  function display_loaded() {\n",
       "    var el = document.getElementById(\"2a9d7741-f986-4712-b741-a8b9224404fc\");\n",
       "    if (el != null) {\n",
       "      el.textContent = \"BokehJS is loading...\";\n",
       "    }\n",
       "    if (root.Bokeh !== undefined) {\n",
       "      if (el != null) {\n",
       "        el.textContent = \"BokehJS \" + root.Bokeh.version + \" successfully loaded.\";\n",
       "      }\n",
       "    } else if (Date.now() < root._bokeh_timeout) {\n",
       "      setTimeout(display_loaded, 100)\n",
       "    }\n",
       "  }\n",
       "\n",
       "\n",
       "  function run_callbacks() {\n",
       "    try {\n",
       "      root._bokeh_onload_callbacks.forEach(function(callback) { callback() });\n",
       "    }\n",
       "    finally {\n",
       "      delete root._bokeh_onload_callbacks\n",
       "    }\n",
       "    console.info(\"Bokeh: all callbacks have finished\");\n",
       "  }\n",
       "\n",
       "  function load_libs(js_urls, callback) {\n",
       "    root._bokeh_onload_callbacks.push(callback);\n",
       "    if (root._bokeh_is_loading > 0) {\n",
       "      console.log(\"Bokeh: BokehJS is being loaded, scheduling callback at\", now());\n",
       "      return null;\n",
       "    }\n",
       "    if (js_urls == null || js_urls.length === 0) {\n",
       "      run_callbacks();\n",
       "      return null;\n",
       "    }\n",
       "    console.log(\"Bokeh: BokehJS not loaded, scheduling load and callback at\", now());\n",
       "    root._bokeh_is_loading = js_urls.length;\n",
       "    for (var i = 0; i < js_urls.length; i++) {\n",
       "      var url = js_urls[i];\n",
       "      var s = document.createElement('script');\n",
       "      s.src = url;\n",
       "      s.async = false;\n",
       "      s.onreadystatechange = s.onload = function() {\n",
       "        root._bokeh_is_loading--;\n",
       "        if (root._bokeh_is_loading === 0) {\n",
       "          console.log(\"Bokeh: all BokehJS libraries loaded\");\n",
       "          run_callbacks()\n",
       "        }\n",
       "      };\n",
       "      s.onerror = function() {\n",
       "        console.warn(\"failed to load library \" + url);\n",
       "      };\n",
       "      console.log(\"Bokeh: injecting script tag for BokehJS library: \", url);\n",
       "      document.getElementsByTagName(\"head\")[0].appendChild(s);\n",
       "    }\n",
       "  };var element = document.getElementById(\"2a9d7741-f986-4712-b741-a8b9224404fc\");\n",
       "  if (element == null) {\n",
       "    console.log(\"Bokeh: ERROR: autoload.js configured with elementid '2a9d7741-f986-4712-b741-a8b9224404fc' but no matching script tag was found. \")\n",
       "    return false;\n",
       "  }\n",
       "\n",
       "  var js_urls = [\"https://cdn.pydata.org/bokeh/release/bokeh-0.13.0.min.js\", \"https://cdn.pydata.org/bokeh/release/bokeh-widgets-0.13.0.min.js\", \"https://cdn.pydata.org/bokeh/release/bokeh-tables-0.13.0.min.js\", \"https://cdn.pydata.org/bokeh/release/bokeh-gl-0.13.0.min.js\"];\n",
       "\n",
       "  var inline_js = [\n",
       "    function(Bokeh) {\n",
       "      Bokeh.set_log_level(\"info\");\n",
       "    },\n",
       "    \n",
       "    function(Bokeh) {\n",
       "      \n",
       "    },\n",
       "    function(Bokeh) {\n",
       "      console.log(\"Bokeh: injecting CSS: https://cdn.pydata.org/bokeh/release/bokeh-0.13.0.min.css\");\n",
       "      Bokeh.embed.inject_css(\"https://cdn.pydata.org/bokeh/release/bokeh-0.13.0.min.css\");\n",
       "      console.log(\"Bokeh: injecting CSS: https://cdn.pydata.org/bokeh/release/bokeh-widgets-0.13.0.min.css\");\n",
       "      Bokeh.embed.inject_css(\"https://cdn.pydata.org/bokeh/release/bokeh-widgets-0.13.0.min.css\");\n",
       "      console.log(\"Bokeh: injecting CSS: https://cdn.pydata.org/bokeh/release/bokeh-tables-0.13.0.min.css\");\n",
       "      Bokeh.embed.inject_css(\"https://cdn.pydata.org/bokeh/release/bokeh-tables-0.13.0.min.css\");\n",
       "    }\n",
       "  ];\n",
       "\n",
       "  function run_inline_js() {\n",
       "    \n",
       "    if ((root.Bokeh !== undefined) || (force === true)) {\n",
       "      for (var i = 0; i < inline_js.length; i++) {\n",
       "        inline_js[i].call(root, root.Bokeh);\n",
       "      }if (force === true) {\n",
       "        display_loaded();\n",
       "      }} else if (Date.now() < root._bokeh_timeout) {\n",
       "      setTimeout(run_inline_js, 100);\n",
       "    } else if (!root._bokeh_failed_load) {\n",
       "      console.log(\"Bokeh: BokehJS failed to load within specified timeout.\");\n",
       "      root._bokeh_failed_load = true;\n",
       "    } else if (force !== true) {\n",
       "      var cell = $(document.getElementById(\"2a9d7741-f986-4712-b741-a8b9224404fc\")).parents('.cell').data().cell;\n",
       "      cell.output_area.append_execute_result(NB_LOAD_WARNING)\n",
       "    }\n",
       "\n",
       "  }\n",
       "\n",
       "  if (root._bokeh_is_loading === 0) {\n",
       "    console.log(\"Bokeh: BokehJS loaded, going straight to plotting\");\n",
       "    run_inline_js();\n",
       "  } else {\n",
       "    load_libs(js_urls, function() {\n",
       "      console.log(\"Bokeh: BokehJS plotting callback run at\", now());\n",
       "      run_inline_js();\n",
       "    });\n",
       "  }\n",
       "}(window));"
      ],
      "application/vnd.bokehjs_load.v0+json": "\n(function(root) {\n  function now() {\n    return new Date();\n  }\n\n  var force = true;\n\n  if (typeof (root._bokeh_onload_callbacks) === \"undefined\" || force === true) {\n    root._bokeh_onload_callbacks = [];\n    root._bokeh_is_loading = undefined;\n  }\n\n  \n\n  \n  if (typeof (root._bokeh_timeout) === \"undefined\" || force === true) {\n    root._bokeh_timeout = Date.now() + 5000;\n    root._bokeh_failed_load = false;\n  }\n\n  var NB_LOAD_WARNING = {'data': {'text/html':\n     \"<div style='background-color: #fdd'>\\n\"+\n     \"<p>\\n\"+\n     \"BokehJS does not appear to have successfully loaded. If loading BokehJS from CDN, this \\n\"+\n     \"may be due to a slow or bad network connection. Possible fixes:\\n\"+\n     \"</p>\\n\"+\n     \"<ul>\\n\"+\n     \"<li>re-rerun `output_notebook()` to attempt to load from CDN again, or</li>\\n\"+\n     \"<li>use INLINE resources instead, as so:</li>\\n\"+\n     \"</ul>\\n\"+\n     \"<code>\\n\"+\n     \"from bokeh.resources import INLINE\\n\"+\n     \"output_notebook(resources=INLINE)\\n\"+\n     \"</code>\\n\"+\n     \"</div>\"}};\n\n  function display_loaded() {\n    var el = document.getElementById(\"2a9d7741-f986-4712-b741-a8b9224404fc\");\n    if (el != null) {\n      el.textContent = \"BokehJS is loading...\";\n    }\n    if (root.Bokeh !== undefined) {\n      if (el != null) {\n        el.textContent = \"BokehJS \" + root.Bokeh.version + \" successfully loaded.\";\n      }\n    } else if (Date.now() < root._bokeh_timeout) {\n      setTimeout(display_loaded, 100)\n    }\n  }\n\n\n  function run_callbacks() {\n    try {\n      root._bokeh_onload_callbacks.forEach(function(callback) { callback() });\n    }\n    finally {\n      delete root._bokeh_onload_callbacks\n    }\n    console.info(\"Bokeh: all callbacks have finished\");\n  }\n\n  function load_libs(js_urls, callback) {\n    root._bokeh_onload_callbacks.push(callback);\n    if (root._bokeh_is_loading > 0) {\n      console.log(\"Bokeh: BokehJS is being loaded, scheduling callback at\", now());\n      return null;\n    }\n    if (js_urls == null || js_urls.length === 0) {\n      run_callbacks();\n      return null;\n    }\n    console.log(\"Bokeh: BokehJS not loaded, scheduling load and callback at\", now());\n    root._bokeh_is_loading = js_urls.length;\n    for (var i = 0; i < js_urls.length; i++) {\n      var url = js_urls[i];\n      var s = document.createElement('script');\n      s.src = url;\n      s.async = false;\n      s.onreadystatechange = s.onload = function() {\n        root._bokeh_is_loading--;\n        if (root._bokeh_is_loading === 0) {\n          console.log(\"Bokeh: all BokehJS libraries loaded\");\n          run_callbacks()\n        }\n      };\n      s.onerror = function() {\n        console.warn(\"failed to load library \" + url);\n      };\n      console.log(\"Bokeh: injecting script tag for BokehJS library: \", url);\n      document.getElementsByTagName(\"head\")[0].appendChild(s);\n    }\n  };var element = document.getElementById(\"2a9d7741-f986-4712-b741-a8b9224404fc\");\n  if (element == null) {\n    console.log(\"Bokeh: ERROR: autoload.js configured with elementid '2a9d7741-f986-4712-b741-a8b9224404fc' but no matching script tag was found. \")\n    return false;\n  }\n\n  var js_urls = [\"https://cdn.pydata.org/bokeh/release/bokeh-0.13.0.min.js\", \"https://cdn.pydata.org/bokeh/release/bokeh-widgets-0.13.0.min.js\", \"https://cdn.pydata.org/bokeh/release/bokeh-tables-0.13.0.min.js\", \"https://cdn.pydata.org/bokeh/release/bokeh-gl-0.13.0.min.js\"];\n\n  var inline_js = [\n    function(Bokeh) {\n      Bokeh.set_log_level(\"info\");\n    },\n    \n    function(Bokeh) {\n      \n    },\n    function(Bokeh) {\n      console.log(\"Bokeh: injecting CSS: https://cdn.pydata.org/bokeh/release/bokeh-0.13.0.min.css\");\n      Bokeh.embed.inject_css(\"https://cdn.pydata.org/bokeh/release/bokeh-0.13.0.min.css\");\n      console.log(\"Bokeh: injecting CSS: https://cdn.pydata.org/bokeh/release/bokeh-widgets-0.13.0.min.css\");\n      Bokeh.embed.inject_css(\"https://cdn.pydata.org/bokeh/release/bokeh-widgets-0.13.0.min.css\");\n      console.log(\"Bokeh: injecting CSS: https://cdn.pydata.org/bokeh/release/bokeh-tables-0.13.0.min.css\");\n      Bokeh.embed.inject_css(\"https://cdn.pydata.org/bokeh/release/bokeh-tables-0.13.0.min.css\");\n    }\n  ];\n\n  function run_inline_js() {\n    \n    if ((root.Bokeh !== undefined) || (force === true)) {\n      for (var i = 0; i < inline_js.length; i++) {\n        inline_js[i].call(root, root.Bokeh);\n      }if (force === true) {\n        display_loaded();\n      }} else if (Date.now() < root._bokeh_timeout) {\n      setTimeout(run_inline_js, 100);\n    } else if (!root._bokeh_failed_load) {\n      console.log(\"Bokeh: BokehJS failed to load within specified timeout.\");\n      root._bokeh_failed_load = true;\n    } else if (force !== true) {\n      var cell = $(document.getElementById(\"2a9d7741-f986-4712-b741-a8b9224404fc\")).parents('.cell').data().cell;\n      cell.output_area.append_execute_result(NB_LOAD_WARNING)\n    }\n\n  }\n\n  if (root._bokeh_is_loading === 0) {\n    console.log(\"Bokeh: BokehJS loaded, going straight to plotting\");\n    run_inline_js();\n  } else {\n    load_libs(js_urls, function() {\n      console.log(\"Bokeh: BokehJS plotting callback run at\", now());\n      run_inline_js();\n    });\n  }\n}(window));"
     },
     "metadata": {},
     "output_type": "display_data"
    }
   ],
   "source": [
    "from scipy.stats import geom, nbinom                      # libraries for statistical functions\n",
    "from numpy import arange                      # libraries for statistical functions\n",
    "from ipywidgets import interact, FloatSlider, IntSlider   # libraries for interactions with the graphic\n",
    "from bokeh.io import push_notebook, show, output_notebook, output_file # libraries for graphic output\n",
    "from bokeh.plotting import figure\n",
    "output_notebook()\n",
    "options = dict(plot_height=400,plot_width=700,tools=\"pan,wheel_zoom,reset,save,crosshair,box_select\")"
   ]
  },
  {
   "cell_type": "code",
   "execution_count": 3,
   "metadata": {},
   "outputs": [
    {
     "data": {
      "text/html": [
       "\n",
       "\n",
       "\n",
       "\n",
       "\n",
       "\n",
       "  <div class=\"bk-root\" id=\"a2cdae42-942b-419e-8770-399e8291f8f1\"></div>\n"
      ]
     },
     "metadata": {},
     "output_type": "display_data"
    },
    {
     "data": {
      "application/javascript": [
       "(function(root) {\n",
       "  function embed_document(root) {\n",
       "    \n",
       "  var docs_json = {\"7e0fcb75-c5e8-4ea9-9396-ceac4a05cc90\":{\"roots\":{\"references\":[{\"attributes\":{},\"id\":\"7c0f5825-fe7e-456c-9d73-034465c54062\",\"type\":\"UnionRenderers\"},{\"attributes\":{\"plot\":{\"id\":\"a1dcc228-4606-4f5e-904e-6eefc66f632e\",\"subtype\":\"Figure\",\"type\":\"Plot\"},\"ticker\":{\"id\":\"793d0370-0e0a-4460-8398-5aad6710d007\",\"type\":\"BasicTicker\"}},\"id\":\"3955fbfe-a30b-47d0-9e0f-e753f4b9843b\",\"type\":\"Grid\"},{\"attributes\":{\"axis_label\":\"probability\",\"formatter\":{\"id\":\"6fa5e335-f94e-4b27-9162-8ad699faa6ad\",\"type\":\"BasicTickFormatter\"},\"plot\":{\"id\":\"a1dcc228-4606-4f5e-904e-6eefc66f632e\",\"subtype\":\"Figure\",\"type\":\"Plot\"},\"ticker\":{\"id\":\"a4999d8f-7e24-4a98-95fe-c1c82a68867d\",\"type\":\"BasicTicker\"}},\"id\":\"fa2bc780-3c35-4361-a1b4-dc57c7d74c2a\",\"type\":\"LinearAxis\"},{\"attributes\":{\"source\":{\"id\":\"3a17114d-9681-482b-9a54-30ef573c11f4\",\"type\":\"ColumnDataSource\"}},\"id\":\"a0bc08d4-4509-46ab-85e3-88109d6364d1\",\"type\":\"CDSView\"},{\"attributes\":{},\"id\":\"a4999d8f-7e24-4a98-95fe-c1c82a68867d\",\"type\":\"BasicTicker\"},{\"attributes\":{},\"id\":\"dc5cd6c1-9ecf-4e93-a267-86a1f6212437\",\"type\":\"Selection\"},{\"attributes\":{\"dimension\":1,\"plot\":{\"id\":\"a1dcc228-4606-4f5e-904e-6eefc66f632e\",\"subtype\":\"Figure\",\"type\":\"Plot\"},\"ticker\":{\"id\":\"a4999d8f-7e24-4a98-95fe-c1c82a68867d\",\"type\":\"BasicTicker\"}},\"id\":\"9610ae12-e3bb-4602-b81e-659ac2cbb6d8\",\"type\":\"Grid\"},{\"attributes\":{},\"id\":\"9db7b0aa-1a95-4bb5-b731-78d237696428\",\"type\":\"PanTool\"},{\"attributes\":{},\"id\":\"d8520098-8972-4f2e-a2a1-80dc58d1d30f\",\"type\":\"BasicTickFormatter\"},{\"attributes\":{\"callback\":null,\"data\":{\"top\":[0,0,0,0,0,0,0,0,0,0,0,0,0,0,0,0,0,0,0,0,0,0,0,0,0,0,0,0,0,0,0,0,0,0,0,0,0,0,0,0,0,0,0,0,0,0,0,0,0,0,0,0,0,0,0,0,0,0,0,0,0,0,0,0,0,0,0,0,0,0,0,0,0,0,0,0,0,0,0,0,0,0,0,0,0,0,0,0,0,0,0,0,0,0,0,0,0,0,0,0],\"x\":[0,1,2,3,4,5,6,7,8,9,10,11,12,13,14,15,16,17,18,19,20,21,22,23,24,25,26,27,28,29,30,31,32,33,34,35,36,37,38,39,40,41,42,43,44,45,46,47,48,49,50,51,52,53,54,55,56,57,58,59,60,61,62,63,64,65,66,67,68,69,70,71,72,73,74,75,76,77,78,79,80,81,82,83,84,85,86,87,88,89,90,91,92,93,94,95,96,97,98,99]},\"selected\":{\"id\":\"dc5cd6c1-9ecf-4e93-a267-86a1f6212437\",\"type\":\"Selection\"},\"selection_policy\":{\"id\":\"7c0f5825-fe7e-456c-9d73-034465c54062\",\"type\":\"UnionRenderers\"}},\"id\":\"3a17114d-9681-482b-9a54-30ef573c11f4\",\"type\":\"ColumnDataSource\"},{\"attributes\":{\"fill_alpha\":{\"value\":0.1},\"fill_color\":{\"value\":\"#1f77b4\"},\"line_alpha\":{\"value\":0.1},\"line_color\":{\"value\":\"#1f77b4\"},\"top\":{\"field\":\"top\"},\"width\":{\"value\":0.8},\"x\":{\"field\":\"x\"}},\"id\":\"b20adf20-48a5-4e5a-9bfc-c89df6a5c8a3\",\"type\":\"VBar\"},{\"attributes\":{\"below\":[{\"id\":\"38b86348-b892-4215-b35f-67e0ab448d08\",\"type\":\"LinearAxis\"}],\"left\":[{\"id\":\"fa2bc780-3c35-4361-a1b4-dc57c7d74c2a\",\"type\":\"LinearAxis\"}],\"plot_height\":400,\"plot_width\":700,\"renderers\":[{\"id\":\"38b86348-b892-4215-b35f-67e0ab448d08\",\"type\":\"LinearAxis\"},{\"id\":\"3955fbfe-a30b-47d0-9e0f-e753f4b9843b\",\"type\":\"Grid\"},{\"id\":\"fa2bc780-3c35-4361-a1b4-dc57c7d74c2a\",\"type\":\"LinearAxis\"},{\"id\":\"9610ae12-e3bb-4602-b81e-659ac2cbb6d8\",\"type\":\"Grid\"},{\"id\":\"5cc3ad73-7f80-41bc-841f-97e53679a96a\",\"type\":\"BoxAnnotation\"},{\"id\":\"08a5f485-27ba-4be6-b876-0d8689a2a257\",\"type\":\"GlyphRenderer\"}],\"title\":{\"id\":\"19fa0c40-85ad-47e4-86b4-c8d2d475717b\",\"type\":\"Title\"},\"toolbar\":{\"id\":\"6dd5b141-34b5-4ce6-b2b7-24f41ec55c25\",\"type\":\"Toolbar\"},\"x_range\":{\"id\":\"417cabaa-0237-4004-8d04-2e8bdc004a09\",\"type\":\"Range1d\"},\"x_scale\":{\"id\":\"b717c69b-1bfe-4411-837e-8310529f661f\",\"type\":\"LinearScale\"},\"y_range\":{\"id\":\"0df25ce5-c2db-4e5f-9abf-4c8ca03460a6\",\"type\":\"Range1d\"},\"y_scale\":{\"id\":\"4b58e067-8d24-403f-9be5-63da2527b858\",\"type\":\"LinearScale\"}},\"id\":\"a1dcc228-4606-4f5e-904e-6eefc66f632e\",\"subtype\":\"Figure\",\"type\":\"Plot\"},{\"attributes\":{},\"id\":\"6fa5e335-f94e-4b27-9162-8ad699faa6ad\",\"type\":\"BasicTickFormatter\"},{\"attributes\":{\"plot\":null,\"text\":\"PMF of X ~ NB(1,p)\",\"text_font\":\"times\",\"text_font_size\":{\"value\":\"16pt\"}},\"id\":\"19fa0c40-85ad-47e4-86b4-c8d2d475717b\",\"type\":\"Title\"},{\"attributes\":{},\"id\":\"90e16e6b-0c99-435b-8727-8d53f463cee2\",\"type\":\"WheelZoomTool\"},{\"attributes\":{\"callback\":null,\"end\":20,\"start\":-1},\"id\":\"417cabaa-0237-4004-8d04-2e8bdc004a09\",\"type\":\"Range1d\"},{\"attributes\":{\"data_source\":{\"id\":\"3a17114d-9681-482b-9a54-30ef573c11f4\",\"type\":\"ColumnDataSource\"},\"glyph\":{\"id\":\"3d891c9e-13b5-4d90-99f3-adf36abf67e1\",\"type\":\"VBar\"},\"hover_glyph\":null,\"muted_glyph\":null,\"nonselection_glyph\":{\"id\":\"b20adf20-48a5-4e5a-9bfc-c89df6a5c8a3\",\"type\":\"VBar\"},\"selection_glyph\":null,\"view\":{\"id\":\"a0bc08d4-4509-46ab-85e3-88109d6364d1\",\"type\":\"CDSView\"}},\"id\":\"08a5f485-27ba-4be6-b876-0d8689a2a257\",\"type\":\"GlyphRenderer\"},{\"attributes\":{\"fill_alpha\":{\"value\":0.5},\"fill_color\":{\"value\":\"#111188\"},\"line_alpha\":{\"value\":0.5},\"line_color\":{\"value\":\"#111188\"},\"top\":{\"field\":\"top\"},\"width\":{\"value\":0.8},\"x\":{\"field\":\"x\"}},\"id\":\"3d891c9e-13b5-4d90-99f3-adf36abf67e1\",\"type\":\"VBar\"},{\"attributes\":{},\"id\":\"6cf6cad8-706e-4eaf-b09e-e6389fd2a4bb\",\"type\":\"ResetTool\"},{\"attributes\":{\"active_drag\":\"auto\",\"active_inspect\":\"auto\",\"active_multi\":null,\"active_scroll\":\"auto\",\"active_tap\":\"auto\",\"tools\":[{\"id\":\"9db7b0aa-1a95-4bb5-b731-78d237696428\",\"type\":\"PanTool\"},{\"id\":\"90e16e6b-0c99-435b-8727-8d53f463cee2\",\"type\":\"WheelZoomTool\"},{\"id\":\"6cf6cad8-706e-4eaf-b09e-e6389fd2a4bb\",\"type\":\"ResetTool\"},{\"id\":\"6c9e205b-9e0d-4bf4-9f5a-844778f9637f\",\"type\":\"SaveTool\"},{\"id\":\"b8107fe7-80d4-422f-bf8f-df65410e18b6\",\"type\":\"CrosshairTool\"},{\"id\":\"302922bd-0926-4c49-9761-d0f9a80a44a9\",\"type\":\"BoxSelectTool\"}]},\"id\":\"6dd5b141-34b5-4ce6-b2b7-24f41ec55c25\",\"type\":\"Toolbar\"},{\"attributes\":{},\"id\":\"6c9e205b-9e0d-4bf4-9f5a-844778f9637f\",\"type\":\"SaveTool\"},{\"attributes\":{},\"id\":\"b8107fe7-80d4-422f-bf8f-df65410e18b6\",\"type\":\"CrosshairTool\"},{\"attributes\":{},\"id\":\"b717c69b-1bfe-4411-837e-8310529f661f\",\"type\":\"LinearScale\"},{\"attributes\":{\"callback\":null,\"overlay\":{\"id\":\"5cc3ad73-7f80-41bc-841f-97e53679a96a\",\"type\":\"BoxAnnotation\"}},\"id\":\"302922bd-0926-4c49-9761-d0f9a80a44a9\",\"type\":\"BoxSelectTool\"},{\"attributes\":{\"callback\":null,\"end\":0.5},\"id\":\"0df25ce5-c2db-4e5f-9abf-4c8ca03460a6\",\"type\":\"Range1d\"},{\"attributes\":{\"bottom_units\":\"screen\",\"fill_alpha\":{\"value\":0.5},\"fill_color\":{\"value\":\"lightgrey\"},\"left_units\":\"screen\",\"level\":\"overlay\",\"line_alpha\":{\"value\":1.0},\"line_color\":{\"value\":\"black\"},\"line_dash\":[4,4],\"line_width\":{\"value\":2},\"plot\":null,\"render_mode\":\"css\",\"right_units\":\"screen\",\"top_units\":\"screen\"},\"id\":\"5cc3ad73-7f80-41bc-841f-97e53679a96a\",\"type\":\"BoxAnnotation\"},{\"attributes\":{},\"id\":\"4b58e067-8d24-403f-9be5-63da2527b858\",\"type\":\"LinearScale\"},{\"attributes\":{\"axis_label\":\"number of failures before the first success\",\"formatter\":{\"id\":\"d8520098-8972-4f2e-a2a1-80dc58d1d30f\",\"type\":\"BasicTickFormatter\"},\"plot\":{\"id\":\"a1dcc228-4606-4f5e-904e-6eefc66f632e\",\"subtype\":\"Figure\",\"type\":\"Plot\"},\"ticker\":{\"id\":\"793d0370-0e0a-4460-8398-5aad6710d007\",\"type\":\"BasicTicker\"}},\"id\":\"38b86348-b892-4215-b35f-67e0ab448d08\",\"type\":\"LinearAxis\"},{\"attributes\":{},\"id\":\"793d0370-0e0a-4460-8398-5aad6710d007\",\"type\":\"BasicTicker\"}],\"root_ids\":[\"a1dcc228-4606-4f5e-904e-6eefc66f632e\"]},\"title\":\"Bokeh Application\",\"version\":\"0.13.0\"}};\n",
       "  var render_items = [{\"docid\":\"7e0fcb75-c5e8-4ea9-9396-ceac4a05cc90\",\"notebook_comms_target\":\"c7a0b369-35bf-41e0-8d9b-5200c38b0ccf\",\"roots\":{\"a1dcc228-4606-4f5e-904e-6eefc66f632e\":\"a2cdae42-942b-419e-8770-399e8291f8f1\"}}];\n",
       "  root.Bokeh.embed.embed_items_notebook(docs_json, render_items);\n",
       "\n",
       "  }\n",
       "  if (root.Bokeh !== undefined) {\n",
       "    embed_document(root);\n",
       "  } else {\n",
       "    var attempts = 0;\n",
       "    var timer = setInterval(function(root) {\n",
       "      if (root.Bokeh !== undefined) {\n",
       "        embed_document(root);\n",
       "        clearInterval(timer);\n",
       "      }\n",
       "      attempts++;\n",
       "      if (attempts > 100) {\n",
       "        console.log(\"Bokeh: ERROR: Unable to run BokehJS code because BokehJS library is missing\")\n",
       "        clearInterval(timer);\n",
       "      }\n",
       "    }, 10, root)\n",
       "  }\n",
       "})(window);"
      ],
      "application/vnd.bokehjs_exec.v0+json": ""
     },
     "metadata": {
      "application/vnd.bokehjs_exec.v0+json": {
       "id": "a1dcc228-4606-4f5e-904e-6eefc66f632e"
      }
     },
     "output_type": "display_data"
    },
    {
     "data": {
      "application/vnd.jupyter.widget-view+json": {
       "model_id": "01213a014b224eff92a56159295a6834",
       "version_major": 2,
       "version_minor": 0
      },
      "text/plain": [
       "interactive(children=(FloatSlider(value=0.3, description='p', max=0.95, min=0.1, step=0.05), Output()), _dom_c…"
      ]
     },
     "metadata": {},
     "output_type": "display_data"
    }
   ],
   "source": [
    "p = .3\n",
    "n = 100         # maximal number of trials computed\n",
    "n_vis = 20      # maximal number of trials initially visible\n",
    "x = arange(n)   # inizialization\n",
    "plot1 = figure(title=\"PMF of X ~ NB(1,p)\", x_axis_label = \"number of failures before the first success\", # create an empty figure\n",
    "               y_axis_label = \"probability\", x_range=(-1,n_vis), y_range=(0,0.5), **options )\n",
    "plot1.title.text_font=\"times\"\n",
    "plot1.title.text_font_size=\"16pt\"\n",
    "r1 = plot1.vbar(x, top=[0 for i in x], bottom=0, # initialize barplot\n",
    "                width=0.8, color=\"#111188\", alpha=0.5 \n",
    "               )\n",
    "show(plot1, notebook_handle=True)\n",
    "    \n",
    "def update1(p):\n",
    "    data = {'x':x, 'top': nbinom.pmf(x,1,p) }\n",
    "    r1.data_source.data = data\n",
    "    push_notebook()\n",
    "\n",
    "interact(update1,\n",
    "         p = FloatSlider(description=\"p\", min=0.1, max=0.95,  step=0.05, value=p));"
   ]
  },
  {
   "cell_type": "markdown",
   "metadata": {},
   "source": [
    "## Esempio\n",
    "\n",
    "Assumiamo che la probabilità di successo di un ciclo di IVF è di circa il $30\\%$. Qual è la probabilità di successo in 4 clicli.<br> <br> \n",
    "\n",
    "## Risposta\n",
    "\n",
    "$\\qquad\\Pr(Y\\le 3)\\qquad $ dove $Y\\sim NB(1,0.3)$"
   ]
  },
  {
   "cell_type": "code",
   "execution_count": 8,
   "metadata": {},
   "outputs": [
    {
     "data": {
      "text/plain": [
       "0.75990000000000002"
      ]
     },
     "execution_count": 8,
     "metadata": {},
     "output_type": "execute_result"
    }
   ],
   "source": [
    "nbinom.cdf(3,1,0.3)"
   ]
  },
  {
   "cell_type": "markdown",
   "metadata": {},
   "source": [
    "## Valore atteso e varianza\n",
    "\n",
    "Per calcolare il valore atteso usiamo un argomento basato sul calcolo differenziale $\\def\\E{{\\rm E}}$\n",
    "\n",
    "$\\qquad\\displaystyle\\E(Y)\n",
    "\\ \\ =\\ \\ \n",
    "\\sum_{i=1}^\\infty i\\,(1-p)^i\\,p\\qquad$ (l'addendo $i=0$ si può omettere)\n",
    "\n",
    "$\\qquad\\displaystyle\\phantom{\\E(Y)}\n",
    "\\ \\ =\\ \\ \n",
    "p\\,(1-p)\\,\\sum_{i=1}^\\infty i\\,(1-p)^{i-1}$\n",
    "\n",
    "$\\qquad\\displaystyle\\phantom{\\E(Y)}\n",
    "\\ \\ =\\ \\ \n",
    "p\\,(1-p)\\,\\sum_{i=1}^\\infty -\\dfrac{{\\rm d}(1-p)^i}{{\\rm d}p}$\n",
    "\n",
    "$\\qquad\\displaystyle\\phantom{\\E(Y)}\n",
    "\\ \\ =\\ \\ \n",
    "p\\,(1-p)\\,\\dfrac{{\\rm d}}{{\\rm d}p}\\sum_{i=1}^\\infty -(1-p)^i$\n",
    "\n",
    "$\\qquad\\displaystyle\\phantom{\\E(Y)}\n",
    "\\ \\ =\\ \\ \n",
    "p\\,(1-p)\\,\\dfrac{{\\rm d}}{{\\rm d}p}\\sum_{i=1}^\\infty -(1-p)^i$\n",
    "\n",
    "$\\qquad\\displaystyle\\phantom{\\E(Y)}\n",
    "\\ \\ =\\ \\ \n",
    "p\\,(1-p)\\,\\dfrac{{\\rm d}}{{\\rm d}p}-\\dfrac{1}{p}$\n",
    "\n",
    "$\\qquad\\displaystyle\\phantom{\\E(Y)}\n",
    "\\ \\ =\\ \\ $\n",
    "<mark style=\"padding:2ex;\">$\\dfrac{1-p}{p}$</mark>\n",
    "\n",
    "Il calcolo della varianza è simile (lo prendiamo per buono) $\\def\\Var{{\\rm Var}}$\n",
    "\n",
    "$\\qquad\\Var \\left(Y\\right)\\ \\ =\\ \\  $<mark style=\"padding-top:1.5ex;padding-bottom:2.5ex;\">$\\dfrac p {\\left({1 - p}\\right)^2}$</mark>"
   ]
  },
  {
   "cell_type": "markdown",
   "metadata": {},
   "source": [
    "## Esempio\n",
    "\n",
    "Nell'esempio precedente quant'è in media il numero di cicli necessario per avere successo?<br> <br> \n",
    "\n",
    "## Risposta\n",
    "\n",
    "Se la variabile $Y\\sim NB(1,0.3)$ conta il numero di insuccessi, il numero di tentativi per avere il primo successo è $Y+1$.\n",
    "\n",
    "$\\qquad\\E(Y+1)\\ =\\ \\E(Y)+1\\ =\\ \\dfrac{0.7}{0.3}+1\\ =\\ 3.3$ "
   ]
  },
  {
   "cell_type": "markdown",
   "metadata": {},
   "source": [
    "## Esempio\n",
    "\n",
    "Nell'esempio precedente quanti cicli dobbiamo preventivare per avere una probabilità di successo del $95\\%$<br> <br> \n",
    "\n",
    "## Risposta\n",
    "\n",
    "Vogliamo $x$ (il minimo) tale che\n",
    "\n",
    "$\\qquad\\Pr(Y+1\\le x)\\ \\ge 0.95$"
   ]
  },
  {
   "cell_type": "code",
   "execution_count": 14,
   "metadata": {},
   "outputs": [
    {
     "data": {
      "text/plain": [
       "8.0"
      ]
     },
     "execution_count": 14,
     "metadata": {},
     "output_type": "execute_result"
    }
   ],
   "source": [
    "nbinom.cdf(8,1,0.3)\n",
    "nbinom.ppf(.95,1,0.3)"
   ]
  },
  {
   "cell_type": "markdown",
   "metadata": {},
   "source": [
    "<div class=\"warn\">Attenzione terminologia non uniforme</div>\n",
    "\n",
    "Qualcuno definisce la v.a. geometrica come la funzione che conta il *numero di tentativi fino (compreso) al primo successo*. In questo caso la v.a. ha valori in $\\{1,2,\\dots\\}$.\n",
    "\n",
    "Qualcuno (più raramente, ma comunque nel testo 2) rovescia successi e insuccessi.\n",
    "\n",
    "Noi chiamiamo quest'ultima v.a. geometrica <mark>traslata</mark> oppure <mark class=\"ita\">shifted</mark>. Chiaramente qualcun'altro chiama translata la nostra non translata."
   ]
  },
  {
   "cell_type": "markdown",
   "metadata": {},
   "source": [
    "# La binomiale negativa\n",
    "\n",
    "Le v.a. binomiale negative generalizzano le v.a. geometriche. Fissato un intero $n$ e una probabilità di successo $p$ la variabile $Y$ conta il numero di insuccessi ottenuti prima di avere l'$n$-esimo successo.\n",
    "\n",
    "Per esempio $Y\\sim NB(2,p)$\n",
    "\n",
    "$Y(11)= 0$ \n",
    "\n",
    "$Y(101) = 1$\n",
    "\n",
    "$Y(011) = 1$\n",
    "\n",
    "$Y(0011) = 2$ \n",
    "\n",
    "$Y(1001) = 2$\n",
    "\n",
    "$Y(0101) = 2$\n",
    "\n",
    "$Y(00101) = 3$\n",
    "\n",
    "A volte è utile sapere a quale tentativo otteniamo l'$n$-esimo successo. Se $Y\\sim NB(n,p)$ questo è dato dall variabile $Y+n$."
   ]
  },
  {
   "cell_type": "code",
   "execution_count": 9,
   "metadata": {},
   "outputs": [
    {
     "data": {
      "text/html": [
       "\n",
       "\n",
       "\n",
       "\n",
       "\n",
       "\n",
       "  <div class=\"bk-root\" id=\"03c1c055-3c9d-42cd-bb5c-fb7b7d09766c\"></div>\n"
      ]
     },
     "metadata": {},
     "output_type": "display_data"
    },
    {
     "data": {
      "application/javascript": [
       "(function(root) {\n",
       "  function embed_document(root) {\n",
       "    \n",
       "  var docs_json = {\"5777e324-06d5-4f23-8f6c-d0e479738330\":{\"roots\":{\"references\":[{\"attributes\":{},\"id\":\"300c53cd-aa74-452f-92ea-738530735d0d\",\"type\":\"ResetTool\"},{\"attributes\":{},\"id\":\"e8125797-0c05-452c-adf8-d7d80403aaa1\",\"type\":\"SaveTool\"},{\"attributes\":{\"plot\":{\"id\":\"16603017-42e7-4fb4-b5ed-711bba693448\",\"subtype\":\"Figure\",\"type\":\"Plot\"},\"ticker\":{\"id\":\"69f321d4-37e6-4c20-8262-daf915c44523\",\"type\":\"BasicTicker\"}},\"id\":\"1f44b195-c73c-494b-a675-ab3929c081c2\",\"type\":\"Grid\"},{\"attributes\":{\"below\":[{\"id\":\"51937197-576d-492f-89cb-c0c2713e1f92\",\"type\":\"LinearAxis\"}],\"left\":[{\"id\":\"83f06205-c4e6-46b5-b976-e76542490768\",\"type\":\"LinearAxis\"}],\"plot_height\":400,\"plot_width\":700,\"renderers\":[{\"id\":\"51937197-576d-492f-89cb-c0c2713e1f92\",\"type\":\"LinearAxis\"},{\"id\":\"1f44b195-c73c-494b-a675-ab3929c081c2\",\"type\":\"Grid\"},{\"id\":\"83f06205-c4e6-46b5-b976-e76542490768\",\"type\":\"LinearAxis\"},{\"id\":\"e379e468-88e7-4555-a972-930fc9a6c57b\",\"type\":\"Grid\"},{\"id\":\"805e38e6-91ea-460b-a5e3-b83294ebf32a\",\"type\":\"BoxAnnotation\"},{\"id\":\"9ee57c96-3c48-4e37-814e-4d36aaccc4a6\",\"type\":\"GlyphRenderer\"}],\"title\":{\"id\":\"13571ac3-238b-4915-be67-a441647770e4\",\"type\":\"Title\"},\"toolbar\":{\"id\":\"7c7e48c8-9c54-46c4-9dae-e95c51740b23\",\"type\":\"Toolbar\"},\"x_range\":{\"id\":\"be8e9582-636e-4c93-9630-a6621e285329\",\"type\":\"Range1d\"},\"x_scale\":{\"id\":\"4f50fd47-6a2e-4211-8194-8481f1a7bf3c\",\"type\":\"LinearScale\"},\"y_range\":{\"id\":\"2ae1e221-cd90-492d-8d79-4d8cbeb8cbaf\",\"type\":\"Range1d\"},\"y_scale\":{\"id\":\"ed39a625-6c0a-4de6-bdfe-5a25d4071a4a\",\"type\":\"LinearScale\"}},\"id\":\"16603017-42e7-4fb4-b5ed-711bba693448\",\"subtype\":\"Figure\",\"type\":\"Plot\"},{\"attributes\":{},\"id\":\"4bd03967-ff5b-48e9-959f-2b9643cfa3d9\",\"type\":\"CrosshairTool\"},{\"attributes\":{\"plot\":null,\"text\":\"PMF of X ~ NB(n,p)\",\"text_font\":\"times\",\"text_font_size\":{\"value\":\"16pt\"}},\"id\":\"13571ac3-238b-4915-be67-a441647770e4\",\"type\":\"Title\"},{\"attributes\":{\"axis_label\":\"probability\",\"formatter\":{\"id\":\"18128998-e207-4519-8790-009c104be536\",\"type\":\"BasicTickFormatter\"},\"plot\":{\"id\":\"16603017-42e7-4fb4-b5ed-711bba693448\",\"subtype\":\"Figure\",\"type\":\"Plot\"},\"ticker\":{\"id\":\"d8b9591c-f438-4b01-b055-2626944e90c4\",\"type\":\"BasicTicker\"}},\"id\":\"83f06205-c4e6-46b5-b976-e76542490768\",\"type\":\"LinearAxis\"},{\"attributes\":{\"callback\":null,\"overlay\":{\"id\":\"805e38e6-91ea-460b-a5e3-b83294ebf32a\",\"type\":\"BoxAnnotation\"}},\"id\":\"858055a6-f350-4ef7-831f-85fc2ff7385c\",\"type\":\"BoxSelectTool\"},{\"attributes\":{\"callback\":null,\"end\":20,\"start\":-1},\"id\":\"be8e9582-636e-4c93-9630-a6621e285329\",\"type\":\"Range1d\"},{\"attributes\":{\"bottom_units\":\"screen\",\"fill_alpha\":{\"value\":0.5},\"fill_color\":{\"value\":\"lightgrey\"},\"left_units\":\"screen\",\"level\":\"overlay\",\"line_alpha\":{\"value\":1.0},\"line_color\":{\"value\":\"black\"},\"line_dash\":[4,4],\"line_width\":{\"value\":2},\"plot\":null,\"render_mode\":\"css\",\"right_units\":\"screen\",\"top_units\":\"screen\"},\"id\":\"805e38e6-91ea-460b-a5e3-b83294ebf32a\",\"type\":\"BoxAnnotation\"},{\"attributes\":{\"active_drag\":\"auto\",\"active_inspect\":\"auto\",\"active_multi\":null,\"active_scroll\":\"auto\",\"active_tap\":\"auto\",\"tools\":[{\"id\":\"1c52342b-59bc-48fc-93c4-5a5b553af199\",\"type\":\"PanTool\"},{\"id\":\"82303b2c-1930-41f3-a180-844373ec457a\",\"type\":\"WheelZoomTool\"},{\"id\":\"300c53cd-aa74-452f-92ea-738530735d0d\",\"type\":\"ResetTool\"},{\"id\":\"e8125797-0c05-452c-adf8-d7d80403aaa1\",\"type\":\"SaveTool\"},{\"id\":\"4bd03967-ff5b-48e9-959f-2b9643cfa3d9\",\"type\":\"CrosshairTool\"},{\"id\":\"858055a6-f350-4ef7-831f-85fc2ff7385c\",\"type\":\"BoxSelectTool\"}]},\"id\":\"7c7e48c8-9c54-46c4-9dae-e95c51740b23\",\"type\":\"Toolbar\"},{\"attributes\":{},\"id\":\"d8b9591c-f438-4b01-b055-2626944e90c4\",\"type\":\"BasicTicker\"},{\"attributes\":{\"dimension\":1,\"plot\":{\"id\":\"16603017-42e7-4fb4-b5ed-711bba693448\",\"subtype\":\"Figure\",\"type\":\"Plot\"},\"ticker\":{\"id\":\"d8b9591c-f438-4b01-b055-2626944e90c4\",\"type\":\"BasicTicker\"}},\"id\":\"e379e468-88e7-4555-a972-930fc9a6c57b\",\"type\":\"Grid\"},{\"attributes\":{\"source\":{\"id\":\"6185fb6d-4822-4d3f-88a6-adcf269ebb04\",\"type\":\"ColumnDataSource\"}},\"id\":\"19c6ff47-b750-449e-a73a-4bcab7ecba19\",\"type\":\"CDSView\"},{\"attributes\":{\"data_source\":{\"id\":\"6185fb6d-4822-4d3f-88a6-adcf269ebb04\",\"type\":\"ColumnDataSource\"},\"glyph\":{\"id\":\"0f65b326-0620-469a-9f21-843220d0ea54\",\"type\":\"VBar\"},\"hover_glyph\":null,\"muted_glyph\":null,\"nonselection_glyph\":{\"id\":\"b5f64306-4474-40ac-b9be-eaf5cc5444ea\",\"type\":\"VBar\"},\"selection_glyph\":null,\"view\":{\"id\":\"19c6ff47-b750-449e-a73a-4bcab7ecba19\",\"type\":\"CDSView\"}},\"id\":\"9ee57c96-3c48-4e37-814e-4d36aaccc4a6\",\"type\":\"GlyphRenderer\"},{\"attributes\":{},\"id\":\"4f50fd47-6a2e-4211-8194-8481f1a7bf3c\",\"type\":\"LinearScale\"},{\"attributes\":{},\"id\":\"b01e1c2b-0a84-48c6-b21c-d9bc523362fe\",\"type\":\"UnionRenderers\"},{\"attributes\":{\"callback\":null,\"end\":0.5},\"id\":\"2ae1e221-cd90-492d-8d79-4d8cbeb8cbaf\",\"type\":\"Range1d\"},{\"attributes\":{\"callback\":null,\"data\":{\"top\":[0,0,0,0,0,0,0,0,0,0,0,0,0,0,0,0,0,0,0,0,0,0,0,0,0,0,0,0,0,0,0,0,0,0,0,0,0,0,0,0,0,0,0,0,0,0,0,0,0,0,0,0,0,0,0,0,0,0,0,0,0,0,0,0,0,0,0,0,0,0,0,0,0,0,0,0,0,0,0,0,0,0,0,0,0,0,0,0,0,0,0,0,0,0,0,0,0,0,0,0],\"x\":[0,1,2,3,4,5,6,7,8,9,10,11,12,13,14,15,16,17,18,19,20,21,22,23,24,25,26,27,28,29,30,31,32,33,34,35,36,37,38,39,40,41,42,43,44,45,46,47,48,49,50,51,52,53,54,55,56,57,58,59,60,61,62,63,64,65,66,67,68,69,70,71,72,73,74,75,76,77,78,79,80,81,82,83,84,85,86,87,88,89,90,91,92,93,94,95,96,97,98,99]},\"selected\":{\"id\":\"ca1bba3c-5e21-4959-9344-f2e2c4581a19\",\"type\":\"Selection\"},\"selection_policy\":{\"id\":\"b01e1c2b-0a84-48c6-b21c-d9bc523362fe\",\"type\":\"UnionRenderers\"}},\"id\":\"6185fb6d-4822-4d3f-88a6-adcf269ebb04\",\"type\":\"ColumnDataSource\"},{\"attributes\":{},\"id\":\"18128998-e207-4519-8790-009c104be536\",\"type\":\"BasicTickFormatter\"},{\"attributes\":{},\"id\":\"ed39a625-6c0a-4de6-bdfe-5a25d4071a4a\",\"type\":\"LinearScale\"},{\"attributes\":{},\"id\":\"ca1bba3c-5e21-4959-9344-f2e2c4581a19\",\"type\":\"Selection\"},{\"attributes\":{\"axis_label\":\"number of failure before the n-th success\",\"formatter\":{\"id\":\"b3be1983-4a7f-4fb3-8841-7a8032f71f1d\",\"type\":\"BasicTickFormatter\"},\"plot\":{\"id\":\"16603017-42e7-4fb4-b5ed-711bba693448\",\"subtype\":\"Figure\",\"type\":\"Plot\"},\"ticker\":{\"id\":\"69f321d4-37e6-4c20-8262-daf915c44523\",\"type\":\"BasicTicker\"}},\"id\":\"51937197-576d-492f-89cb-c0c2713e1f92\",\"type\":\"LinearAxis\"},{\"attributes\":{},\"id\":\"69f321d4-37e6-4c20-8262-daf915c44523\",\"type\":\"BasicTicker\"},{\"attributes\":{\"fill_alpha\":{\"value\":0.5},\"fill_color\":{\"value\":\"#111188\"},\"line_alpha\":{\"value\":0.5},\"line_color\":{\"value\":\"#111188\"},\"top\":{\"field\":\"top\"},\"width\":{\"value\":0.8},\"x\":{\"field\":\"x\"}},\"id\":\"0f65b326-0620-469a-9f21-843220d0ea54\",\"type\":\"VBar\"},{\"attributes\":{},\"id\":\"b3be1983-4a7f-4fb3-8841-7a8032f71f1d\",\"type\":\"BasicTickFormatter\"},{\"attributes\":{},\"id\":\"1c52342b-59bc-48fc-93c4-5a5b553af199\",\"type\":\"PanTool\"},{\"attributes\":{\"fill_alpha\":{\"value\":0.1},\"fill_color\":{\"value\":\"#1f77b4\"},\"line_alpha\":{\"value\":0.1},\"line_color\":{\"value\":\"#1f77b4\"},\"top\":{\"field\":\"top\"},\"width\":{\"value\":0.8},\"x\":{\"field\":\"x\"}},\"id\":\"b5f64306-4474-40ac-b9be-eaf5cc5444ea\",\"type\":\"VBar\"},{\"attributes\":{},\"id\":\"82303b2c-1930-41f3-a180-844373ec457a\",\"type\":\"WheelZoomTool\"}],\"root_ids\":[\"16603017-42e7-4fb4-b5ed-711bba693448\"]},\"title\":\"Bokeh Application\",\"version\":\"0.13.0\"}};\n",
       "  var render_items = [{\"docid\":\"5777e324-06d5-4f23-8f6c-d0e479738330\",\"notebook_comms_target\":\"802e4747-257e-4b8b-8666-b9e46afcdefd\",\"roots\":{\"16603017-42e7-4fb4-b5ed-711bba693448\":\"03c1c055-3c9d-42cd-bb5c-fb7b7d09766c\"}}];\n",
       "  root.Bokeh.embed.embed_items_notebook(docs_json, render_items);\n",
       "\n",
       "  }\n",
       "  if (root.Bokeh !== undefined) {\n",
       "    embed_document(root);\n",
       "  } else {\n",
       "    var attempts = 0;\n",
       "    var timer = setInterval(function(root) {\n",
       "      if (root.Bokeh !== undefined) {\n",
       "        embed_document(root);\n",
       "        clearInterval(timer);\n",
       "      }\n",
       "      attempts++;\n",
       "      if (attempts > 100) {\n",
       "        console.log(\"Bokeh: ERROR: Unable to run BokehJS code because BokehJS library is missing\")\n",
       "        clearInterval(timer);\n",
       "      }\n",
       "    }, 10, root)\n",
       "  }\n",
       "})(window);"
      ],
      "application/vnd.bokehjs_exec.v0+json": ""
     },
     "metadata": {
      "application/vnd.bokehjs_exec.v0+json": {
       "id": "16603017-42e7-4fb4-b5ed-711bba693448"
      }
     },
     "output_type": "display_data"
    },
    {
     "data": {
      "application/vnd.jupyter.widget-view+json": {
       "model_id": "b9681b2ee3cd4618ae0842161e1d6c01",
       "version_major": 2,
       "version_minor": 0
      },
      "text/plain": [
       "interactive(children=(IntSlider(value=1, description='n', max=5, min=1), FloatSlider(value=0.3, description='p…"
      ]
     },
     "metadata": {},
     "output_type": "display_data"
    }
   ],
   "source": [
    "p = .3\n",
    "n = 1\n",
    "n_max = 100             # maximal number of trials computed\n",
    "n_vis = 20              # maximal number of trials initially visible\n",
    "x = arange(n_max)       # inizialization\n",
    "plot1 = figure(title=\"PMF of X ~ NB(n,p)\", x_axis_label = \"number of failure before the n-th success\", # create an empty figure\n",
    "               y_axis_label = \"probability\", x_range=(-1,n_vis), y_range=(0,0.5), **options )\n",
    "plot1.title.text_font=\"times\"\n",
    "plot1.title.text_font_size=\"16pt\"\n",
    "r1 = plot1.vbar(x, top=[0 for i in x], bottom=0, # initialize barplot\n",
    "                width=0.8, color=\"#111188\", alpha=0.5 \n",
    "               )\n",
    "show(plot1, notebook_handle=True)\n",
    "    \n",
    "def update1(n,p):\n",
    "    data = {'x':x, 'top': nbinom.pmf(x,n,p) }\n",
    "    r1.data_source.data = data\n",
    "    push_notebook()\n",
    "\n",
    "interact(update1,\n",
    "         n = IntSlider  (description=\"n\", min=1, max=5, step=1, value=1), \n",
    "         p = FloatSlider(description=\"p\", min=0.1, max=0.95,  step=0.05, value=p));"
   ]
  },
  {
   "cell_type": "markdown",
   "metadata": {},
   "source": [
    "## Valore atteso e varianza\n",
    "\n",
    "$\\qquad\\E(Y)\\ =\\ \\dfrac{n(1-p)}{p}$\n",
    "\n",
    "$\\qquad\\Var(Y)\\ =\\ \\dfrac{n(1-p)}{p^2}$"
   ]
  },
  {
   "cell_type": "markdown",
   "metadata": {},
   "source": [
    "## Esempio\n",
    "\n",
    "Una certa apparecchiatura si inceppa quando entra in contatto per 6 volte con un impurità. Ad ogni ciclo di lavorazione la probabilità di venire a contatto con un impurità è del $20\\%$. Quant'è la probabilità che l'apparecchiatura sopporti almeno 20 cicli?\n",
    "\n",
    "Quanti cicli durarà in media l'apparecchiatura?<br><br>\n",
    "\n",
    "\n",
    "\n",
    "## Risposta\n",
    "\n",
    "Il successo qui è il venire a contatto con un impurità. La variabile $Y+6$, dove $Y\\sim NB(6, 0.2)$, dà il numero del ciclo a cui l'apparecchiatura incontra la $6^{\\rm a}$ impurità.\n",
    "\n",
    "La probabilità richiesta è quindi \n",
    "\n",
    "$\\qquad\\Pr(Y+6>20)\\ =\\ 1-\\Pr(Y\\le 14)\\ =\\ 0.80$"
   ]
  },
  {
   "cell_type": "code",
   "execution_count": 7,
   "metadata": {},
   "outputs": [
    {
     "data": {
      "text/plain": [
       "0.80420778545954907"
      ]
     },
     "execution_count": 7,
     "metadata": {},
     "output_type": "execute_result"
    }
   ],
   "source": [
    "1-nbinom.cdf(14,6,.2)"
   ]
  },
  {
   "cell_type": "markdown",
   "metadata": {},
   "source": [
    "L'aspettativa di vita dell'apparecchiatura è\n",
    "\n",
    "$\\qquad\\E(Y+6)\\ =\\ \\dfrac{6\\cdot 0.8}{0.2}+6\\ =\\ 30\\qquad$ cicli"
   ]
  },
  {
   "cell_type": "code",
   "execution_count": null,
   "metadata": {},
   "outputs": [],
   "source": []
  }
 ],
 "metadata": {
  "kernelspec": {
   "display_name": "Python 3",
   "language": "python",
   "name": "python3"
  },
  "language_info": {
   "codemirror_mode": {
    "name": "ipython",
    "version": 3
   },
   "file_extension": ".py",
   "mimetype": "text/x-python",
   "name": "python",
   "nbconvert_exporter": "python",
   "pygments_lexer": "ipython3",
   "version": "3.6.6"
  }
 },
 "nbformat": 4,
 "nbformat_minor": 2
}
