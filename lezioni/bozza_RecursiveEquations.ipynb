{
 "cells": [
  {
   "cell_type": "code",
   "execution_count": null,
   "metadata": {},
   "outputs": [],
   "source": [
    "# libraries for numerical arrays\n",
    "from numpy import array, arange, linspace\n",
    "\n",
    "# libraries for statistical functions\n",
    "from scipy.stats import binom, norm\n",
    "\n",
    "# libraries for interactions with the graphic\n",
    "from ipywidgets import interact, fixed, FloatSlider, IntSlider, Button, Checkbox\n",
    "\n",
    "# libraries libraries and options for graphic output\n",
    "from bokeh.io import push_notebook, show, output_notebook, output_file\n",
    "from bokeh.plotting import figure\n",
    "output_notebook()\n",
    "options = dict(plot_height=300, plot_width=700, \n",
    "               tools=\"pan,wheel_zoom,reset,save,crosshair\")\n",
    "\n",
    "from IPython.core.display import HTML\n",
    "with open( './style/custom.css', 'r' ) as f: style = f.read()\n",
    "HTML( style )"
   ]
  },
  {
   "cell_type": "markdown",
   "metadata": {},
   "source": [
    "# Crescita malthusiana in tempo discreto (1)\n",
    "\n",
    "Supponiamo che una certa popolazione di batteri in condizioni ottimali (bassa densità e abbondante nutrimento) cresca ogni quarto d'ora di $\\alpha=20\\%$. Chiamiamo $d_0$ la densità al tempo $0$ e $d_n$ la densità dopo $n$ quarti d'ora. \n",
    "\n",
    "Esempio numerico\n",
    "\n",
    "$d_0= 4.3$ (in qualche unità di misura)\n",
    "\n",
    "$d_1= \\alpha\\cdot 4.3 = 0.2\\cdot  4.3 = 6$ \n",
    "\n",
    "$d_2= \\alpha\\cdot d_1 = 0.2\\cdot  0 = $"
   ]
  },
  {
   "cell_type": "code",
   "execution_count": null,
   "metadata": {},
   "outputs": [],
   "source": []
  }
 ],
 "metadata": {
  "kernelspec": {
   "display_name": "Python 3",
   "language": "python",
   "name": "python3"
  },
  "language_info": {
   "codemirror_mode": {
    "name": "ipython",
    "version": 3
   },
   "file_extension": ".py",
   "mimetype": "text/x-python",
   "name": "python",
   "nbconvert_exporter": "python",
   "pygments_lexer": "ipython3",
   "version": "3.6.5"
  }
 },
 "nbformat": 4,
 "nbformat_minor": 2
}
