{
 "cells": [
  {
   "cell_type": "code",
   "execution_count": 1,
   "metadata": {
    "scrolled": true
   },
   "outputs": [
    {
     "ename": "ModuleNotFoundError",
     "evalue": "No module named 'bokeh'",
     "output_type": "error",
     "traceback": [
      "\u001b[0;31m---------------------------------------------------------------------------\u001b[0m",
      "\u001b[0;31mModuleNotFoundError\u001b[0m                       Traceback (most recent call last)",
      "\u001b[0;32m<ipython-input-1-1c0ae45dd05a>\u001b[0m in \u001b[0;36m<module>\u001b[0;34m()\u001b[0m\n\u001b[1;32m      9\u001b[0m \u001b[0;34m\u001b[0m\u001b[0m\n\u001b[1;32m     10\u001b[0m \u001b[0;31m# libraries libraries and options for graphic output\u001b[0m\u001b[0;34m\u001b[0m\u001b[0;34m\u001b[0m\u001b[0m\n\u001b[0;32m---> 11\u001b[0;31m \u001b[0;32mfrom\u001b[0m \u001b[0mbokeh\u001b[0m\u001b[0;34m.\u001b[0m\u001b[0mio\u001b[0m \u001b[0;32mimport\u001b[0m \u001b[0mpush_notebook\u001b[0m\u001b[0;34m,\u001b[0m \u001b[0mshow\u001b[0m\u001b[0;34m,\u001b[0m \u001b[0moutput_notebook\u001b[0m\u001b[0;34m,\u001b[0m \u001b[0moutput_file\u001b[0m\u001b[0;34m\u001b[0m\u001b[0m\n\u001b[0m\u001b[1;32m     12\u001b[0m \u001b[0;32mfrom\u001b[0m \u001b[0mbokeh\u001b[0m\u001b[0;34m.\u001b[0m\u001b[0mplotting\u001b[0m \u001b[0;32mimport\u001b[0m \u001b[0mfigure\u001b[0m\u001b[0;34m\u001b[0m\u001b[0m\n\u001b[1;32m     13\u001b[0m \u001b[0moutput_notebook\u001b[0m\u001b[0;34m(\u001b[0m\u001b[0;34m)\u001b[0m\u001b[0;34m\u001b[0m\u001b[0m\n",
      "\u001b[0;31mModuleNotFoundError\u001b[0m: No module named 'bokeh'"
     ]
    }
   ],
   "source": [
    "# libraries for numerical arrays\n",
    "from numpy import array, arange, linspace\n",
    "\n",
    "# libraries for statistical functions\n",
    "from scipy.stats import binom, norm\n",
    "\n",
    "# libraries for interactions with the graphic\n",
    "from ipywidgets import interact, fixed, FloatSlider, IntSlider, Button, Checkbox, HBox, Label\n",
    "\n",
    "# libraries libraries and options for graphic output\n",
    "from bokeh.io import push_notebook, show, output_notebook, output_file\n",
    "from bokeh.plotting import figure\n",
    "output_notebook()\n",
    "options = dict(plot_height=300, plot_width=700, \n",
    "               tools=\"pan,wheel_zoom,reset,save,crosshair\")\n",
    "\n",
    "from IPython.core.display import HTML\n",
    "with open( './style/custom.css', 'r' ) as f: style = f.read()\n",
    "HTML( style )"
   ]
  },
  {
   "cell_type": "markdown",
   "metadata": {},
   "source": [
    "# A way to represent probabiltities\n",
    "\n",
    "\n",
    "Below we draw rectangles of base $\\frac{1}{\\sigma_{n,p}}$ the area of the rectangle represent the probability.\n",
    "\n",
    "In the graph below we have drown rectangles centered on the possible outcomes a standardized r.v. obtained from $X\\sim B(n,p)$. That is \n",
    "\n",
    "$\\quad\\displaystyle\\frac{x-\\mu_{n,p}}{\\sigma_{n,p}}\\quad$ for $\\quad x\\in\\big\\{0,\\dots,n\\big\\}$,  $\\quad\\mu_{n,p}=np,\\quad$ and $\\quad\\sigma_{n,p}=\\sqrt{np(1-p)}$\n",
    "\n",
    "We may compare the graph to <mark>probability density function</mark> (abreviated <mark>pdf</mark>) of a standard normal r.v. $Z\\sim N(0,1)$"
   ]
  },
  {
   "cell_type": "code",
   "execution_count": 2,
   "metadata": {
    "scrolled": false
   },
   "outputs": [
    {
     "data": {
      "text/html": [
       "\n",
       "\n",
       "\n",
       "\n",
       "\n",
       "\n",
       "  <div class=\"bk-root\" id=\"b8682c87-9920-493b-a8e5-faabc99e881a\"></div>\n"
      ]
     },
     "metadata": {},
     "output_type": "display_data"
    },
    {
     "data": {
      "application/javascript": [
       "(function(root) {\n",
       "  function embed_document(root) {\n",
       "    \n",
       "  var docs_json = {\"4a49dfc9-33d7-446c-833e-1e964b22378a\":{\"roots\":{\"references\":[{\"attributes\":{\"line_alpha\":0.1,\"line_color\":\"#1f77b4\",\"line_width\":2,\"x\":{\"field\":\"x\"},\"y\":{\"field\":\"y\"}},\"id\":\"ccac29e8-4d43-4872-bdb1-3960f2c7acc0\",\"type\":\"Line\"},{\"attributes\":{\"source\":{\"id\":\"284cf7c1-2407-40c4-b9c5-1e75e8b9fe2a\",\"type\":\"ColumnDataSource\"}},\"id\":\"a64c1644-c8f0-4ccd-aa06-9fdac14e3d1f\",\"type\":\"CDSView\"},{\"attributes\":{\"callback\":null,\"end\":3,\"start\":-3},\"id\":\"e05bc0a1-27a9-431e-b7f2-45052feeef38\",\"type\":\"Range1d\"},{\"attributes\":{},\"id\":\"6d811c9c-30f4-4e44-94dc-46102069559d\",\"type\":\"LinearScale\"},{\"attributes\":{\"callback\":null,\"end\":0.6},\"id\":\"c0529fe9-f714-47cb-8a76-14f6da5ec75a\",\"type\":\"Range1d\"},{\"attributes\":{},\"id\":\"beddb88d-e31a-4357-b98d-161745b0ab5b\",\"type\":\"LinearScale\"},{\"attributes\":{\"axis_label\":\"( #successes - \\u03bc) / \\u03c3\",\"formatter\":{\"id\":\"a20dba9f-5bbf-473d-ae65-8435bf0c9e63\",\"type\":\"BasicTickFormatter\"},\"plot\":{\"id\":\"1282a0a2-b48d-449f-983e-da41f433f943\",\"subtype\":\"Figure\",\"type\":\"Plot\"},\"ticker\":{\"id\":\"df49fd76-19c1-48f5-95de-c52a26cf6445\",\"type\":\"BasicTicker\"}},\"id\":\"ec734596-9c9e-4be9-8877-45671236de1e\",\"type\":\"LinearAxis\"},{\"attributes\":{},\"id\":\"df49fd76-19c1-48f5-95de-c52a26cf6445\",\"type\":\"BasicTicker\"},{\"attributes\":{\"plot\":{\"id\":\"1282a0a2-b48d-449f-983e-da41f433f943\",\"subtype\":\"Figure\",\"type\":\"Plot\"},\"ticker\":{\"id\":\"df49fd76-19c1-48f5-95de-c52a26cf6445\",\"type\":\"BasicTicker\"}},\"id\":\"efbe34cc-c32e-446a-b7dd-429886d11176\",\"type\":\"Grid\"},{\"attributes\":{},\"id\":\"2ff73ca4-4c15-4988-b4d9-96815bc37416\",\"type\":\"BasicTickFormatter\"},{\"attributes\":{\"axis_label\":\"probability / \\u03c3\",\"formatter\":{\"id\":\"2ff73ca4-4c15-4988-b4d9-96815bc37416\",\"type\":\"BasicTickFormatter\"},\"plot\":{\"id\":\"1282a0a2-b48d-449f-983e-da41f433f943\",\"subtype\":\"Figure\",\"type\":\"Plot\"},\"ticker\":{\"id\":\"38424bd8-6488-4168-b1cb-779c0ffb467c\",\"type\":\"BasicTicker\"}},\"id\":\"c8af2777-af3d-47cf-b671-f5b987fd268a\",\"type\":\"LinearAxis\"},{\"attributes\":{},\"id\":\"38424bd8-6488-4168-b1cb-779c0ffb467c\",\"type\":\"BasicTicker\"},{\"attributes\":{\"dimension\":1,\"plot\":{\"id\":\"1282a0a2-b48d-449f-983e-da41f433f943\",\"subtype\":\"Figure\",\"type\":\"Plot\"},\"ticker\":{\"id\":\"38424bd8-6488-4168-b1cb-779c0ffb467c\",\"type\":\"BasicTicker\"}},\"id\":\"c2256b6e-d756-498d-acde-a1d89b6ee58d\",\"type\":\"Grid\"},{\"attributes\":{},\"id\":\"2348f75b-43eb-46b6-b721-96f005ea7be1\",\"type\":\"PanTool\"},{\"attributes\":{},\"id\":\"4e15ade3-0d66-4813-99b8-ea3d27403b34\",\"type\":\"WheelZoomTool\"},{\"attributes\":{},\"id\":\"7c6c14c1-f34e-4d5e-bba7-58aabde0fbf8\",\"type\":\"ResetTool\"},{\"attributes\":{},\"id\":\"7e312140-56de-4a7c-887e-4b1a67bd2cd7\",\"type\":\"SaveTool\"},{\"attributes\":{\"fill_alpha\":{\"value\":0.1},\"fill_color\":{\"value\":\"#1f77b4\"},\"line_alpha\":{\"value\":0.1},\"line_color\":{\"value\":\"#1f77b4\"},\"top\":{\"field\":\"top\"},\"width\":{\"value\":0.05},\"x\":{\"field\":\"x\"}},\"id\":\"9d6ce69b-d3ea-4be7-af78-b0ac4a11e85f\",\"type\":\"VBar\"},{\"attributes\":{},\"id\":\"42ed00a9-7a4e-44d9-8b2b-d2ca843050f2\",\"type\":\"CrosshairTool\"},{\"attributes\":{\"data_source\":{\"id\":\"a50e36b7-c567-4cdd-ba9c-15bc29c9f895\",\"type\":\"ColumnDataSource\"},\"glyph\":{\"id\":\"0d702445-613e-42eb-85b4-75a6c398397d\",\"type\":\"Line\"},\"hover_glyph\":null,\"muted_glyph\":null,\"nonselection_glyph\":{\"id\":\"ccac29e8-4d43-4872-bdb1-3960f2c7acc0\",\"type\":\"Line\"},\"selection_glyph\":null,\"view\":{\"id\":\"ced51098-3399-42c9-a3b7-bfe33cd50171\",\"type\":\"CDSView\"}},\"id\":\"c711df44-8fa7-41ba-a031-9e84979aac10\",\"type\":\"GlyphRenderer\"},{\"attributes\":{\"source\":{\"id\":\"a50e36b7-c567-4cdd-ba9c-15bc29c9f895\",\"type\":\"ColumnDataSource\"}},\"id\":\"ced51098-3399-42c9-a3b7-bfe33cd50171\",\"type\":\"CDSView\"},{\"attributes\":{\"fill_alpha\":{\"value\":0.5},\"fill_color\":{\"value\":\"#119911\"},\"line_alpha\":{\"value\":0.5},\"line_color\":{\"value\":\"#119911\"},\"top\":{\"field\":\"top\"},\"width\":{\"value\":0.05},\"x\":{\"field\":\"x\"}},\"id\":\"169f6e5b-6ea0-4c92-b154-33a5080a05d9\",\"type\":\"VBar\"},{\"attributes\":{},\"id\":\"5af1b9a3-6c31-4fe9-a873-d8cb0f02cb54\",\"type\":\"Selection\"},{\"attributes\":{},\"id\":\"a20dba9f-5bbf-473d-ae65-8435bf0c9e63\",\"type\":\"BasicTickFormatter\"},{\"attributes\":{},\"id\":\"ecbaded5-428d-4c15-8915-40753137f136\",\"type\":\"UnionRenderers\"},{\"attributes\":{\"callback\":null,\"data\":{\"x\":{\"__ndarray__\":\"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\",\"dtype\":\"float64\",\"shape\":[1000]},\"y\":{\"__ndarray__\":\"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\",\"dtype\":\"float64\",\"shape\":[1000]}},\"selected\":{\"id\":\"f6bd2a6c-bf62-4c0f-975d-0fa3e1ac11e4\",\"type\":\"Selection\"},\"selection_policy\":{\"id\":\"c93eed87-3d7c-4f80-add2-c3613b83e7d3\",\"type\":\"UnionRenderers\"}},\"id\":\"a50e36b7-c567-4cdd-ba9c-15bc29c9f895\",\"type\":\"ColumnDataSource\"},{\"attributes\":{\"plot\":null,\"text\":\"pmf of Z = (X - \\u03bc) / \\u03c3 for X ~ B(n,p) -- probability proportional to the area\"},\"id\":\"76f1159e-aaea-41ab-b221-416c6a5d3fe9\",\"type\":\"Title\"},{\"attributes\":{},\"id\":\"f6bd2a6c-bf62-4c0f-975d-0fa3e1ac11e4\",\"type\":\"Selection\"},{\"attributes\":{\"callback\":null,\"data\":{\"top\":[0,0,0,0,0,0,0,0,0,0,0,0,0,0,0,0,0,0,0,0,0,0,0,0,0,0,0,0,0,0,0,0,0,0,0,0,0,0,0,0,0,0,0,0,0,0,0,0,0,0,0,0,0,0,0,0,0,0,0,0,0,0,0,0,0,0,0,0,0,0,0,0,0,0,0,0,0,0,0,0,0,0,0,0,0,0,0,0,0,0,0,0,0,0,0,0,0,0,0,0,0],\"x\":[0,1,2,3,4,5,6,7,8,9,10,11,12,13,14,15,16,17,18,19,20,21,22,23,24,25,26,27,28,29,30,31,32,33,34,35,36,37,38,39,40,41,42,43,44,45,46,47,48,49,50,51,52,53,54,55,56,57,58,59,60,61,62,63,64,65,66,67,68,69,70,71,72,73,74,75,76,77,78,79,80,81,82,83,84,85,86,87,88,89,90,91,92,93,94,95,96,97,98,99,100]},\"selected\":{\"id\":\"5af1b9a3-6c31-4fe9-a873-d8cb0f02cb54\",\"type\":\"Selection\"},\"selection_policy\":{\"id\":\"ecbaded5-428d-4c15-8915-40753137f136\",\"type\":\"UnionRenderers\"}},\"id\":\"284cf7c1-2407-40c4-b9c5-1e75e8b9fe2a\",\"type\":\"ColumnDataSource\"},{\"attributes\":{},\"id\":\"c93eed87-3d7c-4f80-add2-c3613b83e7d3\",\"type\":\"UnionRenderers\"},{\"attributes\":{\"below\":[{\"id\":\"ec734596-9c9e-4be9-8877-45671236de1e\",\"type\":\"LinearAxis\"}],\"left\":[{\"id\":\"c8af2777-af3d-47cf-b671-f5b987fd268a\",\"type\":\"LinearAxis\"}],\"plot_height\":300,\"plot_width\":700,\"renderers\":[{\"id\":\"ec734596-9c9e-4be9-8877-45671236de1e\",\"type\":\"LinearAxis\"},{\"id\":\"efbe34cc-c32e-446a-b7dd-429886d11176\",\"type\":\"Grid\"},{\"id\":\"c8af2777-af3d-47cf-b671-f5b987fd268a\",\"type\":\"LinearAxis\"},{\"id\":\"c2256b6e-d756-498d-acde-a1d89b6ee58d\",\"type\":\"Grid\"},{\"id\":\"fdbd0101-313f-4e4b-8fb4-ef6852ed8cb3\",\"type\":\"GlyphRenderer\"},{\"id\":\"c711df44-8fa7-41ba-a031-9e84979aac10\",\"type\":\"GlyphRenderer\"}],\"title\":{\"id\":\"76f1159e-aaea-41ab-b221-416c6a5d3fe9\",\"type\":\"Title\"},\"toolbar\":{\"id\":\"85fc8318-2972-4b31-950f-f0938e60e271\",\"type\":\"Toolbar\"},\"x_range\":{\"id\":\"e05bc0a1-27a9-431e-b7f2-45052feeef38\",\"type\":\"Range1d\"},\"x_scale\":{\"id\":\"6d811c9c-30f4-4e44-94dc-46102069559d\",\"type\":\"LinearScale\"},\"y_range\":{\"id\":\"c0529fe9-f714-47cb-8a76-14f6da5ec75a\",\"type\":\"Range1d\"},\"y_scale\":{\"id\":\"beddb88d-e31a-4357-b98d-161745b0ab5b\",\"type\":\"LinearScale\"}},\"id\":\"1282a0a2-b48d-449f-983e-da41f433f943\",\"subtype\":\"Figure\",\"type\":\"Plot\"},{\"attributes\":{\"data_source\":{\"id\":\"284cf7c1-2407-40c4-b9c5-1e75e8b9fe2a\",\"type\":\"ColumnDataSource\"},\"glyph\":{\"id\":\"169f6e5b-6ea0-4c92-b154-33a5080a05d9\",\"type\":\"VBar\"},\"hover_glyph\":null,\"muted_glyph\":null,\"nonselection_glyph\":{\"id\":\"9d6ce69b-d3ea-4be7-af78-b0ac4a11e85f\",\"type\":\"VBar\"},\"selection_glyph\":null,\"view\":{\"id\":\"a64c1644-c8f0-4ccd-aa06-9fdac14e3d1f\",\"type\":\"CDSView\"}},\"id\":\"fdbd0101-313f-4e4b-8fb4-ef6852ed8cb3\",\"type\":\"GlyphRenderer\"},{\"attributes\":{\"line_alpha\":0,\"line_color\":\"#ff0000\",\"line_width\":2,\"x\":{\"field\":\"x\"},\"y\":{\"field\":\"y\"}},\"id\":\"0d702445-613e-42eb-85b4-75a6c398397d\",\"type\":\"Line\"},{\"attributes\":{\"active_drag\":\"auto\",\"active_inspect\":\"auto\",\"active_multi\":null,\"active_scroll\":\"auto\",\"active_tap\":\"auto\",\"tools\":[{\"id\":\"2348f75b-43eb-46b6-b721-96f005ea7be1\",\"type\":\"PanTool\"},{\"id\":\"4e15ade3-0d66-4813-99b8-ea3d27403b34\",\"type\":\"WheelZoomTool\"},{\"id\":\"7c6c14c1-f34e-4d5e-bba7-58aabde0fbf8\",\"type\":\"ResetTool\"},{\"id\":\"7e312140-56de-4a7c-887e-4b1a67bd2cd7\",\"type\":\"SaveTool\"},{\"id\":\"42ed00a9-7a4e-44d9-8b2b-d2ca843050f2\",\"type\":\"CrosshairTool\"}]},\"id\":\"85fc8318-2972-4b31-950f-f0938e60e271\",\"type\":\"Toolbar\"}],\"root_ids\":[\"1282a0a2-b48d-449f-983e-da41f433f943\"]},\"title\":\"Bokeh Application\",\"version\":\"0.13.0\"}};\n",
       "  var render_items = [{\"docid\":\"4a49dfc9-33d7-446c-833e-1e964b22378a\",\"notebook_comms_target\":\"83bb2ccb-371f-4a8f-89ef-6a4a200e5460\",\"roots\":{\"1282a0a2-b48d-449f-983e-da41f433f943\":\"b8682c87-9920-493b-a8e5-faabc99e881a\"}}];\n",
       "  root.Bokeh.embed.embed_items_notebook(docs_json, render_items);\n",
       "\n",
       "  }\n",
       "  if (root.Bokeh !== undefined) {\n",
       "    embed_document(root);\n",
       "  } else {\n",
       "    var attempts = 0;\n",
       "    var timer = setInterval(function(root) {\n",
       "      if (root.Bokeh !== undefined) {\n",
       "        embed_document(root);\n",
       "        clearInterval(timer);\n",
       "      }\n",
       "      attempts++;\n",
       "      if (attempts > 100) {\n",
       "        console.log(\"Bokeh: ERROR: Unable to run BokehJS code because BokehJS library is missing\")\n",
       "        clearInterval(timer);\n",
       "      }\n",
       "    }, 10, root)\n",
       "  }\n",
       "})(window);"
      ],
      "application/vnd.bokehjs_exec.v0+json": ""
     },
     "metadata": {
      "application/vnd.bokehjs_exec.v0+json": {
       "id": "1282a0a2-b48d-449f-983e-da41f433f943"
      }
     },
     "output_type": "display_data"
    },
    {
     "data": {
      "application/vnd.jupyter.widget-view+json": {
       "model_id": "6118f8534a4941d4abc3ef4d945fb220",
       "version_major": 2,
       "version_minor": 0
      },
      "text/plain": [
       "interactive(children=(Checkbox(value=False, description='b'), IntSlider(value=20, description='n', min=10, ste…"
      ]
     },
     "metadata": {},
     "output_type": "display_data"
    }
   ],
   "source": [
    "# Binomiale standardizzata area rettangoli\n",
    "n_max= 100\n",
    "x = k = arange(n_max+1)\n",
    "xx = linspace(-3, 3, 1000)\n",
    "\n",
    "plot3 = figure(title=\"pmf of Z = (X - μ) / σ for X ~ B(n,p) -- probability proportional to the area\", \n",
    "            x_axis_label = \"( #successes - μ) / σ\", y_axis_label = \"probability / σ\",\n",
    "            x_range=(-3,3), y_range=(0,0.6),  **options )\n",
    "r = plot3.vbar(x, top=[0]*(n_max+1), width=0.05, bottom=0, color=\"#119911\", alpha=0.5)\n",
    "s = plot3.line(xx, norm.pdf(xx), line_width=2, color=\"#ff0000\", line_alpha=0)\n",
    "\n",
    "def update(b=False, n=20, p=0.5): \n",
    "    if  b : s.glyph.line_alpha = 1\n",
    "    else   : s.glyph.line_alpha = 0\n",
    "    dx = 1 / (n*p*(1-p))**0.5 \n",
    "    x = [(i-n*p)*dx for i in range(n_max+1)]\n",
    "    r.data_source.data['x'] = x\n",
    "    r.data_source.data['top'] = binom.pmf(k,n,p) / dx\n",
    "    r.glyph.width = dx - 0.02\n",
    "    push_notebook()\n",
    "\n",
    "show(plot3, notebook_handle=True)\n",
    "\n",
    "interact(update,  \n",
    "         n=IntSlider(description=\"n\", min=10, max=n_max, step=10, value=20), \n",
    "         p=FloatSlider(description=\"p\", min=0.1, max=0.95, step=0.05, value=0.5));"
   ]
  },
  {
   "cell_type": "code",
   "execution_count": null,
   "metadata": {},
   "outputs": [],
   "source": []
  }
 ],
 "metadata": {
  "kernelspec": {
   "display_name": "Python 3",
   "language": "python",
   "name": "python3"
  },
  "language_info": {
   "codemirror_mode": {
    "name": "ipython",
    "version": 3
   },
   "file_extension": ".py",
   "mimetype": "text/x-python",
   "name": "python",
   "nbconvert_exporter": "python",
   "pygments_lexer": "ipython3",
   "version": "3.6.6"
  },
  "latex_envs": {
   "LaTeX_envs_menu_present": true,
   "autoclose": false,
   "autocomplete": true,
   "bibliofile": "biblio.bib",
   "cite_by": "apalike",
   "current_citInitial": 1,
   "eqLabelWithNumbers": true,
   "eqNumInitial": 1,
   "hotkeys": {
    "equation": "Ctrl-E",
    "itemize": "Ctrl-I"
   },
   "labels_anchors": false,
   "latex_user_defs": false,
   "report_style_numbering": false,
   "user_envs_cfg": false
  }
 },
 "nbformat": 4,
 "nbformat_minor": 2
}
