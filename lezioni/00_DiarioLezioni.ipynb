{
 "cells": [
  {
   "cell_type": "code",
   "execution_count": 1,
   "metadata": {},
   "outputs": [
    {
     "data": {
      "text/html": [
       "<style>\n",
       ".text_cell_render {\n",
       "    font-family: \"Times New Roman\", Times, serif;    \n",
       "    background-color: #eee; \n",
       "    border-left: 5px solid #00b5b4;\n",
       "    font-size: 14pt;\n",
       "    line-height: 160%;\n",
       "}\n",
       "\n",
       "h1 {\n",
       "    font-size: larger !important;\n",
       "    margin-top: 0ex !important;\n",
       "}\n",
       "\n",
       "h2 {\n",
       "    font-size: 14pt !important;\n",
       "    margin-top: 0ex !important;\n",
       "    margin-bottom: 0ex !important;\n",
       "    padding-bottom: 0ex !important;\n",
       "}\n",
       "\n",
       "h3 {\n",
       "    font-size: 14pt !important;\n",
       "    margin-top: 0ex !important;\n",
       "    margin-bottom: 0ex !important;\n",
       "    padding-bottom: 0ex !important;\n",
       "}\n",
       "\n",
       "mark {\n",
       "    background-color: #ffdd00;\n",
       "    border-top-right-radius: 5px;\n",
       "    border-top-left-radius: 5px;\n",
       "    border-bottom-right-radius: 5px;\n",
       "    border-bottom-left-radius: 5px;\n",
       "    padding-top: 0.1ex;\n",
       "    padding-bottom: 0.2ex;\n",
       "    padding-left: 0.7ex;\n",
       "    padding-right: 0.7ex;\n",
       "}\n",
       "\n",
       ".ita {\n",
       "    background-color: #bbddee;\n",
       "}\n",
       "\n",
       "n-a {background-color: #ffdddd;}\n",
       "\n",
       "ul, ol {\n",
       "     padding-left: 2ex !important;\n",
       "}\n",
       "ul {\n",
       "     margin-top: 0ex !important;\n",
       "     margin-bottom: 0ex !important;\n",
       "     list-style-type: square !important;\n",
       "}\n",
       "\n",
       "div.warn {    \n",
       "    background-color: #fcf2f2;\n",
       "    border-color: #dFb5b4;\n",
       "    border-left: 5px solid #dfb5b4;\n",
       "    margin-top: 1ex;\n",
       "    padding: 1ex;\n",
       "}\n",
       ".right{\n",
       "    float:right\n",
       "}\n",
       "</style>\n"
      ],
      "text/plain": [
       "<IPython.core.display.HTML object>"
      ]
     },
     "execution_count": 1,
     "metadata": {},
     "output_type": "execute_result"
    }
   ],
   "source": [
    "# RUN THIS CELL: it loads some style files\n",
    "from IPython.core.display import HTML\n",
    "with open( './style/custom.css', 'r' ) as f: html_style = f.read()\n",
    "HTML( html_style )"
   ]
  },
  {
   "cell_type": "markdown",
   "metadata": {},
   "source": [
    "# Bibliografia"
   ]
  },
  {
   "cell_type": "markdown",
   "metadata": {},
   "source": [
    "## Testo 1\n",
    "C'è anche un'edizione in italiano. Io mi riferirò sempre all'edizione citata (la numerazione dell'edizione italiana potrebbe differire leggermente). [Qui la chiave](../testi/index.html) per aprire il PDF.\n",
    "\n",
    "[*Probability and Statistics (4th edition)*](../testi/testo1.pdf) Schaum's Outlines<br>\n",
    "John Schiller, R. Alu Srinivasan, Murray Spiegel<br>\n",
    "McGraw-Hill Education (2012)<br>\n",
    "ISBN: 978-0-07-179557-9<br>\n",
    "ISBN: 978-0-07-179558-6 (eBook)"
   ]
  },
  {
   "cell_type": "markdown",
   "metadata": {},
   "source": [
    "## Testo 2\n",
    "Il segunte è un testo avanzato. Non è raccomandato per studenti del primo anno. Lo cito perché l'ho usato per farmi un'idea degli strumenti utili alla biologia molecolare. [Qui la chiave](../testi/index.html) per aprire il PDF.\n",
    "\n",
    "[*Statistical Methods in Bioinformatics. An Introduction*](../testi/testo2.pdf)<br>\n",
    "Warren J. Ewens, Gregory R. Grant<br>\n",
    "Springer (2015)<br>\n",
    "ISBN: 978-0-387-40082-2<br>\n",
    "ISBN: 978-0-387-26648-0 (eBook)"
   ]
  },
  {
   "cell_type": "markdown",
   "metadata": {},
   "source": [
    "# Diario delle lezioni"
   ]
  },
  {
   "cell_type": "markdown",
   "metadata": {},
   "source": [
    "## Lunedì 1 ottobre 11h00 Domenico Zambella (1)\n",
    "\n",
    "Spazi di probabilità. Assiomi.Variabili aleatorie, qualitative, numeriche, discrete, e continue. Funzione di distribuzione e funzione di ripartizione. [Notebook](./01_Events%26RandomVariables.ipynb)\n",
    "\n",
    "**Testo 1. Capitolo 1**<br>\n",
    "Random Experiments<br> \n",
    "Sample Spaces<br>\n",
    "Events<br>\n",
    "T<strike>he Concept of Probabilit</strike>y<br>\n",
    "The Axioms of Probability<br>\n",
    "Some Important Theorems on Probability<br>\n",
    "A<strike>ssignment of Probabilitie</strike>s<br>\n",
    "(continua)<br>\n",
    "**Testo 1. Capitolo 2**<br>\n",
    "Random Variables<br>\n",
    "(continua)<br>"
   ]
  },
  {
   "cell_type": "markdown",
   "metadata": {},
   "source": [
    "## Martedì 2 ottobre 11h00 Domenico Zambella (2)\n",
    "\n",
    "Funzione di distribuzione e funzione di ripartizione. Vedi notebook di lunedì scorso.<br>\n",
    "Probabilità condizionata e teorema delle probabilità totali.  [Notebook](./02_ConditionalProbability.ipynb)\n",
    "\n",
    "**Testo 1. Capitolo 1**<br>\n",
    "Conditional Probability<br>\n",
    "Theorems on Conditional Probability<br>\n",
    "(continua)<br>\n",
    "\n",
    "**Testo 1. Capitolo 2**<br>\n",
    "Discrete Probability Distributions<br>\n",
    "Distribution Functions for Random Variables<br>\n",
    "Distribution Functions for Discrete Random Variables<br>\n",
    "C<strike>ontinuous Random Variable</strike>s (posticipato)<br>\n",
    "(continua)<br>"
   ]
  },
  {
   "cell_type": "markdown",
   "metadata": {},
   "source": [
    "## Mercoledì 3 ottobre 10h30 Nadir Murru (1)"
   ]
  },
  {
   "cell_type": "markdown",
   "metadata": {},
   "source": [
    "## Giovedì 4 ottobre 10h30 Domenico Zambella (3)\n",
    "\n",
    "Modello/Equilibrio di Hardy-Weinberg. (Non c'è sul testo. La ricerca in rete è incoraggiata.) [Notebook](./04_Hardy-Weinberg.ipynb)"
   ]
  },
  {
   "cell_type": "markdown",
   "metadata": {},
   "source": [
    "## Lunedì 8 ottobre 10h30 Domenico Zambella (4)\n",
    "\n",
    "Indipendenza stocastica.  [Notebook](./03_Indipendenza.ipynb)<br>\n",
    "Regola di Bayes.  [Notebook](./05_RegolaBayes.ipynb)<br>\n",
    "Test diagnostici. (Non c'è sul testo.) [Notebook](./06_DiagnosticTests.ipynb)\n",
    "\n",
    "**Testo 1. Capitolo 1**<br>\n",
    "Independent Events<br>\n",
    "Bayes' Theorem or Rule<br>\n",
    "C<strike>ombinatorial Analysi</strike>s (lettura suggerita)<br>\n",
    "F<strike>undamental Principle of Counting Tre</strike>e (lettura suggerita)<br>\n",
    "D<strike>iagrams Permutations Combination</strike>s (lettura suggerita)<br>\n",
    "(continua)<br>"
   ]
  },
  {
   "cell_type": "markdown",
   "metadata": {},
   "source": [
    "## Martedì 9 ottobre 10h30 Domenico Zambella (5)\n",
    "\n",
    "Valore atteso.  [Notebook](./07_ValoreAtteso.ipynb)<br>\n",
    "Distribuzione binomoiale.  [Notebook](./08_Bernoulli&Binomial.ipynb)\n",
    "\n",
    "\n",
    "**Testo 1. Capitolo 3**<br>\n",
    "Definition of Mathematical Expectation (non la parte su v.a. continue)<br>\n",
    "\n",
    "**Testo 1. Capitolo 4**<br>\n",
    "The Binomial Distribution<br>\n"
   ]
  },
  {
   "cell_type": "markdown",
   "metadata": {},
   "source": [
    "## Mercoledì 10 ottobre 10h30 Nadir Murru (2)"
   ]
  },
  {
   "cell_type": "markdown",
   "metadata": {},
   "source": [
    "## Giovedì 11 ottobre  10h30 Domenico Zambella (6)\n",
    "\n",
    "Valore atteso della somma e del prodotto di v.a. (vedi notebook di martedì)<br/>\n",
    "Esercizio si binomiale. Vedi quesito 1 di questo [pdf](../esercizi/binomial/binomial.pdf)\n",
    "\n",
    "\n",
    "**Testo 1. Capitolo 3**<br>\n",
    "Functions of Random Variables (non la parte su v.a. continue)<br>\n",
    "Some Theorems on Expectation (non la parte su v.a. continue)<br>\n",
    "(continua)<br>"
   ]
  },
  {
   "cell_type": "markdown",
   "metadata": {},
   "source": [
    "## Lunedì 15 ottobre 10h30 Domenico Zambella (7)\n",
    "\n",
    "\n",
    "**Testo 1. Capitolo 3**<br>\n",
    "The Variance and Standard Deviation (non la parte su v.a. continue)<br>\n",
    "Some Theorems on Variance<br>\n",
    "\n",
    "\n",
    "**Testo 1. Capitolo 4**<br>\n",
    "Some Properties of the Binomial Distribution (solo media, varianza e deviazione standard)<br>\n",
    "T<strike>he Law of Large Numbers for Bernoulli Trial</strike>s<br>"
   ]
  },
  {
   "cell_type": "markdown",
   "metadata": {},
   "source": [
    "## Martedì 16 ottobre (Domenico Zambella 8)"
   ]
  },
  {
   "cell_type": "markdown",
   "metadata": {},
   "source": [
    "## Mercoledì 17 ottobre (Nadir Murru 3)"
   ]
  },
  {
   "cell_type": "markdown",
   "metadata": {},
   "source": [
    "## Giovedì 11 ottobre (Domenico Zambella 9)"
   ]
  },
  {
   "cell_type": "markdown",
   "metadata": {},
   "source": [
    "<!--\n",
    "Conditional <n-a>Probability</n-a><br>\n",
    "Theorems on Conditional  Probability<br>\n",
    "Independent Events<br>\n",
    "Bayes Theorem or Rule<br>    \n",
    "C<strike>ombinatorial Analysis</strike><br>    \n",
    "F<strike>undamental Principle of Counting Tree Diagrams</strike><br>\n",
    "Permutations<br>\n",
    "Combinations<br>\n",
    "Binomial Coefficients<br>\n",
    "S<strike>tirling’s Approximation to</strike> $n!$<br>\n",
    "\n",
    "\n",
    "\n",
    "\n",
    "Graphical  Interpretations<br>\n",
    "Joint  Distributions <br> \n",
    "Independent  Random  Variables<br>\n",
    "Change of Variables<br>\n",
    "Probability Distributions of Functions of Random Variables<br>\n",
    "Convolutions<br>\n",
    "Conditional Distributions<br>\n",
    "Applications to Geometric Probability-->"
   ]
  },
  {
   "cell_type": "code",
   "execution_count": null,
   "metadata": {},
   "outputs": [],
   "source": [
    "#!jupyter nbconvert 00_DiarioLezioni.ipynb --to html"
   ]
  }
 ],
 "metadata": {
  "kernelspec": {
   "display_name": "Python 3",
   "language": "python",
   "name": "python3"
  },
  "language_info": {
   "codemirror_mode": {
    "name": "ipython",
    "version": 3
   },
   "file_extension": ".py",
   "mimetype": "text/x-python",
   "name": "python",
   "nbconvert_exporter": "python",
   "pygments_lexer": "ipython3",
   "version": "3.6.6"
  }
 },
 "nbformat": 4,
 "nbformat_minor": 2
}
