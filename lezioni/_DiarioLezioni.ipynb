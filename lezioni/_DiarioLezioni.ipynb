{
 "cells": [
  {
   "cell_type": "markdown",
   "metadata": {},
   "source": [
    "# Testo 1\n",
    "\n",
    "[*Probability and Statistics (4th edition)*](../testi/testo1.pdf) Schaum's Outlines<br>\n",
    "John Schiller, R. Alu Srinivasan, Murray Spiegel<br>\n",
    "McGraw-Hill Education (2012)<br>\n",
    "ISBN: 978-0-07-179557-9<br>\n",
    "ISBN: 978-0-07-179558-6 (eBook)\n",
    "\n",
    "[Qui la chiave](../testi/index.html) per aprire il PDF. C'è anche un'edizione in italiano. Io mi riferirò sempre all'edizioni citata sopra (la numerazione dell'edizione italiana potrebbe differire leggermente).\n",
    "\n",
    "---\n",
    "\n",
    "# Testo 2\n",
    "\n",
    "Il segunte è un testo avanzato. Non è raccomandato per studenti del primo anno. Lo cito perché l'ho usato per farmi un'idea degli strumenti utili alla biologia molecolare. [Qui la chiave](../testi/index.html) per aprire il PDF.\n",
    "\n",
    "[*Statistical Methods in Bioinformatics. An Introduction*](../testi/testo2.pdf)<br>\n",
    "Warren J. Ewens, Gregory R. Grant<br>\n",
    "Springer (2015)<br>\n",
    "ISBN: 978-0-387-40082-2<br>\n",
    "ISBN: 978-0-387-26648-0 (eBook)\n",
    "\n",
    "---\n",
    "\n",
    "\n",
    "# Testo 3"
   ]
  },
  {
   "cell_type": "markdown",
   "metadata": {},
   "source": [
    "# Lunedì 1 ottobre (Domenico Zambella 1)\n",
    "\n",
    "Spazi di probabilità. Assiomi.Variabili aleatorie, qualitative, numeriche, discrete, e continue. Funzione di distribuzione e funzione di ripartizione. [Notebook](./Events%26RandomVariables.ipynb)\n",
    "\n",
    "**Testo 1. Capitolo 1**<br>\n",
    "Random Experiments<br> \n",
    "Sample Spaces<br>\n",
    "Events<br>\n",
    "T<strike>he Concept of Probabilit</strike>y<br>\n",
    "The Axioms of Probability<br>\n",
    "Some Important Theorems on Probability<br>\n",
    "A<strike>ssignment of Probabilitie</strike>s<br>\n",
    "(continua)<br>\n",
    "**Testo 1. Capitolo 2**<br>\n",
    "Random Variables<br>\n",
    "Discrete Probability Distributions<br>\n",
    "Distribution Functions for Random Variables<br>\n",
    "Distribution Functions for Discrete Random Variables<br>\n",
    "C<strike>ontinuous Random Variable</strike>s<br>\n",
    "(continua)<br>"
   ]
  },
  {
   "cell_type": "markdown",
   "metadata": {},
   "source": [
    "# Martedì 2 ottobre (Domenico Zambella 2)"
   ]
  },
  {
   "cell_type": "markdown",
   "metadata": {},
   "source": [
    "# Mercoledì 3 ottobre (Nadir Murru 1)"
   ]
  },
  {
   "cell_type": "markdown",
   "metadata": {},
   "source": [
    "# Giovedì 4 ottobre (Domenico Zambella 3)"
   ]
  },
  {
   "cell_type": "markdown",
   "metadata": {},
   "source": [
    "# Lunedì 8 ottobre (Domenico Zambella 4)"
   ]
  },
  {
   "cell_type": "markdown",
   "metadata": {},
   "source": [
    "# Martedì 9 ottobre (Domenico Zambella 5)"
   ]
  },
  {
   "cell_type": "markdown",
   "metadata": {},
   "source": [
    "# Mercoledì 10 ottobre (Nadir Murru 2)"
   ]
  },
  {
   "cell_type": "markdown",
   "metadata": {},
   "source": [
    "# Giovedì 11 ottobre (Domenico Zambella 5)"
   ]
  },
  {
   "cell_type": "markdown",
   "metadata": {},
   "source": [
    "\n",
    "Conditional Probability<br>\n",
    "Theorems on Conditional  Probability<br>\n",
    "Independent Events<br>\n",
    "Bayes Theorem or Rule<br>    \n",
    "C<strike>ombinatorial Analysis<br>    \n",
    "F<strike>undamental Principle of Counting Tree Diagrams<br>\n",
    "Permutations<br>\n",
    "Combinations<br>\n",
    "Binomial Coefficients<br>\n",
    "S<strike>tirling’s Approximation to</strike> $n!$<br>\n",
    "\n",
    "\n",
    "\n",
    "\n",
    "Graphical  Interpretations<br>\n",
    "Joint  Distributions <br> \n",
    "Independent  Random  Variables<br>\n",
    "Change of Variables<br>\n",
    "Probability Distributions of Functions of Random Variables<br>\n",
    "Convolutions<br>\n",
    "Conditional Distributions<br>\n",
    "Applications to Geometric Probability"
   ]
  },
  {
   "cell_type": "code",
   "execution_count": 1,
   "metadata": {
    "scrolled": true
   },
   "outputs": [
    {
     "data": {
      "text/html": [
       "<style>\n",
       ".text_cell_render {\n",
       "    font-family: \"Times New Roman\", Times, serif;    \n",
       "    background-color: #eee; \n",
       "    border-left: 5px solid #00b5b4;\n",
       "    font-size: 10pt;\n",
       "    line-height: 160%;\n",
       "}\n",
       "h1 {\n",
       "    font-size: larger !important;\n",
       "    margin-top: 0ex !important;\n",
       "}\n",
       "mark {\n",
       "    background-color: #ffdd00;\n",
       "    border-top-right-radius: 5px;\n",
       "    border-top-left-radius: 5px;\n",
       "    border-bottom-right-radius: 5px;\n",
       "    border-bottom-left-radius: 5px;\n",
       "    padding-top: 0.1ex;\n",
       "    padding-bottom: 0.2ex;\n",
       "    padding-left: 0.7ex;\n",
       "    padding-right: 0.7ex;\n",
       "}\n",
       "\n",
       ".ita {\n",
       "    background-color: #bbddee;\n",
       "}\n",
       "\n",
       "ul, ol {\n",
       "     padding-left: 2ex !important;\n",
       "}\n",
       "ul {\n",
       "     list-style-type: square !important;\n",
       "}\n",
       "\n",
       "div.warn {    \n",
       "    background-color: #fcf2f2;\n",
       "    border-color: #dFb5b4;\n",
       "    border-left: 5px solid #dfb5b4;\n",
       "    padding: 0.7em;\n",
       "}\n",
       ".right{\n",
       "    float:right\n",
       "}\n",
       "</style>\n"
      ],
      "text/plain": [
       "<IPython.core.display.HTML object>"
      ]
     },
     "execution_count": 1,
     "metadata": {},
     "output_type": "execute_result"
    }
   ],
   "source": [
    "# This loads some style files\n",
    "from IPython.core.display import HTML\n",
    "with open( './style/custom.css', 'r' ) as f: style = f.read()\n",
    "HTML( style )"
   ]
  }
 ],
 "metadata": {
  "kernelspec": {
   "display_name": "Python 3",
   "language": "python",
   "name": "python3"
  },
  "language_info": {
   "codemirror_mode": {
    "name": "ipython",
    "version": 3
   },
   "file_extension": ".py",
   "mimetype": "text/x-python",
   "name": "python",
   "nbconvert_exporter": "python",
   "pygments_lexer": "ipython3",
   "version": "3.6.5"
  }
 },
 "nbformat": 4,
 "nbformat_minor": 2
}
