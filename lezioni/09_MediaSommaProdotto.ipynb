{
 "cells": [
  {
   "cell_type": "code",
   "execution_count": 1,
   "metadata": {},
   "outputs": [
    {
     "data": {
      "text/html": [
       "<style>\n",
       ".text_cell_render {\n",
       "    font-family: \"Times New Roman\", Times, serif;    \n",
       "    background-color: #eee; \n",
       "    border-left: 5px solid #00b5b4;\n",
       "    font-size: 14pt;\n",
       "    line-height: 160%;\n",
       "}\n",
       "\n",
       "h1 {\n",
       "    font-size: larger !important;\n",
       "    margin-top: 0ex !important;\n",
       "}\n",
       "\n",
       "h2 {\n",
       "    font-size: 14pt !important;\n",
       "    margin-top: 0ex !important;\n",
       "    margin-bottom: 0ex !important;\n",
       "    padding-bottom: 0ex !important;\n",
       "}\n",
       "\n",
       "h3 {\n",
       "    font-size: 14pt !important;\n",
       "    margin-top: 0ex !important;\n",
       "    margin-bottom: 0ex !important;\n",
       "    padding-bottom: 0ex !important;\n",
       "}\n",
       "\n",
       "mark {\n",
       "    background-color: #ffdd00;\n",
       "    border-top-right-radius: 5px;\n",
       "    border-top-left-radius: 5px;\n",
       "    border-bottom-right-radius: 5px;\n",
       "    border-bottom-left-radius: 5px;\n",
       "    padding-top: 0.1ex;\n",
       "    padding-bottom: 0.2ex;\n",
       "    padding-left: 0.7ex;\n",
       "    padding-right: 0.7ex;\n",
       "}\n",
       "\n",
       ".ita {\n",
       "    background-color: #bbddee;\n",
       "}\n",
       "\n",
       "n-a {background-color: #ffdddd;}\n",
       "\n",
       "ul, ol {\n",
       "     padding-left: 2ex !important;\n",
       "}\n",
       "ul {\n",
       "     margin-top: 0ex !important;\n",
       "     margin-bottom: 0ex !important;\n",
       "     list-style-type: square !important;\n",
       "}\n",
       "\n",
       "div.warn {    \n",
       "    background-color: #fcf2f2;\n",
       "    border-color: #dFb5b4;\n",
       "    border-left: 5px solid #dfb5b4;\n",
       "    margin-top: 1ex;\n",
       "    padding: 1ex;\n",
       "}\n",
       ".right{\n",
       "    float:right\n",
       "}\n",
       "</style>\n"
      ],
      "text/plain": [
       "<IPython.core.display.HTML object>"
      ]
     },
     "execution_count": 1,
     "metadata": {},
     "output_type": "execute_result"
    }
   ],
   "source": [
    "# RUN THIS CELL: it loads some style files\n",
    "from IPython.core.display import HTML\n",
    "with open( './style/custom.css', 'r' ) as f: html_style = f.read()\n",
    "HTML( html_style )"
   ]
  },
  {
   "cell_type": "markdown",
   "metadata": {},
   "source": [
    "# Proprietà del valore atteso (linearità 1)\n",
    "\n",
    "Per ogni costante $c$ \n",
    "\n",
    "$\\def\\E{{\\rm E}}\\def\\Pr{{\\rm Pr}\\,}\n",
    "\\quad\\E(c\\, X)\\ \\ =\\ \\ c\\,\\E(X)$\n",
    "\n",
    "Infatti osserviamo che $c\\,X\\in\\{cx:x\\in R\\}$. Quindi\n",
    "\n",
    "$\\quad\\E(c\\, X)\\ \\ =\\ \\ \\displaystyle \\phantom{c}\\sum_{x\\in R}\\ c\\,x\\, \\Pr(cX=cx)$\n",
    "\n",
    "$\\quad\\phantom{\\E(c\\, X)}\\ \\ =\\ \\ \\displaystyle\\phantom{c}\\sum_{x\\in R}\\ c\\,x\\, \\Pr(X=x)$\n",
    "\n",
    "$\\quad\\phantom{\\E(c\\, X)}\\ \\ =\\ \\ \\displaystyle c\\sum_{x\\in R}\\ \\phantom{c}\\,x\\,\\Pr(X=x)$\n",
    "\n",
    "$\\quad\\phantom{\\E(c\\, X)}\\ \\ =\\ \\ \\displaystyle c\\; \\E(X)$."
   ]
  },
  {
   "cell_type": "markdown",
   "metadata": {},
   "source": [
    "# Proprietà del valore atteso (linearità 2)\n",
    "\n",
    "Per ogni coppia di v.a. $X$, $Y$\n",
    "\n",
    "$\\quad\\E(X+Y)\\ \\ =\\ \\ \\E(X)+\\E(Y)$\n",
    "\n",
    "Questa proprietà la assumiamo senza verifica.\n",
    "\n",
    "Si noti che non è necessario assumere che le variabili $X$ ed $Y$ siano indipendenti.\n",
    "\n",
    "La propità vale anche per la somma di più variabili indipendenti $X_i$, con $i=1,\\dots,n$\n",
    "\n",
    "$\\quad\\E\\bigg(\\displaystyle\\sum^n_{i=1} X_i\\bigg)\\ \\ =\\ \\ \\displaystyle\\sum^n_{i=1} \\E(X_i)$\n",
    "\n",
    "<!--Per semplicità assumiamo che $X,Y\\in R$. Infatti osserviamo che $(X,Y)\\in R^2$. Quindi\n",
    "\n",
    "$\\quad\\E(X+Y)\\ \\ =\\ \\ \\displaystyle \\sum_{(x,y)\\in R^2}\\ (x+y)\\Pr(X,Y=x,y)$\n",
    "\n",
    "$\\quad\\E(X+Y)\\ \\ =\\ \\ \\displaystyle \\sum_{(x,y)\\in R^2}\\ x\\,\\Pr(X,Y=x,y) + y\\,\\Pr(X,Y=x,y)$\n",
    "\n",
    "$\\quad\\E(X+Y)\\ \\ =\\ \\ \\displaystyle \\sum_{(x,y)\\in R^2}\\ x\\,\\Pr(X,Y=x,y) + \\sum_{(x,y)\\in R^2}\\ y\\,\\Pr(X,Y=x,y)$-->"
   ]
  },
  {
   "cell_type": "markdown",
   "metadata": {},
   "source": [
    "# Proprietà del valore atteso del prodotto di v.a. indipendenti\n",
    "\n",
    "Per ogni coppia di v.a. $X$, $Y$ indipendenti\n",
    "\n",
    "$\\quad\\E(X\\,Y)\\ \\ =\\ \\ \\E(X)\\,\\E(Y)$\n",
    "\n",
    "Questa proprietà la assumiamo senza verifica."
   ]
  },
  {
   "cell_type": "markdown",
   "metadata": {},
   "source": [
    "# Altre funzioni\n",
    "\n",
    "I casi visti sopra sono relativamente fortunati.\n",
    "\n",
    "In generale, se $g(x)$ una funzione qualsiasi (come $x^2$, $\\log(x)$, $e^x$, ecc.) avremo che \n",
    "\n",
    "$\\quad\\E\\big(g(X)\\big)\\neq g\\big(\\E\\big(X)\\big)$\n",
    "\n",
    "Per esempio, vediamo un semplice esempio dove \n",
    "\n",
    "$\\quad\\E\\big(X^2\\big)\\neq \\E\\big(X)^2$\n",
    "\n",
    "Prendiamo $X\\in\\{0,2\\}$ con distribuzione $\\Pr(X=0)\\ =\\ \\Pr(X=2)\\ =\\ \\dfrac12$\n",
    "\n",
    "$\\quad\\ \\E\\big(X\\big)\\,\\ =\\ 2\\ \\Pr(X=2)\\ =\\ 1$\n",
    "\n",
    "$\\quad\\E\\big(X^2\\big)\\ =\\ 4\\ \\Pr(X=2)\\ =\\ 2\\ \\neq\\ \\E\\big(X\\big)^2$\n"
   ]
  }
 ],
 "metadata": {
  "kernelspec": {
   "display_name": "Python 3",
   "language": "python",
   "name": "python3"
  },
  "language_info": {
   "codemirror_mode": {
    "name": "ipython",
    "version": 3
   },
   "file_extension": ".py",
   "mimetype": "text/x-python",
   "name": "python",
   "nbconvert_exporter": "python",
   "pygments_lexer": "ipython3",
   "version": "3.6.6"
  }
 },
 "nbformat": 4,
 "nbformat_minor": 2
}
