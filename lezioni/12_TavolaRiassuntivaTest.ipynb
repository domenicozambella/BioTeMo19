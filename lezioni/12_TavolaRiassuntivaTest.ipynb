{
 "cells": [
  {
   "cell_type": "code",
   "execution_count": 1,
   "metadata": {},
   "outputs": [
    {
     "data": {
      "text/html": [
       "<style>\n",
       ".text_cell_render {\n",
       "    font-family: \"Times New Roman\", Times, serif;    \n",
       "    background-color: #eee; \n",
       "    border-left: 5px solid #00b5b4;\n",
       "    font-size: 14pt;\n",
       "    line-height: 160%;\n",
       "}\n",
       "\n",
       "h1 {\n",
       "    font-size: larger !important;\n",
       "    margin-top: 0ex !important;\n",
       "}\n",
       "\n",
       "h2 {\n",
       "    font-size: 14pt !important;\n",
       "    margin-top: 0ex !important;\n",
       "    margin-bottom: 0ex !important;\n",
       "    padding-bottom: 0ex !important;\n",
       "}\n",
       "\n",
       "h3 {\n",
       "    font-size: 14pt !important;\n",
       "    margin-top: 0ex !important;\n",
       "    margin-bottom: 0ex !important;\n",
       "    padding-bottom: 0ex !important;\n",
       "}\n",
       "\n",
       "mark {\n",
       "    background-color: #ffdd00;\n",
       "    border-top-right-radius: 5px;\n",
       "    border-top-left-radius: 5px;\n",
       "    border-bottom-right-radius: 5px;\n",
       "    border-bottom-left-radius: 5px;\n",
       "    padding-top: 0.1ex;\n",
       "    padding-bottom: 0.2ex;\n",
       "    padding-left: 0.7ex;\n",
       "    padding-right: 0.7ex;\n",
       "}\n",
       "\n",
       ".ita {\n",
       "    background-color: #bbddee;\n",
       "}\n",
       "\n",
       ".errore {background-color:#d88;\n",
       "        width:400px;\n",
       "        height:100px;\n",
       "        display:inline-block;\n",
       "        margin:5px;\n",
       "        padding:8px;\n",
       "}\n",
       "\n",
       ".corretto {background-color:#2d8;\n",
       "        width:400px;\n",
       "        height:100px;\n",
       "        display:inline-block;\n",
       "        margin:5px;\n",
       "        padding:8px;\n",
       "}\n",
       "\n",
       "n-a {background-color: #ffdddd;}\n",
       "\n",
       "ul, ol {\n",
       "     padding-left: 2ex !important;\n",
       "}\n",
       "ul {\n",
       "     margin-top: 0ex !important;\n",
       "     margin-bottom: 0ex !important;\n",
       "     list-style-type: square !important;\n",
       "}\n",
       "\n",
       "div.warn {    \n",
       "    background-color: #fcf2f2;\n",
       "    border-color: #dFb5b4;\n",
       "    border-left: 5px solid #dfb5b4;\n",
       "    margin-top: 1ex;\n",
       "    padding: 1ex;\n",
       "}\n",
       ".right{\n",
       "    float:right\n",
       "}\n",
       "</style>\n"
      ],
      "text/plain": [
       "<IPython.core.display.HTML object>"
      ]
     },
     "execution_count": 1,
     "metadata": {},
     "output_type": "execute_result"
    }
   ],
   "source": [
    "# RUN THIS CELL: it loads some style files\n",
    "from IPython.core.display import HTML, display, Math\n",
    "with open( './style/custom.css', 'r' ) as f: html_style = f.read()\n",
    "HTML( html_style )"
   ]
  },
  {
   "cell_type": "markdown",
   "metadata": {},
   "source": [
    "# Test d'ipotesi (terminologia)\n",
    "\n",
    "Nei test di ipotesi la scelta tra risultato positivo/negativo viene fatta in base al valore di una statistica. Si sceglie un intervallo detto <mark>regione di rifiuto</mark>. Se il valore è in questo intervallo l'esito si considera positivo (N.B. rifiuto $\\,\\sim\\,$ positivo).\n",
    "\n",
    "Introduciamo la terminologia dei test d'ipotesi basandoci sulla notazione usata per i test diagnostici.\n",
    "\n",
    "1.  L'<mark>ipotesi nulla</mark> denotata con <mark>$H_0$</mark> definisce l'insieme dei *sani* (qui $H_0$ è anche l'evento corrispondente, quello che nei test disgnostici denotavamo con $\\neg D$).\n",
    "\n",
    "2. L'<mark>ipotesi alternativa</mark> denotata con <mark>$H_A$</mark> descrive la *patologia*, ovvero definisce l'insieme dei *malati* (qui $H_A$ è anche l'evento corrispondente, quello che nei test disgnostici era $D$).\n",
    "\n",
    "3. Anche se possiamo immaginare $H_A=\\neg H_0$, è usuale enunciare esplicitamente $H_A$. Infatti spesso escludiamo a priori qualche possibilità. Quindi $H_0\\cup H_A$ descrive la gamma di eventi che riteniamo possibili.\n",
    "\n",
    "4. L'espressione: <mark>rifiutiamo $H_0$</mark> è sinonima di *l'esito del test è positivo*. Noi denotiamo l'evento con <mark>$T$</mark>.\n",
    "\n",
    "5. L'espressione: <mark>NON rifiutiamo $H_0$</mark> è sinonima di <mark>l'esito del test è negativo</mark>. Noi denotiamo l'evento con <mark>$\\neg T$</mark>.\n",
    "\n",
    "6. Nel progettare il test si decide come definire $T$ (e quindi $\\neg T$) a seconda di quanti falsi positivi/negativi si vuole o può tollerare (in base ai costi/rischi che questi due errori comportano). Ci si calcola quindi $\\Pr(T|H_0)$ e $\\Pr(\\neg T|H_A)$."
   ]
  },
  {
   "cell_type": "markdown",
   "metadata": {},
   "source": [
    "<div style=\"vertical-align: top;padding:5px\">\n",
    "    <div class=\"errore\">\n",
    "        $T\\cap H_0\\quad$ falso positivo / errore I tipo\n",
    "        <br/><br/>\n",
    "        $\\Pr(T|H_0)\\ =\\ \\alpha\\quad$ significatività\n",
    "    </div>\n",
    "    <div  class=\"corretto\">\n",
    "         $T\\cap H_A\\quad$ corretto positivo\n",
    "         <br/><br/>\n",
    "         $\\Pr(T|H_A)\\ =\\ 1-\\beta\\quad$ sensibilità / potenza\n",
    "    </div>\n",
    "</div>\n",
    "<div style=\"vertical-align: top;margin:5px;\">\n",
    "    <div class=\"corretto\">\n",
    "        $\\neg T\\cap H_0\\quad$ corretto negativo\n",
    "        <br/><br/>\n",
    "        $\\Pr(\\neg T|H_0)\\ =\\ 1-\\alpha\\quad$ specificità\n",
    "    </div>\n",
    "    <div class=\"errore\">\n",
    "         $\\neg T\\cap H_A\\quad$ falso negativo / errore II tipo\n",
    "         <br/><br/>\n",
    "         $\\Pr(\\neg T|H_A)\\ =\\ \\beta\\quad$\n",
    "    </div>\n",
    "</div>"
   ]
  },
  {
   "cell_type": "code",
   "execution_count": 3,
   "metadata": {},
   "outputs": [
    {
     "name": "stdout",
     "output_type": "stream",
     "text": [
      "\u001b[31mHello\n"
     ]
    }
   ],
   "source": [
    "from colorama import Fore\n",
    "print(Fore.RED + 'Hello')"
   ]
  },
  {
   "cell_type": "code",
   "execution_count": null,
   "metadata": {},
   "outputs": [],
   "source": []
  }
 ],
 "metadata": {
  "kernelspec": {
   "display_name": "Python 3",
   "language": "python",
   "name": "python3"
  },
  "language_info": {
   "codemirror_mode": {
    "name": "ipython",
    "version": 3
   },
   "file_extension": ".py",
   "mimetype": "text/x-python",
   "name": "python",
   "nbconvert_exporter": "python",
   "pygments_lexer": "ipython3",
   "version": "3.6.6"
  }
 },
 "nbformat": 4,
 "nbformat_minor": 2
}
