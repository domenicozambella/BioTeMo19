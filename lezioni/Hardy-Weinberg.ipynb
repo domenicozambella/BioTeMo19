{
 "cells": [
  {
   "cell_type": "code",
   "execution_count": 1,
   "metadata": {},
   "outputs": [
    {
     "data": {
      "text/html": [
       "<style>\n",
       ".text_cell_render {\n",
       "    font-family: \"Times New Roman\", Times, serif;    \n",
       "    background-color: #eee; \n",
       "    border-left: 5px solid #00b5b4;\n",
       "    font-size: 14pt;\n",
       "    line-height: 160%;\n",
       "}\n",
       "\n",
       "h1 {\n",
       "    font-size: larger !important;\n",
       "    margin-top: 0ex !important;\n",
       "}\n",
       "\n",
       "h2 {\n",
       "    font-size: 14pt !important;\n",
       "    margin-top: 0ex !important;\n",
       "    margin-bottom: 0ex !important;\n",
       "    padding-bottom: 0ex !important;\n",
       "}\n",
       "\n",
       "h3 {\n",
       "    font-size: 14pt !important;\n",
       "    margin-top: 0ex !important;\n",
       "    margin-bottom: 0ex !important;\n",
       "    padding-bottom: 0ex !important;\n",
       "}\n",
       "\n",
       "mark {\n",
       "    background-color: #ffdd00;\n",
       "    border-top-right-radius: 5px;\n",
       "    border-top-left-radius: 5px;\n",
       "    border-bottom-right-radius: 5px;\n",
       "    border-bottom-left-radius: 5px;\n",
       "    padding-top: 0.1ex;\n",
       "    padding-bottom: 0.2ex;\n",
       "    padding-left: 0.7ex;\n",
       "    padding-right: 0.7ex;\n",
       "}\n",
       "\n",
       ".ita {\n",
       "    background-color: #bbddee;\n",
       "}\n",
       "\n",
       "n-a {background-color: #ffdddd;}\n",
       "\n",
       "ul, ol {\n",
       "     padding-left: 2ex !important;\n",
       "}\n",
       "ul {\n",
       "     margin-top: 0ex !important;\n",
       "     margin-bottom: 0ex !important;\n",
       "     list-style-type: square !important;\n",
       "}\n",
       "\n",
       "div.warn {    \n",
       "    background-color: #fcf2f2;\n",
       "    border-color: #dFb5b4;\n",
       "    border-left: 5px solid #dfb5b4;\n",
       "    margin-top: 1ex;\n",
       "    padding: 1ex;\n",
       "}\n",
       ".right{\n",
       "    float:right\n",
       "}\n",
       "</style>\n"
      ],
      "text/plain": [
       "<IPython.core.display.HTML object>"
      ]
     },
     "execution_count": 1,
     "metadata": {},
     "output_type": "execute_result"
    }
   ],
   "source": [
    "# RUN THIS CELL: it loads some style files\n",
    "from IPython.core.display import HTML, display, Math\n",
    "with open( './style/custom.css', 'r' ) as f: html_style = f.read()\n",
    "HTML( html_style )"
   ]
  },
  {
   "cell_type": "markdown",
   "metadata": {},
   "source": [
    "# Modello di Hardy-Weinberg\n",
    "\n",
    "Assumiamo \n",
    "\n",
    "*   specie dipoide\n",
    "*   accoppiamento casuale (random mating) nessuna selezione\n",
    "*   le generazioni non si sovrapongono (esempio: piante annuali)\n",
    "\n",
    "In un locus possono occorrere due alleli $a$, $b$. \n",
    "\n",
    "Alla generazione $0$-esima la popolazione è composta da individui con genotipo $aa$, $bb$ e $ab$ nelle proporzioni \n",
    "\n",
    "$\\quad p_{aa}$ \n",
    "\n",
    "$\\quad p_{bb}$\n",
    "\n",
    "$\\quad p_{ab}=1-p_{aa}-p_{bb}\\quad $ (perché la somma deve dare $1$)\n",
    "\n",
    "**Problema.** Quali saranno le proporzioni alla prima generazione?\n",
    "\n",
    "Le probabilità alla generazione $1$ le denotialmo con $q_{aa}$, $q_{bb}$, e $q_{ab}$.\n",
    "\n",
    "\n",
    "Per cominciare, calcoliamo $q_{aa}$. \n",
    "\n",
    "Denotiamo con $aa$ l'evento: *alla prima generazione il genotipo è $aa$*. Analgamente per gli altri genotipi. Denotiamo con $aa.ab$ l'evento: *i genitori hanno genotipo $aa$ e $ab$*. Analgamente per le altre coppe di genotipi. Osserviamo che \n",
    "\n",
    "$\\quad \\Pr\\,(\\,aa\\, |\\, aa.bb\\,)\\ =\\ 0$\n",
    "\n",
    "$\\quad \\Pr\\,(\\,aa\\, |\\, ab.bb\\,)\\ =\\ 0$\n",
    "\n",
    "$\\quad \\Pr\\,(\\,aa\\, |\\, bb.bb\\,)\\ =\\ 0$\n",
    "\n",
    "Usiamo il Teorema delle Probabilità Totali per calcolare  $q_{aa}$. \n",
    "\n",
    "Omettendo i temini nulli otteniamo\n",
    "\n",
    "$\\begin{array}{lclclcl}\n",
    "q_{aa}&=&p_{aa}^2\\, \\Pr(aa | aa.aa) &+& 2\\,p_{aa}p_{ab}\\, \\Pr(aa | aa.ab) &+& p^2_{ab}\\, \\Pr(aa | ab.ab)\\\\[1ex]\n",
    "      &=&p_{aa}^2\\, \\cdot 1 &+& 2\\,p_{aa}p_{ab}\\, \\cdot \\dfrac12 &+& p^2_{ab}\\, \\cdot\\dfrac14\\\\[1ex]\n",
    "      &=&p_{aa}^2 &+& p_{aa}p_{ab} &+& \\dfrac{p^2_{ab}}4\\\\\n",
    "\\end{array}$\n",
    "\n",
    "per simmetria tra $a$ e $b$ otteniamo anche\n",
    "\n",
    "\n",
    "$\\begin{array}{lclclcl}\n",
    "q_{bb}&=&p_{bb}^2 &+& p_{bb}p_{ab} &+& \\dfrac{p^2_{ab}}4\\\\\n",
    "\\end{array}$\n"
   ]
  },
  {
   "cell_type": "markdown",
   "metadata": {},
   "source": [
    "# Esempio numerico 1"
   ]
  },
  {
   "cell_type": "code",
   "execution_count": 2,
   "metadata": {
    "scrolled": true
   },
   "outputs": [
    {
     "data": {
      "text/latex": [
       "$$q_{aa}=0.1225\\\\ q_{bb}=0.4225$$"
      ],
      "text/plain": [
       "<IPython.core.display.Math object>"
      ]
     },
     "metadata": {},
     "output_type": "display_data"
    }
   ],
   "source": [
    "p_aa = 0.2\n",
    "p_ab = 0.3\n",
    "p_bb = 0.5\n",
    "q_aa = p_aa**2 + p_aa*p_ab + (p_ab**2)/4\n",
    "q_bb = p_bb**2 + p_bb*p_ab + (p_ab**2)/4\n",
    "display(Math(r'q_{{aa}}={}\\\\ q_{{bb}}={}'.format(round(q_aa,4),round(q_bb,4))))"
   ]
  },
  {
   "cell_type": "markdown",
   "metadata": {},
   "source": [
    "# Esempio numerico 2"
   ]
  },
  {
   "cell_type": "code",
   "execution_count": 3,
   "metadata": {},
   "outputs": [
    {
     "data": {
      "text/latex": [
       "$$q_{aa}=0.1225\\\\ q_{bb}=0.4225$$"
      ],
      "text/plain": [
       "<IPython.core.display.Math object>"
      ]
     },
     "metadata": {},
     "output_type": "display_data"
    }
   ],
   "source": [
    "p_aa = 0.3\n",
    "p_ab = 0.1\n",
    "p_bb = 0.6\n",
    "q_aa = p_aa**2 + p_aa*p_ab + (p_ab**2)/4\n",
    "q_bb = p_bb**2 + p_bb*p_ab + (p_ab**2)/4\n",
    "display(Math(r'q_{{aa}}={}\\\\ q_{{bb}}={}'.format(round(q_aa,4),round(q_bb,4))))"
   ]
  },
  {
   "cell_type": "markdown",
   "metadata": {},
   "source": [
    "N.B. Questi esempi numerici partono da dati diversi ma ottengono lo stesso risultato!"
   ]
  },
  {
   "cell_type": "markdown",
   "metadata": {},
   "source": [
    "#  Equilibrio di Hardy-Weinberg \n",
    "\n",
    "Mostriamo ora che $q_{aa}$, $q_{bb}$, e $q_{ab}$ dipendono solo dalla frequenza degli alleli $a$ e $b$ nella popolazione. Se $n$ è il numero di individui, $2n$ è il numero totale di loci. Definiamo\n",
    "\n",
    "$p_a\\quad=\\quad\\dfrac{{\\rm Occorrenze\\ di\\ }a{\\rm\\ nella\\ popolazione\\ alla\\ generazione\\ }0}{2n}$\n",
    "\n",
    "Possiamo calcolare $p_a$:\n",
    "\n",
    "$p_a\\quad=\\quad\\dfrac{ n\\cdot \\big(p_{aa}\\cdot 2 + p_{ab}\\cdot 1 + p_{bb}\\cdot 0\\big)}{2n}$\n",
    "\n",
    "\n",
    "$p_a\\quad=\\quad p_{aa}+\\dfrac{p_{ab}}{2}$\n",
    "\n",
    "La frazione $p_b$ è definita in modo simile. Per simmetria dalla formula precedente otteniamo\n",
    "\n",
    "$p_b=p_{bb}+\\dfrac{p_{ab}}{2}$\n",
    "\n",
    "Possiamo verificare che $p_a+p_b=1$ (come dev'essere).\n",
    "\n",
    "Una semplice sostituzione permette di verificare che\n",
    "\n",
    "$q_{aa}=p_a^2$ \n",
    "\n",
    "$q_{bb}= p_b^2$\n",
    "\n",
    "$q_{ab} = 2p_ap_b$.\n",
    "\n",
    "Quindi la prima conclusione è:\n",
    "\n",
    "<div class=\"warn\">Le frazioni dei genotipi alla generazione $1$ dipende solamente dalla frazioni dei due alleli $p_a$ e $p_b$ alla generazione $0$-esima (non dalla frazione dei genotipi $p_{aa}$, $p_{bb}$, e $p_{ab}$).</div>\n",
    "\n",
    "Una seconda osservazione è che se calcoliamo \n",
    "\n",
    "$q_a\\quad=\\quad\\dfrac{{\\rm Occorrenze\\ di\\ }a{\\rm\\ nella\\ popolazione\\ alla\\ generazione\\ }1}{2n}$\n",
    "\n",
    "usando lo stesso procedimento usato sopra otteniamo\n",
    "\n",
    "$q_a\\quad=\\quad q_{aa}+\\dfrac{q_{ab}}{2}\\quad=\\quad p_a^2+\\dfrac{2\\,p_ap_b}{2}\\quad=\\quad p_a^2+ p_a(1-p_a) \\quad=\\quad p_a$\n",
    "\n",
    "\n",
    "Quindi la seconda conclusione è:\n",
    "\n",
    "<div class=\"warn\">La frequenza relativa dei due alleli rimane costante di generazione in generazione.</div>\n",
    "\n"
   ]
  },
  {
   "cell_type": "markdown",
   "metadata": {},
   "source": [
    "# Problema\n",
    "\n",
    "Supponiamo che gli individui con genotipo $aa$ siano sterili (se uno dei due genitori è di tipo $aa$, la coppia non ha figli). \n",
    "\n",
    "1.   Date le distribuzioni alla generazione $0$-esima $p_{aa}$, $p_{bb}$, e $p_{ab}=1-p_{aa}-p_{bb}$, come si calcolano le distribuzioni dei genotipi alla prima generazione  $q_{aa}$, $q_{bb}$, e $q_{ab}$?\n",
    "\n",
    "2.   La risposta in 1 dipende solo dalla frequenza relativa dei due alleli $a$ e $b$?\n",
    "\n",
    "3.   La frequenza relativa dei due alleli $a$ e $b$ rimane costante di generazione in generazione?"
   ]
  },
  {
   "cell_type": "code",
   "execution_count": null,
   "metadata": {},
   "outputs": [],
   "source": []
  }
 ],
 "metadata": {
  "kernelspec": {
   "display_name": "Python 3",
   "language": "python",
   "name": "python3"
  },
  "language_info": {
   "codemirror_mode": {
    "name": "ipython",
    "version": 3
   },
   "file_extension": ".py",
   "mimetype": "text/x-python",
   "name": "python",
   "nbconvert_exporter": "python",
   "pygments_lexer": "ipython3",
   "version": "3.6.6"
  }
 },
 "nbformat": 4,
 "nbformat_minor": 2
}
