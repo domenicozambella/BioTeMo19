{
 "cells": [
  {
   "cell_type": "markdown",
   "metadata": {},
   "source": [
    "# Probability spaces\n",
    "\n",
    "We fix a non empty set <mark>$\\Omega$</mark> which below we call <mark>sample space</mark> or <mark>population</mark>. \n",
    "\n",
    "The elements of $\\Omega$ are called <mark>outcomes</mark> (of a trial or of an experiment) or <mark>individuals</mark> (of a pupulation).\n",
    "\n",
    "The subsets of $E\\subseteq\\Omega$ are called <mark>events</mark>. \n",
    "\n",
    "(In some cases, only particular subsets of $\\Omega$ are designated as *events*, but this is a technicality which we will ignore.)\n",
    "\n",
    "A <mark>probability measure</mark> is a functions $\\Pr(\\cdot)$ that assigns to each event a real number.\n",
    "We require the following properties (axioms)\n",
    "\n",
    "1. $\\Pr(\\Omega)=1$\n",
    "\n",
    "2. $\\Pr(E)\\ge0$ for every event $E\\subseteq\\Omega$\n",
    "\n",
    "3. $\\Pr(E_1\\cup E_2)=\\Pr(E_1)+\\Pr(E_2)$ for every pair $E_1,E_2\\subseteq\\Omega$ of mutually exclusive events.\n",
    "\n",
    "We say that $E_1$ e $E_2$ are <mark>mutually exclusive</mark> if they are <mark>disjoint</mark>, that is, if $E_1\\cap E_2=\\varnothing$.\n",
    "\n",
    "The following properties are consequences of the axioms above:\n",
    "\n",
    "* $\\Pr(\\varnothing)=0$\n",
    "\n",
    "* $\\Pr(\\neg E)=1-\\Pr(E)$ <span class=\"right\">(with <mark>$\\neg E$</mark> we denote the complement of $E$)</span>\n",
    "\n",
    "* $\\Pr(E_1\\smallsetminus E_2)=\\Pr(E_1)-\\Pr(E_2)$ for every $E_2\\subseteq E_1$\n",
    "\n",
    "* $\\Pr(E_1\\cup E_2\\cup E_3)=\\Pr(E_1)+\\Pr(E_2)+\\Pr(E_3)$ for mutually exclusive $E_1,E_2,E_3$\n",
    "\n",
    "* $\\Pr(E_1\\cup E_2)=\\Pr(E_1)+\\Pr(E_2)-\\Pr(E_1\\cap E_2)$ for every $E_1,E_2$ (also if not disjoint)."
   ]
  },
  {
   "cell_type": "markdown",
   "metadata": {},
   "source": [
    "# Random variables"
   ]
  },
  {
   "cell_type": "code",
   "execution_count": null,
   "metadata": {},
   "outputs": [],
   "source": []
  },
  {
   "cell_type": "code",
   "execution_count": null,
   "metadata": {},
   "outputs": [],
   "source": []
  },
  {
   "cell_type": "code",
   "execution_count": 1,
   "metadata": {},
   "outputs": [
    {
     "data": {
      "text/html": [
       "<style>\n",
       ".text_cell_render {\n",
       "    font-family: \"Times New Roman\", Times, serif;    \n",
       "    background-color: #eee; \n",
       "    border-left: 5px solid #00b5b4;\n",
       "    font-size: 12pt;\n",
       "    line-height: 160%;\n",
       "}\n",
       "h1 {\n",
       "    font-size: larger !important;\n",
       "    margin-top: 0ex !important;\n",
       "}\n",
       "mark {\n",
       "    background-color: #ffaa00;\n",
       "    border-top-right-radius: 5px;\n",
       "    border-top-left-radius: 5px;\n",
       "    border-bottom-right-radius: 5px;\n",
       "    border-bottom-left-radius: 5px;\n",
       "    padding-top: 0.1ex;\n",
       "    padding-bottom: 0.2ex;\n",
       "    padding-left: 0.7ex;\n",
       "    padding-right: 0.7ex;\n",
       "}\n",
       "ul, ol {\n",
       "     padding-left: 2ex !important;\n",
       "}\n",
       "ul {\n",
       "     list-style-type: square !important;\n",
       "}\n",
       "div.warn {    \n",
       "    background-color: #fcf2f2;\n",
       "    border-color: #dFb5b4;\n",
       "    border-left: 5px solid #dfb5b4;\n",
       "    padding: 0.7em;\n",
       "}\n",
       ".right{\n",
       "    float:right\n",
       "}\n",
       "</style>\n"
      ],
      "text/plain": [
       "<IPython.core.display.HTML object>"
      ]
     },
     "execution_count": 1,
     "metadata": {},
     "output_type": "execute_result"
    }
   ],
   "source": [
    "# This loads some style files\n",
    "from IPython.core.display import HTML\n",
    "with open( './style/custom.css', 'r' ) as f: style = f.read()\n",
    "HTML( style )"
   ]
  }
 ],
 "metadata": {
  "kernelspec": {
   "display_name": "Python 3",
   "language": "python",
   "name": "python3"
  },
  "language_info": {
   "codemirror_mode": {
    "name": "ipython",
    "version": 3
   },
   "file_extension": ".py",
   "mimetype": "text/x-python",
   "name": "python",
   "nbconvert_exporter": "python",
   "pygments_lexer": "ipython3",
   "version": "3.6.5"
  },
  "latex_envs": {
   "LaTeX_envs_menu_present": true,
   "autoclose": false,
   "autocomplete": true,
   "bibliofile": "biblio.bib",
   "cite_by": "apalike",
   "current_citInitial": 1,
   "eqLabelWithNumbers": true,
   "eqNumInitial": 1,
   "hotkeys": {
    "equation": "Ctrl-E",
    "itemize": "Ctrl-I"
   },
   "labels_anchors": false,
   "latex_user_defs": false,
   "report_style_numbering": false,
   "user_envs_cfg": false
  }
 },
 "nbformat": 4,
 "nbformat_minor": 2
}
