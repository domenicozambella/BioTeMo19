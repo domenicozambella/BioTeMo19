{
 "cells": [
  {
   "cell_type": "markdown",
   "metadata": {},
   "source": [
    "# Bernoulli random variables\n",
    "\n",
    "A r.v. $X\\in R$ is called a <mark>Bernoulli</mark> if $R=\\{0,1\\}$. \n",
    "\n",
    "Bernoulli r.v. model that has only two possible outcomes which are conventionally called failure and success.\n",
    "\n",
    "Usually $0$ stands for <mark>failure</mark> and $1$ stands for <mark>success</mark>.  \n",
    "\n",
    "We call $\\Pr(X{=}1)$ the <mark>probability of success</mark> of $X$.\n",
    "    \n",
    "(In some examples we allow any $R$ that contains only two elements, e.g. very common is $R=\\{H,T\\}$, where $H$ stands for head and $T$ stands for tail. Then we understand that one of the two values is identified vith succes and the other with failure -- in this course, $H$ is success and $T$ is falure.)\n",
    "\n",
    "A Bernoulli r.v. $X$ is canonically associated to the event $\\{\\omega\\in\\Omega\\ :\\ X(\\omega)=1\\}$.\n",
    "\n",
    "Viceversa, the Bernoulli r.v. canonically associated to the event $E$ is\n",
    "\n",
    "$\\quad$<mark>$1_E(x)$</mark>$\\ \\ =\\ \\ \\left\\{\\begin{array}{ll}1&\\textrm{ se }\\ x\\in E\\\\0&\\textrm{ se }\\ x\\notin E\\end{array}\\right.$\n",
    "\n",
    "This is called <mark>indicator function</mark> (or <mark>characteristic function</mark>) of $E$. \n",
    "\n",
    "We write <mark>$X\\sim B(1,p)$</mark> to say that $X$ is a Bernoulli r.v. with probability of success $p$."
   ]
  },
  {
   "cell_type": "markdown",
   "metadata": {},
   "source": [
    "# Binomial random variables\n",
    "\n",
    "We say tha $X\\in\\{0,\\dots,n\\}$ is a <mark>binomial random variable</mark> if for some $X_1,\\dots,X_n$ independent Bernoulli r.v.s with success probability $p$. The r.v.\n",
    "\n",
    "$\\displaystyle\\quad X\\ \\ =\\ \\ \\sum^n_{i=1}X_i$\n",
    "\n",
    "More precisely we say $X$ is a binomial random variable <mark>with parameters $n$ and $p$</mark>.\n",
    "\n",
    "We write for short <mark>$X\\sim B(n,p)$</mark>.\n",
    "\n",
    "Note that $X$ counts the number of successes in a sequence of $n$ independent experiments (all Bernoulli trials with success probability $p$).\n",
    "\n",
    "The parameters $n$ and $p$ determine the distribution function which is called the <mark>binomial distribution</mark>\n",
    "\n",
    "$\\displaystyle\\quad P(X{=}k)\\ \\ =\\ \\ {n\\choose k}p^k(1-p)^{n-k}$\n",
    "\n",
    "Then the cumulative distribution function is\n",
    "\n",
    "$\\displaystyle\\quad P(X{\\le}k)\\ \\ =\\ \\ \\sum^k_{i=0}{n\\choose i}p^i(1-p)^{n-i}$\n"
   ]
  },
  {
   "cell_type": "code",
   "execution_count": 1,
   "metadata": {},
   "outputs": [
    {
     "data": {
      "text/html": [
       "<style>\n",
       ".text_cell_render {\n",
       "    font-family: \"Times New Roman\", Times, serif;    \n",
       "    background-color: #eee; \n",
       "    border-left: 5px solid #00b5b4;\n",
       "    font-size: 10pt;\n",
       "    line-height: 160%;\n",
       "}\n",
       "h1 {\n",
       "    font-size: larger !important;\n",
       "    margin-top: 0ex !important;\n",
       "}\n",
       "mark {\n",
       "    background-color: #ffdd00;\n",
       "    border-top-right-radius: 5px;\n",
       "    border-top-left-radius: 5px;\n",
       "    border-bottom-right-radius: 5px;\n",
       "    border-bottom-left-radius: 5px;\n",
       "    padding-top: 0.1ex;\n",
       "    padding-bottom: 0.2ex;\n",
       "    padding-left: 0.7ex;\n",
       "    padding-right: 0.7ex;\n",
       "}\n",
       "\n",
       ".ita {\n",
       "    background-color: #bbddee;\n",
       "}\n",
       "\n",
       "ul, ol {\n",
       "     padding-left: 2ex !important;\n",
       "}\n",
       "ul {\n",
       "     list-style-type: square !important;\n",
       "}\n",
       "\n",
       "div.warn {    \n",
       "    background-color: #fcf2f2;\n",
       "    border-color: #dFb5b4;\n",
       "    border-left: 5px solid #dfb5b4;\n",
       "    padding: 0.7em;\n",
       "}\n",
       ".right{\n",
       "    float:right\n",
       "}\n",
       "</style>\n"
      ],
      "text/plain": [
       "<IPython.core.display.HTML object>"
      ]
     },
     "execution_count": 1,
     "metadata": {},
     "output_type": "execute_result"
    }
   ],
   "source": [
    "# This loads some style files\n",
    "from IPython.core.display import HTML\n",
    "with open( './style/custom.css', 'r' ) as f: style = f.read()\n",
    "HTML( style )"
   ]
  }
 ],
 "metadata": {
  "kernelspec": {
   "display_name": "Python 3",
   "language": "python",
   "name": "python3"
  },
  "language_info": {
   "codemirror_mode": {
    "name": "ipython",
    "version": 3
   },
   "file_extension": ".py",
   "mimetype": "text/x-python",
   "name": "python",
   "nbconvert_exporter": "python",
   "pygments_lexer": "ipython3",
   "version": "3.6.5"
  }
 },
 "nbformat": 4,
 "nbformat_minor": 2
}
