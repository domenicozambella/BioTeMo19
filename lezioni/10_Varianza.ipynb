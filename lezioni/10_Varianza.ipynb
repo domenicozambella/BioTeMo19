{
 "cells": [
  {
   "cell_type": "markdown",
   "metadata": {},
   "source": [
    "# Varianza\n",
    "\n",
    "La <mark>varianza</mark> di una variabile aleatoria numerica discreta $X$ a valori in $R$ è\n",
    "\n",
    "$\\sigma^2= \\Var(X)=\\E\\Big(\\big(X-E(X)\\big)^2\\Big)$\n",
    "\n",
    "per la definizione di valore atteso\n",
    "\n",
    "\\ceq{}{=}{\\sum_{x\\in R} \\Big(x- E(X)\\Big)^2\\cdot \\Pr(X=x)}\n",
    "\n",
    "\\ceq{}{=}{E(X^2)-E(X)^2}\\hfill (facile da verificare).\n",
    "\n",
    "La \\emph{deviazione standard\\/} è la radice della varianza\n",
    "\n",
    "\\ceq{\\hfill \\emph{$\\sigma$}\\medrel{=}\\emph{SD$(X)$}}{=}{\\sqrt{\\Var(X)\\vphantom{\\big[]}}}\n",
    "\n",
    "La lettera $\\sigma$ viene usata quando è chiaro a quale variabile ci si riferisce. Per evitare ambiguità a volte si scrive \\emph{$\\sigma_X$}.\n",
    "\n"
   ]
  }
 ],
 "metadata": {
  "kernelspec": {
   "display_name": "Python 3",
   "language": "python",
   "name": "python3"
  },
  "language_info": {
   "codemirror_mode": {
    "name": "ipython",
    "version": 3
   },
   "file_extension": ".py",
   "mimetype": "text/x-python",
   "name": "python",
   "nbconvert_exporter": "python",
   "pygments_lexer": "ipython3",
   "version": "3.6.6"
  }
 },
 "nbformat": 4,
 "nbformat_minor": 2
}
