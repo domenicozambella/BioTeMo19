{
 "cells": [
  {
   "cell_type": "code",
   "execution_count": 1,
   "metadata": {},
   "outputs": [
    {
     "data": {
      "text/html": [
       "<style>\n",
       ".text_cell_render {\n",
       "    font-family: \"Times New Roman\", Times, serif;    \n",
       "    background-color: #eee; \n",
       "    border-left: 5px solid #00b5b4;\n",
       "    font-size: 14pt;\n",
       "    line-height: 160%;\n",
       "}\n",
       "\n",
       "h1 {\n",
       "    font-size: larger !important;\n",
       "    margin-top: 0ex !important;\n",
       "}\n",
       "\n",
       "h2 {\n",
       "    font-size: 14pt !important;\n",
       "    margin-top: 0ex !important;\n",
       "    margin-bottom: 0ex !important;\n",
       "    padding-bottom: 0ex !important;\n",
       "}\n",
       "\n",
       "h3 {\n",
       "    font-size: 14pt !important;\n",
       "    margin-top: 0ex !important;\n",
       "    margin-bottom: 0ex !important;\n",
       "    padding-bottom: 0ex !important;\n",
       "}\n",
       "\n",
       "mark {\n",
       "    background-color: #ffdd00;\n",
       "    border-top-right-radius: 5px;\n",
       "    border-top-left-radius: 5px;\n",
       "    border-bottom-right-radius: 5px;\n",
       "    border-bottom-left-radius: 5px;\n",
       "    padding-top: 0.1ex;\n",
       "    padding-bottom: 0.2ex;\n",
       "    padding-left: 0.7ex;\n",
       "    padding-right: 0.7ex;\n",
       "}\n",
       "\n",
       ".ita {\n",
       "    background-color: #bbddee;\n",
       "}\n",
       "\n",
       "n-a {background-color: #ffdddd;}\n",
       "\n",
       "ul, ol {\n",
       "     padding-left: 2ex !important;\n",
       "}\n",
       "ul {\n",
       "     margin-top: 0ex !important;\n",
       "     margin-bottom: 0ex !important;\n",
       "     list-style-type: square !important;\n",
       "}\n",
       "\n",
       "div.warn {    \n",
       "    background-color: #fcf2f2;\n",
       "    border-color: #dFb5b4;\n",
       "    border-left: 5px solid #dfb5b4;\n",
       "    margin-top: 1ex;\n",
       "    padding: 1ex;\n",
       "}\n",
       ".right{\n",
       "    float:right\n",
       "}\n",
       "</style>\n"
      ],
      "text/plain": [
       "<IPython.core.display.HTML object>"
      ]
     },
     "execution_count": 1,
     "metadata": {},
     "output_type": "execute_result"
    }
   ],
   "source": [
    "# RUN THIS CELL: it loads some style files\n",
    "from IPython.core.display import HTML\n",
    "with open( './style/custom.css', 'r' ) as f: html_style = f.read()\n",
    "HTML( html_style )"
   ]
  },
  {
   "cell_type": "markdown",
   "metadata": {},
   "source": [
    "# Varianza\n",
    "\n",
    "La <mark>varianza</mark> di una v.a. numerica discreta $X$ a valori in $R$, che per semplicità assumiamo essere un insieme finito, è\n",
    "\n",
    "$\\def\\Var{{\\rm Var}}\\def\\E{{\\rm E}}\\def\\Pr{{\\rm Pr}\\,}\\def\\SD{{\\rm SD}}\n",
    "\\displaystyle\\quad$<mark>$\\Var(X)$</mark>$\\ \\ =\\ \\ \\E\\big((X-\\mu)^2\\big)$\n",
    "\n",
    "dove $\\mu=\\E(X)$. Dalla definizione di valore atteso\n",
    "\n",
    "$\\displaystyle\\quad\\phantom{\\Var(X)}\\ \\ =\\ \\ \\sum_{x\\in R} (x- \\mu)^2\\cdot \\Pr(X=x)$\n",
    "\n",
    "$\\displaystyle\\quad\\phantom{\\Var(X)}\\ \\ =\\ \\ \\E(X^2)-\\mu^2\\quad$ (facile da verificare).\n",
    "\n",
    "La <mark>deviazione standard</mark> è la radice della varianza\n",
    "\n",
    "$\\displaystyle\\quad$<mark>$\\SD(X)$</mark>$\\ \\ =\\ \\ \\sqrt{\\Var(X)\\phantom{\\big)}}$\n",
    "\n",
    "Il simbolo <mark>$\\sigma$</mark> viene spesso usato per la deviazione standard, e di conseguenza <mark>$\\sigma^2$</mark> è la varianza. Per evitare ambiguità a volte si usa il simbolo <mark>$\\sigma_X$</mark>."
   ]
  },
  {
   "cell_type": "markdown",
   "metadata": {},
   "source": [
    "# Varianza e moltiplicazione per costanti\n",
    "\n",
    "Per ogni costante $c$ \n",
    "\n",
    "$\\quad\\Var(cX)\\ \\ =\\ \\ \\ c^2\\,\\Var(X)$\n",
    "\n",
    "Infatti, ricordando che $c\\,X\\in\\{cx:x\\in R\\}$ e che $\\mu_{cX}=c\\,\\mu_X$. Quindi\n",
    "\n",
    "$\\quad\\Var(c X)\\ \\ =\\ \\ \\displaystyle\\phantom{c^2}\\sum_{x\\in R}\\ (c\\,x-\\mu_{cX})^2\\, \\Pr(cX=cx)$\n",
    "\n",
    "$\\quad\\phantom{\\Var(cX)}\\ \\ =\\ \\ \\displaystyle\\phantom{c^2}\\sum_{x\\in R}\\ (c\\,x-\\mu_{cX})^2\\,\\Pr(X=x)$\n",
    "\n",
    "$\\quad\\phantom{\\Var(cX)}\\ \\ =\\ \\ \\displaystyle\\phantom{c^2}\\sum_{x\\in R}\\ c^2\\,(x-\\mu_{X})^2\\,\\Pr(X=x)$\n",
    "\n",
    "$\\quad\\phantom{\\Var(cX)}\\ \\ =\\ \\ \\displaystyle c^2\\sum_{x\\in R}\\ \\phantom{c^2}\\,(x-\\mu_{X})^2\\,\\Pr(X=x)$\n",
    "\n",
    "$\\quad\\phantom{\\Var(cX)}\\ \\ =\\ \\ \\displaystyle c^2\\; \\Var(X)$.\n",
    "\n",
    "Ne consegue che\n",
    "\n",
    "\n",
    "$\\quad\\SD(cX)\\ \\ =\\ \\ \\ |c|\\cdot\\SD(X)$\n"
   ]
  },
  {
   "cell_type": "markdown",
   "metadata": {},
   "source": [
    "# Varianza e somma di v.a.\n",
    "\n",
    "Per ogni coppia di v.a. $X$, $Y$ indipendenti\n",
    "\n",
    "$\\quad\\Var(X+Y)\\ \\ =\\ \\ \\Var(X)+\\E(Y)$\n"
   ]
  }
 ],
 "metadata": {
  "kernelspec": {
   "display_name": "Python 3",
   "language": "python",
   "name": "python3"
  },
  "language_info": {
   "codemirror_mode": {
    "name": "ipython",
    "version": 3
   },
   "file_extension": ".py",
   "mimetype": "text/x-python",
   "name": "python",
   "nbconvert_exporter": "python",
   "pygments_lexer": "ipython3",
   "version": "3.6.6"
  }
 },
 "nbformat": 4,
 "nbformat_minor": 2
}
