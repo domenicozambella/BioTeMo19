{
 "cells": [
  {
   "cell_type": "markdown",
   "metadata": {},
   "source": [
    "<style>\n",
    ".text_cell_render {font-family: Times New Roman, serif;}\n",
    "</style>\n",
    "\n",
    "## Binomial distribution\n",
    "\n",
    "We say that $X$ is a <mark>binomial random variable</mark> with parameters $n$ and $p$, for short $X\\sim B(n,p)$, if\n",
    "\n",
    "$$X\\ \\ =\\ \\ \\sum^n_{i=1}X_i$$\n",
    "\n",
    "where the $X_i$ are independent Bernoulli random variables with success probability $p$. So, $X$ counts the number of successes in a sequence of $n$ independent Bernoulli trials with success probability $p$. Clearly $X\\in\\{0,\\dots,n\\}$.\n",
    "\n",
    "Equivalently, we may also say that $X$ has a <mark>binomial distribution</mark> with parameters $n$ and $p$. In fact random variables are characterized by their distribution a.k.a. <mark>probability mass function</mark> (abbreviated <mark>pmf</mark>). The pmf of of a binomial random variable is not difficult to compute. For $x\\in\\{0,\\dots,n\\}$ we have\n",
    "\n",
    "$${\\rm Pr}\\,(X=x)\\ \\ =\\ \\ {n\\choose x}p^x(1-p)^{n-x}$$\n",
    "\n",
    "Consequently, the <mark>cumulative distribution function</mark> (abbreviated <mark>cdf</mark>) is\n",
    "\n",
    "$${\\rm Pr}\\,(X\\le x)\\ \\ =\\ \\ \\sum^x_{i=0}{n\\choose i}p^i(1-p)^{n-i}$$\n",
    "\n",
    "Below we plot the probability mass function $P(X=x)$ for various values of $n$ and $p$. "
   ]
  },
  {
   "cell_type": "code",
   "execution_count": 8,
   "metadata": {},
   "outputs": [],
   "source": [
    "## libraries for numerical and statistical functions\n",
    "from scipy.stats import binom, norm\n",
    "from numpy import arange\n",
    "from pandas import * # Never do this in production\n",
    "\n",
    "## Import graphic library and set graphic parameters\n",
    "from altair import * # Never do this in a production environment\n",
    "renderers.enable('notebook')\n",
    "palette=['olive','darkcyan','darkviolet','darkgreen','firebrick','darkgreen','darkviolet','darkcyan','olive']\n",
    "\n",
    "## Set parameters and create a DataFrame containing the pmf of B(n,q) for q in p\n",
    "n = 20                   # number of trials\n",
    "p = arange(0.1,0.99,0.1) # array of probabilities of success\n",
    "x = arange(n+1)          # array of number of successes\n",
    "pmf = DataFrame({})\n",
    "for q in list(p):\n",
    "    pmf = pmf.append(DataFrame({'successes': x, \n",
    "                                'probability': binom.pmf(x,n,q),\n",
    "                                'p': q,\n",
    "                               })\n",
    "                     )\n",
    "# Set the click behaviour\n",
    "click = selection_multi(fields=['p'], \n",
    "                        toggle=True, \n",
    "                        empty='none', \n",
    "                        on='click',\n",
    "                        )\n",
    "## Construct the first chart\n",
    "pmf_plot = Chart()\n",
    "pmf_plot = pmf_plot.properties(width=550,\n",
    "                               height= 200,\n",
    "                              )\n",
    "pmf_plot = pmf_plot.encode(x=X('successes:Q', \n",
    "                               axis=Axis(title='number of successes in {} trials'.format(n),\n",
    "                                         grid=False,\n",
    "                                         ),                  \n",
    "                               ), \n",
    "                           y=Y('probability:Q',\n",
    "                                axis=Axis(title='probability'),\n",
    "                                stack=None,\n",
    "                              ),\n",
    "                           color=Color('p',\n",
    "                                       scale=Scale(range=palette),\n",
    "                                       legend=None,\n",
    "                                      ),\n",
    "                           opacity=value(0.5)\n",
    "                           )                                                    \n",
    "pmf_plo_ = pmf_plot.mark_bar(size=0 ) # phantom graph to stabilize the axis size  \n",
    "pmf_plot = pmf_plot.mark_bar(size=20) # initialization the actual graph\n",
    "pmf_plot = pmf_plot.transform_filter(click)\n",
    "\n",
    "## The second Chart serves as menu of success propabilities\n",
    "bottom = Chart()\n",
    "bottom = bottom.mark_bar(size=50)\n",
    "bottom = bottom.properties(width=550,\n",
    "                           height= 60,\n",
    "                           selection=click,\n",
    "                           )\n",
    "bottom = bottom.encode(x=X('p:Q',\n",
    "                           axis=Axis(title='probability of successs (in a simgle trial)',\n",
    "                                     grid=False,\n",
    "#                                      scale=Scale(domain=[0.1,0.9])\n",
    "                                     ),\n",
    "                            ),\n",
    "                        y=Y('p:Q',\n",
    "                            axis=Axis(title='',\n",
    "                                      values=[],\n",
    "                                      ),\n",
    "                            ),\n",
    "\n",
    "                        color=Color('p',\n",
    "                                    scale=Scale(range=palette),\n",
    "                                    legend=None,\n",
    "                                    ),   \n",
    "                        opacity=condition(click, value(0.07), value(0.01)),\n",
    "                        )\n",
    "## Put the two charts one obove the other\n",
    "final = vconcat(pmf_plot+pmf_plo_,\n",
    "        bottom,\n",
    "        data=pmf,\n",
    "        )\n",
    "# final.save('final.svg')"
   ]
  },
  {
   "cell_type": "code",
   "execution_count": 9,
   "metadata": {},
   "outputs": [
    {
     "data": {
      "application/javascript": [
       "var spec = {\"config\": {\"view\": {\"width\": 400, \"height\": 300}}, \"vconcat\": [{\"layer\": [{\"mark\": {\"type\": \"bar\", \"size\": 20}, \"encoding\": {\"color\": {\"type\": \"quantitative\", \"field\": \"p\", \"legend\": null, \"scale\": {\"range\": [\"olive\", \"darkcyan\", \"darkviolet\", \"darkgreen\", \"firebrick\", \"darkgreen\", \"darkviolet\", \"darkcyan\", \"olive\"]}}, \"opacity\": {\"value\": 0.5}, \"x\": {\"type\": \"quantitative\", \"axis\": {\"grid\": false, \"title\": \"number of successes in 20 trials\"}, \"field\": \"successes\"}, \"y\": {\"type\": \"quantitative\", \"axis\": {\"title\": \"probability\"}, \"field\": \"probability\", \"stack\": null}}, \"height\": 200, \"transform\": [{\"filter\": {\"selection\": \"selector004\"}}], \"width\": 550}, {\"mark\": {\"type\": \"bar\", \"size\": 0}, \"encoding\": {\"color\": {\"type\": \"quantitative\", \"field\": \"p\", \"legend\": null, \"scale\": {\"range\": [\"olive\", \"darkcyan\", \"darkviolet\", \"darkgreen\", \"firebrick\", \"darkgreen\", \"darkviolet\", \"darkcyan\", \"olive\"]}}, \"opacity\": {\"value\": 0.5}, \"x\": {\"type\": \"quantitative\", \"axis\": {\"grid\": false, \"title\": \"number of successes in 20 trials\"}, \"field\": \"successes\"}, \"y\": {\"type\": \"quantitative\", \"axis\": {\"title\": \"probability\"}, \"field\": \"probability\", \"stack\": null}}, \"height\": 200, \"width\": 550}]}, {\"mark\": {\"type\": \"bar\", \"size\": 50}, \"encoding\": {\"color\": {\"type\": \"quantitative\", \"field\": \"p\", \"legend\": null, \"scale\": {\"range\": [\"olive\", \"darkcyan\", \"darkviolet\", \"darkgreen\", \"firebrick\", \"darkgreen\", \"darkviolet\", \"darkcyan\", \"olive\"]}}, \"opacity\": {\"condition\": {\"value\": 0.07, \"selection\": \"selector004\"}, \"value\": 0.01}, \"x\": {\"type\": \"quantitative\", \"axis\": {\"grid\": false, \"title\": \"probability of successs (in a simgle trial)\"}, \"field\": \"p\"}, \"y\": {\"type\": \"quantitative\", \"axis\": {\"title\": \"\", \"values\": []}, \"field\": \"p\"}}, \"height\": 60, \"selection\": {\"selector004\": {\"type\": \"multi\", \"fields\": [\"p\"], \"toggle\": true, \"empty\": \"none\", \"on\": \"click\"}}, \"width\": 550}], \"data\": {\"name\": \"data-98ec118e0cf3181d05608ce0c44dcc74\"}, \"$schema\": \"https://vega.github.io/schema/vega-lite/v2.6.0.json\", \"datasets\": {\"data-98ec118e0cf3181d05608ce0c44dcc74\": [{\"successes\": 0, \"probability\": 0.12157665459056925, \"p\": 0.1}, {\"successes\": 1, \"probability\": 0.27017034353459823, \"p\": 0.1}, {\"successes\": 2, \"probability\": 0.28517980706429813, \"p\": 0.1}, {\"successes\": 3, \"probability\": 0.19011987137619865, \"p\": 0.1}, {\"successes\": 4, \"probability\": 0.08977882814987155, \"p\": 0.1}, {\"successes\": 5, \"probability\": 0.03192136111995428, \"p\": 0.1}, {\"successes\": 6, \"probability\": 0.008867044755542857, \"p\": 0.1}, {\"successes\": 7, \"probability\": 0.0019704543901206497, \"p\": 0.1}, {\"successes\": 8, \"probability\": 0.0003557764871051159, \"p\": 0.1}, {\"successes\": 9, \"probability\": 5.270762771927634e-05, \"p\": 0.1}, {\"successes\": 10, \"probability\": 6.442043387911576e-06, \"p\": 0.1}, {\"successes\": 11, \"probability\": 6.507114533243995e-07, \"p\": 0.1}, {\"successes\": 12, \"probability\": 5.422595444369999e-08, \"p\": 0.1}, {\"successes\": 13, \"probability\": 3.7077575688000126e-09, \"p\": 0.1}, {\"successes\": 14, \"probability\": 2.0598653160000055e-10, \"p\": 0.1}, {\"successes\": 15, \"probability\": 9.154956959999962e-12, \"p\": 0.1}, {\"successes\": 16, \"probability\": 3.178804500000009e-13, \"p\": 0.1}, {\"successes\": 17, \"probability\": 8.310600000000042e-15, \"p\": 0.1}, {\"successes\": 18, \"probability\": 1.539000000000005e-16, \"p\": 0.1}, {\"successes\": 19, \"probability\": 1.800000000000002e-18, \"p\": 0.1}, {\"successes\": 20, \"probability\": 1.0000000000000063e-20, \"p\": 0.1}, {\"successes\": 0, \"probability\": 0.01152921504606847, \"p\": 0.2}, {\"successes\": 1, \"probability\": 0.057646075230342306, \"p\": 0.2}, {\"successes\": 2, \"probability\": 0.136909428672063, \"p\": 0.2}, {\"successes\": 3, \"probability\": 0.2053641430080944, \"p\": 0.2}, {\"successes\": 4, \"probability\": 0.21819940194610007, \"p\": 0.2}, {\"successes\": 5, \"probability\": 0.1745595215568796, \"p\": 0.2}, {\"successes\": 6, \"probability\": 0.10909970097304993, \"p\": 0.2}, {\"successes\": 7, \"probability\": 0.0545498504865252, \"p\": 0.2}, {\"successes\": 8, \"probability\": 0.022160876760150824, \"p\": 0.2}, {\"successes\": 9, \"probability\": 0.007386958920050272, \"p\": 0.2}, {\"successes\": 10, \"probability\": 0.002031413703013826, \"p\": 0.2}, {\"successes\": 11, \"probability\": 0.00046168493250314184, \"p\": 0.2}, {\"successes\": 12, \"probability\": 8.656592484433933e-05, \"p\": 0.2}, {\"successes\": 13, \"probability\": 1.331783459143685e-05, \"p\": 0.2}, {\"successes\": 14, \"probability\": 1.664729323929594e-06, \"p\": 0.2}, {\"successes\": 15, \"probability\": 1.664729323929592e-07, \"p\": 0.2}, {\"successes\": 16, \"probability\": 1.3005697843199991e-08, \"p\": 0.2}, {\"successes\": 17, \"probability\": 7.650410496000001e-10, \"p\": 0.2}, {\"successes\": 18, \"probability\": 3.187671040000001e-11, \"p\": 0.2}, {\"successes\": 19, \"probability\": 8.388608000000005e-13, \"p\": 0.2}, {\"successes\": 20, \"probability\": 1.048576000000001e-14, \"p\": 0.2}, {\"successes\": 0, \"probability\": 0.0007979226629761189, \"p\": 0.30000000000000004}, {\"successes\": 1, \"probability\": 0.006839337111223874, \"p\": 0.30000000000000004}, {\"successes\": 2, \"probability\": 0.027845872524268626, \"p\": 0.30000000000000004}, {\"successes\": 3, \"probability\": 0.07160367220526216, \"p\": 0.30000000000000004}, {\"successes\": 4, \"probability\": 0.13042097437387024, \"p\": 0.30000000000000004}, {\"successes\": 5, \"probability\": 0.17886305056987878, \"p\": 0.30000000000000004}, {\"successes\": 6, \"probability\": 0.19163898275344177, \"p\": 0.30000000000000004}, {\"successes\": 7, \"probability\": 0.16426198521723673, \"p\": 0.30000000000000004}, {\"successes\": 8, \"probability\": 0.11439673970486103, \"p\": 0.30000000000000004}, {\"successes\": 9, \"probability\": 0.06536956554563482, \"p\": 0.30000000000000004}, {\"successes\": 10, \"probability\": 0.030817080900085014, \"p\": 0.30000000000000004}, {\"successes\": 11, \"probability\": 0.01200665489613701, \"p\": 0.30000000000000004}, {\"successes\": 12, \"probability\": 0.0038592819309011864, \"p\": 0.30000000000000004}, {\"successes\": 13, \"probability\": 0.001017832597160755, \"p\": 0.30000000000000004}, {\"successes\": 14, \"probability\": 0.00021810698510587497, \"p\": 0.30000000000000004}, {\"successes\": 15, \"probability\": 3.738976887529286e-05, \"p\": 0.30000000000000004}, {\"successes\": 16, \"probability\": 5.007558331512445e-06, \"p\": 0.30000000000000004}, {\"successes\": 17, \"probability\": 5.049638653625996e-07, \"p\": 0.30000000000000004}, {\"successes\": 18, \"probability\": 3.606884752590009e-08, \"p\": 0.30000000000000004}, {\"successes\": 19, \"probability\": 1.6271660538000033e-09, \"p\": 0.30000000000000004}, {\"successes\": 20, \"probability\": 3.4867844010000065e-11, \"p\": 0.30000000000000004}, {\"successes\": 0, \"probability\": 3.656158440062977e-05, \"p\": 0.4}, {\"successes\": 1, \"probability\": 0.00048748779200839646, \"p\": 0.4}, {\"successes\": 2, \"probability\": 0.0030874226827198427, \"p\": 0.4}, {\"successes\": 3, \"probability\": 0.012349690730879373, \"p\": 0.4}, {\"successes\": 4, \"probability\": 0.03499079040415815, \"p\": 0.4}, {\"successes\": 5, \"probability\": 0.07464701952887058, \"p\": 0.4}, {\"successes\": 6, \"probability\": 0.1244116992147844, \"p\": 0.4}, {\"successes\": 7, \"probability\": 0.16588226561971353, \"p\": 0.4}, {\"successes\": 8, \"probability\": 0.17970578775468918, \"p\": 0.4}, {\"successes\": 9, \"probability\": 0.15973847800416796, \"p\": 0.4}, {\"successes\": 10, \"probability\": 0.11714155053639011, \"p\": 0.4}, {\"successes\": 11, \"probability\": 0.07099487911296357, \"p\": 0.4}, {\"successes\": 12, \"probability\": 0.035497439556481845, \"p\": 0.4}, {\"successes\": 13, \"probability\": 0.014563052125736161, \"p\": 0.4}, {\"successes\": 14, \"probability\": 0.004854350708578698, \"p\": 0.4}, {\"successes\": 15, \"probability\": 0.0012944935222876511, \"p\": 0.4}, {\"successes\": 16, \"probability\": 0.0002696861504765946, \"p\": 0.4}, {\"successes\": 17, \"probability\": 4.2303709878681646e-05, \"p\": 0.4}, {\"successes\": 18, \"probability\": 4.7004122087424025e-06, \"p\": 0.4}, {\"successes\": 19, \"probability\": 3.298534883327999e-07, \"p\": 0.4}, {\"successes\": 20, \"probability\": 1.099511627776003e-08, \"p\": 0.4}, {\"successes\": 0, \"probability\": 9.5367431640625e-07, \"p\": 0.5}, {\"successes\": 1, \"probability\": 1.907348632812499e-05, \"p\": 0.5}, {\"successes\": 2, \"probability\": 0.00018119812011718734, \"p\": 0.5}, {\"successes\": 3, \"probability\": 0.0010871887207031235, \"p\": 0.5}, {\"successes\": 4, \"probability\": 0.004620552062988271, \"p\": 0.5}, {\"successes\": 5, \"probability\": 0.014785766601562429, \"p\": 0.5}, {\"successes\": 6, \"probability\": 0.03696441650390614, \"p\": 0.5}, {\"successes\": 7, \"probability\": 0.07392883300781268, \"p\": 0.5}, {\"successes\": 8, \"probability\": 0.12013435363769531, \"p\": 0.5}, {\"successes\": 9, \"probability\": 0.16017913818359344, \"p\": 0.5}, {\"successes\": 10, \"probability\": 0.17619705200195293, \"p\": 0.5}, {\"successes\": 11, \"probability\": 0.16017913818359344, \"p\": 0.5}, {\"successes\": 12, \"probability\": 0.12013435363769531, \"p\": 0.5}, {\"successes\": 13, \"probability\": 0.07392883300781268, \"p\": 0.5}, {\"successes\": 14, \"probability\": 0.03696441650390614, \"p\": 0.5}, {\"successes\": 15, \"probability\": 0.014785766601562429, \"p\": 0.5}, {\"successes\": 16, \"probability\": 0.004620552062988271, \"p\": 0.5}, {\"successes\": 17, \"probability\": 0.0010871887207031235, \"p\": 0.5}, {\"successes\": 18, \"probability\": 0.00018119812011718734, \"p\": 0.5}, {\"successes\": 19, \"probability\": 1.907348632812499e-05, \"p\": 0.5}, {\"successes\": 20, \"probability\": 9.5367431640625e-07, \"p\": 0.5}, {\"successes\": 0, \"probability\": 1.099511627776003e-08, \"p\": 0.6}, {\"successes\": 1, \"probability\": 3.298534883327999e-07, \"p\": 0.6}, {\"successes\": 2, \"probability\": 4.7004122087424025e-06, \"p\": 0.6}, {\"successes\": 3, \"probability\": 4.230370987868157e-05, \"p\": 0.6}, {\"successes\": 4, \"probability\": 0.0002696861504765946, \"p\": 0.6}, {\"successes\": 5, \"probability\": 0.0012944935222876511, \"p\": 0.6}, {\"successes\": 6, \"probability\": 0.004854350708578698, \"p\": 0.6}, {\"successes\": 7, \"probability\": 0.014563052125736161, \"p\": 0.6}, {\"successes\": 8, \"probability\": 0.035497439556481845, \"p\": 0.6}, {\"successes\": 9, \"probability\": 0.07099487911296357, \"p\": 0.6}, {\"successes\": 10, \"probability\": 0.11714155053639011, \"p\": 0.6}, {\"successes\": 11, \"probability\": 0.15973847800416796, \"p\": 0.6}, {\"successes\": 12, \"probability\": 0.17970578775468918, \"p\": 0.6}, {\"successes\": 13, \"probability\": 0.16588226561971353, \"p\": 0.6}, {\"successes\": 14, \"probability\": 0.1244116992147844, \"p\": 0.6}, {\"successes\": 15, \"probability\": 0.07464701952887058, \"p\": 0.6}, {\"successes\": 16, \"probability\": 0.034990790404158166, \"p\": 0.6}, {\"successes\": 17, \"probability\": 0.012349690730879373, \"p\": 0.6}, {\"successes\": 18, \"probability\": 0.0030874226827198427, \"p\": 0.6}, {\"successes\": 19, \"probability\": 0.00048748779200839646, \"p\": 0.6}, {\"successes\": 20, \"probability\": 3.656158440062977e-05, \"p\": 0.6}, {\"successes\": 0, \"probability\": 3.486784400999982e-11, \"p\": 0.7000000000000001}, {\"successes\": 1, \"probability\": 1.6271660537999917e-09, \"p\": 0.7000000000000001}, {\"successes\": 2, \"probability\": 3.606884752589983e-08, \"p\": 0.7000000000000001}, {\"successes\": 3, \"probability\": 5.049638653625969e-07, \"p\": 0.7000000000000001}, {\"successes\": 4, \"probability\": 5.007558331512409e-06, \"p\": 0.7000000000000001}, {\"successes\": 5, \"probability\": 3.738976887529259e-05, \"p\": 0.7000000000000001}, {\"successes\": 6, \"probability\": 0.0002181069851058738, \"p\": 0.7000000000000001}, {\"successes\": 7, \"probability\": 0.0010178325971607507, \"p\": 0.7000000000000001}, {\"successes\": 8, \"probability\": 0.003859281930901173, \"p\": 0.7000000000000001}, {\"successes\": 9, \"probability\": 0.012006654896136957, \"p\": 0.7000000000000001}, {\"successes\": 10, \"probability\": 0.030817080900084958, \"p\": 0.7000000000000001}, {\"successes\": 11, \"probability\": 0.06536956554563475, \"p\": 0.7000000000000001}, {\"successes\": 12, \"probability\": 0.11439673970486082, \"p\": 0.7000000000000001}, {\"successes\": 13, \"probability\": 0.16426198521723642, \"p\": 0.7000000000000001}, {\"successes\": 14, \"probability\": 0.19163898275344177, \"p\": 0.7000000000000001}, {\"successes\": 15, \"probability\": 0.17886305056987895, \"p\": 0.7000000000000001}, {\"successes\": 16, \"probability\": 0.13042097437387037, \"p\": 0.7000000000000001}, {\"successes\": 17, \"probability\": 0.07160367220526224, \"p\": 0.7000000000000001}, {\"successes\": 18, \"probability\": 0.027845872524268674, \"p\": 0.7000000000000001}, {\"successes\": 19, \"probability\": 0.006839337111223892, \"p\": 0.7000000000000001}, {\"successes\": 20, \"probability\": 0.0007979226629761218, \"p\": 0.7000000000000001}, {\"successes\": 0, \"probability\": 1.048576000000001e-14, \"p\": 0.8}, {\"successes\": 1, \"probability\": 8.388607999999975e-13, \"p\": 0.8}, {\"successes\": 2, \"probability\": 3.187671040000001e-11, \"p\": 0.8}, {\"successes\": 3, \"probability\": 7.650410495999974e-10, \"p\": 0.8}, {\"successes\": 4, \"probability\": 1.3005697843199945e-08, \"p\": 0.8}, {\"successes\": 5, \"probability\": 1.6647293239295892e-07, \"p\": 0.8}, {\"successes\": 6, \"probability\": 1.664729323929588e-06, \"p\": 0.8}, {\"successes\": 7, \"probability\": 1.3317834591436803e-05, \"p\": 0.8}, {\"successes\": 8, \"probability\": 8.656592484433902e-05, \"p\": 0.8}, {\"successes\": 9, \"probability\": 0.000461684932503141, \"p\": 0.8}, {\"successes\": 10, \"probability\": 0.002031413703013826, \"p\": 0.8}, {\"successes\": 11, \"probability\": 0.007386958920050259, \"p\": 0.8}, {\"successes\": 12, \"probability\": 0.022160876760150803, \"p\": 0.8}, {\"successes\": 13, \"probability\": 0.0545498504865252, \"p\": 0.8}, {\"successes\": 14, \"probability\": 0.10909970097304983, \"p\": 0.8}, {\"successes\": 15, \"probability\": 0.17455952155687976, \"p\": 0.8}, {\"successes\": 16, \"probability\": 0.21819940194610007, \"p\": 0.8}, {\"successes\": 17, \"probability\": 0.2053641430080944, \"p\": 0.8}, {\"successes\": 18, \"probability\": 0.13690942867206304, \"p\": 0.8}, {\"successes\": 19, \"probability\": 0.05764607523034236, \"p\": 0.8}, {\"successes\": 20, \"probability\": 0.011529215046068481, \"p\": 0.8}, {\"successes\": 0, \"probability\": 9.999999999999921e-21, \"p\": 0.9}, {\"successes\": 1, \"probability\": 1.799999999999989e-18, \"p\": 0.9}, {\"successes\": 2, \"probability\": 1.5389999999999938e-16, \"p\": 0.9}, {\"successes\": 3, \"probability\": 8.310599999999983e-15, \"p\": 0.9}, {\"successes\": 4, \"probability\": 3.1788044999999754e-13, \"p\": 0.9}, {\"successes\": 5, \"probability\": 9.154956959999897e-12, \"p\": 0.9}, {\"successes\": 6, \"probability\": 2.0598653159999907e-10, \"p\": 0.9}, {\"successes\": 7, \"probability\": 3.7077575687999993e-09, \"p\": 0.9}, {\"successes\": 8, \"probability\": 5.42259544436998e-08, \"p\": 0.9}, {\"successes\": 9, \"probability\": 6.507114533243984e-07, \"p\": 0.9}, {\"successes\": 10, \"probability\": 6.4420433879115305e-06, \"p\": 0.9}, {\"successes\": 11, \"probability\": 5.270762771927615e-05, \"p\": 0.9}, {\"successes\": 12, \"probability\": 0.00035577648710511463, \"p\": 0.9}, {\"successes\": 13, \"probability\": 0.0019704543901206445, \"p\": 0.9}, {\"successes\": 14, \"probability\": 0.008867044755542841, \"p\": 0.9}, {\"successes\": 15, \"probability\": 0.03192136111995416, \"p\": 0.9}, {\"successes\": 16, \"probability\": 0.08977882814987144, \"p\": 0.9}, {\"successes\": 17, \"probability\": 0.19011987137619865, \"p\": 0.9}, {\"successes\": 18, \"probability\": 0.285179807064298, \"p\": 0.9}, {\"successes\": 19, \"probability\": 0.27017034353459823, \"p\": 0.9}, {\"successes\": 20, \"probability\": 0.12157665459056931, \"p\": 0.9}]}};\n",
       "var opt = {};\n",
       "var type = \"vega-lite\";\n",
       "var id = \"d24265ce-27ca-4d9d-9780-7392f7e1df87\";\n",
       "\n",
       "var output_area = this;\n",
       "\n",
       "require([\"nbextensions/jupyter-vega/index\"], function(vega) {\n",
       "  var target = document.createElement(\"div\");\n",
       "  target.id = id;\n",
       "  target.className = \"vega-embed\";\n",
       "\n",
       "  var style = document.createElement(\"style\");\n",
       "  style.textContent = [\n",
       "    \".vega-embed .error p {\",\n",
       "    \"  color: firebrick;\",\n",
       "    \"  font-size: 14px;\",\n",
       "    \"}\",\n",
       "  ].join(\"\\\\n\");\n",
       "\n",
       "  // element is a jQuery wrapped DOM element inside the output area\n",
       "  // see http://ipython.readthedocs.io/en/stable/api/generated/\\\n",
       "  // IPython.display.html#IPython.display.Javascript.__init__\n",
       "  element[0].appendChild(target);\n",
       "  element[0].appendChild(style);\n",
       "\n",
       "  vega.render(\"#\" + id, spec, type, opt, output_area);\n",
       "}, function (err) {\n",
       "  if (err.requireType !== \"scripterror\") {\n",
       "    throw(err);\n",
       "  }\n",
       "});\n"
      ],
      "text/plain": [
       "<vega.vegalite.VegaLite at 0x7f20f454d668>"
      ]
     },
     "metadata": {
      "jupyter-vega": "#d24265ce-27ca-4d9d-9780-7392f7e1df87"
     },
     "output_type": "display_data"
    },
    {
     "data": {
      "text/plain": []
     },
     "execution_count": 9,
     "metadata": {},
     "output_type": "execute_result"
    },
    {
     "data": {
      "image/png": "[encoded data removed]"
     },
     "metadata": {
      "jupyter-vega": "#d24265ce-27ca-4d9d-9780-7392f7e1df87"
     },
     "output_type": "display_data"
    }
   ],
   "source": [
    "final"
   ]
  },
  {
   "cell_type": "code",
   "execution_count": null,
   "metadata": {},
   "outputs": [],
   "source": []
  },
  {
   "cell_type": "code",
   "execution_count": null,
   "metadata": {},
   "outputs": [],
   "source": []
  }
 ],
 "metadata": {
  "kernelspec": {
   "display_name": "Python 3",
   "language": "python",
   "name": "python3"
  },
  "language_info": {
   "codemirror_mode": {
    "name": "ipython",
    "version": 3
   },
   "file_extension": ".py",
   "mimetype": "text/x-python",
   "name": "python",
   "nbconvert_exporter": "python",
   "pygments_lexer": "ipython3",
   "version": "3.6.5"
  }
 },
 "nbformat": 4,
 "nbformat_minor": 2
}
