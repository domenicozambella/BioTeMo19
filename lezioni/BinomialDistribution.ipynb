{
 "cells": [
  {
   "cell_type": "markdown",
   "metadata": {},
   "source": [
    "<style>\n",
    ".text_cell_render {font-family: Times New Roman, serif;}\n",
    "</style>\n",
    "\n",
    "## Binomial distribution\n",
    "\n",
    "We say that $X$ is a <mark>binomial random variable</mark> with parameters $n$ and $p$, for short $X\\sim B(n,p)$, if\n",
    "\n",
    "$$X\\ \\ =\\ \\ \\sum^n_{i=1}X_i$$\n",
    "\n",
    "where the $X_i$ are independent Bernoulli random variables with success probability $p$. So, $X$ counts the number of successes in a sequence of $n$ independent Bernoulli trials with success probability $p$. Clearly $X\\in\\{0,\\dots,n\\}$.\n",
    "\n",
    "Equivalently, we may also say that $X$ has a <mark>binomial distribution</mark> with parameters $n$ and $p$. In fact random variables are characterized by their distribution a.k.a. <mark>probability mass function</mark> (abbreviated <mark>pmf</mark>). The pmf of of a binomial random variable is not difficult to compute. For $x\\in\\{0,\\dots,n\\}$ we have\n",
    "\n",
    "$${\\rm Pr}\\,(X=x)\\ \\ =\\ \\ {n\\choose x}p^x(1-p)^{n-x}$$\n",
    "\n",
    "Consequently, the <mark>cumulative distribution function</mark> (abbreviated <mark>cdf</mark>) is\n",
    "\n",
    "$${\\rm Pr}\\,(X\\le x)\\ \\ =\\ \\ \\sum^x_{i=0}{n\\choose i}p^i(1-p)^{n-i}$$\n",
    "\n",
    "Below we plot the probability mass function $P(X=x)$ for various values of $n$ and $p$. "
   ]
  },
  {
   "cell_type": "code",
   "execution_count": 3,
   "metadata": {},
   "outputs": [
    {
     "ename": "ModuleNotFoundError",
     "evalue": "No module named 'altair'",
     "output_type": "error",
     "traceback": [
      "\u001b[0;31m---------------------------------------------------------------------------\u001b[0m",
      "\u001b[0;31mModuleNotFoundError\u001b[0m                       Traceback (most recent call last)",
      "\u001b[0;32m<ipython-input-3-43b93eb27b11>\u001b[0m in \u001b[0;36m<module>\u001b[0;34m()\u001b[0m\n\u001b[1;32m      5\u001b[0m \u001b[0;34m\u001b[0m\u001b[0m\n\u001b[1;32m      6\u001b[0m \u001b[0;31m## Import graphic library and set graphic parameters\u001b[0m\u001b[0;34m\u001b[0m\u001b[0;34m\u001b[0m\u001b[0m\n\u001b[0;32m----> 7\u001b[0;31m \u001b[0;32mfrom\u001b[0m \u001b[0maltair\u001b[0m \u001b[0;32mimport\u001b[0m \u001b[0;34m*\u001b[0m \u001b[0;31m# Never do this in production\u001b[0m\u001b[0;34m\u001b[0m\u001b[0m\n\u001b[0m\u001b[1;32m      8\u001b[0m \u001b[0mpalette\u001b[0m\u001b[0;34m=\u001b[0m\u001b[0;34m[\u001b[0m\u001b[0;34m'olive'\u001b[0m\u001b[0;34m,\u001b[0m\u001b[0;34m'darkcyan'\u001b[0m\u001b[0;34m,\u001b[0m\u001b[0;34m'darkviolet'\u001b[0m\u001b[0;34m,\u001b[0m\u001b[0;34m'darkgreen'\u001b[0m\u001b[0;34m,\u001b[0m\u001b[0;34m'firebrick'\u001b[0m\u001b[0;34m,\u001b[0m\u001b[0;34m'darkgreen'\u001b[0m\u001b[0;34m,\u001b[0m\u001b[0;34m'darkviolet'\u001b[0m\u001b[0;34m,\u001b[0m\u001b[0;34m'darkcyan'\u001b[0m\u001b[0;34m,\u001b[0m\u001b[0;34m'olive'\u001b[0m\u001b[0;34m]\u001b[0m\u001b[0;34m\u001b[0m\u001b[0m\n\u001b[1;32m      9\u001b[0m \u001b[0;34m\u001b[0m\u001b[0m\n",
      "\u001b[0;31mModuleNotFoundError\u001b[0m: No module named 'altair'"
     ]
    }
   ],
   "source": [
    "## libraries for numerical and statistical functions\n",
    "from scipy.stats import binom, norm\n",
    "from numpy import arange\n",
    "from pandas import * # Never do this in production\n",
    "\n",
    "## Import graphic library and set graphic parameters\n",
    "from altair import * # Never do this in production\n",
    "palette=['olive','darkcyan','darkviolet','darkgreen','firebrick','darkgreen','darkviolet','darkcyan','olive']\n",
    "\n",
    "## Set parameters and create a DataFrame containing the pmf of B(n,q) for q in p\n",
    "n = 20                   # number of trials\n",
    "p = arange(0.1,0.99,0.1) # array of probabilities of success\n",
    "x = arange(n+1)          # array of number of successes\n",
    "pmf = DataFrame({})\n",
    "for q in list(p):\n",
    "    pmf = pmf.append(DataFrame({'successes': x, \n",
    "                                'probability': binom.pmf(x,n,q),\n",
    "                                'p': q,\n",
    "                               })\n",
    "                     )\n",
    "# Set the click behaviour\n",
    "click = selection_multi(fields=['p'], \n",
    "                        toggle=True, \n",
    "                        empty='none', \n",
    "                        on='click',\n",
    "                        )\n",
    "## Construct the first chart\n",
    "pmf_plot = Chart()\n",
    "pmf_plot = pmf_plot.properties(width=550,\n",
    "                               height= 200,\n",
    "                              )\n",
    "pmf_plot = pmf_plot.encode(x=X('successes:Q', \n",
    "                               axis=Axis(title='number of successes in {} trials'.format(n),\n",
    "                                         grid=False,\n",
    "#                                          scale=Scale(domain=[0,20])\n",
    "                                         ),                  \n",
    "                               ), \n",
    "                           y=Y('probability:Q',\n",
    "                                axis=Axis(title='probability'),\n",
    "                                stack=None,\n",
    "                              ),\n",
    "                           color=Color('p',\n",
    "                                       scale=Scale(range=palette),\n",
    "                                       legend=None,\n",
    "                                      ),\n",
    "                           opacity=value(0.5)\n",
    "                           )                                                    \n",
    "pmf_plo_ = pmf_plot.mark_bar(size=0 ) # phantom graph to stabilize the axis size  \n",
    "pmf_plot = pmf_plot.mark_bar(size=20) # initialization the actual graph\n",
    "pmf_plot = pmf_plot.transform_filter(click)\n",
    "\n",
    "## The second Chart serves as menu of success propabilities\n",
    "bottom = Chart()\n",
    "bottom = bottom.mark_bar(size=50)\n",
    "bottom = bottom.properties(width=550,\n",
    "                           height= 60,\n",
    "                           selection=click,\n",
    "                           )\n",
    "bottom = bottom.encode(x=X('p:Q',\n",
    "                           axis=Axis(title='probability of successs (in a simgle trial)',\n",
    "                                     grid=False,\n",
    "#                                      scale=Scale(domain=[0.1,0.9])\n",
    "                                     ),\n",
    "                            ),\n",
    "                        y=Y('p:Q',\n",
    "                            axis=Axis(title='',\n",
    "                                      values=[],\n",
    "                                      ),\n",
    "                            ),\n",
    "\n",
    "                        color=Color('p',\n",
    "                                    scale=Scale(range=palette),\n",
    "                                    legend=None,\n",
    "                                    ),   \n",
    "                        opacity=condition(click, value(0.07), value(0.01)),\n",
    "                        )\n",
    "\n",
    "## Put the two charts one obove the other\n",
    "final = vconcat(pmf_plot+pmf_plo_,\n",
    "        bottom,\n",
    "        data=pmf,\n",
    "        )\n",
    "# final.save('final.svg')"
   ]
  },
  {
   "cell_type": "code",
   "execution_count": null,
   "metadata": {},
   "outputs": [],
   "source": [
    "final"
   ]
  },
  {
   "cell_type": "code",
   "execution_count": null,
   "metadata": {},
   "outputs": [],
   "source": []
  },
  {
   "cell_type": "code",
   "execution_count": null,
   "metadata": {},
   "outputs": [],
   "source": []
  }
 ],
 "metadata": {
  "kernelspec": {
   "display_name": "Python 3",
   "language": "python",
   "name": "python3"
  },
  "language_info": {
   "codemirror_mode": {
    "name": "ipython",
    "version": 3
   },
   "file_extension": ".py",
   "mimetype": "text/x-python",
   "name": "python",
   "nbconvert_exporter": "python",
   "pygments_lexer": "ipython3",
   "version": "3.6.5"
  }
 },
 "nbformat": 4,
 "nbformat_minor": 2
}
