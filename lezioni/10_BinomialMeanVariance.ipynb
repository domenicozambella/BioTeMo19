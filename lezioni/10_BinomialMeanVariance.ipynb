{
 "cells": [
  {
   "cell_type": "code",
   "execution_count": 1,
   "metadata": {},
   "outputs": [
    {
     "data": {
      "text/html": [
       "<style>\n",
       ".text_cell_render {\n",
       "    font-family: \"Times New Roman\", Times, serif;    \n",
       "    background-color: #eee; \n",
       "    border-left: 5px solid #00b5b4;\n",
       "    font-size: 14pt;\n",
       "    line-height: 160%;\n",
       "}\n",
       "\n",
       "h1 {\n",
       "    font-size: larger !important;\n",
       "    margin-top: 0ex !important;\n",
       "}\n",
       "\n",
       "h2 {\n",
       "    font-size: 14pt !important;\n",
       "    margin-top: 0ex !important;\n",
       "    margin-bottom: 0ex !important;\n",
       "    padding-bottom: 0ex !important;\n",
       "}\n",
       "\n",
       "h3 {\n",
       "    font-size: 14pt !important;\n",
       "    margin-top: 0ex !important;\n",
       "    margin-bottom: 0ex !important;\n",
       "    padding-bottom: 0ex !important;\n",
       "}\n",
       "\n",
       "mark {\n",
       "    background-color: #ffdd00;\n",
       "    border-top-right-radius: 5px;\n",
       "    border-top-left-radius: 5px;\n",
       "    border-bottom-right-radius: 5px;\n",
       "    border-bottom-left-radius: 5px;\n",
       "    padding-top: 0.1ex;\n",
       "    padding-bottom: 0.2ex;\n",
       "    padding-left: 0.7ex;\n",
       "    padding-right: 0.7ex;\n",
       "}\n",
       "\n",
       ".ita {\n",
       "    background-color: #bbddee;\n",
       "}\n",
       "\n",
       "n-a {background-color: #ffdddd;}\n",
       "\n",
       "ul, ol {\n",
       "     padding-left: 2ex !important;\n",
       "}\n",
       "ul {\n",
       "     margin-top: 0ex !important;\n",
       "     margin-bottom: 0ex !important;\n",
       "     list-style-type: square !important;\n",
       "}\n",
       "\n",
       "div.warn {    \n",
       "    background-color: #fcf2f2;\n",
       "    border-color: #dFb5b4;\n",
       "    border-left: 5px solid #dfb5b4;\n",
       "    margin-top: 1ex;\n",
       "    padding: 1ex;\n",
       "}\n",
       ".right{\n",
       "    float:right\n",
       "}\n",
       "</style>\n"
      ],
      "text/plain": [
       "<IPython.core.display.HTML object>"
      ]
     },
     "execution_count": 1,
     "metadata": {},
     "output_type": "execute_result"
    }
   ],
   "source": [
    "# This loads some style files\n",
    "from IPython.core.display import HTML\n",
    "with open( './style/custom.css', 'r' ) as f: html_style = f.read()\n",
    "HTML( html_style )"
   ]
  },
  {
   "cell_type": "markdown",
   "metadata": {},
   "source": [
    "# Valore atteso di una v.a. binomiale\n",
    "\n",
    "Sia $X\\sim B(1,p)$ dalla definizione di valore atteso otteniamo\n",
    "\n",
    "$\\def\\Var{{\\rm Var}}\\def\\E{{\\rm E}}\\def\\Pr{{\\rm Pr}\\,}\\def\\SD{{\\rm SD}}\n",
    "\\displaystyle\\quad\\E(X)\\ \\ =\\ \\ \\sum_{x\\in\\{0,1\\}} x\\cdot \\Pr(X=x)$\n",
    "\n",
    "Siccome $\\Pr(X=0)=1-p$ e $\\Pr(X=1)=p$ calcoliamo\n",
    "\n",
    "$\\displaystyle\\quad\\E(X)\\ \\ =\\ \\ 1\\cdot p + 0 \\cdot (1-p)\\ \\ =\\ \\ p$\n",
    "\n",
    "Sia ora $X\\sim B(n,p)$, allora possiamo immaginare $X$ come \n",
    "\n",
    "$\\displaystyle\\quad X\\ \\ =\\ \\ \\sum^n_{i=1}X_i$\n",
    "\n",
    "dove $X_i\\sim B(1,p)$ quindi per la linearità del valore atteso\n",
    "\n",
    "\n",
    "$\\displaystyle\\quad\\E(X)\\ \\ =\\ \\ \\E\\left(\\sum^n_{i=1}X_i\\right)$\n",
    "\n",
    "$\\displaystyle\\quad\\phantom{\\E(X)}\\ \\ =\\ \\ \\sum^n_{i=1}\\E(X_i)$\n",
    "\n",
    "$\\displaystyle\\quad\\phantom{\\E(X)}\\ \\ =\\ \\ \\sum^n_{i=1}p$\n",
    "\n",
    "$\\displaystyle\\quad\\phantom{\\E(X)}\\ \\ =\\ \\ n\\,p$.\n"
   ]
  },
  {
   "cell_type": "markdown",
   "metadata": {},
   "source": [
    "# Varienza di una v.a. binomiale\n",
    "\n",
    "Sia $X\\sim B(1,p)$ dalla definizione di varianza\n",
    "\n",
    "$\\displaystyle\\quad\\Var(X)\\ \\ =\\ \\ \\E(X^2)-\\E(X)^2$.\n",
    "\n",
    "Poiché $X\\in\\{0,1\\}$, allora $X^2=X$. Sappiamo anche che $\\E(X)=p$ quindi \n",
    "\n",
    "$\\displaystyle\\quad\\Var(X)\\ \\ =\\ \\ p-p^2\\ \\ =\\ \\ p\\,(1-p)$.\n",
    "\n",
    "Sia ora $X\\sim B(n,p)$, allora possiamo immaginare $X$ come \n",
    "\n",
    "$\\displaystyle\\quad X\\ \\ =\\ \\ \\sum^n_{i=1}X_i$\n",
    "\n",
    "dove $X_i\\sim B(1,p)$ quindi per le proprietà della varianza della somma di v.a.\n",
    "\n",
    "$\\displaystyle\\quad\\Var(X)\\ \\ =\\ \\ \\Var\\left(\\sum^n_{i=1}X_i\\right)$\n",
    "\n",
    "$\\displaystyle\\quad\\phantom{\\Var(X)}\\ \\ =\\ \\ \\sum^n_{i=1}\\Var(X_i)$\n",
    "\n",
    "$\\displaystyle\\quad\\phantom{\\E(X)}\\ \\ =\\ \\ \\sum^n_{i=1}p\\,(1-p)$\n",
    "\n",
    "$\\displaystyle\\quad\\phantom{\\E(X)}\\ \\ =\\ \\ n\\,p\\,(1-p)$.\n"
   ]
  },
  {
   "cell_type": "code",
   "execution_count": null,
   "metadata": {},
   "outputs": [],
   "source": []
  }
 ],
 "metadata": {
  "kernelspec": {
   "display_name": "Python 3",
   "language": "python",
   "name": "python3"
  },
  "language_info": {
   "codemirror_mode": {
    "name": "ipython",
    "version": 3
   },
   "file_extension": ".py",
   "mimetype": "text/x-python",
   "name": "python",
   "nbconvert_exporter": "python",
   "pygments_lexer": "ipython3",
   "version": "3.6.6"
  }
 },
 "nbformat": 4,
 "nbformat_minor": 2
}
